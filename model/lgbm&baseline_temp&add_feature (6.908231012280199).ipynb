{
 "cells": [
  {
   "cell_type": "code",
   "execution_count": 1,
   "metadata": {
    "ExecuteTime": {
     "end_time": "2020-07-28T16:43:07.950890Z",
     "start_time": "2020-07-28T16:43:06.438767Z"
    }
   },
   "outputs": [],
   "source": [
    "import pandas as pd\n",
    "import numpy as np\n",
    "import matplotlib.pyplot as plt\n",
    "import seaborn as sns\n",
    "import os \n",
    "import datetime\n",
    "from sklearn.preprocessing import LabelEncoder\n",
    "import gc\n",
    "\n",
    "import sklearn\n",
    "from sklearn.ensemble import RandomForestRegressor\n",
    "import xgboost as xgb\n",
    "import lightgbm as lgb\n",
    "from tqdm.notebook import tqdm\n",
    "\n",
    "#한글깨짐방지\n",
    "plt.rc('font',family='Malgun Gothic')\n",
    "plt.rcParams['axes.unicode_minus'] = False"
   ]
  },
  {
   "cell_type": "code",
   "execution_count": 2,
   "metadata": {
    "ExecuteTime": {
     "end_time": "2020-07-28T16:43:07.992899Z",
     "start_time": "2020-07-28T16:43:07.951890Z"
    }
   },
   "outputs": [
    {
     "name": "stdout",
     "output_type": "stream",
     "text": [
      "Pandas : 1.0.1\n",
      "Numpy : 1.18.1\n",
      "Scikit-Learn : 0.22.1\n",
      "Python 3.7.6\n"
     ]
    }
   ],
   "source": [
    "print('Pandas : %s'%(pd.__version__))\n",
    "print('Numpy : %s'%(np.__version__))\n",
    "print('Scikit-Learn : %s'%(sklearn.__version__))\n",
    "!python --version"
   ]
  },
  {
   "cell_type": "markdown",
   "metadata": {},
   "source": [
    "### data"
   ]
  },
  {
   "cell_type": "code",
   "execution_count": 3,
   "metadata": {
    "ExecuteTime": {
     "end_time": "2020-07-28T16:43:27.249800Z",
     "start_time": "2020-07-28T16:43:07.993900Z"
    }
   },
   "outputs": [],
   "source": [
    "#데이터로드\n",
    "path = './data/'\n",
    "data = pd.read_csv(path +'201901-202003.csv')\n",
    "submission = pd.read_csv(path + 'submission.csv')"
   ]
  },
  {
   "cell_type": "code",
   "execution_count": 4,
   "metadata": {
    "ExecuteTime": {
     "end_time": "2020-07-28T16:43:27.253802Z",
     "start_time": "2020-07-28T16:43:27.250801Z"
    }
   },
   "outputs": [
    {
     "data": {
      "text/plain": [
       "((24697792, 12), (1394, 5))"
      ]
     },
     "execution_count": 4,
     "metadata": {},
     "output_type": "execute_result"
    }
   ],
   "source": [
    "data.shape, submission.shape"
   ]
  },
  {
   "cell_type": "markdown",
   "metadata": {
    "ExecuteTime": {
     "end_time": "2020-07-22T07:05:10.724058Z",
     "start_time": "2020-07-22T07:05:10.721064Z"
    }
   },
   "source": [
    "### 전처리"
   ]
  },
  {
   "cell_type": "markdown",
   "metadata": {},
   "source": [
    "#### 날짜변환"
   ]
  },
  {
   "cell_type": "code",
   "execution_count": 5,
   "metadata": {
    "ExecuteTime": {
     "end_time": "2020-07-28T16:43:55.660754Z",
     "start_time": "2020-07-28T16:43:27.254802Z"
    }
   },
   "outputs": [],
   "source": [
    "data['year'] = data['REG_YYMM'].apply(lambda x : int(str(x)[:4]))\n",
    "data['month'] = data['REG_YYMM'].apply(lambda x : int(str(x)[4:]))\n",
    "# data.drop(['REG_YYMM'],axis= 1,inplace = True)"
   ]
  },
  {
   "cell_type": "code",
   "execution_count": 6,
   "metadata": {
    "ExecuteTime": {
     "end_time": "2020-07-28T16:43:58.837664Z",
     "start_time": "2020-07-28T16:43:55.661755Z"
    }
   },
   "outputs": [],
   "source": [
    "data.drop(['CARD_CCG_NM','HOM_CCG_NM'],axis= 1,inplace = True)"
   ]
  },
  {
   "cell_type": "markdown",
   "metadata": {},
   "source": [
    "### 추가변수\n",
    "* 추가변수 결합시 7월의 경우 4월의 것으로 대체해야하나??? (현재 4월데이터 없음)"
   ]
  },
  {
   "cell_type": "markdown",
   "metadata": {},
   "source": [
    "#### 18 사업체총조사"
   ]
  },
  {
   "cell_type": "code",
   "execution_count": 7,
   "metadata": {
    "ExecuteTime": {
     "end_time": "2020-07-28T16:43:58.909680Z",
     "start_time": "2020-07-28T16:43:58.838664Z"
    }
   },
   "outputs": [],
   "source": [
    "all_jobs_df = pd.read_csv('./data/외부데이터/18 사업체총조사_키워드매칭.csv',encoding = 'cp949')\n",
    "all_jobs_df = all_jobs_df[['행정구역별','데이터업종명','사업체수 (개)', '종사자수 (명)']]\n",
    "all_jobs_df.columns = ['CARD_SIDO_NM','STD_CLSS_NM', 'company','employee']\n",
    "all_jobs_df.employee = all_jobs_df.employee.apply(lambda x : x.replace(\"X\",\"0\")).astype(int)\n",
    "all_jobs_df = all_jobs_df.groupby(['CARD_SIDO_NM','STD_CLSS_NM'])[['company','employee']].sum().reset_index()\n",
    "\n",
    "all_jobs_df = all_jobs_df[~(all_jobs_df.CARD_SIDO_NM == '전국')]"
   ]
  },
  {
   "cell_type": "markdown",
   "metadata": {},
   "source": [
    "#### 지역내 각 업종이 차지하는 매출비중"
   ]
  },
  {
   "cell_type": "code",
   "execution_count": 8,
   "metadata": {
    "ExecuteTime": {
     "end_time": "2020-07-28T16:43:58.916682Z",
     "start_time": "2020-07-28T16:43:58.910680Z"
    },
    "code_folding": []
   },
   "outputs": [],
   "source": [
    "def local_percent(data):\n",
    "    sample = data[data.year == 2019]\n",
    "    pivoted = sample.pivot_table(index = ['CARD_SIDO_NM','STD_CLSS_NM'],columns ='month',values= \"AMT\",aggfunc='sum').reset_index()\n",
    "    pivoted.fillna(0,inplace= True)\n",
    "\n",
    "    #각 지역별(시군구)업종의 매출비율을 저장\n",
    "    sidos = pivoted.CARD_SIDO_NM.unique()\n",
    "\n",
    "    local_percent_df = pd.DataFrame()\n",
    "    for sido in sidos:\n",
    "        sample_sido = pivoted[pivoted.CARD_SIDO_NM == sido]\n",
    "        sum_arr = sample_sido.iloc[:,2:].sum().values.reshape(1,-1)\n",
    "        parcent_df = (sample_sido.iloc[:,2:]/sum_arr)*100\n",
    "\n",
    "        fin = pd.concat([sample_sido.iloc[:,:2],parcent_df],axis=1)\n",
    "        local_percent_df = pd.concat([local_percent_df,fin])\n",
    "\n",
    "    #신규변수 LP(local percent) : 지역내 각 업종이 차지하는 매출비중\n",
    "    local_percent_df = local_percent_df.melt(id_vars=['CARD_SIDO_NM','STD_CLSS_NM'],value_name='LP')\n",
    "    local_percent_df['month'] = local_percent_df['month'].astype(int)\n",
    "    return local_percent_df"
   ]
  },
  {
   "cell_type": "markdown",
   "metadata": {},
   "source": [
    "#### 전체업종에서 각 지역업종이 차지하는 매출비중"
   ]
  },
  {
   "cell_type": "code",
   "execution_count": 9,
   "metadata": {
    "ExecuteTime": {
     "end_time": "2020-07-28T16:43:58.948689Z",
     "start_time": "2020-07-28T16:43:58.917682Z"
    },
    "code_folding": []
   },
   "outputs": [],
   "source": [
    "def job_percent(data):\n",
    "    sample = data[data.year == 2019]\n",
    "    pivoted = data.pivot_table(index = ['CARD_SIDO_NM','STD_CLSS_NM'],columns ='month',values= \"AMT\",aggfunc='sum').reset_index()\n",
    "    pivoted.fillna(0,inplace= True)\n",
    "\n",
    "    all_pivoted = sample.pivot_table(index = ['STD_CLSS_NM'],columns ='month',values= \"AMT\",aggfunc= 'sum').reset_index()\n",
    "    all_pivoted.fillna(0,inplace= True)\n",
    "    all_pivoted = all_pivoted.set_index('STD_CLSS_NM')\n",
    "\n",
    "    job_percent_df = pd.DataFrame()\n",
    "    for job in all_pivoted.index:\n",
    "        taget_df = pivoted[pivoted.STD_CLSS_NM == job]\n",
    "        tail = (taget_df.iloc[:,2:]/all_pivoted.iloc[0].values)*100\n",
    "        head = taget_df.iloc[:,:2]\n",
    "        full = pd.concat([head,tail],axis =1)\n",
    "        job_percent_df = pd.concat([job_percent_df,full])\n",
    "\n",
    "    #신규변수 JP(Job percent): 전체업종에서 해당지역의 업종이 차이하는 비율\n",
    "    job_percent_df = job_percent_df.melt(id_vars=['CARD_SIDO_NM','STD_CLSS_NM'],value_name='JP')\n",
    "    job_percent_df['month'] = job_percent_df['month'].astype(int)\n",
    "    return job_percent_df"
   ]
  },
  {
   "cell_type": "code",
   "execution_count": 10,
   "metadata": {
    "ExecuteTime": {
     "end_time": "2020-07-28T16:43:58.983696Z",
     "start_time": "2020-07-28T16:43:58.948689Z"
    }
   },
   "outputs": [],
   "source": [
    "def local_rate(data):\n",
    "    sample = data[data.year == 2019]\n",
    "    sample.loc[sample.CARD_SIDO_NM == sample.HOM_SIDO_NM,'AMT_local'] = 1\n",
    "    sample.loc[sample.CARD_SIDO_NM != sample.HOM_SIDO_NM,'AMT_local'] = 0\n",
    "    local_rate_df = sample.pivot_table(index = ['CARD_SIDO_NM','STD_CLSS_NM','month'],columns = 'AMT_local',values = 'AMT',aggfunc = 'sum',fill_value= 0).reset_index()\n",
    "    local_rate_df['local_AMT'] = local_rate_df[1.0]/(local_rate_df[0.0] +local_rate_df[1.0]) *100\n",
    "    \n",
    "    local_rate_df.drop([0.0,1.0],axis=1, inplace= True)\n",
    "    \n",
    "    return local_rate_df"
   ]
  },
  {
   "cell_type": "code",
   "execution_count": 19,
   "metadata": {
    "ExecuteTime": {
     "end_time": "2020-07-28T16:49:38.019796Z",
     "start_time": "2020-07-28T16:49:38.011793Z"
    }
   },
   "outputs": [],
   "source": [
    "def cust_differ(data):\n",
    "    data['differ'] = (data.CNT- data.CSTMR_CNT)\n",
    "    \n",
    "    #양수(단골)\n",
    "    plus_custom = data[data['differ']>0]\n",
    "    pivot_plus = plus_custom.pivot_table(index = ['CARD_SIDO_NM','STD_CLSS_NM'],columns = 'REG_YYMM', values= 'differ', aggfunc ='sum').reset_index()\n",
    "    \n",
    "    melt_plus = pivot_plus.melt(id_vars=['CARD_SIDO_NM','STD_CLSS_NM'],value_name='loyal')\n",
    "    melt_plus['year'] = melt_plus['REG_YYMM'].apply(lambda x: int(str(x)[:4]))\n",
    "    melt_plus['month'] = melt_plus['REG_YYMM'].apply(lambda x: int(str(x)[5:]))\n",
    "    \n",
    "    #2019만 사용\n",
    "    melt_plus = melt_plus[melt_plus.year == 2019]\n",
    "    melt_plus.drop(['REG_YYMM','year'],axis= 1,inplace = True)\n",
    "       \n",
    "    #음수(환불)\n",
    "    minus_custom = data[data['differ']<0]\n",
    "    pivot_minus = minus_custom.pivot_table(index = ['CARD_SIDO_NM','STD_CLSS_NM'],columns = 'REG_YYMM', values= 'differ', aggfunc ='sum').reset_index()\n",
    "    \n",
    "    melt_minus = pivot_minus.melt(id_vars=['CARD_SIDO_NM','STD_CLSS_NM'],value_name='refund')\n",
    "    melt_minus['year'] = melt_minus['REG_YYMM'].apply(lambda x: int(str(x)[:4]))\n",
    "    melt_minus['month'] = melt_minus['REG_YYMM'].apply(lambda x: int(str(x)[5:]))\n",
    "    #2019만 사용\n",
    "    melt_minus = melt_minus[melt_minus.year == 2019]\n",
    "    melt_minus.drop(['REG_YYMM','year'],axis= 1,inplace = True)\n",
    "    \n",
    "    #둘 결헙\n",
    "    cust_differ_df = pd.merge(melt_plus,melt_minus,how= 'outer')\n",
    "    \n",
    "    return cust_differ_df"
   ]
  },
  {
   "cell_type": "code",
   "execution_count": 27,
   "metadata": {
    "ExecuteTime": {
     "end_time": "2020-07-28T16:51:09.628840Z",
     "start_time": "2020-07-28T16:50:40.512258Z"
    }
   },
   "outputs": [
    {
     "name": "stderr",
     "output_type": "stream",
     "text": [
      "C:\\Users\\try00\\anaconda3\\lib\\site-packages\\pandas\\core\\indexing.py:844: SettingWithCopyWarning: \n",
      "A value is trying to be set on a copy of a slice from a DataFrame.\n",
      "Try using .loc[row_indexer,col_indexer] = value instead\n",
      "\n",
      "See the caveats in the documentation: https://pandas.pydata.org/pandas-docs/stable/user_guide/indexing.html#returning-a-view-versus-a-copy\n",
      "  self.obj[key] = _infer_fill_value(value)\n",
      "C:\\Users\\try00\\anaconda3\\lib\\site-packages\\pandas\\core\\indexing.py:965: SettingWithCopyWarning: \n",
      "A value is trying to be set on a copy of a slice from a DataFrame.\n",
      "Try using .loc[row_indexer,col_indexer] = value instead\n",
      "\n",
      "See the caveats in the documentation: https://pandas.pydata.org/pandas-docs/stable/user_guide/indexing.html#returning-a-view-versus-a-copy\n",
      "  self.obj[item] = s\n"
     ]
    }
   ],
   "source": [
    "local_rate_df = local_rate(data)\n",
    "local_percent_df = local_percent(data)\n",
    "job_percent_df = job_percent(data)\n",
    "cust_differ_df = cust_differ(data)"
   ]
  },
  {
   "cell_type": "markdown",
   "metadata": {},
   "source": [
    "#### 추가변수 결합"
   ]
  },
  {
   "cell_type": "code",
   "execution_count": 29,
   "metadata": {
    "ExecuteTime": {
     "end_time": "2020-07-28T16:51:09.889899Z",
     "start_time": "2020-07-28T16:51:09.887899Z"
    }
   },
   "outputs": [
    {
     "data": {
      "text/plain": [
       "(24697792, 13)"
      ]
     },
     "execution_count": 29,
     "metadata": {},
     "output_type": "execute_result"
    }
   ],
   "source": [
    "data.shape"
   ]
  },
  {
   "cell_type": "code",
   "execution_count": 30,
   "metadata": {
    "ExecuteTime": {
     "end_time": "2020-07-28T16:51:48.694184Z",
     "start_time": "2020-07-28T16:51:10.011926Z"
    }
   },
   "outputs": [],
   "source": [
    "grouped = pd.merge(data,all_jobs_df,on =['CARD_SIDO_NM','STD_CLSS_NM'],how = 'left')\n",
    "grouped = pd.merge(grouped,local_percent_df,on =['CARD_SIDO_NM','STD_CLSS_NM','month'],how = 'left')\n",
    "grouped = pd.merge(grouped,job_percent_df,on =['CARD_SIDO_NM','STD_CLSS_NM','month'],how = 'left')\n",
    "grouped = pd.merge(grouped,local_rate_df,on =['CARD_SIDO_NM','STD_CLSS_NM','month'],how = 'left')\n",
    "grouped = pd.merge(grouped,cust_differ_df,on =['CARD_SIDO_NM','STD_CLSS_NM','month'],how = 'left')"
   ]
  },
  {
   "cell_type": "code",
   "execution_count": 32,
   "metadata": {
    "ExecuteTime": {
     "end_time": "2020-07-28T16:53:48.969932Z",
     "start_time": "2020-07-28T16:53:48.966940Z"
    }
   },
   "outputs": [
    {
     "data": {
      "text/plain": [
       "(43152819, 20)"
      ]
     },
     "execution_count": 32,
     "metadata": {},
     "output_type": "execute_result"
    }
   ],
   "source": [
    "grouped.shape"
   ]
  },
  {
   "cell_type": "code",
   "execution_count": 33,
   "metadata": {
    "ExecuteTime": {
     "end_time": "2020-07-28T16:53:49.184286Z",
     "start_time": "2020-07-28T16:53:48.970931Z"
    }
   },
   "outputs": [
    {
     "data": {
      "text/html": [
       "<div>\n",
       "<style scoped>\n",
       "    .dataframe tbody tr th:only-of-type {\n",
       "        vertical-align: middle;\n",
       "    }\n",
       "\n",
       "    .dataframe tbody tr th {\n",
       "        vertical-align: top;\n",
       "    }\n",
       "\n",
       "    .dataframe thead th {\n",
       "        text-align: right;\n",
       "    }\n",
       "</style>\n",
       "<table border=\"1\" class=\"dataframe\">\n",
       "  <thead>\n",
       "    <tr style=\"text-align: right;\">\n",
       "      <th></th>\n",
       "      <th>REG_YYMM</th>\n",
       "      <th>CARD_SIDO_NM</th>\n",
       "      <th>STD_CLSS_NM</th>\n",
       "      <th>HOM_SIDO_NM</th>\n",
       "      <th>AGE</th>\n",
       "      <th>SEX_CTGO_CD</th>\n",
       "      <th>FLC</th>\n",
       "      <th>CSTMR_CNT</th>\n",
       "      <th>AMT</th>\n",
       "      <th>CNT</th>\n",
       "      <th>year</th>\n",
       "      <th>month</th>\n",
       "      <th>differ</th>\n",
       "      <th>company</th>\n",
       "      <th>employee</th>\n",
       "      <th>LP</th>\n",
       "      <th>JP</th>\n",
       "      <th>local_AMT</th>\n",
       "      <th>loyal</th>\n",
       "      <th>refund</th>\n",
       "    </tr>\n",
       "  </thead>\n",
       "  <tbody>\n",
       "    <tr>\n",
       "      <th>0</th>\n",
       "      <td>201901</td>\n",
       "      <td>강원</td>\n",
       "      <td>건강보조식품 소매업</td>\n",
       "      <td>강원</td>\n",
       "      <td>20s</td>\n",
       "      <td>1</td>\n",
       "      <td>1</td>\n",
       "      <td>4</td>\n",
       "      <td>311200</td>\n",
       "      <td>4</td>\n",
       "      <td>2019</td>\n",
       "      <td>1</td>\n",
       "      <td>0</td>\n",
       "      <td>263.0</td>\n",
       "      <td>399.0</td>\n",
       "      <td>0.139214</td>\n",
       "      <td>3.874034</td>\n",
       "      <td>99.647467</td>\n",
       "      <td>80.0</td>\n",
       "      <td>-32.0</td>\n",
       "    </tr>\n",
       "    <tr>\n",
       "      <th>1</th>\n",
       "      <td>201901</td>\n",
       "      <td>강원</td>\n",
       "      <td>건강보조식품 소매업</td>\n",
       "      <td>강원</td>\n",
       "      <td>20s</td>\n",
       "      <td>1</td>\n",
       "      <td>1</td>\n",
       "      <td>4</td>\n",
       "      <td>311200</td>\n",
       "      <td>4</td>\n",
       "      <td>2019</td>\n",
       "      <td>1</td>\n",
       "      <td>0</td>\n",
       "      <td>263.0</td>\n",
       "      <td>399.0</td>\n",
       "      <td>0.139214</td>\n",
       "      <td>3.874034</td>\n",
       "      <td>99.647467</td>\n",
       "      <td>80.0</td>\n",
       "      <td>-14.0</td>\n",
       "    </tr>\n",
       "    <tr>\n",
       "      <th>2</th>\n",
       "      <td>201901</td>\n",
       "      <td>강원</td>\n",
       "      <td>건강보조식품 소매업</td>\n",
       "      <td>강원</td>\n",
       "      <td>20s</td>\n",
       "      <td>1</td>\n",
       "      <td>1</td>\n",
       "      <td>4</td>\n",
       "      <td>311200</td>\n",
       "      <td>4</td>\n",
       "      <td>2019</td>\n",
       "      <td>1</td>\n",
       "      <td>0</td>\n",
       "      <td>263.0</td>\n",
       "      <td>399.0</td>\n",
       "      <td>0.139214</td>\n",
       "      <td>3.874034</td>\n",
       "      <td>99.647467</td>\n",
       "      <td>84.0</td>\n",
       "      <td>-32.0</td>\n",
       "    </tr>\n",
       "    <tr>\n",
       "      <th>3</th>\n",
       "      <td>201901</td>\n",
       "      <td>강원</td>\n",
       "      <td>건강보조식품 소매업</td>\n",
       "      <td>강원</td>\n",
       "      <td>20s</td>\n",
       "      <td>1</td>\n",
       "      <td>1</td>\n",
       "      <td>4</td>\n",
       "      <td>311200</td>\n",
       "      <td>4</td>\n",
       "      <td>2019</td>\n",
       "      <td>1</td>\n",
       "      <td>0</td>\n",
       "      <td>263.0</td>\n",
       "      <td>399.0</td>\n",
       "      <td>0.139214</td>\n",
       "      <td>3.874034</td>\n",
       "      <td>99.647467</td>\n",
       "      <td>84.0</td>\n",
       "      <td>-14.0</td>\n",
       "    </tr>\n",
       "    <tr>\n",
       "      <th>4</th>\n",
       "      <td>201901</td>\n",
       "      <td>강원</td>\n",
       "      <td>건강보조식품 소매업</td>\n",
       "      <td>강원</td>\n",
       "      <td>30s</td>\n",
       "      <td>1</td>\n",
       "      <td>2</td>\n",
       "      <td>7</td>\n",
       "      <td>1374500</td>\n",
       "      <td>8</td>\n",
       "      <td>2019</td>\n",
       "      <td>1</td>\n",
       "      <td>1</td>\n",
       "      <td>263.0</td>\n",
       "      <td>399.0</td>\n",
       "      <td>0.139214</td>\n",
       "      <td>3.874034</td>\n",
       "      <td>99.647467</td>\n",
       "      <td>80.0</td>\n",
       "      <td>-32.0</td>\n",
       "    </tr>\n",
       "  </tbody>\n",
       "</table>\n",
       "</div>"
      ],
      "text/plain": [
       "   REG_YYMM CARD_SIDO_NM STD_CLSS_NM HOM_SIDO_NM  AGE  SEX_CTGO_CD  FLC  \\\n",
       "0    201901           강원  건강보조식품 소매업          강원  20s            1    1   \n",
       "1    201901           강원  건강보조식품 소매업          강원  20s            1    1   \n",
       "2    201901           강원  건강보조식품 소매업          강원  20s            1    1   \n",
       "3    201901           강원  건강보조식품 소매업          강원  20s            1    1   \n",
       "4    201901           강원  건강보조식품 소매업          강원  30s            1    2   \n",
       "\n",
       "   CSTMR_CNT      AMT  CNT  year  month  differ  company  employee        LP  \\\n",
       "0          4   311200    4  2019      1       0    263.0     399.0  0.139214   \n",
       "1          4   311200    4  2019      1       0    263.0     399.0  0.139214   \n",
       "2          4   311200    4  2019      1       0    263.0     399.0  0.139214   \n",
       "3          4   311200    4  2019      1       0    263.0     399.0  0.139214   \n",
       "4          7  1374500    8  2019      1       1    263.0     399.0  0.139214   \n",
       "\n",
       "         JP  local_AMT  loyal  refund  \n",
       "0  3.874034  99.647467   80.0   -32.0  \n",
       "1  3.874034  99.647467   80.0   -14.0  \n",
       "2  3.874034  99.647467   84.0   -32.0  \n",
       "3  3.874034  99.647467   84.0   -14.0  \n",
       "4  3.874034  99.647467   80.0   -32.0  "
      ]
     },
     "execution_count": 33,
     "metadata": {},
     "output_type": "execute_result"
    }
   ],
   "source": [
    "grouped.head()"
   ]
  },
  {
   "cell_type": "markdown",
   "metadata": {},
   "source": [
    "### 인코딩"
   ]
  },
  {
   "cell_type": "markdown",
   "metadata": {},
   "source": [
    "#### 용량변환"
   ]
  },
  {
   "cell_type": "code",
   "execution_count": 34,
   "metadata": {
    "ExecuteTime": {
     "end_time": "2020-07-28T16:53:49.211291Z",
     "start_time": "2020-07-28T16:53:49.185286Z"
    }
   },
   "outputs": [],
   "source": [
    "def reduce_mem_usage(df, verbose=True):\n",
    "    numerics = ['int16', 'int32', 'int64', 'float16', 'float32', 'float64']\n",
    "    start_mem = df.memory_usage().sum() / 1024**2    \n",
    "    for col in df.columns:\n",
    "        col_type = df[col].dtypes\n",
    "        if col_type in numerics:\n",
    "            c_min = df[col].min()\n",
    "            c_max = df[col].max()\n",
    "            if str(col_type)[:3] == 'int':\n",
    "                if c_min > np.iinfo(np.int8).min and c_max < np.iinfo(np.int8).max:\n",
    "                    df[col] = df[col].astype(np.int8)\n",
    "                elif c_min > np.iinfo(np.int16).min and c_max < np.iinfo(np.int16).max:\n",
    "                    df[col] = df[col].astype(np.int16)\n",
    "                elif c_min > np.iinfo(np.int32).min and c_max < np.iinfo(np.int32).max:\n",
    "                    df[col] = df[col].astype(np.int32)\n",
    "                elif c_min > np.iinfo(np.int64).min and c_max < np.iinfo(np.int64).max:\n",
    "                    df[col] = df[col].astype(np.int64)  \n",
    "            else:\n",
    "                if c_min > np.finfo(np.float16).min and c_max < np.finfo(np.float16).max:\n",
    "                    df[col] = df[col].astype(np.float16)\n",
    "                elif c_min > np.finfo(np.float32).min and c_max < np.finfo(np.float32).max:\n",
    "                    df[col] = df[col].astype(np.float32)\n",
    "                else:\n",
    "                    df[col] = df[col].astype(np.float64)    \n",
    "    end_mem = df.memory_usage().sum() / 1024**2\n",
    "    if verbose: \n",
    "        print('Mem. usage decreased to {:5.2f} Mb ({:.1f}% reduction)'.format(end_mem, 100 * (start_mem - end_mem) / start_mem))\n",
    "    return df"
   ]
  },
  {
   "cell_type": "code",
   "execution_count": 35,
   "metadata": {
    "ExecuteTime": {
     "end_time": "2020-07-28T16:53:49.243302Z",
     "start_time": "2020-07-28T16:53:49.212292Z"
    }
   },
   "outputs": [],
   "source": [
    "#인코딩\n",
    "def encoding(data):\n",
    "    dtypes = grouped.dtypes\n",
    "    encoders = {}\n",
    "    for column in grouped.columns:\n",
    "        if str(dtypes[column]) == 'object':\n",
    "            encoder = LabelEncoder()\n",
    "            encoder.fit(grouped[column])\n",
    "            encoders[column] = encoder\n",
    "    for column in encoders.keys():\n",
    "        encoder = encoders[column]\n",
    "        grouped[column] = encoder.transform(grouped[column])\n",
    "    return encoders, data"
   ]
  },
  {
   "cell_type": "code",
   "execution_count": 36,
   "metadata": {
    "ExecuteTime": {
     "end_time": "2020-07-28T16:54:12.650161Z",
     "start_time": "2020-07-28T16:53:49.244302Z"
    }
   },
   "outputs": [],
   "source": [
    "encoders, grouped = encoding(grouped)"
   ]
  },
  {
   "cell_type": "code",
   "execution_count": 37,
   "metadata": {
    "ExecuteTime": {
     "end_time": "2020-07-28T16:54:19.965998Z",
     "start_time": "2020-07-28T16:54:12.651161Z"
    }
   },
   "outputs": [
    {
     "name": "stdout",
     "output_type": "stream",
     "text": [
      "Mem. usage decreased to 2428.07 Mb (61.2% reduction)\n"
     ]
    },
    {
     "data": {
      "text/plain": [
       "10976"
      ]
     },
     "execution_count": 37,
     "metadata": {},
     "output_type": "execute_result"
    }
   ],
   "source": [
    "#메모리관리\n",
    "grouped = reduce_mem_usage(grouped)\n",
    "\n",
    "# del data\n",
    "gc.collect()"
   ]
  },
  {
   "cell_type": "markdown",
   "metadata": {},
   "source": [
    "### Model Tuning & Evaluation"
   ]
  },
  {
   "cell_type": "code",
   "execution_count": 38,
   "metadata": {
    "ExecuteTime": {
     "end_time": "2020-07-28T16:54:23.881878Z",
     "start_time": "2020-07-28T16:54:19.966999Z"
    }
   },
   "outputs": [],
   "source": [
    "#2019.12까지 데이터로 20.03을 예측\n",
    "train_set = grouped[grouped.year == 2019]\n",
    "eval_set = grouped[(grouped.year == 2020)&(grouped.month == 3)]"
   ]
  },
  {
   "cell_type": "code",
   "execution_count": 39,
   "metadata": {
    "ExecuteTime": {
     "end_time": "2020-07-28T16:54:23.886879Z",
     "start_time": "2020-07-28T16:54:23.882878Z"
    }
   },
   "outputs": [],
   "source": [
    "params = {'random_state': 42,\n",
    "          'learning_rate': 0.01,\n",
    "          'max_depth': 8,\n",
    "          'num_leaves': 64,\n",
    "          'boosting': 'gbdt',\n",
    "          'objective': 'regression',\n",
    "          'metric': 'rmse',\n",
    "          'feature_fraction': 0.9,\n",
    "          'bagging_fraction': 0.7}"
   ]
  },
  {
   "cell_type": "code",
   "execution_count": 40,
   "metadata": {
    "ExecuteTime": {
     "end_time": "2020-07-28T16:54:23.918886Z",
     "start_time": "2020-07-28T16:54:23.887879Z"
    }
   },
   "outputs": [],
   "source": [
    "#세민님 파라미터\n",
    "params = {\n",
    "    'boosting_type': 'gbdt',\n",
    "    'objective': 'tweedie',\n",
    "    'metric': 'rmse',\n",
    "    'tweedie_variance_power':1.1,\n",
    "    'max_depth':11,\n",
    "    'num_leaves': 31,\n",
    "    'learning_rate': 0.05,\n",
    "    'feature_fraction': 0.9,\n",
    "    'bagging_fraction': 0.8,\n",
    "    'bagging_freq': 5,\n",
    "    'verbose': 0}"
   ]
  },
  {
   "cell_type": "code",
   "execution_count": 41,
   "metadata": {
    "ExecuteTime": {
     "end_time": "2020-07-28T16:54:23.947892Z",
     "start_time": "2020-07-28T16:54:23.919887Z"
    }
   },
   "outputs": [],
   "source": [
    "use_col = ['CARD_SIDO_NM','STD_CLSS_NM', 'HOM_SIDO_NM', 'AGE', 'SEX_CTGO_CD', 'FLC', 'year', 'month', \n",
    "           'LP', 'JP','company','employee','local_AMT']\n",
    "categorical_features = ['CARD_SIDO_NM','STD_CLSS_NM','HOM_SIDO_NM','SEX_CTGO_CD','AGE','FLC']\n"
   ]
  },
  {
   "cell_type": "code",
   "execution_count": 42,
   "metadata": {
    "ExecuteTime": {
     "end_time": "2020-07-28T17:05:57.755150Z",
     "start_time": "2020-07-28T16:54:23.947892Z"
    },
    "scrolled": true
   },
   "outputs": [
    {
     "name": "stdout",
     "output_type": "stream",
     "text": [
      "Training until validation scores don't improve for 100 rounds\n",
      "[500]\ttrain's rmse: 1.3811\n",
      "[1000]\ttrain's rmse: 1.35804\n",
      "Did not meet early stopping. Best iteration is:\n",
      "[1000]\ttrain's rmse: 1.35804\n"
     ]
    }
   ],
   "source": [
    "train_ds = lgb.Dataset(grouped[use_col],label=np.log1p(grouped['AMT']))\n",
    "model = lgb.train(params,\n",
    "                  train_ds,\n",
    "                  valid_sets = [train_ds],\n",
    "                  valid_names=['train'], \n",
    "                  num_boost_round=1000,\n",
    "                  verbose_eval=500,\n",
    "                  early_stopping_rounds=100)"
   ]
  },
  {
   "cell_type": "markdown",
   "metadata": {},
   "source": [
    "#### 예측탬플릿만들기\n",
    "* 의구심 1, FLC 5면서 10대인경우는 데이터에 없다. 그러면 일부러 만들어줬다면 뭐로 예측하지?\n",
    "* 의구심 2, a지역에 A업종의 경우 해당월에 b지역의 10대는 구매를 안했을 수도 있다. 이것을 0에 가깝게 예측하나?"
   ]
  },
  {
   "cell_type": "code",
   "execution_count": 43,
   "metadata": {
    "ExecuteTime": {
     "end_time": "2020-07-28T17:05:57.766153Z",
     "start_time": "2020-07-28T17:05:57.756151Z"
    }
   },
   "outputs": [],
   "source": [
    "#new(예측탬플릿), 4월 7월 나눠서 진행\n",
    "def make_temp(grouped, train = True):\n",
    "    CARD_SIDO_NMs = grouped['CARD_SIDO_NM'].unique()\n",
    "    STD_CLSS_NMs = grouped['STD_CLSS_NM'].unique()\n",
    "    HOM_SIDO_NMs = grouped['HOM_SIDO_NM'].unique()\n",
    "    AGEs = grouped['AGE'].unique()\n",
    "    SEX_CTGO_CDs = grouped['SEX_CTGO_CD'].unique()\n",
    "    FLCs = grouped['FLC'].unique()\n",
    "    years = [2020]\n",
    "    if train == True :\n",
    "        months = [3]\n",
    "    else :\n",
    "        months = [4,7]\n",
    "\n",
    "    temp = []\n",
    "    for CARD_SIDO_NM in tqdm(CARD_SIDO_NMs):\n",
    "        for STD_CLSS_NM in STD_CLSS_NMs:\n",
    "            for HOM_SIDO_NM in HOM_SIDO_NMs:\n",
    "                for AGE in AGEs:\n",
    "                    for SEX_CTGO_CD in SEX_CTGO_CDs:\n",
    "                        for FLC in FLCs:\n",
    "                            for year in years:\n",
    "                                for month in months:\n",
    "                                    temp.append([CARD_SIDO_NM, STD_CLSS_NM, HOM_SIDO_NM, AGE, SEX_CTGO_CD, FLC, year, month])\n",
    "    temp = np.array(temp)\n",
    "    temp = pd.DataFrame(data=temp, columns = ['CARD_SIDO_NM','STD_CLSS_NM','HOM_SIDO_NM','AGE','SEX_CTGO_CD','FLC','year','month'])\n",
    "    \n",
    "    #추가변수 삽입\n",
    "    #변수삽입을 위한 디코더\n",
    "    temp['CARD_SIDO_NM'] = encoders['CARD_SIDO_NM'].inverse_transform(temp['CARD_SIDO_NM'])\n",
    "    temp['STD_CLSS_NM'] = encoders['STD_CLSS_NM'].inverse_transform(temp['STD_CLSS_NM'])\n",
    "    temp['REG_YYMM'] = temp['year']*100 +temp['month']\n",
    "\n",
    "    temp = pd.merge(temp,all_jobs_df,on =['CARD_SIDO_NM','STD_CLSS_NM'],how = 'left')\n",
    "    temp = pd.merge(temp,local_percent_df,on =['CARD_SIDO_NM','STD_CLSS_NM','month'],how = 'left')\n",
    "    temp = pd.merge(temp,job_percent_df,on =['CARD_SIDO_NM','STD_CLSS_NM','month'],how = 'left')\n",
    "\n",
    "    temp['CARD_SIDO_NM'] = encoders['CARD_SIDO_NM'].transform(temp['CARD_SIDO_NM'])\n",
    "    temp['STD_CLSS_NM'] = encoders['STD_CLSS_NM'].transform(temp['STD_CLSS_NM'])\n",
    "    \n",
    "    return temp"
   ]
  },
  {
   "cell_type": "code",
   "execution_count": 55,
   "metadata": {
    "ExecuteTime": {
     "end_time": "2020-07-28T22:51:17.498837Z",
     "start_time": "2020-07-28T22:51:11.332608Z"
    }
   },
   "outputs": [
    {
     "data": {
      "application/vnd.jupyter.widget-view+json": {
       "model_id": "b01fb80b1878408fb7002c2c173d8adf",
       "version_major": 2,
       "version_minor": 0
      },
      "text/plain": [
       "HBox(children=(FloatProgress(value=0.0, max=17.0), HTML(value='')))"
      ]
     },
     "metadata": {},
     "output_type": "display_data"
    },
    {
     "name": "stdout",
     "output_type": "stream",
     "text": [
      "\n"
     ]
    }
   ],
   "source": [
    "temp = make_temp(grouped, train = False)"
   ]
  },
  {
   "cell_type": "markdown",
   "metadata": {},
   "source": [
    "### 다시본론"
   ]
  },
  {
   "cell_type": "code",
   "execution_count": 56,
   "metadata": {
    "ExecuteTime": {
     "end_time": "2020-07-28T22:51:32.358221Z",
     "start_time": "2020-07-28T22:51:32.354220Z"
    }
   },
   "outputs": [],
   "source": [
    "def temp_predict(temp):\n",
    "    # 예측\n",
    "    pred = model.predict(temp)\n",
    "    pred = np.expm1(pred)\n",
    "    \n",
    "    #예측변수삽입\n",
    "    temp['CARD_SIDO_NM'] = encoders['CARD_SIDO_NM'].inverse_transform(temp['CARD_SIDO_NM'])\n",
    "    temp['AMT'] = np.round(pred,0)\n",
    "    temp['REG_YYMM'] = temp['year']*100 +temp['month']\n",
    "\n",
    "    temp = temp[['REG_YYMM','CARD_SIDO_NM','STD_CLSS_NM','AMT']]\n",
    "    temp = temp.groupby(['REG_YYMM','CARD_SIDO_NM','STD_CLSS_NM']).sum().reset_index(drop=False)\n",
    "    \n",
    "    return temp"
   ]
  },
  {
   "cell_type": "code",
   "execution_count": 59,
   "metadata": {
    "ExecuteTime": {
     "end_time": "2020-07-28T22:52:23.463204Z",
     "start_time": "2020-07-28T22:52:15.293707Z"
    }
   },
   "outputs": [],
   "source": [
    "temp= temp_predict(temp)"
   ]
  },
  {
   "cell_type": "code",
   "execution_count": 60,
   "metadata": {
    "ExecuteTime": {
     "end_time": "2020-07-28T22:52:27.134287Z",
     "start_time": "2020-07-28T22:52:27.127287Z"
    }
   },
   "outputs": [
    {
     "data": {
      "text/html": [
       "<div>\n",
       "<style scoped>\n",
       "    .dataframe tbody tr th:only-of-type {\n",
       "        vertical-align: middle;\n",
       "    }\n",
       "\n",
       "    .dataframe tbody tr th {\n",
       "        vertical-align: top;\n",
       "    }\n",
       "\n",
       "    .dataframe thead th {\n",
       "        text-align: right;\n",
       "    }\n",
       "</style>\n",
       "<table border=\"1\" class=\"dataframe\">\n",
       "  <thead>\n",
       "    <tr style=\"text-align: right;\">\n",
       "      <th></th>\n",
       "      <th>REG_YYMM</th>\n",
       "      <th>CARD_SIDO_NM</th>\n",
       "      <th>STD_CLSS_NM</th>\n",
       "      <th>AMT</th>\n",
       "    </tr>\n",
       "  </thead>\n",
       "  <tbody>\n",
       "    <tr>\n",
       "      <th>0</th>\n",
       "      <td>202004</td>\n",
       "      <td>강원</td>\n",
       "      <td>0</td>\n",
       "      <td>343050097.0</td>\n",
       "    </tr>\n",
       "    <tr>\n",
       "      <th>1</th>\n",
       "      <td>202004</td>\n",
       "      <td>강원</td>\n",
       "      <td>1</td>\n",
       "      <td>257500110.0</td>\n",
       "    </tr>\n",
       "    <tr>\n",
       "      <th>2</th>\n",
       "      <td>202004</td>\n",
       "      <td>강원</td>\n",
       "      <td>2</td>\n",
       "      <td>312962305.0</td>\n",
       "    </tr>\n",
       "    <tr>\n",
       "      <th>3</th>\n",
       "      <td>202004</td>\n",
       "      <td>강원</td>\n",
       "      <td>3</td>\n",
       "      <td>284223670.0</td>\n",
       "    </tr>\n",
       "    <tr>\n",
       "      <th>4</th>\n",
       "      <td>202004</td>\n",
       "      <td>강원</td>\n",
       "      <td>4</td>\n",
       "      <td>277100903.0</td>\n",
       "    </tr>\n",
       "  </tbody>\n",
       "</table>\n",
       "</div>"
      ],
      "text/plain": [
       "   REG_YYMM CARD_SIDO_NM  STD_CLSS_NM          AMT\n",
       "0    202004           강원            0  343050097.0\n",
       "1    202004           강원            1  257500110.0\n",
       "2    202004           강원            2  312962305.0\n",
       "3    202004           강원            3  284223670.0\n",
       "4    202004           강원            4  277100903.0"
      ]
     },
     "execution_count": 60,
     "metadata": {},
     "output_type": "execute_result"
    }
   ],
   "source": [
    "temp.head()"
   ]
  },
  {
   "cell_type": "markdown",
   "metadata": {},
   "source": [
    "### 후처리"
   ]
  },
  {
   "cell_type": "code",
   "execution_count": 61,
   "metadata": {
    "ExecuteTime": {
     "end_time": "2020-07-28T22:52:30.803629Z",
     "start_time": "2020-07-28T22:52:30.792627Z"
    }
   },
   "outputs": [],
   "source": [
    "temp['STD_CLSS_NM'] = encoders['STD_CLSS_NM'].inverse_transform(temp['STD_CLSS_NM'])\n",
    "\n",
    "#18년 사업체총조사 기준, 그 지역에 없는 업종은 0처리 \n",
    "temp = pd.merge(temp,all_jobs_df,left_on=['CARD_SIDO_NM','STD_CLSS_NM'],right_on=['CARD_SIDO_NM','STD_CLSS_NM'],how='left')\n",
    "temp.loc[temp.company.isna(),'AMT'] = 0\n",
    "\n",
    "temp.drop(['company','employee'],axis=1,inplace=True)"
   ]
  },
  {
   "cell_type": "markdown",
   "metadata": {},
   "source": [
    "### 저장"
   ]
  },
  {
   "cell_type": "code",
   "execution_count": 62,
   "metadata": {
    "ExecuteTime": {
     "end_time": "2020-07-28T22:52:32.152940Z",
     "start_time": "2020-07-28T22:52:32.110924Z"
    }
   },
   "outputs": [
    {
     "data": {
      "text/html": [
       "<div>\n",
       "<style scoped>\n",
       "    .dataframe tbody tr th:only-of-type {\n",
       "        vertical-align: middle;\n",
       "    }\n",
       "\n",
       "    .dataframe tbody tr th {\n",
       "        vertical-align: top;\n",
       "    }\n",
       "\n",
       "    .dataframe thead th {\n",
       "        text-align: right;\n",
       "    }\n",
       "</style>\n",
       "<table border=\"1\" class=\"dataframe\">\n",
       "  <thead>\n",
       "    <tr style=\"text-align: right;\">\n",
       "      <th></th>\n",
       "      <th>REG_YYMM</th>\n",
       "      <th>CARD_SIDO_NM</th>\n",
       "      <th>STD_CLSS_NM</th>\n",
       "      <th>AMT</th>\n",
       "    </tr>\n",
       "    <tr>\n",
       "      <th>id</th>\n",
       "      <th></th>\n",
       "      <th></th>\n",
       "      <th></th>\n",
       "      <th></th>\n",
       "    </tr>\n",
       "  </thead>\n",
       "  <tbody>\n",
       "    <tr>\n",
       "      <th>0</th>\n",
       "      <td>202004</td>\n",
       "      <td>강원</td>\n",
       "      <td>건강보조식품 소매업</td>\n",
       "      <td>343050097.0</td>\n",
       "    </tr>\n",
       "    <tr>\n",
       "      <th>1</th>\n",
       "      <td>202004</td>\n",
       "      <td>강원</td>\n",
       "      <td>골프장 운영업</td>\n",
       "      <td>257500110.0</td>\n",
       "    </tr>\n",
       "    <tr>\n",
       "      <th>2</th>\n",
       "      <td>202004</td>\n",
       "      <td>강원</td>\n",
       "      <td>과실 및 채소 소매업</td>\n",
       "      <td>312962305.0</td>\n",
       "    </tr>\n",
       "    <tr>\n",
       "      <th>3</th>\n",
       "      <td>202004</td>\n",
       "      <td>강원</td>\n",
       "      <td>관광 민예품 및 선물용품 소매업</td>\n",
       "      <td>284223670.0</td>\n",
       "    </tr>\n",
       "    <tr>\n",
       "      <th>4</th>\n",
       "      <td>202004</td>\n",
       "      <td>강원</td>\n",
       "      <td>그외 기타 분류안된 오락관련 서비스업</td>\n",
       "      <td>277100903.0</td>\n",
       "    </tr>\n",
       "  </tbody>\n",
       "</table>\n",
       "</div>"
      ],
      "text/plain": [
       "    REG_YYMM CARD_SIDO_NM           STD_CLSS_NM          AMT\n",
       "id                                                          \n",
       "0     202004           강원            건강보조식품 소매업  343050097.0\n",
       "1     202004           강원               골프장 운영업  257500110.0\n",
       "2     202004           강원           과실 및 채소 소매업  312962305.0\n",
       "3     202004           강원     관광 민예품 및 선물용품 소매업  284223670.0\n",
       "4     202004           강원  그외 기타 분류안된 오락관련 서비스업  277100903.0"
      ]
     },
     "execution_count": 62,
     "metadata": {},
     "output_type": "execute_result"
    }
   ],
   "source": [
    "#제출파일\n",
    "submission = pd.read_csv('data/submission.csv',index_col=0)\n",
    "submission = submission.drop(['AMT'],axis= 1)\n",
    "submission = submission.merge(temp, left_on=['REG_YYMM','CARD_SIDO_NM','STD_CLSS_NM'],right_on =['REG_YYMM','CARD_SIDO_NM','STD_CLSS_NM'],how = 'left')\n",
    "submission.index.name = 'id'\n",
    "today = datetime.datetime.now().date()\n",
    "submission.to_csv(f'./submission/{today}_submission_lgbm_test_left.csv', encoding='utf-8-sig')\n",
    "\n",
    "submission.head()"
   ]
  },
  {
   "cell_type": "code",
   "execution_count": 63,
   "metadata": {
    "ExecuteTime": {
     "end_time": "2020-07-28T22:52:59.310225Z",
     "start_time": "2020-07-28T22:52:59.305233Z"
    }
   },
   "outputs": [],
   "source": [
    "only_4 = pd.read_csv('only_4.csv')\n",
    "def set_sumit(only_4, pre_df):\n",
    "    '''리더보드와 동일한 예측을 하는 함수\n",
    "    parameter\n",
    "    --------\n",
    "    only_4(df) : 4월 RMSLE가 0이 나왔던 제출셋\n",
    "    pre_df(df) : 모델로 예측한 Dataframe\n",
    "    \n",
    "    '''\n",
    "    from sklearn.metrics import mean_squared_log_error\n",
    "    \n",
    "    pre_df = pre_df[pre_df['REG_YYMM'] == 202004]\n",
    "    only_4 = only_4[only_4['REG_YYMM'] == 202004]\n",
    "    \n",
    "    pre_df.loc[pre_df.CARD_SIDO_NM == '제주','weight'] = 3\n",
    "    pre_df.loc[pre_df.CARD_SIDO_NM != '제주','weight'] = 1\n",
    "    \n",
    "    weight = pre_df['weight'].values\n",
    "    \n",
    "    all_amt = np.sqrt(mean_squared_log_error(only_4['AMT'],pre_df['AMT'],sample_weight=weight))\n",
    "    return all_amt"
   ]
  },
  {
   "cell_type": "code",
   "execution_count": 65,
   "metadata": {
    "ExecuteTime": {
     "end_time": "2020-07-28T22:53:41.278612Z",
     "start_time": "2020-07-28T22:53:41.269618Z"
    }
   },
   "outputs": [
    {
     "name": "stderr",
     "output_type": "stream",
     "text": [
      "C:\\Users\\try00\\anaconda3\\lib\\site-packages\\pandas\\core\\indexing.py:844: SettingWithCopyWarning: \n",
      "A value is trying to be set on a copy of a slice from a DataFrame.\n",
      "Try using .loc[row_indexer,col_indexer] = value instead\n",
      "\n",
      "See the caveats in the documentation: https://pandas.pydata.org/pandas-docs/stable/user_guide/indexing.html#returning-a-view-versus-a-copy\n",
      "  self.obj[key] = _infer_fill_value(value)\n",
      "C:\\Users\\try00\\anaconda3\\lib\\site-packages\\pandas\\core\\indexing.py:965: SettingWithCopyWarning: \n",
      "A value is trying to be set on a copy of a slice from a DataFrame.\n",
      "Try using .loc[row_indexer,col_indexer] = value instead\n",
      "\n",
      "See the caveats in the documentation: https://pandas.pydata.org/pandas-docs/stable/user_guide/indexing.html#returning-a-view-versus-a-copy\n",
      "  self.obj[item] = s\n"
     ]
    },
    {
     "data": {
      "text/plain": [
       "6.908231012280199"
      ]
     },
     "execution_count": 65,
     "metadata": {},
     "output_type": "execute_result"
    }
   ],
   "source": [
    "set_sumit(only_4, submission)"
   ]
  },
  {
   "cell_type": "code",
   "execution_count": null,
   "metadata": {},
   "outputs": [],
   "source": []
  }
 ],
 "metadata": {
  "kernelspec": {
   "display_name": "Python 3",
   "language": "python",
   "name": "python3"
  },
  "language_info": {
   "codemirror_mode": {
    "name": "ipython",
    "version": 3
   },
   "file_extension": ".py",
   "mimetype": "text/x-python",
   "name": "python",
   "nbconvert_exporter": "python",
   "pygments_lexer": "ipython3",
   "version": "3.7.6"
  },
  "toc": {
   "base_numbering": 1,
   "nav_menu": {},
   "number_sections": true,
   "sideBar": true,
   "skip_h1_title": false,
   "title_cell": "Table of Contents",
   "title_sidebar": "Contents",
   "toc_cell": false,
   "toc_position": {},
   "toc_section_display": true,
   "toc_window_display": false
  },
  "varInspector": {
   "cols": {
    "lenName": 16,
    "lenType": 16,
    "lenVar": 40
   },
   "kernels_config": {
    "python": {
     "delete_cmd_postfix": "",
     "delete_cmd_prefix": "del ",
     "library": "var_list.py",
     "varRefreshCmd": "print(var_dic_list())"
    },
    "r": {
     "delete_cmd_postfix": ") ",
     "delete_cmd_prefix": "rm(",
     "library": "var_list.r",
     "varRefreshCmd": "cat(var_dic_list()) "
    }
   },
   "oldHeight": 317,
   "position": {
    "height": "339px",
    "left": "1205px",
    "right": "20px",
    "top": "111px",
    "width": "459px"
   },
   "types_to_exclude": [
    "module",
    "function",
    "builtin_function_or_method",
    "instance",
    "_Feature"
   ],
   "varInspector_section_display": "block",
   "window_display": false
  }
 },
 "nbformat": 4,
 "nbformat_minor": 2
}
