{
 "cells": [
  {
   "cell_type": "code",
   "execution_count": 1,
   "metadata": {
    "ExecuteTime": {
     "end_time": "2020-07-29T10:24:53.965032Z",
     "start_time": "2020-07-29T10:24:51.454132Z"
    }
   },
   "outputs": [],
   "source": [
    "import pandas as pd\n",
    "import numpy as np\n",
    "import matplotlib.pyplot as plt\n",
    "import seaborn as sns\n",
    "import os \n",
    "import datetime\n",
    "from sklearn.preprocessing import LabelEncoder\n",
    "import gc\n",
    "\n",
    "import sklearn\n",
    "from sklearn.ensemble import RandomForestRegressor\n",
    "import xgboost as xgb\n",
    "import lightgbm as lgb\n",
    "from tqdm.notebook import tqdm\n",
    "\n",
    "#한글깨짐방지\n",
    "plt.rc('font',family='Malgun Gothic')\n",
    "plt.rcParams['axes.unicode_minus'] = False"
   ]
  },
  {
   "cell_type": "code",
   "execution_count": 2,
   "metadata": {
    "ExecuteTime": {
     "end_time": "2020-07-29T10:24:54.001453Z",
     "start_time": "2020-07-29T10:24:53.965032Z"
    }
   },
   "outputs": [
    {
     "name": "stdout",
     "output_type": "stream",
     "text": [
      "Pandas : 1.0.1\n",
      "Numpy : 1.18.1\n",
      "Scikit-Learn : 0.22.1\n",
      "Python 3.7.6\n"
     ]
    }
   ],
   "source": [
    "print('Pandas : %s'%(pd.__version__))\n",
    "print('Numpy : %s'%(np.__version__))\n",
    "print('Scikit-Learn : %s'%(sklearn.__version__))\n",
    "!python --version"
   ]
  },
  {
   "cell_type": "markdown",
   "metadata": {},
   "source": [
    "### data"
   ]
  },
  {
   "cell_type": "code",
   "execution_count": 3,
   "metadata": {
    "ExecuteTime": {
     "end_time": "2020-07-29T10:25:15.738091Z",
     "start_time": "2020-07-29T10:24:54.004108Z"
    }
   },
   "outputs": [],
   "source": [
    "#데이터로드\n",
    "path = './data/'\n",
    "data = pd.read_csv(path +'201901-202003.csv')\n",
    "submission = pd.read_csv(path + 'submission.csv')"
   ]
  },
  {
   "cell_type": "code",
   "execution_count": 4,
   "metadata": {
    "ExecuteTime": {
     "end_time": "2020-07-29T10:25:15.761312Z",
     "start_time": "2020-07-29T10:25:15.738091Z"
    }
   },
   "outputs": [
    {
     "data": {
      "text/plain": [
       "((24697792, 12), (1394, 5))"
      ]
     },
     "execution_count": 4,
     "metadata": {},
     "output_type": "execute_result"
    }
   ],
   "source": [
    "data.shape, submission.shape"
   ]
  },
  {
   "cell_type": "code",
   "execution_count": 5,
   "metadata": {
    "ExecuteTime": {
     "end_time": "2020-07-29T10:25:16.475241Z",
     "start_time": "2020-07-29T10:25:15.761312Z"
    }
   },
   "outputs": [
    {
     "data": {
      "text/plain": [
       "17"
      ]
     },
     "execution_count": 5,
     "metadata": {},
     "output_type": "execute_result"
    }
   ],
   "source": [
    "data.CARD_SIDO_NM.nunique()"
   ]
  },
  {
   "cell_type": "markdown",
   "metadata": {
    "ExecuteTime": {
     "end_time": "2020-07-22T07:05:10.724058Z",
     "start_time": "2020-07-22T07:05:10.721064Z"
    }
   },
   "source": [
    "### 전처리"
   ]
  },
  {
   "cell_type": "markdown",
   "metadata": {},
   "source": [
    "#### 날짜변환"
   ]
  },
  {
   "cell_type": "code",
   "execution_count": 6,
   "metadata": {
    "ExecuteTime": {
     "end_time": "2020-07-29T10:25:18.541731Z",
     "start_time": "2020-07-29T10:25:16.475241Z"
    }
   },
   "outputs": [],
   "source": [
    "data.loc[data.CARD_CCG_NM.isna(),'CARD_CCG_NM'] = '세종'\n",
    "data.loc[data.HOM_CCG_NM.isna(),'HOM_CCG_NM'] = '세종'"
   ]
  },
  {
   "cell_type": "code",
   "execution_count": 7,
   "metadata": {
    "ExecuteTime": {
     "end_time": "2020-07-29T10:25:32.912286Z",
     "start_time": "2020-07-29T10:25:18.541731Z"
    }
   },
   "outputs": [],
   "source": [
    "# data = data.drop(['HOM_CCG_NM'],axis= 1)\n",
    "columns = ['REG_YYMM', 'CARD_SIDO_NM', 'CARD_CCG_NM', 'STD_CLSS_NM', 'HOM_SIDO_NM', 'AGE', 'SEX_CTGO_CD', 'FLC']\n",
    "data = data.groupby(columns, as_index=False).sum().reset_index(drop=False)"
   ]
  },
  {
   "cell_type": "code",
   "execution_count": 8,
   "metadata": {
    "ExecuteTime": {
     "end_time": "2020-07-29T10:25:39.822041Z",
     "start_time": "2020-07-29T10:25:32.912286Z"
    }
   },
   "outputs": [],
   "source": [
    "data['year'] = data['REG_YYMM'].apply(lambda x : int(str(x)[:4]))\n",
    "data['month'] = data['REG_YYMM'].apply(lambda x : int(str(x)[4:]))\n",
    "# data.drop(['REG_YYMM'],axis= 1,inplace = True)"
   ]
  },
  {
   "cell_type": "code",
   "execution_count": 9,
   "metadata": {
    "ExecuteTime": {
     "end_time": "2020-07-29T10:25:39.850541Z",
     "start_time": "2020-07-29T10:25:39.825150Z"
    }
   },
   "outputs": [
    {
     "data": {
      "text/html": [
       "<div>\n",
       "<style scoped>\n",
       "    .dataframe tbody tr th:only-of-type {\n",
       "        vertical-align: middle;\n",
       "    }\n",
       "\n",
       "    .dataframe tbody tr th {\n",
       "        vertical-align: top;\n",
       "    }\n",
       "\n",
       "    .dataframe thead th {\n",
       "        text-align: right;\n",
       "    }\n",
       "</style>\n",
       "<table border=\"1\" class=\"dataframe\">\n",
       "  <thead>\n",
       "    <tr style=\"text-align: right;\">\n",
       "      <th></th>\n",
       "      <th>index</th>\n",
       "      <th>REG_YYMM</th>\n",
       "      <th>CARD_SIDO_NM</th>\n",
       "      <th>CARD_CCG_NM</th>\n",
       "      <th>STD_CLSS_NM</th>\n",
       "      <th>HOM_SIDO_NM</th>\n",
       "      <th>AGE</th>\n",
       "      <th>SEX_CTGO_CD</th>\n",
       "      <th>FLC</th>\n",
       "      <th>CSTMR_CNT</th>\n",
       "      <th>AMT</th>\n",
       "      <th>CNT</th>\n",
       "      <th>year</th>\n",
       "      <th>month</th>\n",
       "    </tr>\n",
       "  </thead>\n",
       "  <tbody>\n",
       "    <tr>\n",
       "      <th>0</th>\n",
       "      <td>0</td>\n",
       "      <td>201901</td>\n",
       "      <td>강원</td>\n",
       "      <td>강릉시</td>\n",
       "      <td>건강보조식품 소매업</td>\n",
       "      <td>강원</td>\n",
       "      <td>20s</td>\n",
       "      <td>1</td>\n",
       "      <td>1</td>\n",
       "      <td>4</td>\n",
       "      <td>311200</td>\n",
       "      <td>4</td>\n",
       "      <td>2019</td>\n",
       "      <td>1</td>\n",
       "    </tr>\n",
       "    <tr>\n",
       "      <th>1</th>\n",
       "      <td>1</td>\n",
       "      <td>201901</td>\n",
       "      <td>강원</td>\n",
       "      <td>강릉시</td>\n",
       "      <td>건강보조식품 소매업</td>\n",
       "      <td>강원</td>\n",
       "      <td>30s</td>\n",
       "      <td>1</td>\n",
       "      <td>2</td>\n",
       "      <td>7</td>\n",
       "      <td>1374500</td>\n",
       "      <td>8</td>\n",
       "      <td>2019</td>\n",
       "      <td>1</td>\n",
       "    </tr>\n",
       "    <tr>\n",
       "      <th>2</th>\n",
       "      <td>2</td>\n",
       "      <td>201901</td>\n",
       "      <td>강원</td>\n",
       "      <td>강릉시</td>\n",
       "      <td>건강보조식품 소매업</td>\n",
       "      <td>강원</td>\n",
       "      <td>30s</td>\n",
       "      <td>2</td>\n",
       "      <td>2</td>\n",
       "      <td>6</td>\n",
       "      <td>818700</td>\n",
       "      <td>6</td>\n",
       "      <td>2019</td>\n",
       "      <td>1</td>\n",
       "    </tr>\n",
       "    <tr>\n",
       "      <th>3</th>\n",
       "      <td>3</td>\n",
       "      <td>201901</td>\n",
       "      <td>강원</td>\n",
       "      <td>강릉시</td>\n",
       "      <td>건강보조식품 소매업</td>\n",
       "      <td>강원</td>\n",
       "      <td>40s</td>\n",
       "      <td>1</td>\n",
       "      <td>3</td>\n",
       "      <td>4</td>\n",
       "      <td>1717000</td>\n",
       "      <td>5</td>\n",
       "      <td>2019</td>\n",
       "      <td>1</td>\n",
       "    </tr>\n",
       "    <tr>\n",
       "      <th>4</th>\n",
       "      <td>4</td>\n",
       "      <td>201901</td>\n",
       "      <td>강원</td>\n",
       "      <td>강릉시</td>\n",
       "      <td>건강보조식품 소매업</td>\n",
       "      <td>강원</td>\n",
       "      <td>40s</td>\n",
       "      <td>1</td>\n",
       "      <td>4</td>\n",
       "      <td>3</td>\n",
       "      <td>1047300</td>\n",
       "      <td>3</td>\n",
       "      <td>2019</td>\n",
       "      <td>1</td>\n",
       "    </tr>\n",
       "  </tbody>\n",
       "</table>\n",
       "</div>"
      ],
      "text/plain": [
       "   index  REG_YYMM CARD_SIDO_NM CARD_CCG_NM STD_CLSS_NM HOM_SIDO_NM  AGE  \\\n",
       "0      0    201901           강원         강릉시  건강보조식품 소매업          강원  20s   \n",
       "1      1    201901           강원         강릉시  건강보조식품 소매업          강원  30s   \n",
       "2      2    201901           강원         강릉시  건강보조식품 소매업          강원  30s   \n",
       "3      3    201901           강원         강릉시  건강보조식품 소매업          강원  40s   \n",
       "4      4    201901           강원         강릉시  건강보조식품 소매업          강원  40s   \n",
       "\n",
       "   SEX_CTGO_CD  FLC  CSTMR_CNT      AMT  CNT  year  month  \n",
       "0            1    1          4   311200    4  2019      1  \n",
       "1            1    2          7  1374500    8  2019      1  \n",
       "2            2    2          6   818700    6  2019      1  \n",
       "3            1    3          4  1717000    5  2019      1  \n",
       "4            1    4          3  1047300    3  2019      1  "
      ]
     },
     "execution_count": 9,
     "metadata": {},
     "output_type": "execute_result"
    }
   ],
   "source": [
    "data.head()"
   ]
  },
  {
   "cell_type": "markdown",
   "metadata": {},
   "source": [
    "### 추가변수\n",
    "* 추가변수 결합시 7월의 경우 4월의 것으로 대체해야하나??? (현재 4월데이터 없음)"
   ]
  },
  {
   "cell_type": "markdown",
   "metadata": {},
   "source": [
    "#### 18 사업체총조사"
   ]
  },
  {
   "cell_type": "code",
   "execution_count": 11,
   "metadata": {
    "ExecuteTime": {
     "end_time": "2020-07-29T10:47:26.933429Z",
     "start_time": "2020-07-29T10:47:26.787135Z"
    }
   },
   "outputs": [],
   "source": [
    "all_jobs_df = pd.read_csv('./data/외부데이터/18 사업체총조사_키워드매칭.csv',encoding = 'cp949')\n",
    "all_jobs_df = all_jobs_df[['행정구역별','데이터업종명','사업체수 (개)', '종사자수 (명)']]\n",
    "all_jobs_df.columns = ['CARD_SIDO_NM','STD_CLSS_NM', 'company','employee']\n",
    "all_jobs_df.employee = all_jobs_df.employee.apply(lambda x : x.replace(\"X\",\"0\")).astype(int)\n",
    "all_jobs_df = all_jobs_df.groupby(['CARD_SIDO_NM','STD_CLSS_NM'])[['company','employee']].sum().reset_index()\n",
    "\n",
    "all_jobs_df = all_jobs_df[~(all_jobs_df.CARD_SIDO_NM == '전국')]"
   ]
  },
  {
   "cell_type": "markdown",
   "metadata": {},
   "source": [
    "#### 지역내 각 업종이 차지하는 매출비중"
   ]
  },
  {
   "cell_type": "code",
   "execution_count": 12,
   "metadata": {
    "ExecuteTime": {
     "end_time": "2020-07-29T10:47:31.587936Z",
     "start_time": "2020-07-29T10:47:31.579930Z"
    },
    "code_folding": []
   },
   "outputs": [],
   "source": [
    "def local_percent(data):\n",
    "    sample = data[data.year == 2019]\n",
    "    pivoted = sample.pivot_table(index = ['CARD_SIDO_NM','CARD_CCG_NM','STD_CLSS_NM'],columns ='month',values= \"AMT\",aggfunc='sum').reset_index()\n",
    "    pivoted.fillna(0,inplace= True)\n",
    "\n",
    "    #각 지역별(시군구)업종의 매출비율을 저장\n",
    "    sidos = pivoted.CARD_SIDO_NM.unique()\n",
    "\n",
    "    local_percent_df = pd.DataFrame()\n",
    "    for sido in sidos:\n",
    "        sample_sido = pivoted[pivoted.CARD_SIDO_NM == sido]\n",
    "        sigungus = sample_sido.CARD_CCG_NM.unique()\n",
    "        for sigungu in sigungus:\n",
    "            sample = sample_sido[sample_sido.CARD_CCG_NM == sigungu]\n",
    "            sum_arr = sample.iloc[:,3:].sum().values.reshape(1,-1)\n",
    "            parcent_df = (sample.iloc[:,3:]/sum_arr)*100\n",
    "\n",
    "            fin = pd.concat([sample.iloc[:,:3],parcent_df],axis=1)\n",
    "            local_percent_df = pd.concat([local_percent_df,fin])\n",
    "\n",
    "    #신규변수 LP(local percent) : 지역내 각 업종이 차지하는 매출비중\n",
    "    local_percent_df = local_percent_df.melt(id_vars=['CARD_SIDO_NM','CARD_CCG_NM','STD_CLSS_NM'],value_name='LP')\n",
    "    local_percent_df['month'] = local_percent_df['month'].astype(int)\n",
    "    return local_percent_df"
   ]
  },
  {
   "cell_type": "markdown",
   "metadata": {},
   "source": [
    "#### 전체업종에서 각 지역업종이 차지하는 매출비중"
   ]
  },
  {
   "cell_type": "code",
   "execution_count": 13,
   "metadata": {
    "ExecuteTime": {
     "end_time": "2020-07-29T10:47:34.990261Z",
     "start_time": "2020-07-29T10:47:34.982263Z"
    },
    "code_folding": []
   },
   "outputs": [],
   "source": [
    "def job_percent(data):\n",
    "    sample = data[data.year == 2019]\n",
    "    pivoted = sample.pivot_table(index = ['CARD_SIDO_NM','CARD_CCG_NM','STD_CLSS_NM'],columns ='month',values= \"AMT\",aggfunc='sum').reset_index()\n",
    "    pivoted.fillna(0,inplace= True)\n",
    "\n",
    "    all_pivoted = data.pivot_table(index = ['STD_CLSS_NM'],columns ='month',values= \"AMT\",aggfunc= 'sum').reset_index()\n",
    "    all_pivoted.fillna(0,inplace= True)\n",
    "    all_pivoted = all_pivoted.set_index('STD_CLSS_NM')\n",
    "\n",
    "    job_percent_df = pd.DataFrame()\n",
    "    for job in all_pivoted.index:\n",
    "        taget_df = pivoted[pivoted.STD_CLSS_NM == job]\n",
    "        tail = (taget_df.iloc[:,3:]/all_pivoted.iloc[0].values)*100\n",
    "        head = taget_df.iloc[:,:3]\n",
    "        full = pd.concat([head,tail],axis =1)\n",
    "        job_percent_df = pd.concat([job_percent_df,full])\n",
    "\n",
    "    #신규변수 JP(Job percent): 전체업종에서 해당지역의 업종이 차이하는 비율\n",
    "    job_percent_df = job_percent_df.melt(id_vars=['CARD_SIDO_NM','CARD_CCG_NM','STD_CLSS_NM'],value_name='JP')\n",
    "    job_percent_df['month'] = job_percent_df['month'].astype(int)\n",
    "    return job_percent_df"
   ]
  },
  {
   "cell_type": "code",
   "execution_count": 14,
   "metadata": {
    "ExecuteTime": {
     "end_time": "2020-07-29T10:47:37.791586Z",
     "start_time": "2020-07-29T10:47:37.781041Z"
    }
   },
   "outputs": [],
   "source": [
    "def local_rate(data):\n",
    "    sample = data[data.year == 2019]\n",
    "    sample.loc[sample.CARD_SIDO_NM == sample.HOM_SIDO_NM,'AMT_local'] = 1\n",
    "    sample.loc[sample.CARD_SIDO_NM != sample.HOM_SIDO_NM,'AMT_local'] = 0\n",
    "    local_rate_df = sample.pivot_table(index = ['CARD_SIDO_NM','CARD_CCG_NM','STD_CLSS_NM','month'],columns = 'AMT_local',values = 'AMT',aggfunc = 'sum',fill_value= 0).reset_index()\n",
    "    local_rate_df['local_AMT'] = local_rate_df[1.0]/(local_rate_df[0.0] +local_rate_df[1.0]) *100\n",
    "    \n",
    "    local_rate_df.drop([0.0,1.0],axis=1, inplace= True)\n",
    "    \n",
    "    return local_rate_df"
   ]
  },
  {
   "cell_type": "code",
   "execution_count": 15,
   "metadata": {
    "ExecuteTime": {
     "end_time": "2020-07-29T10:47:38.601852Z",
     "start_time": "2020-07-29T10:47:38.579475Z"
    }
   },
   "outputs": [],
   "source": [
    "def cust_differ(data):\n",
    "    data['differ'] = (data.CNT- data.CSTMR_CNT)\n",
    "    \n",
    "    #2019만 사용\n",
    "    data = data[data.year == 2019]\n",
    "    \n",
    "    #양수(단골)\n",
    "    plus_custom = data[data['differ']>0]\n",
    "    pivot_plus = plus_custom.pivot_table(index = ['CARD_SIDO_NM','CARD_CCG_NM','STD_CLSS_NM'],columns = 'REG_YYMM', values= 'differ', aggfunc ='sum').reset_index()\n",
    "    \n",
    "    melt_plus = pivot_plus.melt(id_vars=['CARD_SIDO_NM','CARD_CCG_NM','STD_CLSS_NM'],value_name='loyal')\n",
    "    melt_plus['year'] = melt_plus['REG_YYMM'].apply(lambda x: int(str(x)[:4]))\n",
    "    melt_plus['month'] = melt_plus['REG_YYMM'].apply(lambda x: int(str(x)[4:]))\n",
    "    melt_plus.drop(['REG_YYMM','year'],axis= 1,inplace = True)\n",
    "       \n",
    "    #음수(환불)\n",
    "    minus_custom = data[data['differ']<0]\n",
    "    pivot_minus = minus_custom.pivot_table(index = ['CARD_SIDO_NM','CARD_CCG_NM','STD_CLSS_NM'],columns = 'REG_YYMM', values= 'differ', aggfunc ='sum').reset_index()\n",
    "    \n",
    "    melt_minus = pivot_minus.melt(id_vars=['CARD_SIDO_NM','CARD_CCG_NM','STD_CLSS_NM'],value_name='refund')\n",
    "    melt_minus['year'] = melt_minus['REG_YYMM'].apply(lambda x: int(str(x)[:4]))\n",
    "    melt_minus['month'] = melt_minus['REG_YYMM'].apply(lambda x: int(str(x)[4:]))\n",
    "    melt_minus.drop(['REG_YYMM','year'],axis= 1,inplace = True)\n",
    "    \n",
    "    #둘 결헙\n",
    "    cust_differ_df = pd.merge(melt_plus,melt_minus,how= 'outer')\n",
    "    \n",
    "    return cust_differ_df"
   ]
  },
  {
   "cell_type": "code",
   "execution_count": 16,
   "metadata": {
    "ExecuteTime": {
     "end_time": "2020-07-29T10:47:50.340129Z",
     "start_time": "2020-07-29T10:47:39.894678Z"
    }
   },
   "outputs": [
    {
     "name": "stderr",
     "output_type": "stream",
     "text": [
      "C:\\Users\\kwonJH\\anaconda3\\lib\\site-packages\\pandas\\core\\indexing.py:844: SettingWithCopyWarning: \n",
      "A value is trying to be set on a copy of a slice from a DataFrame.\n",
      "Try using .loc[row_indexer,col_indexer] = value instead\n",
      "\n",
      "See the caveats in the documentation: https://pandas.pydata.org/pandas-docs/stable/user_guide/indexing.html#returning-a-view-versus-a-copy\n",
      "  self.obj[key] = _infer_fill_value(value)\n",
      "C:\\Users\\kwonJH\\anaconda3\\lib\\site-packages\\pandas\\core\\indexing.py:965: SettingWithCopyWarning: \n",
      "A value is trying to be set on a copy of a slice from a DataFrame.\n",
      "Try using .loc[row_indexer,col_indexer] = value instead\n",
      "\n",
      "See the caveats in the documentation: https://pandas.pydata.org/pandas-docs/stable/user_guide/indexing.html#returning-a-view-versus-a-copy\n",
      "  self.obj[item] = s\n"
     ]
    }
   ],
   "source": [
    "local_rate_df = local_rate(data)\n",
    "local_percent_df = local_percent(data)\n",
    "job_percent_df = job_percent(data)\n",
    "cust_differ_df = cust_differ(data)"
   ]
  },
  {
   "cell_type": "markdown",
   "metadata": {},
   "source": [
    "#### 추가변수 결합"
   ]
  },
  {
   "cell_type": "code",
   "execution_count": 42,
   "metadata": {
    "ExecuteTime": {
     "end_time": "2020-07-29T11:14:03.823541Z",
     "start_time": "2020-07-29T11:14:03.815497Z"
    }
   },
   "outputs": [
    {
     "data": {
      "text/plain": [
       "(5328210, 15)"
      ]
     },
     "execution_count": 42,
     "metadata": {},
     "output_type": "execute_result"
    }
   ],
   "source": [
    "data.shape"
   ]
  },
  {
   "cell_type": "code",
   "execution_count": 49,
   "metadata": {
    "ExecuteTime": {
     "end_time": "2020-07-29T11:54:51.969594Z",
     "start_time": "2020-07-29T11:54:43.137540Z"
    }
   },
   "outputs": [],
   "source": [
    "grouped = pd.merge(data,local_percent_df,on =['CARD_SIDO_NM','CARD_CCG_NM','STD_CLSS_NM','month'],how = 'left')\n",
    "grouped = pd.merge(grouped,job_percent_df,on =['CARD_SIDO_NM','CARD_CCG_NM','STD_CLSS_NM','month'],how = 'left')\n",
    "grouped = pd.merge(grouped,local_rate_df,on =['CARD_SIDO_NM','CARD_CCG_NM','STD_CLSS_NM','month'],how = 'left')\n",
    "grouped = pd.merge(grouped,cust_differ_df,on =['CARD_SIDO_NM','CARD_CCG_NM','STD_CLSS_NM','month'],how = 'left')\n",
    "grouped = pd.merge(grouped,all_jobs_df,on =['CARD_SIDO_NM','STD_CLSS_NM'],how = 'left')"
   ]
  },
  {
   "cell_type": "code",
   "execution_count": 50,
   "metadata": {
    "ExecuteTime": {
     "end_time": "2020-07-29T11:54:55.768128Z",
     "start_time": "2020-07-29T11:54:55.750112Z"
    }
   },
   "outputs": [
    {
     "data": {
      "text/plain": [
       "(5328210, 22)"
      ]
     },
     "execution_count": 50,
     "metadata": {},
     "output_type": "execute_result"
    }
   ],
   "source": [
    "grouped.shape"
   ]
  },
  {
   "cell_type": "code",
   "execution_count": 51,
   "metadata": {
    "ExecuteTime": {
     "end_time": "2020-07-29T11:54:59.577749Z",
     "start_time": "2020-07-29T11:54:59.569295Z"
    }
   },
   "outputs": [
    {
     "data": {
      "text/plain": [
       "Index(['index', 'REG_YYMM', 'CARD_SIDO_NM', 'CARD_CCG_NM', 'STD_CLSS_NM',\n",
       "       'HOM_SIDO_NM', 'AGE', 'SEX_CTGO_CD', 'FLC', 'CSTMR_CNT', 'AMT', 'CNT',\n",
       "       'year', 'month', 'differ', 'LP', 'JP', 'local_AMT', 'loyal', 'refund',\n",
       "       'company', 'employee'],\n",
       "      dtype='object')"
      ]
     },
     "execution_count": 51,
     "metadata": {},
     "output_type": "execute_result"
    }
   ],
   "source": [
    "grouped.columns"
   ]
  },
  {
   "cell_type": "code",
   "execution_count": 52,
   "metadata": {
    "ExecuteTime": {
     "end_time": "2020-07-29T11:55:03.571070Z",
     "start_time": "2020-07-29T11:55:03.539577Z"
    }
   },
   "outputs": [
    {
     "data": {
      "text/html": [
       "<div>\n",
       "<style scoped>\n",
       "    .dataframe tbody tr th:only-of-type {\n",
       "        vertical-align: middle;\n",
       "    }\n",
       "\n",
       "    .dataframe tbody tr th {\n",
       "        vertical-align: top;\n",
       "    }\n",
       "\n",
       "    .dataframe thead th {\n",
       "        text-align: right;\n",
       "    }\n",
       "</style>\n",
       "<table border=\"1\" class=\"dataframe\">\n",
       "  <thead>\n",
       "    <tr style=\"text-align: right;\">\n",
       "      <th></th>\n",
       "      <th>index</th>\n",
       "      <th>REG_YYMM</th>\n",
       "      <th>CARD_SIDO_NM</th>\n",
       "      <th>CARD_CCG_NM</th>\n",
       "      <th>STD_CLSS_NM</th>\n",
       "      <th>HOM_SIDO_NM</th>\n",
       "      <th>AGE</th>\n",
       "      <th>SEX_CTGO_CD</th>\n",
       "      <th>FLC</th>\n",
       "      <th>CSTMR_CNT</th>\n",
       "      <th>...</th>\n",
       "      <th>year</th>\n",
       "      <th>month</th>\n",
       "      <th>differ</th>\n",
       "      <th>LP</th>\n",
       "      <th>JP</th>\n",
       "      <th>local_AMT</th>\n",
       "      <th>loyal</th>\n",
       "      <th>refund</th>\n",
       "      <th>company</th>\n",
       "      <th>employee</th>\n",
       "    </tr>\n",
       "  </thead>\n",
       "  <tbody>\n",
       "    <tr>\n",
       "      <th>0</th>\n",
       "      <td>0</td>\n",
       "      <td>201901</td>\n",
       "      <td>강원</td>\n",
       "      <td>강릉시</td>\n",
       "      <td>건강보조식품 소매업</td>\n",
       "      <td>강원</td>\n",
       "      <td>20s</td>\n",
       "      <td>1</td>\n",
       "      <td>1</td>\n",
       "      <td>4</td>\n",
       "      <td>...</td>\n",
       "      <td>2019</td>\n",
       "      <td>1</td>\n",
       "      <td>0</td>\n",
       "      <td>0.138432</td>\n",
       "      <td>0.126552</td>\n",
       "      <td>100.0</td>\n",
       "      <td>11.0</td>\n",
       "      <td>-3.0</td>\n",
       "      <td>263.0</td>\n",
       "      <td>399.0</td>\n",
       "    </tr>\n",
       "    <tr>\n",
       "      <th>1</th>\n",
       "      <td>1</td>\n",
       "      <td>201901</td>\n",
       "      <td>강원</td>\n",
       "      <td>강릉시</td>\n",
       "      <td>건강보조식품 소매업</td>\n",
       "      <td>강원</td>\n",
       "      <td>30s</td>\n",
       "      <td>1</td>\n",
       "      <td>2</td>\n",
       "      <td>7</td>\n",
       "      <td>...</td>\n",
       "      <td>2019</td>\n",
       "      <td>1</td>\n",
       "      <td>1</td>\n",
       "      <td>0.138432</td>\n",
       "      <td>0.126552</td>\n",
       "      <td>100.0</td>\n",
       "      <td>11.0</td>\n",
       "      <td>-3.0</td>\n",
       "      <td>263.0</td>\n",
       "      <td>399.0</td>\n",
       "    </tr>\n",
       "    <tr>\n",
       "      <th>2</th>\n",
       "      <td>2</td>\n",
       "      <td>201901</td>\n",
       "      <td>강원</td>\n",
       "      <td>강릉시</td>\n",
       "      <td>건강보조식품 소매업</td>\n",
       "      <td>강원</td>\n",
       "      <td>30s</td>\n",
       "      <td>2</td>\n",
       "      <td>2</td>\n",
       "      <td>6</td>\n",
       "      <td>...</td>\n",
       "      <td>2019</td>\n",
       "      <td>1</td>\n",
       "      <td>0</td>\n",
       "      <td>0.138432</td>\n",
       "      <td>0.126552</td>\n",
       "      <td>100.0</td>\n",
       "      <td>11.0</td>\n",
       "      <td>-3.0</td>\n",
       "      <td>263.0</td>\n",
       "      <td>399.0</td>\n",
       "    </tr>\n",
       "    <tr>\n",
       "      <th>3</th>\n",
       "      <td>3</td>\n",
       "      <td>201901</td>\n",
       "      <td>강원</td>\n",
       "      <td>강릉시</td>\n",
       "      <td>건강보조식품 소매업</td>\n",
       "      <td>강원</td>\n",
       "      <td>40s</td>\n",
       "      <td>1</td>\n",
       "      <td>3</td>\n",
       "      <td>4</td>\n",
       "      <td>...</td>\n",
       "      <td>2019</td>\n",
       "      <td>1</td>\n",
       "      <td>1</td>\n",
       "      <td>0.138432</td>\n",
       "      <td>0.126552</td>\n",
       "      <td>100.0</td>\n",
       "      <td>11.0</td>\n",
       "      <td>-3.0</td>\n",
       "      <td>263.0</td>\n",
       "      <td>399.0</td>\n",
       "    </tr>\n",
       "    <tr>\n",
       "      <th>4</th>\n",
       "      <td>4</td>\n",
       "      <td>201901</td>\n",
       "      <td>강원</td>\n",
       "      <td>강릉시</td>\n",
       "      <td>건강보조식품 소매업</td>\n",
       "      <td>강원</td>\n",
       "      <td>40s</td>\n",
       "      <td>1</td>\n",
       "      <td>4</td>\n",
       "      <td>3</td>\n",
       "      <td>...</td>\n",
       "      <td>2019</td>\n",
       "      <td>1</td>\n",
       "      <td>0</td>\n",
       "      <td>0.138432</td>\n",
       "      <td>0.126552</td>\n",
       "      <td>100.0</td>\n",
       "      <td>11.0</td>\n",
       "      <td>-3.0</td>\n",
       "      <td>263.0</td>\n",
       "      <td>399.0</td>\n",
       "    </tr>\n",
       "  </tbody>\n",
       "</table>\n",
       "<p>5 rows × 22 columns</p>\n",
       "</div>"
      ],
      "text/plain": [
       "   index  REG_YYMM CARD_SIDO_NM CARD_CCG_NM STD_CLSS_NM HOM_SIDO_NM  AGE  \\\n",
       "0      0    201901           강원         강릉시  건강보조식품 소매업          강원  20s   \n",
       "1      1    201901           강원         강릉시  건강보조식품 소매업          강원  30s   \n",
       "2      2    201901           강원         강릉시  건강보조식품 소매업          강원  30s   \n",
       "3      3    201901           강원         강릉시  건강보조식품 소매업          강원  40s   \n",
       "4      4    201901           강원         강릉시  건강보조식품 소매업          강원  40s   \n",
       "\n",
       "   SEX_CTGO_CD  FLC  CSTMR_CNT  ...  year  month  differ        LP        JP  \\\n",
       "0            1    1          4  ...  2019      1       0  0.138432  0.126552   \n",
       "1            1    2          7  ...  2019      1       1  0.138432  0.126552   \n",
       "2            2    2          6  ...  2019      1       0  0.138432  0.126552   \n",
       "3            1    3          4  ...  2019      1       1  0.138432  0.126552   \n",
       "4            1    4          3  ...  2019      1       0  0.138432  0.126552   \n",
       "\n",
       "   local_AMT  loyal  refund  company  employee  \n",
       "0      100.0   11.0    -3.0    263.0     399.0  \n",
       "1      100.0   11.0    -3.0    263.0     399.0  \n",
       "2      100.0   11.0    -3.0    263.0     399.0  \n",
       "3      100.0   11.0    -3.0    263.0     399.0  \n",
       "4      100.0   11.0    -3.0    263.0     399.0  \n",
       "\n",
       "[5 rows x 22 columns]"
      ]
     },
     "execution_count": 52,
     "metadata": {},
     "output_type": "execute_result"
    }
   ],
   "source": [
    "grouped.head()"
   ]
  },
  {
   "cell_type": "markdown",
   "metadata": {},
   "source": [
    "### 인코딩"
   ]
  },
  {
   "cell_type": "markdown",
   "metadata": {},
   "source": [
    "#### 용량변환"
   ]
  },
  {
   "cell_type": "code",
   "execution_count": 20,
   "metadata": {
    "ExecuteTime": {
     "end_time": "2020-07-29T10:48:07.406490Z",
     "start_time": "2020-07-29T10:48:07.389972Z"
    }
   },
   "outputs": [],
   "source": [
    "def reduce_mem_usage(df, verbose=True):\n",
    "    numerics = ['int16', 'int32', 'int64', 'float16', 'float32', 'float64']\n",
    "    start_mem = df.memory_usage().sum() / 1024**2    \n",
    "    for col in df.columns:\n",
    "        col_type = df[col].dtypes\n",
    "        if col_type in numerics:\n",
    "            c_min = df[col].min()\n",
    "            c_max = df[col].max()\n",
    "            if str(col_type)[:3] == 'int':\n",
    "                if c_min > np.iinfo(np.int8).min and c_max < np.iinfo(np.int8).max:\n",
    "                    df[col] = df[col].astype(np.int8)\n",
    "                elif c_min > np.iinfo(np.int16).min and c_max < np.iinfo(np.int16).max:\n",
    "                    df[col] = df[col].astype(np.int16)\n",
    "                elif c_min > np.iinfo(np.int32).min and c_max < np.iinfo(np.int32).max:\n",
    "                    df[col] = df[col].astype(np.int32)\n",
    "                elif c_min > np.iinfo(np.int64).min and c_max < np.iinfo(np.int64).max:\n",
    "                    df[col] = df[col].astype(np.int64)  \n",
    "            else:\n",
    "                if c_min > np.finfo(np.float16).min and c_max < np.finfo(np.float16).max:\n",
    "                    df[col] = df[col].astype(np.float16)\n",
    "                elif c_min > np.finfo(np.float32).min and c_max < np.finfo(np.float32).max:\n",
    "                    df[col] = df[col].astype(np.float32)\n",
    "                else:\n",
    "                    df[col] = df[col].astype(np.float64)    \n",
    "    end_mem = df.memory_usage().sum() / 1024**2\n",
    "    if verbose: \n",
    "        print('Mem. usage decreased to {:5.2f} Mb ({:.1f}% reduction)'.format(end_mem, 100 * (start_mem - end_mem) / start_mem))\n",
    "    return df"
   ]
  },
  {
   "cell_type": "code",
   "execution_count": 21,
   "metadata": {
    "ExecuteTime": {
     "end_time": "2020-07-29T10:48:10.284527Z",
     "start_time": "2020-07-29T10:48:10.275911Z"
    }
   },
   "outputs": [],
   "source": [
    "#인코딩\n",
    "def encoding(data):\n",
    "    dtypes = grouped.dtypes\n",
    "    encoders = {}\n",
    "    for column in grouped.columns:\n",
    "        if str(dtypes[column]) == 'object':\n",
    "            encoder = LabelEncoder()\n",
    "            encoder.fit(grouped[column])\n",
    "            encoders[column] = encoder\n",
    "    for column in encoders.keys():\n",
    "        encoder = encoders[column]\n",
    "        grouped[column] = encoder.transform(grouped[column])\n",
    "    return encoders, data"
   ]
  },
  {
   "cell_type": "code",
   "execution_count": 22,
   "metadata": {
    "ExecuteTime": {
     "end_time": "2020-07-29T10:48:16.835630Z",
     "start_time": "2020-07-29T10:48:13.147109Z"
    }
   },
   "outputs": [],
   "source": [
    "encoders, grouped = encoding(grouped)"
   ]
  },
  {
   "cell_type": "code",
   "execution_count": 23,
   "metadata": {
    "ExecuteTime": {
     "end_time": "2020-07-29T10:48:20.374626Z",
     "start_time": "2020-07-29T10:48:19.256434Z"
    },
    "scrolled": true
   },
   "outputs": [
    {
     "name": "stdout",
     "output_type": "stream",
     "text": [
      "Mem. usage decreased to 330.29 Mb (60.4% reduction)\n"
     ]
    },
    {
     "data": {
      "text/plain": [
       "40"
      ]
     },
     "execution_count": 23,
     "metadata": {},
     "output_type": "execute_result"
    }
   ],
   "source": [
    "#메모리관리\n",
    "grouped = reduce_mem_usage(grouped)\n",
    "\n",
    "# del data\n",
    "gc.collect()"
   ]
  },
  {
   "cell_type": "markdown",
   "metadata": {},
   "source": [
    "### Model Tuning & Evaluation"
   ]
  },
  {
   "cell_type": "code",
   "execution_count": 25,
   "metadata": {
    "ExecuteTime": {
     "end_time": "2020-07-29T10:48:23.015399Z",
     "start_time": "2020-07-29T10:48:23.007398Z"
    }
   },
   "outputs": [],
   "source": [
    "def make_train_set(data):\n",
    "    data1 = grouped[grouped.year == 2019]\n",
    "    data2 = grouped[(grouped.year == 2020)&(grouped.month == 1)]\n",
    "    train_set = pd.concat([data1,data2])\n",
    "    return train_set"
   ]
  },
  {
   "cell_type": "code",
   "execution_count": 26,
   "metadata": {
    "ExecuteTime": {
     "end_time": "2020-07-29T10:48:25.219470Z",
     "start_time": "2020-07-29T10:48:24.293484Z"
    }
   },
   "outputs": [],
   "source": [
    "#2020.1까지 데이터로 20.04을 예측\n",
    "train_set = make_train_set(grouped)\n",
    "eval_set = grouped[(grouped.year == 2020)&(grouped.month == 3)]"
   ]
  },
  {
   "cell_type": "code",
   "execution_count": 27,
   "metadata": {
    "ExecuteTime": {
     "end_time": "2020-07-29T10:48:27.210590Z",
     "start_time": "2020-07-29T10:48:27.202596Z"
    }
   },
   "outputs": [],
   "source": [
    "params = {'random_state': 42,\n",
    "          'learning_rate': 0.01,\n",
    "          'max_depth': 8,\n",
    "          'num_leaves': 64,\n",
    "          'boosting': 'gbdt',\n",
    "          'objective': 'regression',\n",
    "          'metric': 'rmse',\n",
    "          'feature_fraction': 0.9,\n",
    "          'bagging_fraction': 0.7}"
   ]
  },
  {
   "cell_type": "code",
   "execution_count": 28,
   "metadata": {
    "ExecuteTime": {
     "end_time": "2020-07-29T10:48:29.432392Z",
     "start_time": "2020-07-29T10:48:29.424392Z"
    }
   },
   "outputs": [],
   "source": [
    "#세민님 파라미터\n",
    "params = {\n",
    "    'boosting_type': 'gbdt',\n",
    "    'objective': 'tweedie',\n",
    "    'metric': 'rmse',\n",
    "    'tweedie_variance_power':1.1,\n",
    "    'max_depth':11,\n",
    "    'num_leaves': 31,\n",
    "    'learning_rate': 0.05,\n",
    "    'feature_fraction': 0.9,\n",
    "    'bagging_fraction': 0.8,\n",
    "    'bagging_freq': 5,\n",
    "    'verbose': 0}"
   ]
  },
  {
   "cell_type": "code",
   "execution_count": 29,
   "metadata": {
    "ExecuteTime": {
     "end_time": "2020-07-29T10:48:32.095279Z",
     "start_time": "2020-07-29T10:48:31.649646Z"
    }
   },
   "outputs": [],
   "source": [
    "#eval, train 구성\n",
    "# train_x = train_set.drop(['CSTMR_CNT','AMT','CNT'],axis= 1)\n",
    "# train_y = np.log1p(train_set['AMT'])\n",
    "\n",
    "# eval_x = eval_set.drop(['CSTMR_CNT','AMT','CNT'],axis= 1)\n",
    "# eval_y = np.log1p(eval_set['AMT'])\n",
    "\n",
    "use_col = ['CARD_SIDO_NM','CARD_CCG_NM','STD_CLSS_NM', 'HOM_SIDO_NM', 'AGE', 'SEX_CTGO_CD', 'FLC', 'year', 'month','company','employee', \n",
    "           'LP', 'JP','local_AMT','loyal','refund']\n",
    "categorical_features = ['CARD_SIDO_NM','CARD_CCG_NM','STD_CLSS_NM','HOM_SIDO_NM','SEX_CTGO_CD','AGE','FLC']\n",
    "\n",
    "train_ds = lgb.Dataset(train_set[use_col],\n",
    "                       label=np.log1p(train_set['AMT']),\n",
    "                       free_raw_data=False,\n",
    "                       categorical_feature=categorical_features)\n",
    "eval_ds = lgb.Dataset(eval_set[use_col],\n",
    "                      label=np.log1p(eval_set['AMT']),\n",
    "                      free_raw_data=False,\n",
    "                      categorical_feature=categorical_features)"
   ]
  },
  {
   "cell_type": "code",
   "execution_count": 30,
   "metadata": {
    "ExecuteTime": {
     "end_time": "2020-07-29T11:01:17.866110Z",
     "start_time": "2020-07-29T10:48:34.100900Z"
    },
    "scrolled": true
   },
   "outputs": [
    {
     "name": "stderr",
     "output_type": "stream",
     "text": [
      "C:\\Users\\kwonJH\\anaconda3\\lib\\site-packages\\lightgbm\\basic.py:1291: UserWarning: Using categorical_feature in Dataset.\n",
      "  warnings.warn('Using categorical_feature in Dataset.')\n"
     ]
    },
    {
     "name": "stdout",
     "output_type": "stream",
     "text": [
      "Training until validation scores don't improve for 100 rounds\n",
      "[500]\tTrain's rmse: 0.962107\tEval's rmse: 1.05183\n",
      "[1000]\tTrain's rmse: 0.831999\tEval's rmse: 0.960152\n",
      "[1500]\tTrain's rmse: 0.777381\tEval's rmse: 0.928394\n",
      "[2000]\tTrain's rmse: 0.744943\tEval's rmse: 0.912634\n",
      "[2500]\tTrain's rmse: 0.724511\tEval's rmse: 0.903071\n",
      "[3000]\tTrain's rmse: 0.709172\tEval's rmse: 0.897064\n",
      "[3500]\tTrain's rmse: 0.697992\tEval's rmse: 0.892689\n",
      "[4000]\tTrain's rmse: 0.689321\tEval's rmse: 0.888579\n",
      "[4500]\tTrain's rmse: 0.681554\tEval's rmse: 0.885749\n",
      "[5000]\tTrain's rmse: 0.674154\tEval's rmse: 0.882617\n",
      "Did not meet early stopping. Best iteration is:\n",
      "[5000]\tTrain's rmse: 0.674154\tEval's rmse: 0.882617\n"
     ]
    }
   ],
   "source": [
    "evaluation_results ={}\n",
    "model = lgb.train(params,train_ds,\n",
    "                  num_boost_round=5000,\n",
    "                  valid_sets=[train_ds, eval_ds],\n",
    "                  valid_names=['Train', 'Eval'],\n",
    "                  verbose_eval=500,\n",
    "                  early_stopping_rounds=100, evals_result = evaluation_results)"
   ]
  },
  {
   "cell_type": "code",
   "execution_count": 31,
   "metadata": {
    "ExecuteTime": {
     "end_time": "2020-07-29T11:01:19.960988Z",
     "start_time": "2020-07-29T11:01:19.675151Z"
    }
   },
   "outputs": [
    {
     "data": {
      "image/png": "[encoded data removed]",
      "text/plain": [
       "<Figure size 1080x288 with 2 Axes>"
      ]
     },
     "metadata": {
      "needs_background": "light"
     },
     "output_type": "display_data"
    }
   ],
   "source": [
    "fig, axs = plt.subplots(1, 2, figsize=[15, 4])\n",
    "\n",
    "# Plot the log loss during training\n",
    "axs[0].plot(evaluation_results['Train']['rmse'], label='Train')\n",
    "axs[0].plot(evaluation_results['Eval']['rmse'], label='Eval')\n",
    "axs[0].set_ylabel('Log loss')\n",
    "axs[0].set_xlabel('Boosting round')\n",
    "axs[0].set_title('Training performance')\n",
    "axs[0].legend()\n",
    "\n",
    "# Plot feature importance\n",
    "importances = pd.DataFrame({'features': model.feature_name(), \n",
    "                            'importance': model.feature_importance()}).sort_values('importance', ascending=False)\n",
    "axs[1].bar(x=np.arange(len(importances)), height=importances['importance'])\n",
    "axs[1].set_xticks(np.arange(len(importances)))\n",
    "axs[1].set_xticklabels(importances['features'],rotation=60)\n",
    "axs[1].set_title('Feature importance')\n",
    "\n",
    "plt.show()"
   ]
  },
  {
   "cell_type": "markdown",
   "metadata": {},
   "source": [
    "#### 예측탬플릿만들기"
   ]
  },
  {
   "cell_type": "code",
   "execution_count": 45,
   "metadata": {
    "ExecuteTime": {
     "end_time": "2020-07-29T11:17:41.638473Z",
     "start_time": "2020-07-29T11:17:41.616389Z"
    },
    "code_folding": []
   },
   "outputs": [],
   "source": [
    "#new(예측탬플릿), 4월 7월 나눠서 진행\n",
    "def make_temp(grouped,month = 4):\n",
    "    ''' 예측용탬플릿 작성 \n",
    "    data상에서 가능한 조합만 예측탬플릿으로 생성\n",
    "    10대이면서 노년가구인 조합은 제외되게끔 함\n",
    "    4월, 7월 나눠서 작성\n",
    "    '''\n",
    "    columns = ['CARD_SIDO_NM','CARD_CCG_NM','STD_CLSS_NM', 'HOM_SIDO_NM','AGE','SEX_CTGO_CD',\"FLC\"]\n",
    "    temp = grouped[columns].groupby(columns).sum().reset_index(drop=False)\n",
    "\n",
    "    #추가변수 삽입\n",
    "    #변수삽입을 위한 디코더\n",
    "    temp['CARD_SIDO_NM'] = encoders['CARD_SIDO_NM'].inverse_transform(temp['CARD_SIDO_NM'])\n",
    "    temp['CARD_CCG_NM'] = encoders['CARD_CCG_NM'].inverse_transform(temp['CARD_CCG_NM'])\n",
    "    temp['STD_CLSS_NM'] = encoders['STD_CLSS_NM'].inverse_transform(temp['STD_CLSS_NM'])\n",
    "    temp['year'] = 2020\n",
    "    temp['month'] = month\n",
    "#     temp['REG_YYMM'] = temp['year']*100 +temp['month']\n",
    "\n",
    "    temp = pd.merge(temp,all_jobs_df,on =['CARD_SIDO_NM','STD_CLSS_NM'],how = 'left')\n",
    "    temp = pd.merge(temp,local_percent_df,on =['CARD_SIDO_NM','CARD_CCG_NM','STD_CLSS_NM','month'],how = 'left')\n",
    "    temp = pd.merge(temp,job_percent_df,on =['CARD_SIDO_NM','CARD_CCG_NM','STD_CLSS_NM','month'],how = 'left')\n",
    "    temp = pd.merge(temp,local_rate_df,on =['CARD_SIDO_NM','CARD_CCG_NM','STD_CLSS_NM','month'],how = 'left')\n",
    "    temp = pd.merge(temp,cust_differ_df,on =['CARD_SIDO_NM','CARD_CCG_NM','STD_CLSS_NM','month'],how = 'left')\n",
    "\n",
    "    temp['CARD_SIDO_NM'] = encoders['CARD_SIDO_NM'].transform(temp['CARD_SIDO_NM'])\n",
    "    temp['CARD_CCG_NM'] = encoders['CARD_CCG_NM'].transform(temp['CARD_CCG_NM'])\n",
    "    temp['STD_CLSS_NM'] = encoders['STD_CLSS_NM'].transform(temp['STD_CLSS_NM'])\n",
    "    \n",
    "    return temp"
   ]
  },
  {
   "cell_type": "code",
   "execution_count": 46,
   "metadata": {
    "ExecuteTime": {
     "end_time": "2020-07-29T11:20:37.142388Z",
     "start_time": "2020-07-29T11:17:43.602280Z"
    }
   },
   "outputs": [],
   "source": [
    "temp = make_temp(grouped,month = 4)"
   ]
  },
  {
   "cell_type": "code",
   "execution_count": 47,
   "metadata": {
    "ExecuteTime": {
     "end_time": "2020-07-29T11:20:39.297266Z",
     "start_time": "2020-07-29T11:20:39.265037Z"
    }
   },
   "outputs": [
    {
     "data": {
      "text/html": [
       "<div>\n",
       "<style scoped>\n",
       "    .dataframe tbody tr th:only-of-type {\n",
       "        vertical-align: middle;\n",
       "    }\n",
       "\n",
       "    .dataframe tbody tr th {\n",
       "        vertical-align: top;\n",
       "    }\n",
       "\n",
       "    .dataframe thead th {\n",
       "        text-align: right;\n",
       "    }\n",
       "</style>\n",
       "<table border=\"1\" class=\"dataframe\">\n",
       "  <thead>\n",
       "    <tr style=\"text-align: right;\">\n",
       "      <th></th>\n",
       "      <th>CARD_SIDO_NM</th>\n",
       "      <th>CARD_CCG_NM</th>\n",
       "      <th>STD_CLSS_NM</th>\n",
       "      <th>HOM_SIDO_NM</th>\n",
       "      <th>AGE</th>\n",
       "      <th>SEX_CTGO_CD</th>\n",
       "      <th>FLC</th>\n",
       "      <th>year</th>\n",
       "      <th>month</th>\n",
       "      <th>company</th>\n",
       "      <th>employee</th>\n",
       "      <th>LP</th>\n",
       "      <th>JP</th>\n",
       "      <th>local_AMT</th>\n",
       "      <th>loyal</th>\n",
       "      <th>refund</th>\n",
       "    </tr>\n",
       "  </thead>\n",
       "  <tbody>\n",
       "    <tr>\n",
       "      <th>0</th>\n",
       "      <td>0</td>\n",
       "      <td>3</td>\n",
       "      <td>0</td>\n",
       "      <td>0</td>\n",
       "      <td>1</td>\n",
       "      <td>1</td>\n",
       "      <td>1</td>\n",
       "      <td>2020</td>\n",
       "      <td>4</td>\n",
       "      <td>263.0</td>\n",
       "      <td>399.0</td>\n",
       "      <td>0.107502</td>\n",
       "      <td>0.272875</td>\n",
       "      <td>100.00000</td>\n",
       "      <td>1.0</td>\n",
       "      <td>-2.0</td>\n",
       "    </tr>\n",
       "    <tr>\n",
       "      <th>1</th>\n",
       "      <td>0</td>\n",
       "      <td>3</td>\n",
       "      <td>0</td>\n",
       "      <td>0</td>\n",
       "      <td>1</td>\n",
       "      <td>2</td>\n",
       "      <td>1</td>\n",
       "      <td>2020</td>\n",
       "      <td>4</td>\n",
       "      <td>263.0</td>\n",
       "      <td>399.0</td>\n",
       "      <td>0.107502</td>\n",
       "      <td>0.272875</td>\n",
       "      <td>100.00000</td>\n",
       "      <td>1.0</td>\n",
       "      <td>-2.0</td>\n",
       "    </tr>\n",
       "    <tr>\n",
       "      <th>2</th>\n",
       "      <td>0</td>\n",
       "      <td>3</td>\n",
       "      <td>0</td>\n",
       "      <td>0</td>\n",
       "      <td>2</td>\n",
       "      <td>1</td>\n",
       "      <td>2</td>\n",
       "      <td>2020</td>\n",
       "      <td>4</td>\n",
       "      <td>263.0</td>\n",
       "      <td>399.0</td>\n",
       "      <td>0.107502</td>\n",
       "      <td>0.272875</td>\n",
       "      <td>100.00000</td>\n",
       "      <td>1.0</td>\n",
       "      <td>-2.0</td>\n",
       "    </tr>\n",
       "    <tr>\n",
       "      <th>3</th>\n",
       "      <td>0</td>\n",
       "      <td>3</td>\n",
       "      <td>0</td>\n",
       "      <td>0</td>\n",
       "      <td>2</td>\n",
       "      <td>2</td>\n",
       "      <td>2</td>\n",
       "      <td>2020</td>\n",
       "      <td>4</td>\n",
       "      <td>263.0</td>\n",
       "      <td>399.0</td>\n",
       "      <td>0.107502</td>\n",
       "      <td>0.272875</td>\n",
       "      <td>100.00000</td>\n",
       "      <td>1.0</td>\n",
       "      <td>-2.0</td>\n",
       "    </tr>\n",
       "    <tr>\n",
       "      <th>4</th>\n",
       "      <td>0</td>\n",
       "      <td>3</td>\n",
       "      <td>0</td>\n",
       "      <td>0</td>\n",
       "      <td>3</td>\n",
       "      <td>1</td>\n",
       "      <td>3</td>\n",
       "      <td>2020</td>\n",
       "      <td>4</td>\n",
       "      <td>263.0</td>\n",
       "      <td>399.0</td>\n",
       "      <td>0.107502</td>\n",
       "      <td>0.272875</td>\n",
       "      <td>100.00000</td>\n",
       "      <td>1.0</td>\n",
       "      <td>-2.0</td>\n",
       "    </tr>\n",
       "    <tr>\n",
       "      <th>...</th>\n",
       "      <td>...</td>\n",
       "      <td>...</td>\n",
       "      <td>...</td>\n",
       "      <td>...</td>\n",
       "      <td>...</td>\n",
       "      <td>...</td>\n",
       "      <td>...</td>\n",
       "      <td>...</td>\n",
       "      <td>...</td>\n",
       "      <td>...</td>\n",
       "      <td>...</td>\n",
       "      <td>...</td>\n",
       "      <td>...</td>\n",
       "      <td>...</td>\n",
       "      <td>...</td>\n",
       "      <td>...</td>\n",
       "    </tr>\n",
       "    <tr>\n",
       "      <th>620467</th>\n",
       "      <td>16</td>\n",
       "      <td>202</td>\n",
       "      <td>40</td>\n",
       "      <td>16</td>\n",
       "      <td>4</td>\n",
       "      <td>2</td>\n",
       "      <td>4</td>\n",
       "      <td>2020</td>\n",
       "      <td>4</td>\n",
       "      <td>11.0</td>\n",
       "      <td>492.0</td>\n",
       "      <td>0.021806</td>\n",
       "      <td>0.053595</td>\n",
       "      <td>34.70895</td>\n",
       "      <td>26.0</td>\n",
       "      <td>NaN</td>\n",
       "    </tr>\n",
       "    <tr>\n",
       "      <th>620468</th>\n",
       "      <td>16</td>\n",
       "      <td>202</td>\n",
       "      <td>40</td>\n",
       "      <td>16</td>\n",
       "      <td>5</td>\n",
       "      <td>1</td>\n",
       "      <td>5</td>\n",
       "      <td>2020</td>\n",
       "      <td>4</td>\n",
       "      <td>11.0</td>\n",
       "      <td>492.0</td>\n",
       "      <td>0.021806</td>\n",
       "      <td>0.053595</td>\n",
       "      <td>34.70895</td>\n",
       "      <td>26.0</td>\n",
       "      <td>NaN</td>\n",
       "    </tr>\n",
       "    <tr>\n",
       "      <th>620469</th>\n",
       "      <td>16</td>\n",
       "      <td>202</td>\n",
       "      <td>40</td>\n",
       "      <td>16</td>\n",
       "      <td>5</td>\n",
       "      <td>2</td>\n",
       "      <td>5</td>\n",
       "      <td>2020</td>\n",
       "      <td>4</td>\n",
       "      <td>11.0</td>\n",
       "      <td>492.0</td>\n",
       "      <td>0.021806</td>\n",
       "      <td>0.053595</td>\n",
       "      <td>34.70895</td>\n",
       "      <td>26.0</td>\n",
       "      <td>NaN</td>\n",
       "    </tr>\n",
       "    <tr>\n",
       "      <th>620470</th>\n",
       "      <td>16</td>\n",
       "      <td>202</td>\n",
       "      <td>40</td>\n",
       "      <td>16</td>\n",
       "      <td>6</td>\n",
       "      <td>1</td>\n",
       "      <td>5</td>\n",
       "      <td>2020</td>\n",
       "      <td>4</td>\n",
       "      <td>11.0</td>\n",
       "      <td>492.0</td>\n",
       "      <td>0.021806</td>\n",
       "      <td>0.053595</td>\n",
       "      <td>34.70895</td>\n",
       "      <td>26.0</td>\n",
       "      <td>NaN</td>\n",
       "    </tr>\n",
       "    <tr>\n",
       "      <th>620471</th>\n",
       "      <td>16</td>\n",
       "      <td>202</td>\n",
       "      <td>40</td>\n",
       "      <td>16</td>\n",
       "      <td>6</td>\n",
       "      <td>2</td>\n",
       "      <td>5</td>\n",
       "      <td>2020</td>\n",
       "      <td>4</td>\n",
       "      <td>11.0</td>\n",
       "      <td>492.0</td>\n",
       "      <td>0.021806</td>\n",
       "      <td>0.053595</td>\n",
       "      <td>34.70895</td>\n",
       "      <td>26.0</td>\n",
       "      <td>NaN</td>\n",
       "    </tr>\n",
       "  </tbody>\n",
       "</table>\n",
       "<p>620472 rows × 16 columns</p>\n",
       "</div>"
      ],
      "text/plain": [
       "        CARD_SIDO_NM  CARD_CCG_NM  STD_CLSS_NM  HOM_SIDO_NM  AGE  SEX_CTGO_CD  \\\n",
       "0                  0            3            0            0    1            1   \n",
       "1                  0            3            0            0    1            2   \n",
       "2                  0            3            0            0    2            1   \n",
       "3                  0            3            0            0    2            2   \n",
       "4                  0            3            0            0    3            1   \n",
       "...              ...          ...          ...          ...  ...          ...   \n",
       "620467            16          202           40           16    4            2   \n",
       "620468            16          202           40           16    5            1   \n",
       "620469            16          202           40           16    5            2   \n",
       "620470            16          202           40           16    6            1   \n",
       "620471            16          202           40           16    6            2   \n",
       "\n",
       "        FLC  year  month  company  employee        LP        JP  local_AMT  \\\n",
       "0         1  2020      4    263.0     399.0  0.107502  0.272875  100.00000   \n",
       "1         1  2020      4    263.0     399.0  0.107502  0.272875  100.00000   \n",
       "2         2  2020      4    263.0     399.0  0.107502  0.272875  100.00000   \n",
       "3         2  2020      4    263.0     399.0  0.107502  0.272875  100.00000   \n",
       "4         3  2020      4    263.0     399.0  0.107502  0.272875  100.00000   \n",
       "...     ...   ...    ...      ...       ...       ...       ...        ...   \n",
       "620467    4  2020      4     11.0     492.0  0.021806  0.053595   34.70895   \n",
       "620468    5  2020      4     11.0     492.0  0.021806  0.053595   34.70895   \n",
       "620469    5  2020      4     11.0     492.0  0.021806  0.053595   34.70895   \n",
       "620470    5  2020      4     11.0     492.0  0.021806  0.053595   34.70895   \n",
       "620471    5  2020      4     11.0     492.0  0.021806  0.053595   34.70895   \n",
       "\n",
       "        loyal  refund  \n",
       "0         1.0    -2.0  \n",
       "1         1.0    -2.0  \n",
       "2         1.0    -2.0  \n",
       "3         1.0    -2.0  \n",
       "4         1.0    -2.0  \n",
       "...       ...     ...  \n",
       "620467   26.0     NaN  \n",
       "620468   26.0     NaN  \n",
       "620469   26.0     NaN  \n",
       "620470   26.0     NaN  \n",
       "620471   26.0     NaN  \n",
       "\n",
       "[620472 rows x 16 columns]"
      ]
     },
     "execution_count": 47,
     "metadata": {},
     "output_type": "execute_result"
    }
   ],
   "source": [
    "temp"
   ]
  },
  {
   "cell_type": "markdown",
   "metadata": {},
   "source": [
    "#### predict"
   ]
  },
  {
   "cell_type": "code",
   "execution_count": 34,
   "metadata": {
    "ExecuteTime": {
     "end_time": "2020-07-29T11:06:00.610309Z",
     "start_time": "2020-07-29T11:04:10.627663Z"
    }
   },
   "outputs": [],
   "source": [
    "# 예측\n",
    "pred = model.predict(temp)\n",
    "pred = np.expm1(pred)"
   ]
  },
  {
   "cell_type": "markdown",
   "metadata": {},
   "source": [
    "### 예측결과 담기"
   ]
  },
  {
   "cell_type": "code",
   "execution_count": 35,
   "metadata": {
    "ExecuteTime": {
     "end_time": "2020-07-29T11:06:02.725836Z",
     "start_time": "2020-07-29T11:06:02.417751Z"
    }
   },
   "outputs": [],
   "source": [
    "temp['CARD_SIDO_NM'] = encoders['CARD_SIDO_NM'].inverse_transform(temp['CARD_SIDO_NM'])\n",
    "temp['STD_CLSS_NM'] = encoders['STD_CLSS_NM'].inverse_transform(temp['STD_CLSS_NM'])\n",
    "temp['AMT'] = np.round(pred,0)\n",
    "temp['REG_YYMM'] = temp['year']*100 +temp['month']\n",
    "\n",
    "temp = temp[['REG_YYMM','CARD_SIDO_NM','STD_CLSS_NM','AMT']]\n",
    "temp = temp.groupby(['REG_YYMM','CARD_SIDO_NM','STD_CLSS_NM']).sum().reset_index(drop=False)"
   ]
  },
  {
   "cell_type": "code",
   "execution_count": 36,
   "metadata": {
    "ExecuteTime": {
     "end_time": "2020-07-29T11:06:04.577083Z",
     "start_time": "2020-07-29T11:06:04.560729Z"
    }
   },
   "outputs": [
    {
     "data": {
      "text/html": [
       "<div>\n",
       "<style scoped>\n",
       "    .dataframe tbody tr th:only-of-type {\n",
       "        vertical-align: middle;\n",
       "    }\n",
       "\n",
       "    .dataframe tbody tr th {\n",
       "        vertical-align: top;\n",
       "    }\n",
       "\n",
       "    .dataframe thead th {\n",
       "        text-align: right;\n",
       "    }\n",
       "</style>\n",
       "<table border=\"1\" class=\"dataframe\">\n",
       "  <thead>\n",
       "    <tr style=\"text-align: right;\">\n",
       "      <th></th>\n",
       "      <th>REG_YYMM</th>\n",
       "      <th>CARD_SIDO_NM</th>\n",
       "      <th>STD_CLSS_NM</th>\n",
       "      <th>AMT</th>\n",
       "    </tr>\n",
       "  </thead>\n",
       "  <tbody>\n",
       "    <tr>\n",
       "      <th>0</th>\n",
       "      <td>202004</td>\n",
       "      <td>강원</td>\n",
       "      <td>건강보조식품 소매업</td>\n",
       "      <td>1.335608e+08</td>\n",
       "    </tr>\n",
       "    <tr>\n",
       "      <th>1</th>\n",
       "      <td>202004</td>\n",
       "      <td>강원</td>\n",
       "      <td>골프장 운영업</td>\n",
       "      <td>3.442880e+09</td>\n",
       "    </tr>\n",
       "    <tr>\n",
       "      <th>2</th>\n",
       "      <td>202004</td>\n",
       "      <td>강원</td>\n",
       "      <td>과실 및 채소 소매업</td>\n",
       "      <td>9.141676e+08</td>\n",
       "    </tr>\n",
       "    <tr>\n",
       "      <th>3</th>\n",
       "      <td>202004</td>\n",
       "      <td>강원</td>\n",
       "      <td>관광 민예품 및 선물용품 소매업</td>\n",
       "      <td>3.738839e+07</td>\n",
       "    </tr>\n",
       "    <tr>\n",
       "      <th>4</th>\n",
       "      <td>202004</td>\n",
       "      <td>강원</td>\n",
       "      <td>그외 기타 분류안된 오락관련 서비스업</td>\n",
       "      <td>1.044780e+05</td>\n",
       "    </tr>\n",
       "    <tr>\n",
       "      <th>...</th>\n",
       "      <td>...</td>\n",
       "      <td>...</td>\n",
       "      <td>...</td>\n",
       "      <td>...</td>\n",
       "    </tr>\n",
       "    <tr>\n",
       "      <th>645</th>\n",
       "      <td>202004</td>\n",
       "      <td>충북</td>\n",
       "      <td>피자 햄버거 샌드위치 및 유사 음식점업</td>\n",
       "      <td>1.141778e+09</td>\n",
       "    </tr>\n",
       "    <tr>\n",
       "      <th>646</th>\n",
       "      <td>202004</td>\n",
       "      <td>충북</td>\n",
       "      <td>한식 음식점업</td>\n",
       "      <td>3.053729e+10</td>\n",
       "    </tr>\n",
       "    <tr>\n",
       "      <th>647</th>\n",
       "      <td>202004</td>\n",
       "      <td>충북</td>\n",
       "      <td>호텔업</td>\n",
       "      <td>3.782647e+07</td>\n",
       "    </tr>\n",
       "    <tr>\n",
       "      <th>648</th>\n",
       "      <td>202004</td>\n",
       "      <td>충북</td>\n",
       "      <td>화장품 및 방향제 소매업</td>\n",
       "      <td>6.259072e+08</td>\n",
       "    </tr>\n",
       "    <tr>\n",
       "      <th>649</th>\n",
       "      <td>202004</td>\n",
       "      <td>충북</td>\n",
       "      <td>휴양콘도 운영업</td>\n",
       "      <td>1.401003e+08</td>\n",
       "    </tr>\n",
       "  </tbody>\n",
       "</table>\n",
       "<p>650 rows × 4 columns</p>\n",
       "</div>"
      ],
      "text/plain": [
       "     REG_YYMM CARD_SIDO_NM            STD_CLSS_NM           AMT\n",
       "0      202004           강원             건강보조식품 소매업  1.335608e+08\n",
       "1      202004           강원                골프장 운영업  3.442880e+09\n",
       "2      202004           강원            과실 및 채소 소매업  9.141676e+08\n",
       "3      202004           강원      관광 민예품 및 선물용품 소매업  3.738839e+07\n",
       "4      202004           강원   그외 기타 분류안된 오락관련 서비스업  1.044780e+05\n",
       "..        ...          ...                    ...           ...\n",
       "645    202004           충북  피자 햄버거 샌드위치 및 유사 음식점업  1.141778e+09\n",
       "646    202004           충북                한식 음식점업  3.053729e+10\n",
       "647    202004           충북                    호텔업  3.782647e+07\n",
       "648    202004           충북          화장품 및 방향제 소매업  6.259072e+08\n",
       "649    202004           충북               휴양콘도 운영업  1.401003e+08\n",
       "\n",
       "[650 rows x 4 columns]"
      ]
     },
     "execution_count": 36,
     "metadata": {},
     "output_type": "execute_result"
    }
   ],
   "source": [
    "temp"
   ]
  },
  {
   "cell_type": "markdown",
   "metadata": {},
   "source": [
    "#### 후처리"
   ]
  },
  {
   "cell_type": "code",
   "execution_count": 37,
   "metadata": {
    "ExecuteTime": {
     "end_time": "2020-07-29T11:06:06.489621Z",
     "start_time": "2020-07-29T11:06:06.472885Z"
    }
   },
   "outputs": [],
   "source": [
    "#제출파일\n",
    "submission = pd.read_csv('data/submission.csv',index_col=0)"
   ]
  },
  {
   "cell_type": "code",
   "execution_count": 38,
   "metadata": {
    "ExecuteTime": {
     "end_time": "2020-07-29T11:06:08.301226Z",
     "start_time": "2020-07-29T11:06:08.291478Z"
    }
   },
   "outputs": [],
   "source": [
    "sub_04 = submission[submission.REG_YYMM == 202004]\n",
    "del sub_04['AMT']"
   ]
  },
  {
   "cell_type": "code",
   "execution_count": 39,
   "metadata": {
    "ExecuteTime": {
     "end_time": "2020-07-29T11:06:10.113353Z",
     "start_time": "2020-07-29T11:06:10.093195Z"
    }
   },
   "outputs": [],
   "source": [
    "pre_df = pd.merge(sub_04,temp,how='left')\n",
    "pre_df = pre_df.fillna(0)"
   ]
  },
  {
   "cell_type": "code",
   "execution_count": 40,
   "metadata": {
    "ExecuteTime": {
     "end_time": "2020-07-29T11:06:11.912607Z",
     "start_time": "2020-07-29T11:06:11.887999Z"
    }
   },
   "outputs": [],
   "source": [
    "only_4 = pd.read_csv('only_4.csv')\n",
    "def set_sumit(only_4, pre_df):\n",
    "    '''리더보드와 동일한 예측을 하는 함수\n",
    "    parameter\n",
    "    --------\n",
    "    only_4(df) : 4월 RMSLE가 0이 나왔던 제출셋\n",
    "    pre_df(df) : 모델로 예측한 Dataframe\n",
    "    \n",
    "    '''\n",
    "    from sklearn.metrics import mean_squared_log_error\n",
    "    \n",
    "    pre_df = pre_df[pre_df['REG_YYMM'] == 202004]\n",
    "    only_4 = only_4[only_4['REG_YYMM'] == 202004]\n",
    "    \n",
    "    pre_df.loc[pre_df.CARD_SIDO_NM == '제주','weight'] = 3\n",
    "    pre_df.loc[pre_df.CARD_SIDO_NM != '제주','weight'] = 1\n",
    "    \n",
    "    weight = pre_df['weight'].values\n",
    "    \n",
    "    all_amt = np.sqrt(mean_squared_log_error(only_4['AMT'],pre_df['AMT'],sample_weight=weight))\n",
    "    return all_amt"
   ]
  },
  {
   "cell_type": "code",
   "execution_count": 41,
   "metadata": {
    "ExecuteTime": {
     "end_time": "2020-07-29T11:06:13.736530Z",
     "start_time": "2020-07-29T11:06:13.715185Z"
    }
   },
   "outputs": [
    {
     "data": {
      "text/plain": [
       "3.540202966009862"
      ]
     },
     "execution_count": 41,
     "metadata": {},
     "output_type": "execute_result"
    }
   ],
   "source": [
    "set_sumit(only_4, pre_df)"
   ]
  },
  {
   "cell_type": "code",
   "execution_count": null,
   "metadata": {},
   "outputs": [],
   "source": []
  }
 ],
 "metadata": {
  "kernelspec": {
   "display_name": "Python 3",
   "language": "python",
   "name": "python3"
  },
  "language_info": {
   "codemirror_mode": {
    "name": "ipython",
    "version": 3
   },
   "file_extension": ".py",
   "mimetype": "text/x-python",
   "name": "python",
   "nbconvert_exporter": "python",
   "pygments_lexer": "ipython3",
   "version": "3.7.6"
  },
  "toc": {
   "base_numbering": 1,
   "nav_menu": {},
   "number_sections": true,
   "sideBar": true,
   "skip_h1_title": false,
   "title_cell": "Table of Contents",
   "title_sidebar": "Contents",
   "toc_cell": false,
   "toc_position": {},
   "toc_section_display": true,
   "toc_window_display": false
  },
  "varInspector": {
   "cols": {
    "lenName": 16,
    "lenType": 16,
    "lenVar": 40
   },
   "kernels_config": {
    "python": {
     "delete_cmd_postfix": "",
     "delete_cmd_prefix": "del ",
     "library": "var_list.py",
     "varRefreshCmd": "print(var_dic_list())"
    },
    "r": {
     "delete_cmd_postfix": ") ",
     "delete_cmd_prefix": "rm(",
     "library": "var_list.r",
     "varRefreshCmd": "cat(var_dic_list()) "
    }
   },
   "oldHeight": 317,
   "position": {
    "height": "40px",
    "left": "1187px",
    "right": "20px",
    "top": "114px",
    "width": "459px"
   },
   "types_to_exclude": [
    "module",
    "function",
    "builtin_function_or_method",
    "instance",
    "_Feature"
   ],
   "varInspector_section_display": "none",
   "window_display": true
  }
 },
 "nbformat": 4,
 "nbformat_minor": 2
}
