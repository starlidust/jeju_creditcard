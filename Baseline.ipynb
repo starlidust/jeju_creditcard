{
 "cells": [
  {
   "cell_type": "code",
   "execution_count": 1,
   "metadata": {
    "ExecuteTime": {
     "end_time": "2020-07-18T04:31:52.922073Z",
     "start_time": "2020-07-18T04:31:51.762067Z"
    }
   },
   "outputs": [],
   "source": [
    "### 전국업종과 비교\n",
    "\n",
    "all_jobs_df = pd.read_csv('./data/외부데이터/18 사업체총조사_키워드매칭.csv',encoding = 'cp949')\n",
    "all_jobs_df = all_jobs_df[['행정구역별','데이터업종명','사업체수 (개)', '종사자수 (명)']]\n",
    "all_jobs_df.columns = ['CARD_SIDO_NM','STD_CLSS_NM', 'company','employee']\n",
    "\n",
    "check_df = pd.merge(submission,all_jobs_df,left_on=['CARD_SIDO_NM','STD_CLSS_NM'],right_on=['CARD_SIDO_NM','STD_CLSS_NM'],how='left')\n",
    "\n",
    "check_df[check_df.company.isna()]import pandas as pd\n",
    "import numpy as np\n",
    "import sklearn\n",
    "from sklearn.ensemble import RandomForestRegressor\n",
    "from sklearn.preprocessing import LabelEncoder"
   ]
  },
  {
   "cell_type": "code",
   "execution_count": 2,
   "metadata": {
    "ExecuteTime": {
     "end_time": "2020-07-18T04:31:53.030553Z",
     "start_time": "2020-07-18T04:31:52.922073Z"
    }
   },
   "outputs": [
    {
     "name": "stdout",
     "output_type": "stream",
     "text": [
      "Pandas : 1.0.1\n",
      "Numpy : 1.18.1\n",
      "Scikit-Learn : 0.22.1\n",
      "Python 3.7.6\n"
     ]
    }
   ],
   "source": [
    "print('Pandas : %s'%(pd.__version__))\n",
    "print('Numpy : %s'%(np.__version__))\n",
    "print('Scikit-Learn : %s'%(sklearn.__version__))\n",
    "!python --version"
   ]
  },
  {
   "cell_type": "markdown",
   "metadata": {},
   "source": [
    "### 전처리"
   ]
  },
  {
   "cell_type": "code",
   "execution_count": 3,
   "metadata": {
    "ExecuteTime": {
     "end_time": "2020-07-18T04:31:53.036544Z",
     "start_time": "2020-07-18T04:31:53.032544Z"
    }
   },
   "outputs": [],
   "source": [
    "def grap_year(data):\n",
    "    data = str(data)\n",
    "    return int(data[:4])\n",
    "def grap_month(data):\n",
    "    data = str(data)\n",
    "    return int(data[4:])"
   ]
  },
  {
   "cell_type": "code",
   "execution_count": 4,
   "metadata": {
    "ExecuteTime": {
     "end_time": "2020-07-18T04:33:00.311353Z",
     "start_time": "2020-07-18T04:31:53.038545Z"
    }
   },
   "outputs": [],
   "source": [
    "#날짜\n",
    "data = pd.read_csv('./data/201901-202003.csv')\n",
    "data = data.fillna(\"\")\n",
    "data['year'] = data['REG_YYMM'].apply(lambda x: grap_year(x))\n",
    "data['month'] = data['REG_YYMM'].apply(lambda x : grap_month(x))\n",
    "data =data.drop(['REG_YYMM'],axis= 1)"
   ]
  },
  {
   "cell_type": "code",
   "execution_count": 5,
   "metadata": {
    "ExecuteTime": {
     "end_time": "2020-07-18T04:33:12.025151Z",
     "start_time": "2020-07-18T04:33:00.313353Z"
    }
   },
   "outputs": [],
   "source": [
    "#데이터 정제\n",
    "df = data.copy()\n",
    "df = df.drop(['CARD_CCG_NM','HOM_CCG_NM'],axis= 1)\n",
    "\n",
    "columns = ['CARD_SIDO_NM','STD_CLSS_NM', 'HOM_SIDO_NM','AGE','SEX_CTGO_CD',\"FLC\",\"year\",'month']\n",
    "df = df.groupby(columns).sum().reset_index(drop=False)"
   ]
  },
  {
   "cell_type": "code",
   "execution_count": 6,
   "metadata": {
    "ExecuteTime": {
     "end_time": "2020-07-18T04:33:12.049156Z",
     "start_time": "2020-07-18T04:33:12.027151Z"
    }
   },
   "outputs": [
    {
     "data": {
      "text/html": [
       "<div>\n",
       "<style scoped>\n",
       "    .dataframe tbody tr th:only-of-type {\n",
       "        vertical-align: middle;\n",
       "    }\n",
       "\n",
       "    .dataframe tbody tr th {\n",
       "        vertical-align: top;\n",
       "    }\n",
       "\n",
       "    .dataframe thead th {\n",
       "        text-align: right;\n",
       "    }\n",
       "</style>\n",
       "<table border=\"1\" class=\"dataframe\">\n",
       "  <thead>\n",
       "    <tr style=\"text-align: right;\">\n",
       "      <th></th>\n",
       "      <th>CARD_SIDO_NM</th>\n",
       "      <th>STD_CLSS_NM</th>\n",
       "      <th>HOM_SIDO_NM</th>\n",
       "      <th>AGE</th>\n",
       "      <th>SEX_CTGO_CD</th>\n",
       "      <th>FLC</th>\n",
       "      <th>year</th>\n",
       "      <th>month</th>\n",
       "      <th>CSTMR_CNT</th>\n",
       "      <th>AMT</th>\n",
       "      <th>CNT</th>\n",
       "    </tr>\n",
       "  </thead>\n",
       "  <tbody>\n",
       "    <tr>\n",
       "      <th>0</th>\n",
       "      <td>강원</td>\n",
       "      <td>건강보조식품 소매업</td>\n",
       "      <td>강원</td>\n",
       "      <td>20s</td>\n",
       "      <td>1</td>\n",
       "      <td>1</td>\n",
       "      <td>2019</td>\n",
       "      <td>1</td>\n",
       "      <td>4</td>\n",
       "      <td>311200</td>\n",
       "      <td>4</td>\n",
       "    </tr>\n",
       "    <tr>\n",
       "      <th>1</th>\n",
       "      <td>강원</td>\n",
       "      <td>건강보조식품 소매업</td>\n",
       "      <td>강원</td>\n",
       "      <td>20s</td>\n",
       "      <td>1</td>\n",
       "      <td>1</td>\n",
       "      <td>2019</td>\n",
       "      <td>2</td>\n",
       "      <td>3</td>\n",
       "      <td>605000</td>\n",
       "      <td>3</td>\n",
       "    </tr>\n",
       "    <tr>\n",
       "      <th>2</th>\n",
       "      <td>강원</td>\n",
       "      <td>건강보조식품 소매업</td>\n",
       "      <td>강원</td>\n",
       "      <td>20s</td>\n",
       "      <td>1</td>\n",
       "      <td>1</td>\n",
       "      <td>2019</td>\n",
       "      <td>6</td>\n",
       "      <td>3</td>\n",
       "      <td>139000</td>\n",
       "      <td>3</td>\n",
       "    </tr>\n",
       "    <tr>\n",
       "      <th>3</th>\n",
       "      <td>강원</td>\n",
       "      <td>건강보조식품 소매업</td>\n",
       "      <td>강원</td>\n",
       "      <td>20s</td>\n",
       "      <td>1</td>\n",
       "      <td>1</td>\n",
       "      <td>2019</td>\n",
       "      <td>8</td>\n",
       "      <td>3</td>\n",
       "      <td>27500</td>\n",
       "      <td>3</td>\n",
       "    </tr>\n",
       "    <tr>\n",
       "      <th>4</th>\n",
       "      <td>강원</td>\n",
       "      <td>건강보조식품 소매업</td>\n",
       "      <td>강원</td>\n",
       "      <td>20s</td>\n",
       "      <td>1</td>\n",
       "      <td>1</td>\n",
       "      <td>2019</td>\n",
       "      <td>9</td>\n",
       "      <td>3</td>\n",
       "      <td>395500</td>\n",
       "      <td>3</td>\n",
       "    </tr>\n",
       "    <tr>\n",
       "      <th>...</th>\n",
       "      <td>...</td>\n",
       "      <td>...</td>\n",
       "      <td>...</td>\n",
       "      <td>...</td>\n",
       "      <td>...</td>\n",
       "      <td>...</td>\n",
       "      <td>...</td>\n",
       "      <td>...</td>\n",
       "      <td>...</td>\n",
       "      <td>...</td>\n",
       "      <td>...</td>\n",
       "    </tr>\n",
       "    <tr>\n",
       "      <th>1057389</th>\n",
       "      <td>충북</td>\n",
       "      <td>휴양콘도 운영업</td>\n",
       "      <td>충북</td>\n",
       "      <td>70s</td>\n",
       "      <td>2</td>\n",
       "      <td>5</td>\n",
       "      <td>2019</td>\n",
       "      <td>3</td>\n",
       "      <td>3</td>\n",
       "      <td>148000</td>\n",
       "      <td>4</td>\n",
       "    </tr>\n",
       "    <tr>\n",
       "      <th>1057390</th>\n",
       "      <td>충북</td>\n",
       "      <td>휴양콘도 운영업</td>\n",
       "      <td>충북</td>\n",
       "      <td>70s</td>\n",
       "      <td>2</td>\n",
       "      <td>5</td>\n",
       "      <td>2019</td>\n",
       "      <td>5</td>\n",
       "      <td>5</td>\n",
       "      <td>329800</td>\n",
       "      <td>7</td>\n",
       "    </tr>\n",
       "    <tr>\n",
       "      <th>1057391</th>\n",
       "      <td>충북</td>\n",
       "      <td>휴양콘도 운영업</td>\n",
       "      <td>충북</td>\n",
       "      <td>70s</td>\n",
       "      <td>2</td>\n",
       "      <td>5</td>\n",
       "      <td>2019</td>\n",
       "      <td>10</td>\n",
       "      <td>7</td>\n",
       "      <td>557800</td>\n",
       "      <td>7</td>\n",
       "    </tr>\n",
       "    <tr>\n",
       "      <th>1057392</th>\n",
       "      <td>충북</td>\n",
       "      <td>휴양콘도 운영업</td>\n",
       "      <td>충북</td>\n",
       "      <td>70s</td>\n",
       "      <td>2</td>\n",
       "      <td>5</td>\n",
       "      <td>2019</td>\n",
       "      <td>12</td>\n",
       "      <td>3</td>\n",
       "      <td>247800</td>\n",
       "      <td>3</td>\n",
       "    </tr>\n",
       "    <tr>\n",
       "      <th>1057393</th>\n",
       "      <td>충북</td>\n",
       "      <td>휴양콘도 운영업</td>\n",
       "      <td>충북</td>\n",
       "      <td>70s</td>\n",
       "      <td>2</td>\n",
       "      <td>5</td>\n",
       "      <td>2020</td>\n",
       "      <td>1</td>\n",
       "      <td>3</td>\n",
       "      <td>230400</td>\n",
       "      <td>3</td>\n",
       "    </tr>\n",
       "  </tbody>\n",
       "</table>\n",
       "<p>1057394 rows × 11 columns</p>\n",
       "</div>"
      ],
      "text/plain": [
       "        CARD_SIDO_NM STD_CLSS_NM HOM_SIDO_NM  AGE  SEX_CTGO_CD  FLC  year  \\\n",
       "0                 강원  건강보조식품 소매업          강원  20s            1    1  2019   \n",
       "1                 강원  건강보조식품 소매업          강원  20s            1    1  2019   \n",
       "2                 강원  건강보조식품 소매업          강원  20s            1    1  2019   \n",
       "3                 강원  건강보조식품 소매업          강원  20s            1    1  2019   \n",
       "4                 강원  건강보조식품 소매업          강원  20s            1    1  2019   \n",
       "...              ...         ...         ...  ...          ...  ...   ...   \n",
       "1057389           충북    휴양콘도 운영업          충북  70s            2    5  2019   \n",
       "1057390           충북    휴양콘도 운영업          충북  70s            2    5  2019   \n",
       "1057391           충북    휴양콘도 운영업          충북  70s            2    5  2019   \n",
       "1057392           충북    휴양콘도 운영업          충북  70s            2    5  2019   \n",
       "1057393           충북    휴양콘도 운영업          충북  70s            2    5  2020   \n",
       "\n",
       "         month  CSTMR_CNT     AMT  CNT  \n",
       "0            1          4  311200    4  \n",
       "1            2          3  605000    3  \n",
       "2            6          3  139000    3  \n",
       "3            8          3   27500    3  \n",
       "4            9          3  395500    3  \n",
       "...        ...        ...     ...  ...  \n",
       "1057389      3          3  148000    4  \n",
       "1057390      5          5  329800    7  \n",
       "1057391     10          7  557800    7  \n",
       "1057392     12          3  247800    3  \n",
       "1057393      1          3  230400    3  \n",
       "\n",
       "[1057394 rows x 11 columns]"
      ]
     },
     "execution_count": 6,
     "metadata": {},
     "output_type": "execute_result"
    }
   ],
   "source": [
    "df"
   ]
  },
  {
   "cell_type": "code",
   "execution_count": 7,
   "metadata": {
    "ExecuteTime": {
     "end_time": "2020-07-18T04:33:12.753313Z",
     "start_time": "2020-07-18T04:33:12.050157Z"
    }
   },
   "outputs": [],
   "source": [
    "#인코딩\n",
    "dtypes = df.dtypes\n",
    "encoders = {}\n",
    "for column in df.columns:\n",
    "    if str(dtypes[column]) == 'object':\n",
    "        encoder = LabelEncoder()\n",
    "        encoder.fit(df[column])\n",
    "        encoders[column] = encoder\n",
    "df_num = df.copy()\n",
    "for column in encoders.keys():\n",
    "    encoder = encoders[column]\n",
    "    df_num[column] = encoder.transform(df[column])"
   ]
  },
  {
   "cell_type": "markdown",
   "metadata": {},
   "source": [
    "### EDA"
   ]
  },
  {
   "cell_type": "markdown",
   "metadata": {},
   "source": [
    "### Feature Engineering & Initial Modeling"
   ]
  },
  {
   "cell_type": "code",
   "execution_count": 8,
   "metadata": {
    "ExecuteTime": {
     "end_time": "2020-07-18T04:33:13.047985Z",
     "start_time": "2020-07-18T04:33:12.755315Z"
    }
   },
   "outputs": [],
   "source": [
    "# Feature, taget 설정\n",
    "train_num = df_num.sample(frac=1, random_state=0)\n",
    "train_features = train_num.drop(['CSTMR_CNT','AMT','CNT'],axis= 1)\n",
    "train_target = np.log1p(train_num['AMT'])"
   ]
  },
  {
   "cell_type": "code",
   "execution_count": 9,
   "metadata": {
    "ExecuteTime": {
     "end_time": "2020-07-18T04:33:13.057369Z",
     "start_time": "2020-07-18T04:33:13.050986Z"
    }
   },
   "outputs": [
    {
     "data": {
      "text/plain": [
       "149245    12.524530\n",
       "554956    11.399768\n",
       "918516    20.495010\n",
       "425414    14.850157\n",
       "640949    12.762830\n",
       "            ...    \n",
       "359783    15.138871\n",
       "152315    12.345448\n",
       "963395    13.691082\n",
       "117952    11.584697\n",
       "305711    12.944458\n",
       "Name: AMT, Length: 1057394, dtype: float64"
      ]
     },
     "execution_count": 9,
     "metadata": {},
     "output_type": "execute_result"
    }
   ],
   "source": [
    "train_target"
   ]
  },
  {
   "cell_type": "markdown",
   "metadata": {},
   "source": [
    "### Model Tuning & Evaluation"
   ]
  },
  {
   "cell_type": "code",
   "execution_count": 11,
   "metadata": {
    "ExecuteTime": {
     "end_time": "2020-07-18T04:43:50.579009Z",
     "start_time": "2020-07-18T04:41:56.862303Z"
    },
    "scrolled": true
   },
   "outputs": [
    {
     "data": {
      "text/plain": [
       "RandomForestRegressor(bootstrap=True, ccp_alpha=0.0, criterion='mse',\n",
       "                      max_depth=None, max_features='auto', max_leaf_nodes=None,\n",
       "                      max_samples=None, min_impurity_decrease=0.0,\n",
       "                      min_impurity_split=None, min_samples_leaf=1,\n",
       "                      min_samples_split=2, min_weight_fraction_leaf=0.0,\n",
       "                      n_estimators=100, n_jobs=-1, oob_score=False,\n",
       "                      random_state=0, verbose=0, warm_start=False)"
      ]
     },
     "execution_count": 11,
     "metadata": {},
     "output_type": "execute_result"
    }
   ],
   "source": [
    "# training\n",
    "model = RandomForestRegressor(n_jobs=-1, random_state=0)\n",
    "model.fit(train_features, train_target)"
   ]
  },
  {
   "cell_type": "code",
   "execution_count": 12,
   "metadata": {
    "ExecuteTime": {
     "end_time": "2020-07-18T04:43:50.651660Z",
     "start_time": "2020-07-18T04:43:50.641657Z"
    }
   },
   "outputs": [
    {
     "data": {
      "text/html": [
       "<div>\n",
       "<style scoped>\n",
       "    .dataframe tbody tr th:only-of-type {\n",
       "        vertical-align: middle;\n",
       "    }\n",
       "\n",
       "    .dataframe tbody tr th {\n",
       "        vertical-align: top;\n",
       "    }\n",
       "\n",
       "    .dataframe thead th {\n",
       "        text-align: right;\n",
       "    }\n",
       "</style>\n",
       "<table border=\"1\" class=\"dataframe\">\n",
       "  <thead>\n",
       "    <tr style=\"text-align: right;\">\n",
       "      <th></th>\n",
       "      <th>CARD_SIDO_NM</th>\n",
       "      <th>STD_CLSS_NM</th>\n",
       "      <th>HOM_SIDO_NM</th>\n",
       "      <th>AGE</th>\n",
       "      <th>SEX_CTGO_CD</th>\n",
       "      <th>FLC</th>\n",
       "      <th>year</th>\n",
       "      <th>month</th>\n",
       "    </tr>\n",
       "  </thead>\n",
       "  <tbody>\n",
       "    <tr>\n",
       "      <th>149245</th>\n",
       "      <td>2</td>\n",
       "      <td>4</td>\n",
       "      <td>2</td>\n",
       "      <td>2</td>\n",
       "      <td>1</td>\n",
       "      <td>2</td>\n",
       "      <td>2019</td>\n",
       "      <td>4</td>\n",
       "    </tr>\n",
       "    <tr>\n",
       "      <th>554956</th>\n",
       "      <td>8</td>\n",
       "      <td>26</td>\n",
       "      <td>11</td>\n",
       "      <td>1</td>\n",
       "      <td>1</td>\n",
       "      <td>2</td>\n",
       "      <td>2020</td>\n",
       "      <td>2</td>\n",
       "    </tr>\n",
       "    <tr>\n",
       "      <th>918516</th>\n",
       "      <td>14</td>\n",
       "      <td>33</td>\n",
       "      <td>14</td>\n",
       "      <td>4</td>\n",
       "      <td>2</td>\n",
       "      <td>4</td>\n",
       "      <td>2019</td>\n",
       "      <td>5</td>\n",
       "    </tr>\n",
       "    <tr>\n",
       "      <th>425414</th>\n",
       "      <td>7</td>\n",
       "      <td>18</td>\n",
       "      <td>8</td>\n",
       "      <td>2</td>\n",
       "      <td>2</td>\n",
       "      <td>1</td>\n",
       "      <td>2019</td>\n",
       "      <td>10</td>\n",
       "    </tr>\n",
       "    <tr>\n",
       "      <th>640949</th>\n",
       "      <td>9</td>\n",
       "      <td>39</td>\n",
       "      <td>16</td>\n",
       "      <td>5</td>\n",
       "      <td>2</td>\n",
       "      <td>5</td>\n",
       "      <td>2020</td>\n",
       "      <td>1</td>\n",
       "    </tr>\n",
       "    <tr>\n",
       "      <th>...</th>\n",
       "      <td>...</td>\n",
       "      <td>...</td>\n",
       "      <td>...</td>\n",
       "      <td>...</td>\n",
       "      <td>...</td>\n",
       "      <td>...</td>\n",
       "      <td>...</td>\n",
       "      <td>...</td>\n",
       "    </tr>\n",
       "    <tr>\n",
       "      <th>359783</th>\n",
       "      <td>6</td>\n",
       "      <td>16</td>\n",
       "      <td>9</td>\n",
       "      <td>1</td>\n",
       "      <td>1</td>\n",
       "      <td>1</td>\n",
       "      <td>2019</td>\n",
       "      <td>12</td>\n",
       "    </tr>\n",
       "    <tr>\n",
       "      <th>152315</th>\n",
       "      <td>2</td>\n",
       "      <td>7</td>\n",
       "      <td>11</td>\n",
       "      <td>3</td>\n",
       "      <td>2</td>\n",
       "      <td>3</td>\n",
       "      <td>2020</td>\n",
       "      <td>3</td>\n",
       "    </tr>\n",
       "    <tr>\n",
       "      <th>963395</th>\n",
       "      <td>15</td>\n",
       "      <td>19</td>\n",
       "      <td>9</td>\n",
       "      <td>5</td>\n",
       "      <td>1</td>\n",
       "      <td>5</td>\n",
       "      <td>2020</td>\n",
       "      <td>2</td>\n",
       "    </tr>\n",
       "    <tr>\n",
       "      <th>117952</th>\n",
       "      <td>1</td>\n",
       "      <td>31</td>\n",
       "      <td>4</td>\n",
       "      <td>1</td>\n",
       "      <td>1</td>\n",
       "      <td>2</td>\n",
       "      <td>2019</td>\n",
       "      <td>7</td>\n",
       "    </tr>\n",
       "    <tr>\n",
       "      <th>305711</th>\n",
       "      <td>5</td>\n",
       "      <td>11</td>\n",
       "      <td>8</td>\n",
       "      <td>2</td>\n",
       "      <td>1</td>\n",
       "      <td>2</td>\n",
       "      <td>2019</td>\n",
       "      <td>3</td>\n",
       "    </tr>\n",
       "  </tbody>\n",
       "</table>\n",
       "<p>1057394 rows × 8 columns</p>\n",
       "</div>"
      ],
      "text/plain": [
       "        CARD_SIDO_NM  STD_CLSS_NM  HOM_SIDO_NM  AGE  SEX_CTGO_CD  FLC  year  \\\n",
       "149245             2            4            2    2            1    2  2019   \n",
       "554956             8           26           11    1            1    2  2020   \n",
       "918516            14           33           14    4            2    4  2019   \n",
       "425414             7           18            8    2            2    1  2019   \n",
       "640949             9           39           16    5            2    5  2020   \n",
       "...              ...          ...          ...  ...          ...  ...   ...   \n",
       "359783             6           16            9    1            1    1  2019   \n",
       "152315             2            7           11    3            2    3  2020   \n",
       "963395            15           19            9    5            1    5  2020   \n",
       "117952             1           31            4    1            1    2  2019   \n",
       "305711             5           11            8    2            1    2  2019   \n",
       "\n",
       "        month  \n",
       "149245      4  \n",
       "554956      2  \n",
       "918516      5  \n",
       "425414     10  \n",
       "640949      1  \n",
       "...       ...  \n",
       "359783     12  \n",
       "152315      3  \n",
       "963395      2  \n",
       "117952      7  \n",
       "305711      3  \n",
       "\n",
       "[1057394 rows x 8 columns]"
      ]
     },
     "execution_count": 12,
     "metadata": {},
     "output_type": "execute_result"
    }
   ],
   "source": [
    "train_features"
   ]
  },
  {
   "cell_type": "markdown",
   "metadata": {},
   "source": [
    "### conclustion & Discussion"
   ]
  },
  {
   "cell_type": "code",
   "execution_count": 13,
   "metadata": {
    "ExecuteTime": {
     "end_time": "2020-07-18T04:43:54.522328Z",
     "start_time": "2020-07-18T04:43:50.717675Z"
    }
   },
   "outputs": [],
   "source": [
    "#예측 탬플릿 만들기\n",
    "CARD_SIDO_NMs = df_num['CARD_SIDO_NM'].unique()\n",
    "STD_CLSS_NMs = df_num['STD_CLSS_NM'].unique()\n",
    "HOM_SIDO_NMs = df_num['HOM_SIDO_NM'].unique()\n",
    "AGEs = df_num['AGE'].unique()\n",
    "SEX_CTGO_CDs = df_num['SEX_CTGO_CD'].unique()\n",
    "FLCs = df_num['FLC'].unique()\n",
    "years = [2020]\n",
    "months = [4, 7]\n",
    "\n",
    "temp = []\n",
    "for CARD_SIDO_NM in CARD_SIDO_NMs:\n",
    "    for STD_CLSS_NM in STD_CLSS_NMs:\n",
    "        for HOM_SIDO_NM in HOM_SIDO_NMs:\n",
    "            for AGE in AGEs:\n",
    "                for SEX_CTGO_CD in SEX_CTGO_CDs:\n",
    "                    for FLC in FLCs:\n",
    "                        for year in years:\n",
    "                            for month in months:\n",
    "                                temp.append([CARD_SIDO_NM, STD_CLSS_NM, HOM_SIDO_NM, AGE, SEX_CTGO_CD, FLC, year, month])\n",
    "temp = np.array(temp)\n",
    "temp = pd.DataFrame(data=temp, columns = train_features.columns)"
   ]
  },
  {
   "cell_type": "code",
   "execution_count": 14,
   "metadata": {
    "ExecuteTime": {
     "end_time": "2020-07-18T04:43:54.596062Z",
     "start_time": "2020-07-18T04:43:54.588061Z"
    }
   },
   "outputs": [
    {
     "data": {
      "text/html": [
       "<div>\n",
       "<style scoped>\n",
       "    .dataframe tbody tr th:only-of-type {\n",
       "        vertical-align: middle;\n",
       "    }\n",
       "\n",
       "    .dataframe tbody tr th {\n",
       "        vertical-align: top;\n",
       "    }\n",
       "\n",
       "    .dataframe thead th {\n",
       "        text-align: right;\n",
       "    }\n",
       "</style>\n",
       "<table border=\"1\" class=\"dataframe\">\n",
       "  <thead>\n",
       "    <tr style=\"text-align: right;\">\n",
       "      <th></th>\n",
       "      <th>CARD_SIDO_NM</th>\n",
       "      <th>STD_CLSS_NM</th>\n",
       "      <th>HOM_SIDO_NM</th>\n",
       "      <th>AGE</th>\n",
       "      <th>SEX_CTGO_CD</th>\n",
       "      <th>FLC</th>\n",
       "      <th>year</th>\n",
       "      <th>month</th>\n",
       "    </tr>\n",
       "  </thead>\n",
       "  <tbody>\n",
       "    <tr>\n",
       "      <th>0</th>\n",
       "      <td>0</td>\n",
       "      <td>0</td>\n",
       "      <td>0</td>\n",
       "      <td>1</td>\n",
       "      <td>1</td>\n",
       "      <td>1</td>\n",
       "      <td>2020</td>\n",
       "      <td>4</td>\n",
       "    </tr>\n",
       "    <tr>\n",
       "      <th>1</th>\n",
       "      <td>0</td>\n",
       "      <td>0</td>\n",
       "      <td>0</td>\n",
       "      <td>1</td>\n",
       "      <td>1</td>\n",
       "      <td>1</td>\n",
       "      <td>2020</td>\n",
       "      <td>7</td>\n",
       "    </tr>\n",
       "    <tr>\n",
       "      <th>2</th>\n",
       "      <td>0</td>\n",
       "      <td>0</td>\n",
       "      <td>0</td>\n",
       "      <td>1</td>\n",
       "      <td>1</td>\n",
       "      <td>2</td>\n",
       "      <td>2020</td>\n",
       "      <td>4</td>\n",
       "    </tr>\n",
       "  </tbody>\n",
       "</table>\n",
       "</div>"
      ],
      "text/plain": [
       "   CARD_SIDO_NM  STD_CLSS_NM  HOM_SIDO_NM  AGE  SEX_CTGO_CD  FLC  year  month\n",
       "0             0            0            0    1            1    1  2020      4\n",
       "1             0            0            0    1            1    1  2020      7\n",
       "2             0            0            0    1            1    2  2020      4"
      ]
     },
     "execution_count": 14,
     "metadata": {},
     "output_type": "execute_result"
    }
   ],
   "source": [
    "temp.head(3)"
   ]
  },
  {
   "cell_type": "code",
   "execution_count": 15,
   "metadata": {
    "ExecuteTime": {
     "end_time": "2020-07-18T04:43:59.244135Z",
     "start_time": "2020-07-18T04:43:54.662071Z"
    }
   },
   "outputs": [],
   "source": [
    "# 예측\n",
    "pred = model.predict(temp)\n",
    "pred = np.expm1(pred)\n",
    "temp['AMT'] = np.round(pred,0)\n",
    "temp['REG_YYMM'] = temp['year']*100 +temp['month']\n",
    "temp = temp[['REG_YYMM','CARD_SIDO_NM','STD_CLSS_NM','AMT']]\n",
    "temp = temp.groupby(['REG_YYMM','CARD_SIDO_NM','STD_CLSS_NM']).sum().reset_index(drop=False)"
   ]
  },
  {
   "cell_type": "code",
   "execution_count": 16,
   "metadata": {
    "ExecuteTime": {
     "end_time": "2020-07-18T04:43:59.325768Z",
     "start_time": "2020-07-18T04:43:59.319669Z"
    }
   },
   "outputs": [],
   "source": [
    "# 디코딩\n",
    "temp['CARD_SIDO_NM'] = encoders['CARD_SIDO_NM'].inverse_transform(temp['CARD_SIDO_NM'])\n",
    "temp['STD_CLSS_NM'] = encoders['STD_CLSS_NM'].inverse_transform(temp['STD_CLSS_NM'])"
   ]
  },
  {
   "cell_type": "code",
   "execution_count": 61,
   "metadata": {
    "ExecuteTime": {
     "end_time": "2020-07-18T05:10:37.659864Z",
     "start_time": "2020-07-18T05:10:37.645839Z"
    },
    "scrolled": true
   },
   "outputs": [],
   "source": [
    "#제출파일\n",
    "submission = pd.read_csv('data/submission.csv',index_col=0)\n",
    "submission = submission.drop(['AMT'],axis= 1)\n",
    "submission = submission.merge(temp, left_on=['REG_YYMM','CARD_SIDO_NM','STD_CLSS_NM'],right_on =['REG_YYMM','CARD_SIDO_NM','STD_CLSS_NM'],how = 'left')\n",
    "submission.index.name = 'id'\n"
   ]
  },
  {
   "cell_type": "code",
   "execution_count": 62,
   "metadata": {
    "ExecuteTime": {
     "end_time": "2020-07-18T05:10:37.956190Z",
     "start_time": "2020-07-18T05:10:37.951183Z"
    },
    "scrolled": true
   },
   "outputs": [
    {
     "data": {
      "text/plain": [
       "(1394, 4)"
      ]
     },
     "execution_count": 62,
     "metadata": {},
     "output_type": "execute_result"
    }
   ],
   "source": [
    "submission.shape"
   ]
  },
  {
   "cell_type": "code",
   "execution_count": 63,
   "metadata": {
    "ExecuteTime": {
     "end_time": "2020-07-18T05:10:38.266548Z",
     "start_time": "2020-07-18T05:10:38.255547Z"
    }
   },
   "outputs": [
    {
     "data": {
      "text/html": [
       "<div>\n",
       "<style scoped>\n",
       "    .dataframe tbody tr th:only-of-type {\n",
       "        vertical-align: middle;\n",
       "    }\n",
       "\n",
       "    .dataframe tbody tr th {\n",
       "        vertical-align: top;\n",
       "    }\n",
       "\n",
       "    .dataframe thead th {\n",
       "        text-align: right;\n",
       "    }\n",
       "</style>\n",
       "<table border=\"1\" class=\"dataframe\">\n",
       "  <thead>\n",
       "    <tr style=\"text-align: right;\">\n",
       "      <th></th>\n",
       "      <th>REG_YYMM</th>\n",
       "      <th>CARD_SIDO_NM</th>\n",
       "      <th>STD_CLSS_NM</th>\n",
       "      <th>AMT</th>\n",
       "    </tr>\n",
       "    <tr>\n",
       "      <th>id</th>\n",
       "      <th></th>\n",
       "      <th></th>\n",
       "      <th></th>\n",
       "      <th></th>\n",
       "    </tr>\n",
       "  </thead>\n",
       "  <tbody>\n",
       "    <tr>\n",
       "      <th>0</th>\n",
       "      <td>202004</td>\n",
       "      <td>강원</td>\n",
       "      <td>건강보조식품 소매업</td>\n",
       "      <td>5.049486e+08</td>\n",
       "    </tr>\n",
       "    <tr>\n",
       "      <th>1</th>\n",
       "      <td>202004</td>\n",
       "      <td>강원</td>\n",
       "      <td>골프장 운영업</td>\n",
       "      <td>6.959584e+09</td>\n",
       "    </tr>\n",
       "    <tr>\n",
       "      <th>2</th>\n",
       "      <td>202004</td>\n",
       "      <td>강원</td>\n",
       "      <td>과실 및 채소 소매업</td>\n",
       "      <td>1.815465e+09</td>\n",
       "    </tr>\n",
       "    <tr>\n",
       "      <th>3</th>\n",
       "      <td>202004</td>\n",
       "      <td>강원</td>\n",
       "      <td>관광 민예품 및 선물용품 소매업</td>\n",
       "      <td>9.745725e+07</td>\n",
       "    </tr>\n",
       "    <tr>\n",
       "      <th>4</th>\n",
       "      <td>202004</td>\n",
       "      <td>강원</td>\n",
       "      <td>그외 기타 분류안된 오락관련 서비스업</td>\n",
       "      <td>9.385428e+07</td>\n",
       "    </tr>\n",
       "    <tr>\n",
       "      <th>...</th>\n",
       "      <td>...</td>\n",
       "      <td>...</td>\n",
       "      <td>...</td>\n",
       "      <td>...</td>\n",
       "    </tr>\n",
       "    <tr>\n",
       "      <th>1389</th>\n",
       "      <td>202007</td>\n",
       "      <td>충북</td>\n",
       "      <td>피자 햄버거 샌드위치 및 유사 음식점업</td>\n",
       "      <td>1.805813e+09</td>\n",
       "    </tr>\n",
       "    <tr>\n",
       "      <th>1390</th>\n",
       "      <td>202007</td>\n",
       "      <td>충북</td>\n",
       "      <td>한식 음식점업</td>\n",
       "      <td>2.552669e+10</td>\n",
       "    </tr>\n",
       "    <tr>\n",
       "      <th>1391</th>\n",
       "      <td>202007</td>\n",
       "      <td>충북</td>\n",
       "      <td>호텔업</td>\n",
       "      <td>2.059159e+08</td>\n",
       "    </tr>\n",
       "    <tr>\n",
       "      <th>1392</th>\n",
       "      <td>202007</td>\n",
       "      <td>충북</td>\n",
       "      <td>화장품 및 방향제 소매업</td>\n",
       "      <td>1.307362e+09</td>\n",
       "    </tr>\n",
       "    <tr>\n",
       "      <th>1393</th>\n",
       "      <td>202007</td>\n",
       "      <td>충북</td>\n",
       "      <td>휴양콘도 운영업</td>\n",
       "      <td>4.930541e+08</td>\n",
       "    </tr>\n",
       "  </tbody>\n",
       "</table>\n",
       "<p>1394 rows × 4 columns</p>\n",
       "</div>"
      ],
      "text/plain": [
       "      REG_YYMM CARD_SIDO_NM            STD_CLSS_NM           AMT\n",
       "id                                                              \n",
       "0       202004           강원             건강보조식품 소매업  5.049486e+08\n",
       "1       202004           강원                골프장 운영업  6.959584e+09\n",
       "2       202004           강원            과실 및 채소 소매업  1.815465e+09\n",
       "3       202004           강원      관광 민예품 및 선물용품 소매업  9.745725e+07\n",
       "4       202004           강원   그외 기타 분류안된 오락관련 서비스업  9.385428e+07\n",
       "...        ...          ...                    ...           ...\n",
       "1389    202007           충북  피자 햄버거 샌드위치 및 유사 음식점업  1.805813e+09\n",
       "1390    202007           충북                한식 음식점업  2.552669e+10\n",
       "1391    202007           충북                    호텔업  2.059159e+08\n",
       "1392    202007           충북          화장품 및 방향제 소매업  1.307362e+09\n",
       "1393    202007           충북               휴양콘도 운영업  4.930541e+08\n",
       "\n",
       "[1394 rows x 4 columns]"
      ]
     },
     "execution_count": 63,
     "metadata": {},
     "output_type": "execute_result"
    }
   ],
   "source": [
    "submission"
   ]
  },
  {
   "cell_type": "markdown",
   "metadata": {},
   "source": [
    "### 전국업종과 비교"
   ]
  },
  {
   "cell_type": "code",
   "execution_count": 71,
   "metadata": {
    "ExecuteTime": {
     "end_time": "2020-07-18T05:11:02.976715Z",
     "start_time": "2020-07-18T05:11:02.893185Z"
    }
   },
   "outputs": [],
   "source": [
    "all_jobs_df = pd.read_csv('./data/외부데이터/18 사업체총조사_키워드매칭.csv',encoding = 'cp949')\n",
    "all_jobs_df = all_jobs_df[['행정구역별','데이터업종명','사업체수 (개)', '종사자수 (명)']]\n",
    "all_jobs_df.columns = ['CARD_SIDO_NM','STD_CLSS_NM', 'company','employee']\n",
    "all_jobs_df.employee = all_jobs_df.employee.apply(lambda x : x.replace(\"X\",\"0\")).astype(int)\n",
    "all_jobs_df = all_jobs_df.groupby(['CARD_SIDO_NM','STD_CLSS_NM'])[['company','employee']].sum().reset_index()"
   ]
  },
  {
   "cell_type": "code",
   "execution_count": 74,
   "metadata": {
    "ExecuteTime": {
     "end_time": "2020-07-18T05:11:10.887219Z",
     "start_time": "2020-07-18T05:11:10.874208Z"
    }
   },
   "outputs": [
    {
     "data": {
      "text/html": [
       "<div>\n",
       "<style scoped>\n",
       "    .dataframe tbody tr th:only-of-type {\n",
       "        vertical-align: middle;\n",
       "    }\n",
       "\n",
       "    .dataframe tbody tr th {\n",
       "        vertical-align: top;\n",
       "    }\n",
       "\n",
       "    .dataframe thead th {\n",
       "        text-align: right;\n",
       "    }\n",
       "</style>\n",
       "<table border=\"1\" class=\"dataframe\">\n",
       "  <thead>\n",
       "    <tr style=\"text-align: right;\">\n",
       "      <th></th>\n",
       "      <th>CARD_SIDO_NM</th>\n",
       "      <th>STD_CLSS_NM</th>\n",
       "      <th>company</th>\n",
       "      <th>employee</th>\n",
       "    </tr>\n",
       "  </thead>\n",
       "  <tbody>\n",
       "    <tr>\n",
       "      <th>0</th>\n",
       "      <td>강원</td>\n",
       "      <td>건강보조식품 소매업</td>\n",
       "      <td>263</td>\n",
       "      <td>399</td>\n",
       "    </tr>\n",
       "    <tr>\n",
       "      <th>1</th>\n",
       "      <td>강원</td>\n",
       "      <td>골프장 운영업</td>\n",
       "      <td>32</td>\n",
       "      <td>3073</td>\n",
       "    </tr>\n",
       "    <tr>\n",
       "      <th>2</th>\n",
       "      <td>강원</td>\n",
       "      <td>과실 및 채소 소매업</td>\n",
       "      <td>1123</td>\n",
       "      <td>2114</td>\n",
       "    </tr>\n",
       "    <tr>\n",
       "      <th>3</th>\n",
       "      <td>강원</td>\n",
       "      <td>관광 민예품 및 선물용품 소매업</td>\n",
       "      <td>170</td>\n",
       "      <td>261</td>\n",
       "    </tr>\n",
       "    <tr>\n",
       "      <th>4</th>\n",
       "      <td>강원</td>\n",
       "      <td>그외 기타 분류안된 오락관련 서비스업</td>\n",
       "      <td>208</td>\n",
       "      <td>596</td>\n",
       "    </tr>\n",
       "    <tr>\n",
       "      <th>...</th>\n",
       "      <td>...</td>\n",
       "      <td>...</td>\n",
       "      <td>...</td>\n",
       "      <td>...</td>\n",
       "    </tr>\n",
       "    <tr>\n",
       "      <th>720</th>\n",
       "      <td>충북</td>\n",
       "      <td>피자 햄버거 샌드위치 및 유사 음식점업</td>\n",
       "      <td>591</td>\n",
       "      <td>2409</td>\n",
       "    </tr>\n",
       "    <tr>\n",
       "      <th>721</th>\n",
       "      <td>충북</td>\n",
       "      <td>한식 음식점업</td>\n",
       "      <td>12936</td>\n",
       "      <td>33837</td>\n",
       "    </tr>\n",
       "    <tr>\n",
       "      <th>722</th>\n",
       "      <td>충북</td>\n",
       "      <td>호텔업</td>\n",
       "      <td>16</td>\n",
       "      <td>454</td>\n",
       "    </tr>\n",
       "    <tr>\n",
       "      <th>723</th>\n",
       "      <td>충북</td>\n",
       "      <td>화장품 및 방향제 소매업</td>\n",
       "      <td>718</td>\n",
       "      <td>1519</td>\n",
       "    </tr>\n",
       "    <tr>\n",
       "      <th>724</th>\n",
       "      <td>충북</td>\n",
       "      <td>휴양콘도 운영업</td>\n",
       "      <td>11</td>\n",
       "      <td>492</td>\n",
       "    </tr>\n",
       "  </tbody>\n",
       "</table>\n",
       "<p>725 rows × 4 columns</p>\n",
       "</div>"
      ],
      "text/plain": [
       "    CARD_SIDO_NM            STD_CLSS_NM  company  employee\n",
       "0             강원             건강보조식품 소매업      263       399\n",
       "1             강원                골프장 운영업       32      3073\n",
       "2             강원            과실 및 채소 소매업     1123      2114\n",
       "3             강원      관광 민예품 및 선물용품 소매업      170       261\n",
       "4             강원   그외 기타 분류안된 오락관련 서비스업      208       596\n",
       "..           ...                    ...      ...       ...\n",
       "720           충북  피자 햄버거 샌드위치 및 유사 음식점업      591      2409\n",
       "721           충북                한식 음식점업    12936     33837\n",
       "722           충북                    호텔업       16       454\n",
       "723           충북          화장품 및 방향제 소매업      718      1519\n",
       "724           충북               휴양콘도 운영업       11       492\n",
       "\n",
       "[725 rows x 4 columns]"
      ]
     },
     "execution_count": 74,
     "metadata": {},
     "output_type": "execute_result"
    }
   ],
   "source": [
    "all_jobs_df"
   ]
  },
  {
   "cell_type": "code",
   "execution_count": 75,
   "metadata": {
    "ExecuteTime": {
     "end_time": "2020-07-18T05:11:27.914376Z",
     "start_time": "2020-07-18T05:11:27.906375Z"
    }
   },
   "outputs": [],
   "source": [
    "submission = pd.merge(submission,all_jobs_df,left_on=['CARD_SIDO_NM','STD_CLSS_NM'],right_on=['CARD_SIDO_NM','STD_CLSS_NM'],how='left')\n",
    "submission.loc[submission.company.isna(),'AMT']\n",
    "# submission.drop(['company','employee'],axis=1, inplace=True)"
   ]
  },
  {
   "cell_type": "code",
   "execution_count": 77,
   "metadata": {
    "ExecuteTime": {
     "end_time": "2020-07-18T05:11:37.509300Z",
     "start_time": "2020-07-18T05:11:37.496303Z"
    }
   },
   "outputs": [
    {
     "data": {
      "text/html": [
       "<div>\n",
       "<style scoped>\n",
       "    .dataframe tbody tr th:only-of-type {\n",
       "        vertical-align: middle;\n",
       "    }\n",
       "\n",
       "    .dataframe tbody tr th {\n",
       "        vertical-align: top;\n",
       "    }\n",
       "\n",
       "    .dataframe thead th {\n",
       "        text-align: right;\n",
       "    }\n",
       "</style>\n",
       "<table border=\"1\" class=\"dataframe\">\n",
       "  <thead>\n",
       "    <tr style=\"text-align: right;\">\n",
       "      <th></th>\n",
       "      <th>REG_YYMM</th>\n",
       "      <th>CARD_SIDO_NM</th>\n",
       "      <th>STD_CLSS_NM</th>\n",
       "      <th>AMT</th>\n",
       "      <th>company</th>\n",
       "      <th>employee</th>\n",
       "    </tr>\n",
       "  </thead>\n",
       "  <tbody>\n",
       "    <tr>\n",
       "      <th>137</th>\n",
       "      <td>202004</td>\n",
       "      <td>경북</td>\n",
       "      <td>면세점</td>\n",
       "      <td>0.0</td>\n",
       "      <td>NaN</td>\n",
       "      <td>NaN</td>\n",
       "    </tr>\n",
       "    <tr>\n",
       "      <th>176</th>\n",
       "      <td>202004</td>\n",
       "      <td>광주</td>\n",
       "      <td>내항 여객 운송업</td>\n",
       "      <td>0.0</td>\n",
       "      <td>NaN</td>\n",
       "      <td>NaN</td>\n",
       "    </tr>\n",
       "    <tr>\n",
       "      <th>178</th>\n",
       "      <td>202004</td>\n",
       "      <td>광주</td>\n",
       "      <td>면세점</td>\n",
       "      <td>0.0</td>\n",
       "      <td>NaN</td>\n",
       "      <td>NaN</td>\n",
       "    </tr>\n",
       "    <tr>\n",
       "      <th>204</th>\n",
       "      <td>202004</td>\n",
       "      <td>광주</td>\n",
       "      <td>휴양콘도 운영업</td>\n",
       "      <td>0.0</td>\n",
       "      <td>NaN</td>\n",
       "      <td>NaN</td>\n",
       "    </tr>\n",
       "    <tr>\n",
       "      <th>217</th>\n",
       "      <td>202004</td>\n",
       "      <td>대구</td>\n",
       "      <td>내항 여객 운송업</td>\n",
       "      <td>0.0</td>\n",
       "      <td>NaN</td>\n",
       "      <td>NaN</td>\n",
       "    </tr>\n",
       "    <tr>\n",
       "      <th>245</th>\n",
       "      <td>202004</td>\n",
       "      <td>대구</td>\n",
       "      <td>휴양콘도 운영업</td>\n",
       "      <td>0.0</td>\n",
       "      <td>NaN</td>\n",
       "      <td>NaN</td>\n",
       "    </tr>\n",
       "    <tr>\n",
       "      <th>258</th>\n",
       "      <td>202004</td>\n",
       "      <td>대전</td>\n",
       "      <td>내항 여객 운송업</td>\n",
       "      <td>0.0</td>\n",
       "      <td>NaN</td>\n",
       "      <td>NaN</td>\n",
       "    </tr>\n",
       "    <tr>\n",
       "      <th>377</th>\n",
       "      <td>202004</td>\n",
       "      <td>세종</td>\n",
       "      <td>기타 수상오락 서비스업</td>\n",
       "      <td>0.0</td>\n",
       "      <td>NaN</td>\n",
       "      <td>NaN</td>\n",
       "    </tr>\n",
       "    <tr>\n",
       "      <th>381</th>\n",
       "      <td>202004</td>\n",
       "      <td>세종</td>\n",
       "      <td>내항 여객 운송업</td>\n",
       "      <td>0.0</td>\n",
       "      <td>NaN</td>\n",
       "      <td>NaN</td>\n",
       "    </tr>\n",
       "    <tr>\n",
       "      <th>383</th>\n",
       "      <td>202004</td>\n",
       "      <td>세종</td>\n",
       "      <td>면세점</td>\n",
       "      <td>0.0</td>\n",
       "      <td>NaN</td>\n",
       "      <td>NaN</td>\n",
       "    </tr>\n",
       "    <tr>\n",
       "      <th>399</th>\n",
       "      <td>202004</td>\n",
       "      <td>세종</td>\n",
       "      <td>정기 항공 운송업</td>\n",
       "      <td>0.0</td>\n",
       "      <td>NaN</td>\n",
       "      <td>NaN</td>\n",
       "    </tr>\n",
       "    <tr>\n",
       "      <th>407</th>\n",
       "      <td>202004</td>\n",
       "      <td>세종</td>\n",
       "      <td>호텔업</td>\n",
       "      <td>0.0</td>\n",
       "      <td>NaN</td>\n",
       "      <td>NaN</td>\n",
       "    </tr>\n",
       "    <tr>\n",
       "      <th>629</th>\n",
       "      <td>202004</td>\n",
       "      <td>충남</td>\n",
       "      <td>면세점</td>\n",
       "      <td>0.0</td>\n",
       "      <td>NaN</td>\n",
       "      <td>NaN</td>\n",
       "    </tr>\n",
       "    <tr>\n",
       "      <th>834</th>\n",
       "      <td>202007</td>\n",
       "      <td>경북</td>\n",
       "      <td>면세점</td>\n",
       "      <td>0.0</td>\n",
       "      <td>NaN</td>\n",
       "      <td>NaN</td>\n",
       "    </tr>\n",
       "    <tr>\n",
       "      <th>873</th>\n",
       "      <td>202007</td>\n",
       "      <td>광주</td>\n",
       "      <td>내항 여객 운송업</td>\n",
       "      <td>0.0</td>\n",
       "      <td>NaN</td>\n",
       "      <td>NaN</td>\n",
       "    </tr>\n",
       "    <tr>\n",
       "      <th>875</th>\n",
       "      <td>202007</td>\n",
       "      <td>광주</td>\n",
       "      <td>면세점</td>\n",
       "      <td>0.0</td>\n",
       "      <td>NaN</td>\n",
       "      <td>NaN</td>\n",
       "    </tr>\n",
       "    <tr>\n",
       "      <th>901</th>\n",
       "      <td>202007</td>\n",
       "      <td>광주</td>\n",
       "      <td>휴양콘도 운영업</td>\n",
       "      <td>0.0</td>\n",
       "      <td>NaN</td>\n",
       "      <td>NaN</td>\n",
       "    </tr>\n",
       "    <tr>\n",
       "      <th>914</th>\n",
       "      <td>202007</td>\n",
       "      <td>대구</td>\n",
       "      <td>내항 여객 운송업</td>\n",
       "      <td>0.0</td>\n",
       "      <td>NaN</td>\n",
       "      <td>NaN</td>\n",
       "    </tr>\n",
       "    <tr>\n",
       "      <th>942</th>\n",
       "      <td>202007</td>\n",
       "      <td>대구</td>\n",
       "      <td>휴양콘도 운영업</td>\n",
       "      <td>0.0</td>\n",
       "      <td>NaN</td>\n",
       "      <td>NaN</td>\n",
       "    </tr>\n",
       "    <tr>\n",
       "      <th>955</th>\n",
       "      <td>202007</td>\n",
       "      <td>대전</td>\n",
       "      <td>내항 여객 운송업</td>\n",
       "      <td>0.0</td>\n",
       "      <td>NaN</td>\n",
       "      <td>NaN</td>\n",
       "    </tr>\n",
       "    <tr>\n",
       "      <th>1074</th>\n",
       "      <td>202007</td>\n",
       "      <td>세종</td>\n",
       "      <td>기타 수상오락 서비스업</td>\n",
       "      <td>0.0</td>\n",
       "      <td>NaN</td>\n",
       "      <td>NaN</td>\n",
       "    </tr>\n",
       "    <tr>\n",
       "      <th>1078</th>\n",
       "      <td>202007</td>\n",
       "      <td>세종</td>\n",
       "      <td>내항 여객 운송업</td>\n",
       "      <td>0.0</td>\n",
       "      <td>NaN</td>\n",
       "      <td>NaN</td>\n",
       "    </tr>\n",
       "    <tr>\n",
       "      <th>1080</th>\n",
       "      <td>202007</td>\n",
       "      <td>세종</td>\n",
       "      <td>면세점</td>\n",
       "      <td>0.0</td>\n",
       "      <td>NaN</td>\n",
       "      <td>NaN</td>\n",
       "    </tr>\n",
       "    <tr>\n",
       "      <th>1096</th>\n",
       "      <td>202007</td>\n",
       "      <td>세종</td>\n",
       "      <td>정기 항공 운송업</td>\n",
       "      <td>0.0</td>\n",
       "      <td>NaN</td>\n",
       "      <td>NaN</td>\n",
       "    </tr>\n",
       "    <tr>\n",
       "      <th>1104</th>\n",
       "      <td>202007</td>\n",
       "      <td>세종</td>\n",
       "      <td>호텔업</td>\n",
       "      <td>0.0</td>\n",
       "      <td>NaN</td>\n",
       "      <td>NaN</td>\n",
       "    </tr>\n",
       "    <tr>\n",
       "      <th>1326</th>\n",
       "      <td>202007</td>\n",
       "      <td>충남</td>\n",
       "      <td>면세점</td>\n",
       "      <td>0.0</td>\n",
       "      <td>NaN</td>\n",
       "      <td>NaN</td>\n",
       "    </tr>\n",
       "  </tbody>\n",
       "</table>\n",
       "</div>"
      ],
      "text/plain": [
       "      REG_YYMM CARD_SIDO_NM   STD_CLSS_NM  AMT  company  employee\n",
       "137     202004           경북           면세점  0.0      NaN       NaN\n",
       "176     202004           광주     내항 여객 운송업  0.0      NaN       NaN\n",
       "178     202004           광주           면세점  0.0      NaN       NaN\n",
       "204     202004           광주      휴양콘도 운영업  0.0      NaN       NaN\n",
       "217     202004           대구     내항 여객 운송업  0.0      NaN       NaN\n",
       "245     202004           대구      휴양콘도 운영업  0.0      NaN       NaN\n",
       "258     202004           대전     내항 여객 운송업  0.0      NaN       NaN\n",
       "377     202004           세종  기타 수상오락 서비스업  0.0      NaN       NaN\n",
       "381     202004           세종     내항 여객 운송업  0.0      NaN       NaN\n",
       "383     202004           세종           면세점  0.0      NaN       NaN\n",
       "399     202004           세종     정기 항공 운송업  0.0      NaN       NaN\n",
       "407     202004           세종           호텔업  0.0      NaN       NaN\n",
       "629     202004           충남           면세점  0.0      NaN       NaN\n",
       "834     202007           경북           면세점  0.0      NaN       NaN\n",
       "873     202007           광주     내항 여객 운송업  0.0      NaN       NaN\n",
       "875     202007           광주           면세점  0.0      NaN       NaN\n",
       "901     202007           광주      휴양콘도 운영업  0.0      NaN       NaN\n",
       "914     202007           대구     내항 여객 운송업  0.0      NaN       NaN\n",
       "942     202007           대구      휴양콘도 운영업  0.0      NaN       NaN\n",
       "955     202007           대전     내항 여객 운송업  0.0      NaN       NaN\n",
       "1074    202007           세종  기타 수상오락 서비스업  0.0      NaN       NaN\n",
       "1078    202007           세종     내항 여객 운송업  0.0      NaN       NaN\n",
       "1080    202007           세종           면세점  0.0      NaN       NaN\n",
       "1096    202007           세종     정기 항공 운송업  0.0      NaN       NaN\n",
       "1104    202007           세종           호텔업  0.0      NaN       NaN\n",
       "1326    202007           충남           면세점  0.0      NaN       NaN"
      ]
     },
     "execution_count": 77,
     "metadata": {},
     "output_type": "execute_result"
    }
   ],
   "source": [
    "submission.loc[submission.company.isna()]"
   ]
  },
  {
   "cell_type": "code",
   "execution_count": 69,
   "metadata": {
    "ExecuteTime": {
     "end_time": "2020-07-18T05:10:52.948130Z",
     "start_time": "2020-07-18T05:10:52.939131Z"
    }
   },
   "outputs": [
    {
     "ename": "AttributeError",
     "evalue": "'DataFrame' object has no attribute 'company'",
     "output_type": "error",
     "traceback": [
      "\u001b[1;31m---------------------------------------------------------------------------\u001b[0m",
      "\u001b[1;31mAttributeError\u001b[0m                            Traceback (most recent call last)",
      "\u001b[1;32m<ipython-input-69-337c03ea9903>\u001b[0m in \u001b[0;36m<module>\u001b[1;34m\u001b[0m\n\u001b[1;32m----> 1\u001b[1;33m \u001b[0msubmission\u001b[0m\u001b[1;33m.\u001b[0m\u001b[0mloc\u001b[0m\u001b[1;33m[\u001b[0m\u001b[0msubmission\u001b[0m\u001b[1;33m.\u001b[0m\u001b[0mcompany\u001b[0m\u001b[1;33m.\u001b[0m\u001b[0misna\u001b[0m\u001b[1;33m(\u001b[0m\u001b[1;33m)\u001b[0m\u001b[1;33m]\u001b[0m\u001b[1;33m\u001b[0m\u001b[1;33m\u001b[0m\u001b[0m\n\u001b[0m",
      "\u001b[1;32m~\\anaconda3\\lib\\site-packages\\pandas\\core\\generic.py\u001b[0m in \u001b[0;36m__getattr__\u001b[1;34m(self, name)\u001b[0m\n\u001b[0;32m   5272\u001b[0m             \u001b[1;32mif\u001b[0m \u001b[0mself\u001b[0m\u001b[1;33m.\u001b[0m\u001b[0m_info_axis\u001b[0m\u001b[1;33m.\u001b[0m\u001b[0m_can_hold_identifiers_and_holds_name\u001b[0m\u001b[1;33m(\u001b[0m\u001b[0mname\u001b[0m\u001b[1;33m)\u001b[0m\u001b[1;33m:\u001b[0m\u001b[1;33m\u001b[0m\u001b[1;33m\u001b[0m\u001b[0m\n\u001b[0;32m   5273\u001b[0m                 \u001b[1;32mreturn\u001b[0m \u001b[0mself\u001b[0m\u001b[1;33m[\u001b[0m\u001b[0mname\u001b[0m\u001b[1;33m]\u001b[0m\u001b[1;33m\u001b[0m\u001b[1;33m\u001b[0m\u001b[0m\n\u001b[1;32m-> 5274\u001b[1;33m             \u001b[1;32mreturn\u001b[0m \u001b[0mobject\u001b[0m\u001b[1;33m.\u001b[0m\u001b[0m__getattribute__\u001b[0m\u001b[1;33m(\u001b[0m\u001b[0mself\u001b[0m\u001b[1;33m,\u001b[0m \u001b[0mname\u001b[0m\u001b[1;33m)\u001b[0m\u001b[1;33m\u001b[0m\u001b[1;33m\u001b[0m\u001b[0m\n\u001b[0m\u001b[0;32m   5275\u001b[0m \u001b[1;33m\u001b[0m\u001b[0m\n\u001b[0;32m   5276\u001b[0m     \u001b[1;32mdef\u001b[0m \u001b[0m__setattr__\u001b[0m\u001b[1;33m(\u001b[0m\u001b[0mself\u001b[0m\u001b[1;33m,\u001b[0m \u001b[0mname\u001b[0m\u001b[1;33m:\u001b[0m \u001b[0mstr\u001b[0m\u001b[1;33m,\u001b[0m \u001b[0mvalue\u001b[0m\u001b[1;33m)\u001b[0m \u001b[1;33m->\u001b[0m \u001b[1;32mNone\u001b[0m\u001b[1;33m:\u001b[0m\u001b[1;33m\u001b[0m\u001b[1;33m\u001b[0m\u001b[0m\n",
      "\u001b[1;31mAttributeError\u001b[0m: 'DataFrame' object has no attribute 'company'"
     ]
    }
   ],
   "source": [
    "submission.loc[submission.company.isna()]"
   ]
  },
  {
   "cell_type": "code",
   "execution_count": 54,
   "metadata": {
    "ExecuteTime": {
     "end_time": "2020-07-18T04:57:58.697977Z",
     "start_time": "2020-07-18T04:57:58.693353Z"
    }
   },
   "outputs": [
    {
     "data": {
      "text/plain": [
       "(1394, 4)"
      ]
     },
     "execution_count": 54,
     "metadata": {},
     "output_type": "execute_result"
    }
   ],
   "source": [
    "submission.shape"
   ]
  },
  {
   "cell_type": "code",
   "execution_count": 59,
   "metadata": {
    "ExecuteTime": {
     "end_time": "2020-07-18T04:59:56.544048Z",
     "start_time": "2020-07-18T04:59:56.523038Z"
    }
   },
   "outputs": [
    {
     "data": {
      "text/html": [
       "<div>\n",
       "<style scoped>\n",
       "    .dataframe tbody tr th:only-of-type {\n",
       "        vertical-align: middle;\n",
       "    }\n",
       "\n",
       "    .dataframe tbody tr th {\n",
       "        vertical-align: top;\n",
       "    }\n",
       "\n",
       "    .dataframe thead th {\n",
       "        text-align: right;\n",
       "    }\n",
       "</style>\n",
       "<table border=\"1\" class=\"dataframe\">\n",
       "  <thead>\n",
       "    <tr style=\"text-align: right;\">\n",
       "      <th></th>\n",
       "      <th>REG_YYMM</th>\n",
       "      <th>CARD_SIDO_NM</th>\n",
       "      <th>STD_CLSS_NM</th>\n",
       "      <th>AMT</th>\n",
       "    </tr>\n",
       "    <tr>\n",
       "      <th>id</th>\n",
       "      <th></th>\n",
       "      <th></th>\n",
       "      <th></th>\n",
       "      <th></th>\n",
       "    </tr>\n",
       "  </thead>\n",
       "  <tbody>\n",
       "    <tr>\n",
       "      <th>0</th>\n",
       "      <td>202004</td>\n",
       "      <td>강원</td>\n",
       "      <td>건강보조식품 소매업</td>\n",
       "      <td>5.049486e+08</td>\n",
       "    </tr>\n",
       "    <tr>\n",
       "      <th>1</th>\n",
       "      <td>202004</td>\n",
       "      <td>강원</td>\n",
       "      <td>골프장 운영업</td>\n",
       "      <td>6.959584e+09</td>\n",
       "    </tr>\n",
       "    <tr>\n",
       "      <th>2</th>\n",
       "      <td>202004</td>\n",
       "      <td>강원</td>\n",
       "      <td>과실 및 채소 소매업</td>\n",
       "      <td>1.815465e+09</td>\n",
       "    </tr>\n",
       "    <tr>\n",
       "      <th>3</th>\n",
       "      <td>202004</td>\n",
       "      <td>강원</td>\n",
       "      <td>관광 민예품 및 선물용품 소매업</td>\n",
       "      <td>9.745725e+07</td>\n",
       "    </tr>\n",
       "    <tr>\n",
       "      <th>4</th>\n",
       "      <td>202004</td>\n",
       "      <td>강원</td>\n",
       "      <td>그외 기타 분류안된 오락관련 서비스업</td>\n",
       "      <td>9.385428e+07</td>\n",
       "    </tr>\n",
       "  </tbody>\n",
       "</table>\n",
       "</div>"
      ],
      "text/plain": [
       "    REG_YYMM CARD_SIDO_NM           STD_CLSS_NM           AMT\n",
       "id                                                           \n",
       "0     202004           강원            건강보조식품 소매업  5.049486e+08\n",
       "1     202004           강원               골프장 운영업  6.959584e+09\n",
       "2     202004           강원           과실 및 채소 소매업  1.815465e+09\n",
       "3     202004           강원     관광 민예품 및 선물용품 소매업  9.745725e+07\n",
       "4     202004           강원  그외 기타 분류안된 오락관련 서비스업  9.385428e+07"
      ]
     },
     "execution_count": 59,
     "metadata": {},
     "output_type": "execute_result"
    }
   ],
   "source": [
    "submission.index.name = 'id'\n",
    "submission.to_csv('./submission/submission_사업체조사와비교.csv', encoding='utf-8-sig')\n",
    "\n",
    "submission.head()"
   ]
  },
  {
   "cell_type": "code",
   "execution_count": null,
   "metadata": {},
   "outputs": [],
   "source": []
  }
 ],
 "metadata": {
  "kernelspec": {
   "display_name": "Python 3",
   "language": "python",
   "name": "python3"
  },
  "language_info": {
   "codemirror_mode": {
    "name": "ipython",
    "version": 3
   },
   "file_extension": ".py",
   "mimetype": "text/x-python",
   "name": "python",
   "nbconvert_exporter": "python",
   "pygments_lexer": "ipython3",
   "version": "3.7.6"
  },
  "toc": {
   "base_numbering": 1,
   "nav_menu": {},
   "number_sections": true,
   "sideBar": true,
   "skip_h1_title": false,
   "title_cell": "Table of Contents",
   "title_sidebar": "Contents",
   "toc_cell": false,
   "toc_position": {},
   "toc_section_display": true,
   "toc_window_display": false
  },
  "varInspector": {
   "cols": {
    "lenName": 16,
    "lenType": 16,
    "lenVar": 40
   },
   "kernels_config": {
    "python": {
     "delete_cmd_postfix": "",
     "delete_cmd_prefix": "del ",
     "library": "var_list.py",
     "varRefreshCmd": "print(var_dic_list())"
    },
    "r": {
     "delete_cmd_postfix": ") ",
     "delete_cmd_prefix": "rm(",
     "library": "var_list.r",
     "varRefreshCmd": "cat(var_dic_list()) "
    }
   },
   "types_to_exclude": [
    "module",
    "function",
    "builtin_function_or_method",
    "instance",
    "_Feature"
   ],
   "window_display": false
  }
 },
 "nbformat": 4,
 "nbformat_minor": 2
}
