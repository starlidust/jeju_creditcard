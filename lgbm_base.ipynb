{
 "cells": [
  {
   "cell_type": "markdown",
   "metadata": {},
   "source": [
    "## import "
   ]
  },
  {
   "cell_type": "code",
   "execution_count": 1,
   "metadata": {
    "ExecuteTime": {
     "end_time": "2020-07-21T13:07:29.409873Z",
     "start_time": "2020-07-21T13:07:26.151877Z"
    }
   },
   "outputs": [],
   "source": [
    "import pandas as pd\n",
    "import numpy as np\n",
    "import matplotlib.pyplot as plt\n",
    "import seaborn as sns\n",
    "import os \n",
    "import datetime\n",
    "from sklearn.preprocessing import LabelEncoder\n",
    "\n",
    "import sklearn\n",
    "from sklearn.ensemble import RandomForestRegressor\n",
    "import xgboost as xgb\n",
    "import lightgbm as lgb\n",
    "from tqdm.notebook import tqdm\n",
    "\n",
    "#한글깨짐방지\n",
    "plt.rc('font',family='Malgun Gothic')\n",
    "plt.rcParams['axes.unicode_minus'] = False"
   ]
  },
  {
   "cell_type": "code",
   "execution_count": 2,
   "metadata": {
    "ExecuteTime": {
     "end_time": "2020-07-21T13:07:29.476160Z",
     "start_time": "2020-07-21T13:07:29.409873Z"
    }
   },
   "outputs": [
    {
     "name": "stdout",
     "output_type": "stream",
     "text": [
      "Pandas : 1.0.1\n",
      "Numpy : 1.18.1\n",
      "Scikit-Learn : 0.22.1\n",
      "Python 3.7.6\n"
     ]
    }
   ],
   "source": [
    "print('Pandas : %s'%(pd.__version__))\n",
    "print('Numpy : %s'%(np.__version__))\n",
    "print('Scikit-Learn : %s'%(sklearn.__version__))\n",
    "!python --version"
   ]
  },
  {
   "cell_type": "markdown",
   "metadata": {},
   "source": [
    "### data"
   ]
  },
  {
   "cell_type": "code",
   "execution_count": 3,
   "metadata": {
    "ExecuteTime": {
     "end_time": "2020-07-21T13:07:55.457084Z",
     "start_time": "2020-07-21T13:07:29.476160Z"
    }
   },
   "outputs": [],
   "source": [
    "#데이터로드\n",
    "path = './data/'\n",
    "data = pd.read_csv(path +'201901-202003.csv')\n",
    "submission = pd.read_csv(path + 'submission.csv')"
   ]
  },
  {
   "cell_type": "code",
   "execution_count": 4,
   "metadata": {
    "ExecuteTime": {
     "end_time": "2020-07-21T13:07:57.780408Z",
     "start_time": "2020-07-21T13:07:55.457084Z"
    }
   },
   "outputs": [],
   "source": [
    "# 시군구 결측은 모두 세종\n",
    "data.loc[data.CARD_CCG_NM.isna(),'CARD_CCG_NM'] = '세종'\n",
    "data.loc[data.HOM_CCG_NM.isna(),'HOM_SIDO_NM'] = '세종'"
   ]
  },
  {
   "cell_type": "code",
   "execution_count": 5,
   "metadata": {
    "ExecuteTime": {
     "end_time": "2020-07-21T13:07:57.799395Z",
     "start_time": "2020-07-21T13:07:57.780408Z"
    }
   },
   "outputs": [
    {
     "data": {
      "text/plain": [
       "((24697792, 12), (1394, 5))"
      ]
     },
     "execution_count": 5,
     "metadata": {},
     "output_type": "execute_result"
    }
   ],
   "source": [
    "data.shape, submission.shape"
   ]
  },
  {
   "cell_type": "markdown",
   "metadata": {},
   "source": [
    "### 전처리"
   ]
  },
  {
   "cell_type": "code",
   "execution_count": 6,
   "metadata": {
    "ExecuteTime": {
     "end_time": "2020-07-21T13:08:33.434665Z",
     "start_time": "2020-07-21T13:07:57.799395Z"
    }
   },
   "outputs": [],
   "source": [
    "data['year'] = data['REG_YYMM'].apply(lambda x : int(str(x)[:4]))\n",
    "data['month'] = data['REG_YYMM'].apply(lambda x : int(str(x)[4:]))\n",
    "data.drop(['REG_YYMM'],axis= 1,inplace = True)"
   ]
  },
  {
   "cell_type": "code",
   "execution_count": 7,
   "metadata": {
    "ExecuteTime": {
     "end_time": "2020-07-21T13:08:33.448004Z",
     "start_time": "2020-07-21T13:08:33.434665Z"
    }
   },
   "outputs": [
    {
     "data": {
      "text/plain": [
       "(24697792, 13)"
      ]
     },
     "execution_count": 7,
     "metadata": {},
     "output_type": "execute_result"
    }
   ],
   "source": [
    "data.shape"
   ]
  },
  {
   "cell_type": "code",
   "execution_count": 8,
   "metadata": {
    "ExecuteTime": {
     "end_time": "2020-07-21T13:08:44.726228Z",
     "start_time": "2020-07-21T13:08:33.448004Z"
    }
   },
   "outputs": [],
   "source": [
    "#데이터 정제\n",
    "df = data.copy()\n",
    "df = df.drop(['CARD_CCG_NM','HOM_CCG_NM'],axis= 1)\n",
    "\n",
    "columns = ['CARD_SIDO_NM','STD_CLSS_NM', 'HOM_SIDO_NM','AGE','SEX_CTGO_CD',\"FLC\",\"year\",'month']\n",
    "grouped = df.groupby(columns).sum().reset_index(drop=False)"
   ]
  },
  {
   "cell_type": "code",
   "execution_count": 9,
   "metadata": {
    "ExecuteTime": {
     "end_time": "2020-07-21T13:08:45.266800Z",
     "start_time": "2020-07-21T13:08:44.726228Z"
    }
   },
   "outputs": [],
   "source": [
    "#인코딩\n",
    "dtypes = grouped.dtypes\n",
    "encoders = {}\n",
    "for column in grouped.columns:\n",
    "    if str(dtypes[column]) == 'object':\n",
    "        encoder = LabelEncoder()\n",
    "        encoder.fit(grouped[column])\n",
    "        encoders[column] = encoder\n",
    "for column in encoders.keys():\n",
    "    encoder = encoders[column]\n",
    "    grouped[column] = encoder.transform(grouped[column])"
   ]
  },
  {
   "cell_type": "markdown",
   "metadata": {},
   "source": [
    "### 외부데이터) 18년 사업체총조사 반영"
   ]
  },
  {
   "cell_type": "code",
   "execution_count": 10,
   "metadata": {
    "ExecuteTime": {
     "end_time": "2020-07-21T13:08:45.388889Z",
     "start_time": "2020-07-21T13:08:45.266800Z"
    }
   },
   "outputs": [],
   "source": [
    "all_jobs_df = pd.read_csv('./data/외부데이터/18 사업체총조사_키워드매칭.csv',encoding = 'cp949')\n",
    "all_jobs_df = all_jobs_df[['행정구역별','데이터업종명','사업체수 (개)', '종사자수 (명)']]\n",
    "all_jobs_df.columns = ['CARD_SIDO_NM','STD_CLSS_NM', 'company','employee']\n",
    "all_jobs_df.employee = all_jobs_df.employee.apply(lambda x : x.replace(\"X\",\"0\")).astype(int)\n",
    "all_jobs_df = all_jobs_df.groupby(['CARD_SIDO_NM','STD_CLSS_NM'])[['company','employee']].sum().reset_index()\n",
    "\n",
    "all_jobs_df = all_jobs_df[~(all_jobs_df.CARD_SIDO_NM == '전국')]\n",
    "\n",
    "encoder = encoders['CARD_SIDO_NM']\n",
    "all_jobs_df['CARD_SIDO_NM'] = encoder.transform(all_jobs_df['CARD_SIDO_NM'])\n",
    "\n",
    "encoder = encoders['STD_CLSS_NM']\n",
    "all_jobs_df['STD_CLSS_NM'] = encoder.transform(all_jobs_df['STD_CLSS_NM'])"
   ]
  },
  {
   "cell_type": "code",
   "execution_count": 11,
   "metadata": {
    "ExecuteTime": {
     "end_time": "2020-07-21T13:08:45.398485Z",
     "start_time": "2020-07-21T13:08:45.390486Z"
    }
   },
   "outputs": [
    {
     "data": {
      "text/plain": [
       "(1057394, 11)"
      ]
     },
     "execution_count": 11,
     "metadata": {},
     "output_type": "execute_result"
    }
   ],
   "source": [
    "grouped.shape"
   ]
  },
  {
   "cell_type": "code",
   "execution_count": 12,
   "metadata": {
    "ExecuteTime": {
     "end_time": "2020-07-21T13:08:45.658396Z",
     "start_time": "2020-07-21T13:08:45.398485Z"
    }
   },
   "outputs": [],
   "source": [
    "#없는 업종 row라도 생성 \n",
    "grouped = pd.merge(grouped,all_jobs_df,on =['CARD_SIDO_NM','STD_CLSS_NM'],how = 'left')"
   ]
  },
  {
   "cell_type": "code",
   "execution_count": 13,
   "metadata": {
    "ExecuteTime": {
     "end_time": "2020-07-21T13:08:45.667089Z",
     "start_time": "2020-07-21T13:08:45.658396Z"
    }
   },
   "outputs": [
    {
     "data": {
      "text/plain": [
       "(1057394, 13)"
      ]
     },
     "execution_count": 13,
     "metadata": {},
     "output_type": "execute_result"
    }
   ],
   "source": [
    "grouped.shape"
   ]
  },
  {
   "cell_type": "markdown",
   "metadata": {},
   "source": [
    "### Feature Engineering & Initial Modeling\n",
    "* private은 4월을 예측 (20년 1월까지 데이터로 예측)\n",
    "* public은 7월을 예측 (20년4월까지 데이터활용)"
   ]
  },
  {
   "cell_type": "markdown",
   "metadata": {},
   "source": [
    "### Model Tuning & Evaluation"
   ]
  },
  {
   "cell_type": "code",
   "execution_count": 14,
   "metadata": {
    "ExecuteTime": {
     "end_time": "2020-07-21T13:08:45.815567Z",
     "start_time": "2020-07-21T13:08:45.667089Z"
    }
   },
   "outputs": [],
   "source": [
    "#2019.12까지 데이터로 20.03을 예측\n",
    "train_set = grouped[grouped.year == 2019]\n",
    "eval_set = grouped[(grouped.year == 2020)&(grouped.month == 3)]"
   ]
  },
  {
   "cell_type": "code",
   "execution_count": 15,
   "metadata": {
    "ExecuteTime": {
     "end_time": "2020-07-21T13:08:45.841818Z",
     "start_time": "2020-07-21T13:08:45.815567Z"
    }
   },
   "outputs": [],
   "source": [
    "params = {'random_state': 42,\n",
    "          'learning_rate': 0.01,\n",
    "          'max_depth': 8,\n",
    "          'num_leaves': 64,\n",
    "          'boosting': 'gbdt',\n",
    "          'objective': 'regression',\n",
    "          'metric': 'rmse',\n",
    "          'feature_fraction': 0.9,\n",
    "          'bagging_fraction': 0.7}"
   ]
  },
  {
   "cell_type": "code",
   "execution_count": 16,
   "metadata": {
    "ExecuteTime": {
     "end_time": "2020-07-21T13:08:45.919947Z",
     "start_time": "2020-07-21T13:08:45.841818Z"
    }
   },
   "outputs": [],
   "source": [
    "#eval, train 구성\n",
    "train_x = train_set.drop(['CSTMR_CNT','AMT','CNT'],axis= 1)\n",
    "train_y = np.log1p(train_set['AMT'])\n",
    "\n",
    "eval_x = eval_set.drop(['CSTMR_CNT','AMT','CNT'],axis= 1)\n",
    "eval_y = np.log1p(eval_set['AMT'])\n",
    "\n",
    "train_ds = lgb.Dataset(train_x,label=train_y,free_raw_data=False,\n",
    "                       categorical_feature=['CARD_SIDO_NM','STD_CLSS_NM','HOM_SIDO_NM','SEX_CTGO_CD','AGE','FLC'])\n",
    "eval_ds = lgb.Dataset(eval_x,label=eval_y,free_raw_data=False,\n",
    "                      categorical_feature=['CARD_SIDO_NM','STD_CLSS_NM','HOM_SIDO_NM','SEX_CTGO_CD','AGE','FLC'])"
   ]
  },
  {
   "cell_type": "code",
   "execution_count": 17,
   "metadata": {
    "ExecuteTime": {
     "end_time": "2020-07-21T13:10:53.894865Z",
     "start_time": "2020-07-21T13:08:45.919947Z"
    },
    "scrolled": true
   },
   "outputs": [
    {
     "name": "stderr",
     "output_type": "stream",
     "text": [
      "C:\\Users\\kwonJH\\anaconda3\\lib\\site-packages\\lightgbm\\basic.py:1291: UserWarning: Using categorical_feature in Dataset.\n",
      "  warnings.warn('Using categorical_feature in Dataset.')\n"
     ]
    },
    {
     "name": "stdout",
     "output_type": "stream",
     "text": [
      "Training until validation scores don't improve for 100 rounds\n",
      "[500]\tTrain's rmse: 1.62022\tEval's rmse: 1.73656\n",
      "[1000]\tTrain's rmse: 1.2644\tEval's rmse: 1.44944\n",
      "[1500]\tTrain's rmse: 1.12303\tEval's rmse: 1.34153\n",
      "[2000]\tTrain's rmse: 1.01707\tEval's rmse: 1.26973\n",
      "[2500]\tTrain's rmse: 0.937464\tEval's rmse: 1.22345\n",
      "[3000]\tTrain's rmse: 0.884403\tEval's rmse: 1.19493\n",
      "[3500]\tTrain's rmse: 0.843358\tEval's rmse: 1.17588\n",
      "[4000]\tTrain's rmse: 0.810411\tEval's rmse: 1.16188\n",
      "[4500]\tTrain's rmse: 0.78564\tEval's rmse: 1.15365\n",
      "[5000]\tTrain's rmse: 0.766183\tEval's rmse: 1.14725\n",
      "[5500]\tTrain's rmse: 0.750489\tEval's rmse: 1.14218\n",
      "[6000]\tTrain's rmse: 0.736961\tEval's rmse: 1.13931\n",
      "Early stopping, best iteration is:\n",
      "[5982]\tTrain's rmse: 0.737356\tEval's rmse: 1.13889\n"
     ]
    }
   ],
   "source": [
    "evaluation_results ={}\n",
    "model = lgb.train(params,train_ds,\n",
    "                  num_boost_round=10000,\n",
    "                  valid_sets=[train_ds, eval_ds],\n",
    "                  valid_names=['Train', 'Eval'],\n",
    "                  verbose_eval=500,\n",
    "                  early_stopping_rounds=100, evals_result = evaluation_results)"
   ]
  },
  {
   "cell_type": "code",
   "execution_count": 18,
   "metadata": {
    "ExecuteTime": {
     "end_time": "2020-07-21T13:10:54.151464Z",
     "start_time": "2020-07-21T13:10:53.894865Z"
    }
   },
   "outputs": [
    {
     "data": {
      "image/png": "[encoded data removed]",
      "text/plain": [
       "<Figure size 1080x288 with 2 Axes>"
      ]
     },
     "metadata": {
      "needs_background": "light"
     },
     "output_type": "display_data"
    }
   ],
   "source": [
    "fig, axs = plt.subplots(1, 2, figsize=[15, 4])\n",
    "\n",
    "# Plot the log loss during training\n",
    "axs[0].plot(evaluation_results['Train']['rmse'], label='Train')\n",
    "axs[0].plot(evaluation_results['Eval']['rmse'], label='Eval')\n",
    "axs[0].set_ylabel('Log loss')\n",
    "axs[0].set_xlabel('Boosting round')\n",
    "axs[0].set_title('Training performance')\n",
    "axs[0].legend()\n",
    "\n",
    "# Plot feature importance\n",
    "importances = pd.DataFrame({'features': model.feature_name(), \n",
    "                            'importance': model.feature_importance()}).sort_values('importance', ascending=False)\n",
    "axs[1].bar(x=np.arange(len(importances)), height=importances['importance'])\n",
    "axs[1].set_xticks(np.arange(len(importances)))\n",
    "axs[1].set_xticklabels(importances['features'],rotation=45)\n",
    "axs[1].set_title('Feature importance')\n",
    "\n",
    "plt.show()"
   ]
  },
  {
   "cell_type": "code",
   "execution_count": 19,
   "metadata": {
    "ExecuteTime": {
     "end_time": "2020-07-21T13:10:56.504571Z",
     "start_time": "2020-07-21T13:10:54.151464Z"
    }
   },
   "outputs": [
    {
     "data": {
      "application/vnd.jupyter.widget-view+json": {
       "model_id": "bdb06de0d00740218550e3f6d034d6a2",
       "version_major": 2,
       "version_minor": 0
      },
      "text/plain": [
       "HBox(children=(FloatProgress(value=0.0, max=17.0), HTML(value='')))"
      ]
     },
     "metadata": {},
     "output_type": "display_data"
    },
    {
     "name": "stdout",
     "output_type": "stream",
     "text": [
      "\n"
     ]
    }
   ],
   "source": [
    "#예측 탬플릿 만들기\n",
    "CARD_SIDO_NMs = grouped['CARD_SIDO_NM'].unique()\n",
    "STD_CLSS_NMs = grouped['STD_CLSS_NM'].unique()\n",
    "HOM_SIDO_NMs = grouped['HOM_SIDO_NM'].unique()\n",
    "AGEs = grouped['AGE'].unique()\n",
    "SEX_CTGO_CDs = grouped['SEX_CTGO_CD'].unique()\n",
    "FLCs = grouped['FLC'].unique()\n",
    "years = [2020]\n",
    "months = [3]\n",
    "\n",
    "temp = []\n",
    "for CARD_SIDO_NM in tqdm(CARD_SIDO_NMs):\n",
    "    for STD_CLSS_NM in STD_CLSS_NMs:\n",
    "        for HOM_SIDO_NM in HOM_SIDO_NMs:\n",
    "            for AGE in AGEs:\n",
    "                for SEX_CTGO_CD in SEX_CTGO_CDs:\n",
    "                    for FLC in FLCs:\n",
    "                        for year in years:\n",
    "                            for month in months:\n",
    "                                temp.append([CARD_SIDO_NM, STD_CLSS_NM, HOM_SIDO_NM, AGE, SEX_CTGO_CD, FLC, year, month])\n",
    "temp = np.array(temp)\n",
    "temp = pd.DataFrame(data=temp, columns = train_x.columns[:-2])"
   ]
  },
  {
   "cell_type": "code",
   "execution_count": 20,
   "metadata": {
    "ExecuteTime": {
     "end_time": "2020-07-21T13:10:56.674994Z",
     "start_time": "2020-07-21T13:10:56.504571Z"
    }
   },
   "outputs": [],
   "source": [
    "temp = pd.merge(temp,all_jobs_df,on =['CARD_SIDO_NM','STD_CLSS_NM'],how = 'outer')"
   ]
  },
  {
   "cell_type": "code",
   "execution_count": 21,
   "metadata": {
    "ExecuteTime": {
     "end_time": "2020-07-21T16:37:47.231935Z",
     "start_time": "2020-07-21T13:10:56.674994Z"
    }
   },
   "outputs": [],
   "source": [
    "# 예측\n",
    "pred = model.predict(temp)\n",
    "pred = np.expm1(pred)\n",
    "temp['AMT'] = np.round(pred,0)\n",
    "temp['REG_YYMM'] = temp['year']*100 +temp['month']\n",
    "temp = temp[['REG_YYMM','CARD_SIDO_NM','STD_CLSS_NM','AMT']]\n",
    "temp = temp.groupby(['REG_YYMM','CARD_SIDO_NM','STD_CLSS_NM']).sum().reset_index(drop=False)"
   ]
  },
  {
   "cell_type": "code",
   "execution_count": 22,
   "metadata": {
    "ExecuteTime": {
     "end_time": "2020-07-21T16:37:47.244155Z",
     "start_time": "2020-07-21T16:37:47.231935Z"
    }
   },
   "outputs": [],
   "source": [
    "temp['CARD_SIDO_NM'] = temp['CARD_SIDO_NM'].astype(int)\n",
    "temp['STD_CLSS_NM'] = temp['STD_CLSS_NM'].astype(int)"
   ]
  },
  {
   "cell_type": "code",
   "execution_count": 23,
   "metadata": {
    "ExecuteTime": {
     "end_time": "2020-07-21T16:37:47.260153Z",
     "start_time": "2020-07-21T16:37:47.244155Z"
    }
   },
   "outputs": [],
   "source": [
    "# 디코딩\n",
    "temp['CARD_SIDO_NM'] = encoders['CARD_SIDO_NM'].inverse_transform(temp['CARD_SIDO_NM'])\n",
    "temp['STD_CLSS_NM'] = encoders['STD_CLSS_NM'].inverse_transform(temp['STD_CLSS_NM'])"
   ]
  },
  {
   "cell_type": "code",
   "execution_count": 24,
   "metadata": {
    "ExecuteTime": {
     "end_time": "2020-07-21T16:37:47.292145Z",
     "start_time": "2020-07-21T16:37:47.260153Z"
    }
   },
   "outputs": [
    {
     "name": "stderr",
     "output_type": "stream",
     "text": [
      "C:\\Users\\kwonJH\\anaconda3\\lib\\site-packages\\ipykernel_launcher.py:2: SettingWithCopyWarning: \n",
      "A value is trying to be set on a copy of a slice from a DataFrame.\n",
      "Try using .loc[row_indexer,col_indexer] = value instead\n",
      "\n",
      "See the caveats in the documentation: https://pandas.pydata.org/pandas-docs/stable/user_guide/indexing.html#returning-a-view-versus-a-copy\n",
      "  \n"
     ]
    }
   ],
   "source": [
    "#정답\n",
    "eval_set['REG_YYMM'] = eval_set['year']*100 +eval_set['month']\n",
    "eval_set = eval_set[['REG_YYMM','CARD_SIDO_NM','STD_CLSS_NM','AMT']]\n",
    "eval_set_answer = eval_set.groupby(['REG_YYMM','CARD_SIDO_NM','STD_CLSS_NM']).sum().reset_index(drop=False)"
   ]
  },
  {
   "cell_type": "code",
   "execution_count": 25,
   "metadata": {
    "ExecuteTime": {
     "end_time": "2020-07-21T16:37:47.300146Z",
     "start_time": "2020-07-21T16:37:47.292145Z"
    }
   },
   "outputs": [],
   "source": [
    "# 디코딩\n",
    "eval_set_answer['CARD_SIDO_NM'] = encoders['CARD_SIDO_NM'].inverse_transform(eval_set_answer['CARD_SIDO_NM'])\n",
    "eval_set_answer['STD_CLSS_NM'] = encoders['STD_CLSS_NM'].inverse_transform(eval_set_answer['STD_CLSS_NM'])"
   ]
  },
  {
   "cell_type": "code",
   "execution_count": 26,
   "metadata": {
    "ExecuteTime": {
     "end_time": "2020-07-21T16:37:47.308146Z",
     "start_time": "2020-07-21T16:37:47.300146Z"
    }
   },
   "outputs": [],
   "source": [
    "eval_set_answer.columns = ['REG_YYMM', 'CARD_SIDO_NM', 'STD_CLSS_NM', 'AMT_answer']"
   ]
  },
  {
   "cell_type": "code",
   "execution_count": 27,
   "metadata": {
    "ExecuteTime": {
     "end_time": "2020-07-21T16:37:47.324148Z",
     "start_time": "2020-07-21T16:37:47.308146Z"
    }
   },
   "outputs": [],
   "source": [
    "temp = pd.merge(temp,eval_set_answer,how = 'left')"
   ]
  },
  {
   "cell_type": "code",
   "execution_count": 28,
   "metadata": {
    "ExecuteTime": {
     "end_time": "2020-07-21T16:37:47.348151Z",
     "start_time": "2020-07-21T16:37:47.324148Z"
    }
   },
   "outputs": [
    {
     "data": {
      "text/html": [
       "<div>\n",
       "<style scoped>\n",
       "    .dataframe tbody tr th:only-of-type {\n",
       "        vertical-align: middle;\n",
       "    }\n",
       "\n",
       "    .dataframe tbody tr th {\n",
       "        vertical-align: top;\n",
       "    }\n",
       "\n",
       "    .dataframe thead th {\n",
       "        text-align: right;\n",
       "    }\n",
       "</style>\n",
       "<table border=\"1\" class=\"dataframe\">\n",
       "  <thead>\n",
       "    <tr style=\"text-align: right;\">\n",
       "      <th></th>\n",
       "      <th>REG_YYMM</th>\n",
       "      <th>CARD_SIDO_NM</th>\n",
       "      <th>STD_CLSS_NM</th>\n",
       "      <th>AMT</th>\n",
       "      <th>AMT_answer</th>\n",
       "    </tr>\n",
       "  </thead>\n",
       "  <tbody>\n",
       "    <tr>\n",
       "      <th>4</th>\n",
       "      <td>202003</td>\n",
       "      <td>강원</td>\n",
       "      <td>그외 기타 분류안된 오락관련 서비스업</td>\n",
       "      <td>15802890.0</td>\n",
       "      <td>NaN</td>\n",
       "    </tr>\n",
       "    <tr>\n",
       "      <th>14</th>\n",
       "      <td>202003</td>\n",
       "      <td>강원</td>\n",
       "      <td>면세점</td>\n",
       "      <td>131424528.0</td>\n",
       "      <td>NaN</td>\n",
       "    </tr>\n",
       "    <tr>\n",
       "      <th>15</th>\n",
       "      <td>202003</td>\n",
       "      <td>강원</td>\n",
       "      <td>버스 운송업</td>\n",
       "      <td>20169544.0</td>\n",
       "      <td>NaN</td>\n",
       "    </tr>\n",
       "    <tr>\n",
       "      <th>30</th>\n",
       "      <td>202003</td>\n",
       "      <td>강원</td>\n",
       "      <td>정기 항공 운송업</td>\n",
       "      <td>310128380.0</td>\n",
       "      <td>NaN</td>\n",
       "    </tr>\n",
       "    <tr>\n",
       "      <th>35</th>\n",
       "      <td>202003</td>\n",
       "      <td>강원</td>\n",
       "      <td>택시 운송업</td>\n",
       "      <td>6157102.0</td>\n",
       "      <td>NaN</td>\n",
       "    </tr>\n",
       "    <tr>\n",
       "      <th>...</th>\n",
       "      <td>...</td>\n",
       "      <td>...</td>\n",
       "      <td>...</td>\n",
       "      <td>...</td>\n",
       "      <td>...</td>\n",
       "    </tr>\n",
       "    <tr>\n",
       "      <th>670</th>\n",
       "      <td>202003</td>\n",
       "      <td>충북</td>\n",
       "      <td>면세점</td>\n",
       "      <td>93073440.0</td>\n",
       "      <td>NaN</td>\n",
       "    </tr>\n",
       "    <tr>\n",
       "      <th>671</th>\n",
       "      <td>202003</td>\n",
       "      <td>충북</td>\n",
       "      <td>버스 운송업</td>\n",
       "      <td>10857886.0</td>\n",
       "      <td>NaN</td>\n",
       "    </tr>\n",
       "    <tr>\n",
       "      <th>679</th>\n",
       "      <td>202003</td>\n",
       "      <td>충북</td>\n",
       "      <td>여행사업</td>\n",
       "      <td>19047558.0</td>\n",
       "      <td>NaN</td>\n",
       "    </tr>\n",
       "    <tr>\n",
       "      <th>684</th>\n",
       "      <td>202003</td>\n",
       "      <td>충북</td>\n",
       "      <td>자동차 임대업</td>\n",
       "      <td>32956585.0</td>\n",
       "      <td>NaN</td>\n",
       "    </tr>\n",
       "    <tr>\n",
       "      <th>686</th>\n",
       "      <td>202003</td>\n",
       "      <td>충북</td>\n",
       "      <td>정기 항공 운송업</td>\n",
       "      <td>683567583.0</td>\n",
       "      <td>NaN</td>\n",
       "    </tr>\n",
       "  </tbody>\n",
       "</table>\n",
       "<p>88 rows × 5 columns</p>\n",
       "</div>"
      ],
      "text/plain": [
       "     REG_YYMM CARD_SIDO_NM           STD_CLSS_NM          AMT  AMT_answer\n",
       "4      202003           강원  그외 기타 분류안된 오락관련 서비스업   15802890.0         NaN\n",
       "14     202003           강원                   면세점  131424528.0         NaN\n",
       "15     202003           강원                버스 운송업   20169544.0         NaN\n",
       "30     202003           강원             정기 항공 운송업  310128380.0         NaN\n",
       "35     202003           강원                택시 운송업    6157102.0         NaN\n",
       "..        ...          ...                   ...          ...         ...\n",
       "670    202003           충북                   면세점   93073440.0         NaN\n",
       "671    202003           충북                버스 운송업   10857886.0         NaN\n",
       "679    202003           충북                  여행사업   19047558.0         NaN\n",
       "684    202003           충북               자동차 임대업   32956585.0         NaN\n",
       "686    202003           충북             정기 항공 운송업  683567583.0         NaN\n",
       "\n",
       "[88 rows x 5 columns]"
      ]
     },
     "execution_count": 28,
     "metadata": {},
     "output_type": "execute_result"
    }
   ],
   "source": [
    "#강원 정기 항공 운송업,면세점은 데이터로 보유하고 있지 않음. 근데 높게 예측 \n",
    "temp.loc[temp.AMT_answer.isna()]\n",
    "# temp.loc[temp.AMT_answer.isna()].to_csv('./insight/없는없종na로라도 넣어봄.csv')"
   ]
  },
  {
   "cell_type": "markdown",
   "metadata": {},
   "source": [
    "### predict"
   ]
  },
  {
   "cell_type": "code",
   "execution_count": 29,
   "metadata": {
    "ExecuteTime": {
     "end_time": "2020-07-21T16:37:47.468219Z",
     "start_time": "2020-07-21T16:37:47.348151Z"
    }
   },
   "outputs": [],
   "source": [
    "#train to private\n",
    "one = grouped[grouped.year == 2019]\n",
    "two = grouped[(grouped.year == 2020)&(grouped.month == 1)]\n",
    "\n",
    "p_train = pd.concat([one,two])"
   ]
  },
  {
   "cell_type": "code",
   "execution_count": 30,
   "metadata": {
    "ExecuteTime": {
     "end_time": "2020-07-21T16:37:47.514024Z",
     "start_time": "2020-07-21T16:37:47.468219Z"
    }
   },
   "outputs": [],
   "source": [
    "# Feature, taget 설정\n",
    "train_features = p_train.drop(['CSTMR_CNT','AMT','CNT'],axis= 1)\n",
    "train_target = np.log1p(p_train['AMT'])"
   ]
  },
  {
   "cell_type": "code",
   "execution_count": 31,
   "metadata": {
    "ExecuteTime": {
     "end_time": "2020-07-21T16:38:09.448479Z",
     "start_time": "2020-07-21T16:37:47.514024Z"
    }
   },
   "outputs": [],
   "source": [
    "train_ds = lgb.Dataset(train_features,label=train_target)\n",
    "model = lgb.train(params,train_ds,num_boost_round=1000)"
   ]
  },
  {
   "cell_type": "code",
   "execution_count": 32,
   "metadata": {
    "ExecuteTime": {
     "end_time": "2020-07-21T16:38:12.940908Z",
     "start_time": "2020-07-21T16:38:09.448479Z"
    }
   },
   "outputs": [
    {
     "data": {
      "application/vnd.jupyter.widget-view+json": {
       "model_id": "a113af8cd30b4bf9bc69cd87cb5cd59f",
       "version_major": 2,
       "version_minor": 0
      },
      "text/plain": [
       "HBox(children=(FloatProgress(value=0.0, max=17.0), HTML(value='')))"
      ]
     },
     "metadata": {},
     "output_type": "display_data"
    },
    {
     "name": "stdout",
     "output_type": "stream",
     "text": [
      "\n"
     ]
    }
   ],
   "source": [
    "#예측 탬플릿 만들기\n",
    "CARD_SIDO_NMs = grouped['CARD_SIDO_NM'].unique()\n",
    "STD_CLSS_NMs = grouped['STD_CLSS_NM'].unique()\n",
    "HOM_SIDO_NMs = grouped['HOM_SIDO_NM'].unique()\n",
    "AGEs = grouped['AGE'].unique()\n",
    "SEX_CTGO_CDs = grouped['SEX_CTGO_CD'].unique()\n",
    "FLCs = grouped['FLC'].unique()\n",
    "years = [2020]\n",
    "months = [4, 7]\n",
    "\n",
    "temp = []\n",
    "for CARD_SIDO_NM in tqdm(CARD_SIDO_NMs):\n",
    "    for STD_CLSS_NM in STD_CLSS_NMs:\n",
    "        for HOM_SIDO_NM in HOM_SIDO_NMs:\n",
    "            for AGE in AGEs:\n",
    "                for SEX_CTGO_CD in SEX_CTGO_CDs:\n",
    "                    for FLC in FLCs:\n",
    "                        for year in years:\n",
    "                            for month in months:\n",
    "                                temp.append([CARD_SIDO_NM, STD_CLSS_NM, HOM_SIDO_NM, AGE, SEX_CTGO_CD, FLC, year, month])\n",
    "temp = np.array(temp)\n",
    "temp = pd.DataFrame(data=temp, columns = train_features.columns[:-2])"
   ]
  },
  {
   "cell_type": "code",
   "execution_count": 33,
   "metadata": {
    "ExecuteTime": {
     "end_time": "2020-07-21T16:38:13.306723Z",
     "start_time": "2020-07-21T16:38:12.940908Z"
    }
   },
   "outputs": [],
   "source": [
    "temp = pd.merge(temp,all_jobs_df,on =['CARD_SIDO_NM','STD_CLSS_NM'],how = 'left')"
   ]
  },
  {
   "cell_type": "code",
   "execution_count": 34,
   "metadata": {
    "ExecuteTime": {
     "end_time": "2020-07-21T16:38:55.260429Z",
     "start_time": "2020-07-21T16:38:13.306723Z"
    }
   },
   "outputs": [],
   "source": [
    "# 예측\n",
    "pred = model.predict(temp)\n",
    "pred = np.expm1(pred)\n",
    "temp['AMT'] = np.round(pred,0)\n",
    "temp['REG_YYMM'] = temp['year']*100 +temp['month']\n",
    "temp = temp[['REG_YYMM','CARD_SIDO_NM','STD_CLSS_NM','AMT']]\n",
    "temp = temp.groupby(['REG_YYMM','CARD_SIDO_NM','STD_CLSS_NM']).sum().reset_index(drop=False)"
   ]
  },
  {
   "cell_type": "code",
   "execution_count": 35,
   "metadata": {
    "ExecuteTime": {
     "end_time": "2020-07-21T16:38:55.271868Z",
     "start_time": "2020-07-21T16:38:55.260429Z"
    }
   },
   "outputs": [],
   "source": [
    "# 디코딩\n",
    "temp['CARD_SIDO_NM'] = encoders['CARD_SIDO_NM'].inverse_transform(temp['CARD_SIDO_NM'])\n",
    "temp['STD_CLSS_NM'] = encoders['STD_CLSS_NM'].inverse_transform(temp['STD_CLSS_NM'])"
   ]
  },
  {
   "cell_type": "code",
   "execution_count": 36,
   "metadata": {
    "ExecuteTime": {
     "end_time": "2020-07-21T16:38:55.312919Z",
     "start_time": "2020-07-21T16:38:55.272892Z"
    },
    "scrolled": true
   },
   "outputs": [],
   "source": [
    "#제출파일\n",
    "submission = pd.read_csv('data/submission.csv',index_col=0)\n",
    "submission = submission.drop(['AMT'],axis= 1)\n",
    "submission = submission.merge(temp, left_on=['REG_YYMM','CARD_SIDO_NM','STD_CLSS_NM'],right_on =['REG_YYMM','CARD_SIDO_NM','STD_CLSS_NM'],how = 'left')\n",
    "submission.index.name = 'id'"
   ]
  },
  {
   "cell_type": "markdown",
   "metadata": {},
   "source": [
    "### 해당사업이 없는경우 0 처리"
   ]
  },
  {
   "cell_type": "code",
   "execution_count": 37,
   "metadata": {
    "ExecuteTime": {
     "end_time": "2020-07-21T16:38:55.408925Z",
     "start_time": "2020-07-21T16:38:55.312919Z"
    }
   },
   "outputs": [],
   "source": [
    "all_jobs_df = pd.read_csv('./data/외부데이터/18 사업체총조사_키워드매칭.csv',encoding = 'cp949')\n",
    "all_jobs_df = all_jobs_df[['행정구역별','데이터업종명','사업체수 (개)', '종사자수 (명)']]\n",
    "all_jobs_df.columns = ['CARD_SIDO_NM','STD_CLSS_NM', 'company','employee']\n",
    "all_jobs_df.employee = all_jobs_df.employee.apply(lambda x : x.replace(\"X\",\"0\")).astype(int)\n",
    "all_jobs_df = all_jobs_df.groupby(['CARD_SIDO_NM','STD_CLSS_NM'])[['company','employee']].sum().reset_index()\n",
    "\n",
    "#제출파일과 비교\n",
    "check_df = pd.merge(submission,all_jobs_df,left_on=['CARD_SIDO_NM','STD_CLSS_NM'],right_on=['CARD_SIDO_NM','STD_CLSS_NM'],how='left')"
   ]
  },
  {
   "cell_type": "code",
   "execution_count": 38,
   "metadata": {
    "ExecuteTime": {
     "end_time": "2020-07-21T16:38:55.424932Z",
     "start_time": "2020-07-21T16:38:55.408925Z"
    }
   },
   "outputs": [],
   "source": [
    "check_df.loc[check_df.company.isna(),\"AMT\"] = 0\n",
    "check_df.drop(['company','employee'],axis= 1,inplace= True)\n",
    "submission = check_df"
   ]
  },
  {
   "cell_type": "code",
   "execution_count": 39,
   "metadata": {
    "ExecuteTime": {
     "end_time": "2020-07-21T16:38:55.448917Z",
     "start_time": "2020-07-21T16:38:55.424932Z"
    }
   },
   "outputs": [
    {
     "data": {
      "text/html": [
       "<div>\n",
       "<style scoped>\n",
       "    .dataframe tbody tr th:only-of-type {\n",
       "        vertical-align: middle;\n",
       "    }\n",
       "\n",
       "    .dataframe tbody tr th {\n",
       "        vertical-align: top;\n",
       "    }\n",
       "\n",
       "    .dataframe thead th {\n",
       "        text-align: right;\n",
       "    }\n",
       "</style>\n",
       "<table border=\"1\" class=\"dataframe\">\n",
       "  <thead>\n",
       "    <tr style=\"text-align: right;\">\n",
       "      <th></th>\n",
       "      <th>REG_YYMM</th>\n",
       "      <th>CARD_SIDO_NM</th>\n",
       "      <th>STD_CLSS_NM</th>\n",
       "      <th>AMT</th>\n",
       "    </tr>\n",
       "    <tr>\n",
       "      <th>id</th>\n",
       "      <th></th>\n",
       "      <th></th>\n",
       "      <th></th>\n",
       "      <th></th>\n",
       "    </tr>\n",
       "  </thead>\n",
       "  <tbody>\n",
       "    <tr>\n",
       "      <th>0</th>\n",
       "      <td>202004</td>\n",
       "      <td>강원</td>\n",
       "      <td>건강보조식품 소매업</td>\n",
       "      <td>3.459976e+08</td>\n",
       "    </tr>\n",
       "    <tr>\n",
       "      <th>1</th>\n",
       "      <td>202004</td>\n",
       "      <td>강원</td>\n",
       "      <td>골프장 운영업</td>\n",
       "      <td>1.562328e+09</td>\n",
       "    </tr>\n",
       "    <tr>\n",
       "      <th>2</th>\n",
       "      <td>202004</td>\n",
       "      <td>강원</td>\n",
       "      <td>과실 및 채소 소매업</td>\n",
       "      <td>8.243249e+08</td>\n",
       "    </tr>\n",
       "    <tr>\n",
       "      <th>3</th>\n",
       "      <td>202004</td>\n",
       "      <td>강원</td>\n",
       "      <td>관광 민예품 및 선물용품 소매업</td>\n",
       "      <td>1.099997e+08</td>\n",
       "    </tr>\n",
       "    <tr>\n",
       "      <th>4</th>\n",
       "      <td>202004</td>\n",
       "      <td>강원</td>\n",
       "      <td>그외 기타 분류안된 오락관련 서비스업</td>\n",
       "      <td>1.078292e+08</td>\n",
       "    </tr>\n",
       "  </tbody>\n",
       "</table>\n",
       "</div>"
      ],
      "text/plain": [
       "    REG_YYMM CARD_SIDO_NM           STD_CLSS_NM           AMT\n",
       "id                                                           \n",
       "0     202004           강원            건강보조식품 소매업  3.459976e+08\n",
       "1     202004           강원               골프장 운영업  1.562328e+09\n",
       "2     202004           강원           과실 및 채소 소매업  8.243249e+08\n",
       "3     202004           강원     관광 민예품 및 선물용품 소매업  1.099997e+08\n",
       "4     202004           강원  그외 기타 분류안된 오락관련 서비스업  1.078292e+08"
      ]
     },
     "execution_count": 39,
     "metadata": {},
     "output_type": "execute_result"
    }
   ],
   "source": [
    "submission.index.name = 'id'\n",
    "today = datetime.datetime.now().date()\n",
    "submission.to_csv(f'./submission/{today}_submission_lgbm_test_left.csv', encoding='utf-8-sig')\n",
    "\n",
    "submission.head()"
   ]
  },
  {
   "cell_type": "code",
   "execution_count": 40,
   "metadata": {
    "ExecuteTime": {
     "end_time": "2020-07-21T16:38:55.456925Z",
     "start_time": "2020-07-21T16:38:55.448917Z"
    }
   },
   "outputs": [
    {
     "data": {
      "text/plain": [
       "(1394, 4)"
      ]
     },
     "execution_count": 40,
     "metadata": {},
     "output_type": "execute_result"
    }
   ],
   "source": [
    "submission.shape"
   ]
  },
  {
   "cell_type": "code",
   "execution_count": null,
   "metadata": {},
   "outputs": [],
   "source": []
  }
 ],
 "metadata": {
  "kernelspec": {
   "display_name": "Python 3",
   "language": "python",
   "name": "python3"
  },
  "language_info": {
   "codemirror_mode": {
    "name": "ipython",
    "version": 3
   },
   "file_extension": ".py",
   "mimetype": "text/x-python",
   "name": "python",
   "nbconvert_exporter": "python",
   "pygments_lexer": "ipython3",
   "version": "3.7.6"
  },
  "toc": {
   "base_numbering": 1,
   "nav_menu": {},
   "number_sections": true,
   "sideBar": true,
   "skip_h1_title": false,
   "title_cell": "Table of Contents",
   "title_sidebar": "Contents",
   "toc_cell": false,
   "toc_position": {},
   "toc_section_display": true,
   "toc_window_display": false
  },
  "varInspector": {
   "cols": {
    "lenName": 16,
    "lenType": 16,
    "lenVar": 40
   },
   "kernels_config": {
    "python": {
     "delete_cmd_postfix": "",
     "delete_cmd_prefix": "del ",
     "library": "var_list.py",
     "varRefreshCmd": "print(var_dic_list())"
    },
    "r": {
     "delete_cmd_postfix": ") ",
     "delete_cmd_prefix": "rm(",
     "library": "var_list.r",
     "varRefreshCmd": "cat(var_dic_list()) "
    }
   },
   "types_to_exclude": [
    "module",
    "function",
    "builtin_function_or_method",
    "instance",
    "_Feature"
   ],
   "window_display": false
  }
 },
 "nbformat": 4,
 "nbformat_minor": 2
}
