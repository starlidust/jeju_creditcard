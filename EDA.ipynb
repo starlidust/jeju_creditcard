{
 "cells": [
  {
   "cell_type": "markdown",
   "metadata": {},
   "source": [
    "## 개요"
   ]
  },
  {
   "cell_type": "markdown",
   "metadata": {},
   "source": [
    "### 목표\n",
    "\n",
    "- 신용카드 사용 내역 데이터를 활용한 지역별, 업종별 월간 카드 사용 총액 예측"
   ]
  },
  {
   "cell_type": "markdown",
   "metadata": {},
   "source": [
    "### features\n",
    "* REG_YYMM : 년월\n",
    "* CARD_SIDO_NM : 카드이용지역_시도 (가맹점 주소 기준)\n",
    "* CARD_CCG_NM : 카드이용지역_시군구 (가맹점 주소 기준)\n",
    "* STD_CLSS_NM : 업종명\n",
    "* HOM_SIDO_NM : 거주지역_시도 (고객 집주소 기준)\n",
    "* HOM_CCG_NM : 거주지역_시군구 (고객 집주소 기준)\n",
    "* AGE : 연령대\n",
    "* SEX_CTGO_CD : 성별 (1: 남성, 2: 여성)\n",
    "* FLC : 가구생애주기 (1: 1인가구, 2: 영유아자녀가구, 3: 중고생자녀가구, 4: 성인자녀가구, 5: 노년가구)\n",
    "* CSTMR_CNT : 이용고객수 (명)\n",
    "* AMT : 이용금액 (원)\n",
    "* CNT : 이용건수 (건)"
   ]
  },
  {
   "cell_type": "code",
   "execution_count": 1,
   "metadata": {
    "ExecuteTime": {
     "end_time": "2020-07-28T15:31:51.139936Z",
     "start_time": "2020-07-28T15:31:48.787467Z"
    }
   },
   "outputs": [],
   "source": [
    "import pandas as pd\n",
    "import numpy as np\n",
    "import matplotlib.pyplot as plt\n",
    "import seaborn as sns\n",
    "import os \n",
    "import matplotlib\n",
    "import datetime"
   ]
  },
  {
   "cell_type": "code",
   "execution_count": 2,
   "metadata": {
    "ExecuteTime": {
     "end_time": "2020-07-28T15:32:13.941457Z",
     "start_time": "2020-07-28T15:31:51.139936Z"
    }
   },
   "outputs": [],
   "source": [
    "path = './data/'\n",
    "train = pd.read_csv(path +'201901-202003.csv')\n",
    "submission = pd.read_csv(path + 'submission.csv')"
   ]
  },
  {
   "cell_type": "code",
   "execution_count": 8,
   "metadata": {
    "ExecuteTime": {
     "end_time": "2020-07-28T15:35:35.077703Z",
     "start_time": "2020-07-28T15:35:34.629901Z"
    }
   },
   "outputs": [],
   "source": [
    "data_1904 = train[train.REG_YYMM == 201904].groupby(['CARD_SIDO_NM','STD_CLSS_NM'])['AMT'].sum().reset_index()"
   ]
  },
  {
   "cell_type": "code",
   "execution_count": 10,
   "metadata": {
    "ExecuteTime": {
     "end_time": "2020-07-28T15:36:28.133267Z",
     "start_time": "2020-07-28T15:36:28.115024Z"
    }
   },
   "outputs": [],
   "source": [
    "data_1904.to_csv('data_1904.csv',index=False)"
   ]
  },
  {
   "cell_type": "markdown",
   "metadata": {
    "ExecuteTime": {
     "end_time": "2020-06-24T07:27:35.828615Z",
     "start_time": "2020-06-24T07:27:35.823615Z"
    }
   },
   "source": [
    "## EDA"
   ]
  },
  {
   "cell_type": "code",
   "execution_count": 4,
   "metadata": {
    "ExecuteTime": {
     "end_time": "2020-07-03T05:24:08.658961Z",
     "start_time": "2020-07-03T05:24:08.649716Z"
    }
   },
   "outputs": [
    {
     "data": {
      "text/plain": [
       "((24697792, 12), (1394, 5))"
      ]
     },
     "execution_count": 4,
     "metadata": {},
     "output_type": "execute_result"
    }
   ],
   "source": [
    "train.shape, submission.shape"
   ]
  },
  {
   "cell_type": "code",
   "execution_count": 5,
   "metadata": {
    "ExecuteTime": {
     "end_time": "2020-07-03T05:24:08.670963Z",
     "start_time": "2020-07-03T05:24:08.659959Z"
    }
   },
   "outputs": [
    {
     "data": {
      "text/html": [
       "<div>\n",
       "<style scoped>\n",
       "    .dataframe tbody tr th:only-of-type {\n",
       "        vertical-align: middle;\n",
       "    }\n",
       "\n",
       "    .dataframe tbody tr th {\n",
       "        vertical-align: top;\n",
       "    }\n",
       "\n",
       "    .dataframe thead th {\n",
       "        text-align: right;\n",
       "    }\n",
       "</style>\n",
       "<table border=\"1\" class=\"dataframe\">\n",
       "  <thead>\n",
       "    <tr style=\"text-align: right;\">\n",
       "      <th></th>\n",
       "      <th>REG_YYMM</th>\n",
       "      <th>CARD_SIDO_NM</th>\n",
       "      <th>CARD_CCG_NM</th>\n",
       "      <th>STD_CLSS_NM</th>\n",
       "      <th>HOM_SIDO_NM</th>\n",
       "      <th>HOM_CCG_NM</th>\n",
       "      <th>AGE</th>\n",
       "      <th>SEX_CTGO_CD</th>\n",
       "      <th>FLC</th>\n",
       "      <th>CSTMR_CNT</th>\n",
       "      <th>AMT</th>\n",
       "      <th>CNT</th>\n",
       "    </tr>\n",
       "  </thead>\n",
       "  <tbody>\n",
       "    <tr>\n",
       "      <td>0</td>\n",
       "      <td>201901</td>\n",
       "      <td>강원</td>\n",
       "      <td>강릉시</td>\n",
       "      <td>건강보조식품 소매업</td>\n",
       "      <td>강원</td>\n",
       "      <td>강릉시</td>\n",
       "      <td>20s</td>\n",
       "      <td>1</td>\n",
       "      <td>1</td>\n",
       "      <td>4</td>\n",
       "      <td>311200</td>\n",
       "      <td>4</td>\n",
       "    </tr>\n",
       "    <tr>\n",
       "      <td>1</td>\n",
       "      <td>201901</td>\n",
       "      <td>강원</td>\n",
       "      <td>강릉시</td>\n",
       "      <td>건강보조식품 소매업</td>\n",
       "      <td>강원</td>\n",
       "      <td>강릉시</td>\n",
       "      <td>30s</td>\n",
       "      <td>1</td>\n",
       "      <td>2</td>\n",
       "      <td>7</td>\n",
       "      <td>1374500</td>\n",
       "      <td>8</td>\n",
       "    </tr>\n",
       "  </tbody>\n",
       "</table>\n",
       "</div>"
      ],
      "text/plain": [
       "   REG_YYMM CARD_SIDO_NM CARD_CCG_NM STD_CLSS_NM HOM_SIDO_NM HOM_CCG_NM  AGE  \\\n",
       "0    201901           강원         강릉시  건강보조식품 소매업          강원        강릉시  20s   \n",
       "1    201901           강원         강릉시  건강보조식품 소매업          강원        강릉시  30s   \n",
       "\n",
       "   SEX_CTGO_CD  FLC  CSTMR_CNT      AMT  CNT  \n",
       "0            1    1          4   311200    4  \n",
       "1            1    2          7  1374500    8  "
      ]
     },
     "execution_count": 5,
     "metadata": {},
     "output_type": "execute_result"
    }
   ],
   "source": [
    "train.head(2)"
   ]
  },
  {
   "cell_type": "code",
   "execution_count": 6,
   "metadata": {
    "ExecuteTime": {
     "end_time": "2020-07-03T05:24:08.677963Z",
     "start_time": "2020-07-03T05:24:08.671961Z"
    }
   },
   "outputs": [
    {
     "data": {
      "text/html": [
       "<div>\n",
       "<style scoped>\n",
       "    .dataframe tbody tr th:only-of-type {\n",
       "        vertical-align: middle;\n",
       "    }\n",
       "\n",
       "    .dataframe tbody tr th {\n",
       "        vertical-align: top;\n",
       "    }\n",
       "\n",
       "    .dataframe thead th {\n",
       "        text-align: right;\n",
       "    }\n",
       "</style>\n",
       "<table border=\"1\" class=\"dataframe\">\n",
       "  <thead>\n",
       "    <tr style=\"text-align: right;\">\n",
       "      <th></th>\n",
       "      <th>id</th>\n",
       "      <th>REG_YYMM</th>\n",
       "      <th>CARD_SIDO_NM</th>\n",
       "      <th>STD_CLSS_NM</th>\n",
       "      <th>AMT</th>\n",
       "    </tr>\n",
       "  </thead>\n",
       "  <tbody>\n",
       "    <tr>\n",
       "      <td>0</td>\n",
       "      <td>0</td>\n",
       "      <td>202004</td>\n",
       "      <td>강원</td>\n",
       "      <td>건강보조식품 소매업</td>\n",
       "      <td>0</td>\n",
       "    </tr>\n",
       "    <tr>\n",
       "      <td>1</td>\n",
       "      <td>1</td>\n",
       "      <td>202004</td>\n",
       "      <td>강원</td>\n",
       "      <td>골프장 운영업</td>\n",
       "      <td>0</td>\n",
       "    </tr>\n",
       "  </tbody>\n",
       "</table>\n",
       "</div>"
      ],
      "text/plain": [
       "   id  REG_YYMM CARD_SIDO_NM STD_CLSS_NM  AMT\n",
       "0   0    202004           강원  건강보조식품 소매업    0\n",
       "1   1    202004           강원     골프장 운영업    0"
      ]
     },
     "execution_count": 6,
     "metadata": {},
     "output_type": "execute_result"
    }
   ],
   "source": [
    "submission.head(2)"
   ]
  },
  {
   "cell_type": "code",
   "execution_count": 7,
   "metadata": {
    "ExecuteTime": {
     "end_time": "2020-07-03T05:24:08.684965Z",
     "start_time": "2020-07-03T05:24:08.678963Z"
    }
   },
   "outputs": [
    {
     "data": {
      "text/html": [
       "<div>\n",
       "<style scoped>\n",
       "    .dataframe tbody tr th:only-of-type {\n",
       "        vertical-align: middle;\n",
       "    }\n",
       "\n",
       "    .dataframe tbody tr th {\n",
       "        vertical-align: top;\n",
       "    }\n",
       "\n",
       "    .dataframe thead th {\n",
       "        text-align: right;\n",
       "    }\n",
       "</style>\n",
       "<table border=\"1\" class=\"dataframe\">\n",
       "  <thead>\n",
       "    <tr style=\"text-align: right;\">\n",
       "      <th></th>\n",
       "      <th>id</th>\n",
       "      <th>REG_YYMM</th>\n",
       "      <th>CARD_SIDO_NM</th>\n",
       "      <th>STD_CLSS_NM</th>\n",
       "      <th>AMT</th>\n",
       "    </tr>\n",
       "  </thead>\n",
       "  <tbody>\n",
       "    <tr>\n",
       "      <td>1389</td>\n",
       "      <td>1389</td>\n",
       "      <td>202007</td>\n",
       "      <td>충북</td>\n",
       "      <td>피자 햄버거 샌드위치 및 유사 음식점업</td>\n",
       "      <td>0</td>\n",
       "    </tr>\n",
       "    <tr>\n",
       "      <td>1390</td>\n",
       "      <td>1390</td>\n",
       "      <td>202007</td>\n",
       "      <td>충북</td>\n",
       "      <td>한식 음식점업</td>\n",
       "      <td>0</td>\n",
       "    </tr>\n",
       "    <tr>\n",
       "      <td>1391</td>\n",
       "      <td>1391</td>\n",
       "      <td>202007</td>\n",
       "      <td>충북</td>\n",
       "      <td>호텔업</td>\n",
       "      <td>0</td>\n",
       "    </tr>\n",
       "    <tr>\n",
       "      <td>1392</td>\n",
       "      <td>1392</td>\n",
       "      <td>202007</td>\n",
       "      <td>충북</td>\n",
       "      <td>화장품 및 방향제 소매업</td>\n",
       "      <td>0</td>\n",
       "    </tr>\n",
       "    <tr>\n",
       "      <td>1393</td>\n",
       "      <td>1393</td>\n",
       "      <td>202007</td>\n",
       "      <td>충북</td>\n",
       "      <td>휴양콘도 운영업</td>\n",
       "      <td>0</td>\n",
       "    </tr>\n",
       "  </tbody>\n",
       "</table>\n",
       "</div>"
      ],
      "text/plain": [
       "        id  REG_YYMM CARD_SIDO_NM            STD_CLSS_NM  AMT\n",
       "1389  1389    202007           충북  피자 햄버거 샌드위치 및 유사 음식점업    0\n",
       "1390  1390    202007           충북                한식 음식점업    0\n",
       "1391  1391    202007           충북                    호텔업    0\n",
       "1392  1392    202007           충북          화장품 및 방향제 소매업    0\n",
       "1393  1393    202007           충북               휴양콘도 운영업    0"
      ]
     },
     "execution_count": 7,
     "metadata": {},
     "output_type": "execute_result"
    }
   ],
   "source": [
    "submission.tail()"
   ]
  },
  {
   "cell_type": "markdown",
   "metadata": {},
   "source": [
    "### 타입, 결측, 고유값 확인\n",
    "* CARD_CCG_NM(시군구), HOM_CCG_NM(거주지역 시군구)에 결측치 확인"
   ]
  },
  {
   "cell_type": "code",
   "execution_count": 12,
   "metadata": {
    "ExecuteTime": {
     "end_time": "2020-07-03T06:54:37.976671Z",
     "start_time": "2020-07-03T06:54:37.972679Z"
    },
    "code_folding": []
   },
   "outputs": [],
   "source": [
    "def info_df(data):\n",
    "    '''data의 type, null_count, null_rate를 알려주는 함수\n",
    "    \n",
    "    Parameter\n",
    "    ---------\n",
    "    data(DataFrame) : 파악하고자하는 Data\n",
    "       \n",
    "    '''\n",
    "    info_df = pd.DataFrame({\"type\":data.dtypes,\n",
    "                            'null_count':data.isnull().sum(),\n",
    "                           'null_rate':data.isnull().sum()/data.isnull().count() * 100})  \n",
    "    info_df['uni_count'] = data.apply(lambda x : x.nunique())\n",
    "    \n",
    "    return info_df"
   ]
  },
  {
   "cell_type": "code",
   "execution_count": 13,
   "metadata": {
    "ExecuteTime": {
     "end_time": "2020-07-03T06:55:08.159855Z",
     "start_time": "2020-07-03T06:54:38.362758Z"
    }
   },
   "outputs": [
    {
     "data": {
      "text/html": [
       "<div>\n",
       "<style scoped>\n",
       "    .dataframe tbody tr th:only-of-type {\n",
       "        vertical-align: middle;\n",
       "    }\n",
       "\n",
       "    .dataframe tbody tr th {\n",
       "        vertical-align: top;\n",
       "    }\n",
       "\n",
       "    .dataframe thead th {\n",
       "        text-align: right;\n",
       "    }\n",
       "</style>\n",
       "<table border=\"1\" class=\"dataframe\">\n",
       "  <thead>\n",
       "    <tr style=\"text-align: right;\">\n",
       "      <th></th>\n",
       "      <th>type</th>\n",
       "      <th>null_count</th>\n",
       "      <th>null_rate</th>\n",
       "      <th>uni_count</th>\n",
       "    </tr>\n",
       "  </thead>\n",
       "  <tbody>\n",
       "    <tr>\n",
       "      <td>REG_YYMM</td>\n",
       "      <td>int64</td>\n",
       "      <td>0</td>\n",
       "      <td>0.000000</td>\n",
       "      <td>15</td>\n",
       "    </tr>\n",
       "    <tr>\n",
       "      <td>CARD_SIDO_NM</td>\n",
       "      <td>object</td>\n",
       "      <td>0</td>\n",
       "      <td>0.000000</td>\n",
       "      <td>17</td>\n",
       "    </tr>\n",
       "    <tr>\n",
       "      <td>CARD_CCG_NM</td>\n",
       "      <td>object</td>\n",
       "      <td>87213</td>\n",
       "      <td>0.353121</td>\n",
       "      <td>226</td>\n",
       "    </tr>\n",
       "    <tr>\n",
       "      <td>STD_CLSS_NM</td>\n",
       "      <td>object</td>\n",
       "      <td>0</td>\n",
       "      <td>0.000000</td>\n",
       "      <td>41</td>\n",
       "    </tr>\n",
       "    <tr>\n",
       "      <td>HOM_SIDO_NM</td>\n",
       "      <td>object</td>\n",
       "      <td>0</td>\n",
       "      <td>0.000000</td>\n",
       "      <td>17</td>\n",
       "    </tr>\n",
       "    <tr>\n",
       "      <td>HOM_CCG_NM</td>\n",
       "      <td>object</td>\n",
       "      <td>147787</td>\n",
       "      <td>0.598381</td>\n",
       "      <td>226</td>\n",
       "    </tr>\n",
       "    <tr>\n",
       "      <td>AGE</td>\n",
       "      <td>object</td>\n",
       "      <td>0</td>\n",
       "      <td>0.000000</td>\n",
       "      <td>7</td>\n",
       "    </tr>\n",
       "    <tr>\n",
       "      <td>SEX_CTGO_CD</td>\n",
       "      <td>int64</td>\n",
       "      <td>0</td>\n",
       "      <td>0.000000</td>\n",
       "      <td>2</td>\n",
       "    </tr>\n",
       "    <tr>\n",
       "      <td>FLC</td>\n",
       "      <td>int64</td>\n",
       "      <td>0</td>\n",
       "      <td>0.000000</td>\n",
       "      <td>5</td>\n",
       "    </tr>\n",
       "    <tr>\n",
       "      <td>CSTMR_CNT</td>\n",
       "      <td>int64</td>\n",
       "      <td>0</td>\n",
       "      <td>0.000000</td>\n",
       "      <td>12794</td>\n",
       "    </tr>\n",
       "    <tr>\n",
       "      <td>AMT</td>\n",
       "      <td>int64</td>\n",
       "      <td>0</td>\n",
       "      <td>0.000000</td>\n",
       "      <td>2610753</td>\n",
       "    </tr>\n",
       "    <tr>\n",
       "      <td>CNT</td>\n",
       "      <td>int64</td>\n",
       "      <td>0</td>\n",
       "      <td>0.000000</td>\n",
       "      <td>28061</td>\n",
       "    </tr>\n",
       "  </tbody>\n",
       "</table>\n",
       "</div>"
      ],
      "text/plain": [
       "                type  null_count  null_rate  uni_count\n",
       "REG_YYMM       int64           0   0.000000         15\n",
       "CARD_SIDO_NM  object           0   0.000000         17\n",
       "CARD_CCG_NM   object       87213   0.353121        226\n",
       "STD_CLSS_NM   object           0   0.000000         41\n",
       "HOM_SIDO_NM   object           0   0.000000         17\n",
       "HOM_CCG_NM    object      147787   0.598381        226\n",
       "AGE           object           0   0.000000          7\n",
       "SEX_CTGO_CD    int64           0   0.000000          2\n",
       "FLC            int64           0   0.000000          5\n",
       "CSTMR_CNT      int64           0   0.000000      12794\n",
       "AMT            int64           0   0.000000    2610753\n",
       "CNT            int64           0   0.000000      28061"
      ]
     },
     "execution_count": 13,
     "metadata": {},
     "output_type": "execute_result"
    }
   ],
   "source": [
    "info_df(train)"
   ]
  },
  {
   "cell_type": "markdown",
   "metadata": {},
   "source": [
    "### 추가변수"
   ]
  },
  {
   "cell_type": "code",
   "execution_count": 14,
   "metadata": {
    "ExecuteTime": {
     "end_time": "2020-07-03T06:55:08.319882Z",
     "start_time": "2020-07-03T06:55:08.160855Z"
    }
   },
   "outputs": [],
   "source": [
    "#이용건당 평균이용금액\n",
    "train['CNT_per_AMT'] = train['AMT']/train['CNT']"
   ]
  },
  {
   "cell_type": "markdown",
   "metadata": {},
   "source": [
    "### 연월(REG_YYMM)"
   ]
  },
  {
   "cell_type": "markdown",
   "metadata": {},
   "source": [
    "#### 데이터 개수\n",
    "* 2019년 중순때까지의 데이터가 가장 많고, 2020년 초부터 데이터가 감소함"
   ]
  },
  {
   "cell_type": "code",
   "execution_count": 14,
   "metadata": {
    "ExecuteTime": {
     "end_time": "2020-06-24T07:34:39.893685Z",
     "start_time": "2020-06-24T07:34:25.568760Z"
    }
   },
   "outputs": [],
   "source": [
    "train['year'] = train['REG_YYMM'].apply(lambda x: str(x)[:4])\n",
    "train['month'] = train['REG_YYMM'].apply(lambda x : str(x)[5:])"
   ]
  },
  {
   "cell_type": "code",
   "execution_count": 19,
   "metadata": {
    "ExecuteTime": {
     "end_time": "2020-07-03T06:56:38.104658Z",
     "start_time": "2020-07-03T06:56:38.101657Z"
    }
   },
   "outputs": [],
   "source": [
    "def check_graph(data, group, col, g_type, head = 0):\n",
    "    '''\n",
    "    이용고객수, 이용금액, 이용건수, 평균이용금액\n",
    "    4개의 그래프를 한번에 \n",
    "    '''\n",
    "    sample = train.groupby(group)[col].sum()\n",
    "    if head > 0 :\n",
    "        sample = sample.sort_values(ascending=False)\n",
    "        sample  = sample.head(head)\n",
    "    \n",
    "    if group == 'REG_YYMM':\n",
    "        sample.index= list(map(lambda x : datetime.datetime.strptime(str(x),\"%Y%m\"), sample.index))\n",
    "    if g_type == 'line':\n",
    "        sns.lineplot(sample.index,sample.values)\n",
    "    if g_type == 'bar':\n",
    "        sns.barplot(sample.index,sample.values)\n",
    "    plt.xticks(rotation = 45)\n",
    "    plt.show()\n",
    "    \n",
    "    return sample"
   ]
  },
  {
   "cell_type": "code",
   "execution_count": 100,
   "metadata": {
    "ExecuteTime": {
     "end_time": "2020-06-24T08:29:18.150287Z",
     "start_time": "2020-06-24T08:29:17.807209Z"
    },
    "scrolled": true
   },
   "outputs": [
    {
     "data": {
      "image/png": "[encoded data removed]",
      "text/plain": [
       "<Figure size 432x288 with 1 Axes>"
      ]
     },
     "metadata": {},
     "output_type": "display_data"
    }
   ],
   "source": [
    "year_count = train.REG_YYMM.value_counts().sort_index()/10000\n",
    "year_count.index= list(map(lambda x : datetime.datetime.strptime(str(x),\"%Y%m\"), year_count.index))\n",
    "sns.lineplot(year_count.index,year_count.values)\n",
    "plt.show()"
   ]
  },
  {
   "cell_type": "code",
   "execution_count": 60,
   "metadata": {
    "ExecuteTime": {
     "end_time": "2020-06-24T07:59:20.706768Z",
     "start_time": "2020-06-24T07:59:20.703767Z"
    }
   },
   "outputs": [
    {
     "name": "stdout",
     "output_type": "stream",
     "text": [
      "데이터가 가장 많은 날과 개수 : 2019-08-01 00:00:00, 188.0296\n"
     ]
    }
   ],
   "source": [
    "print(f'데이터가 가장 많은 날과 개수 : {year_count.idxmax()}, {year_count.max()}')"
   ]
  },
  {
   "cell_type": "markdown",
   "metadata": {
    "heading_collapsed": true
   },
   "source": [
    "#### 년월별 전체고객의수"
   ]
  },
  {
   "cell_type": "code",
   "execution_count": 20,
   "metadata": {
    "ExecuteTime": {
     "end_time": "2020-07-03T06:56:44.872198Z",
     "start_time": "2020-07-03T06:56:44.285064Z"
    },
    "hidden": true
   },
   "outputs": [
    {
     "name": "stderr",
     "output_type": "stream",
     "text": [
      "C:\\Users\\User\\AppData\\Roaming\\Python\\Python36\\site-packages\\pandas\\plotting\\_matplotlib\\converter.py:103: FutureWarning: Using an implicitly registered datetime converter for a matplotlib plotting method. The converter was registered by pandas on import. Future versions of pandas will require you to explicitly register matplotlib converters.\n",
      "\n",
      "To register the converters:\n",
      "\t>>> from pandas.plotting import register_matplotlib_converters\n",
      "\t>>> register_matplotlib_converters()\n",
      "  warnings.warn(msg, FutureWarning)\n"
     ]
    },
    {
     "data": {
      "image/png": "[encoded data removed]",
      "text/plain": [
       "<Figure size 432x288 with 1 Axes>"
      ]
     },
     "metadata": {},
     "output_type": "display_data"
    },
    {
     "data": {
      "text/plain": [
       "2019-01-01     98934121\n",
       "2019-02-01     93167173\n",
       "2019-03-01    103677023\n",
       "2019-04-01    103458114\n",
       "2019-05-01    111522559\n",
       "2019-06-01    108158619\n",
       "2019-07-01    109315961\n",
       "2019-08-01    112474554\n",
       "2019-09-01    106236820\n",
       "2019-10-01    107848957\n",
       "2019-11-01    101636818\n",
       "2019-12-01    104752998\n",
       "2020-01-01    100977994\n",
       "2020-02-01     85561518\n",
       "2020-03-01     82763108\n",
       "Name: CSTMR_CNT, dtype: int64"
      ]
     },
     "execution_count": 20,
     "metadata": {},
     "output_type": "execute_result"
    }
   ],
   "source": [
    "check_graph(train, 'REG_YYMM','CSTMR_CNT','line')"
   ]
  },
  {
   "cell_type": "markdown",
   "metadata": {
    "heading_collapsed": true
   },
   "source": [
    "#### 년월별 전체 이용금액 \n",
    "* 2019-02에는 전체이용금액이 감소\n",
    "* 2019-05, 2020-12에는 전체이용금액이 다소 증가 "
   ]
  },
  {
   "cell_type": "code",
   "execution_count": 113,
   "metadata": {
    "ExecuteTime": {
     "end_time": "2020-06-24T08:44:11.890422Z",
     "start_time": "2020-06-24T08:44:11.247277Z"
    },
    "hidden": true
   },
   "outputs": [
    {
     "data": {
      "image/png": "[encoded data removed]",
      "text/plain": [
       "<Figure size 432x288 with 1 Axes>"
      ]
     },
     "metadata": {},
     "output_type": "display_data"
    },
    {
     "data": {
      "text/plain": [
       "2019-01-01    4052317259025\n",
       "2019-02-01    3634345832156\n",
       "2019-03-01    4105409759731\n",
       "2019-04-01    4006698507386\n",
       "2019-05-01    4345471235813\n",
       "2019-06-01    4122105394194\n",
       "2019-07-01    4187299694709\n",
       "2019-08-01    4268655968810\n",
       "2019-09-01    4123348058794\n",
       "2019-10-01    4176583723584\n",
       "2019-11-01    4047721898575\n",
       "2019-12-01    4292549731776\n",
       "2020-01-01    4124940612820\n",
       "2020-02-01    3370694945536\n",
       "2020-03-01    3437884426097\n",
       "Name: AMT, dtype: int64"
      ]
     },
     "execution_count": 113,
     "metadata": {},
     "output_type": "execute_result"
    }
   ],
   "source": [
    "check_graph(train, 'REG_YYMM','AMT','line')"
   ]
  },
  {
   "cell_type": "markdown",
   "metadata": {
    "heading_collapsed": true
   },
   "source": [
    "#### 년월별 전체 이용건수\n",
    "* 2019-02에는 전체이용건수이 감소\n",
    "* 2019-05에는 전체이용건수이 다소 증가 "
   ]
  },
  {
   "cell_type": "code",
   "execution_count": 114,
   "metadata": {
    "ExecuteTime": {
     "end_time": "2020-06-24T08:44:13.794852Z",
     "start_time": "2020-06-24T08:44:13.215721Z"
    },
    "hidden": true
   },
   "outputs": [
    {
     "data": {
      "image/png": "[encoded data removed]",
      "text/plain": [
       "<Figure size 432x288 with 1 Axes>"
      ]
     },
     "metadata": {},
     "output_type": "display_data"
    },
    {
     "data": {
      "text/plain": [
       "2019-01-01    197458766\n",
       "2019-02-01    175758111\n",
       "2019-03-01    209598246\n",
       "2019-04-01    211060076\n",
       "2019-05-01    228416675\n",
       "2019-06-01    220754071\n",
       "2019-07-01    226194365\n",
       "2019-08-01    228608721\n",
       "2019-09-01    215136423\n",
       "2019-10-01    224550333\n",
       "2019-11-01    208228088\n",
       "2019-12-01    210966966\n",
       "2020-01-01    200612662\n",
       "2020-02-01    176459558\n",
       "2020-03-01    179229457\n",
       "Name: CNT, dtype: int64"
      ]
     },
     "execution_count": 114,
     "metadata": {},
     "output_type": "execute_result"
    }
   ],
   "source": [
    "check_graph(train, 'REG_YYMM','CNT','line')"
   ]
  },
  {
   "cell_type": "code",
   "execution_count": null,
   "metadata": {
    "hidden": true
   },
   "outputs": [],
   "source": [
    "year_people = train.groupby('REG_YYMM')['AMT'].mean()\n",
    "year_people.index= list(map(lambda x : datetime.datetime.strptime(str(x),\"%Y%m\"), year_people.index))\n",
    "sns.lineplot(year_people.index,year_people.values)\n",
    "plt.show()"
   ]
  },
  {
   "cell_type": "markdown",
   "metadata": {},
   "source": [
    "### CARD_SIDO_NM "
   ]
  },
  {
   "cell_type": "code",
   "execution_count": 115,
   "metadata": {
    "ExecuteTime": {
     "end_time": "2020-06-24T08:44:18.268860Z",
     "start_time": "2020-06-24T08:44:15.191166Z"
    }
   },
   "outputs": [
    {
     "data": {
      "image/png": "[encoded data removed]",
      "text/plain": [
       "<Figure size 432x288 with 1 Axes>"
      ]
     },
     "metadata": {},
     "output_type": "display_data"
    }
   ],
   "source": [
    "sns.countplot(train.CARD_SIDO_NM)\n",
    "plt.show()"
   ]
  },
  {
   "cell_type": "markdown",
   "metadata": {
    "heading_collapsed": true
   },
   "source": [
    "#### 시도별 이용고객수\n",
    "* 데이터 개수와 크케 다르지 않음, 강원정도 차이발생"
   ]
  },
  {
   "cell_type": "code",
   "execution_count": 116,
   "metadata": {
    "ExecuteTime": {
     "end_time": "2020-06-24T08:44:20.843439Z",
     "start_time": "2020-06-24T08:44:19.672175Z"
    },
    "hidden": true
   },
   "outputs": [
    {
     "data": {
      "image/png": "[encoded data removed]",
      "text/plain": [
       "<Figure size 432x288 with 1 Axes>"
      ]
     },
     "metadata": {},
     "output_type": "display_data"
    },
    {
     "data": {
      "text/plain": [
       "CARD_SIDO_NM\n",
       "강원     35424111\n",
       "경기    345133871\n",
       "경남     78397280\n",
       "경북     59718037\n",
       "광주     43127377\n",
       "대구     83085072\n",
       "대전     31448075\n",
       "부산    119843370\n",
       "서울    444724002\n",
       "세종      5464559\n",
       "울산     28116110\n",
       "인천     72829668\n",
       "전남     34805715\n",
       "전북     43902437\n",
       "제주     24662602\n",
       "충남     47135876\n",
       "충북     32668175\n",
       "Name: CSTMR_CNT, dtype: int64"
      ]
     },
     "execution_count": 116,
     "metadata": {},
     "output_type": "execute_result"
    }
   ],
   "source": [
    "check_graph(train, 'CARD_SIDO_NM','CSTMR_CNT','bar')"
   ]
  },
  {
   "cell_type": "markdown",
   "metadata": {
    "heading_collapsed": true
   },
   "source": [
    "#### 시도별 이용금액\n",
    "* 경기와 서울이 비슷한 수준으로 나타남"
   ]
  },
  {
   "cell_type": "code",
   "execution_count": 118,
   "metadata": {
    "ExecuteTime": {
     "end_time": "2020-06-24T08:49:09.274799Z",
     "start_time": "2020-06-24T08:49:08.087532Z"
    },
    "hidden": true
   },
   "outputs": [
    {
     "data": {
      "image/png": "[encoded data removed]",
      "text/plain": [
       "<Figure size 432x288 with 1 Axes>"
      ]
     },
     "metadata": {},
     "output_type": "display_data"
    },
    {
     "data": {
      "text/plain": [
       "CARD_SIDO_NM\n",
       "강원     1589611299919\n",
       "경기    14201885234869\n",
       "경남     3485130029864\n",
       "경북     2767620595248\n",
       "광주     1705650360934\n",
       "대구     3020064352604\n",
       "대전     1128913460716\n",
       "부산     4491306031541\n",
       "서울    14677131049031\n",
       "세종      204045817348\n",
       "울산     1255213605740\n",
       "인천     3056247462913\n",
       "전남     1839760777139\n",
       "전북     1961230185341\n",
       "제주     1343582224768\n",
       "충남     2103197375108\n",
       "충북     1465437185923\n",
       "Name: AMT, dtype: int64"
      ]
     },
     "execution_count": 118,
     "metadata": {},
     "output_type": "execute_result"
    }
   ],
   "source": [
    "check_graph(train, 'CARD_SIDO_NM','AMT','bar')"
   ]
  },
  {
   "cell_type": "markdown",
   "metadata": {
    "heading_collapsed": true
   },
   "source": [
    "#### 시도별 이용건수 \n",
    "* 이용건수를 확인하면 경기는 서울대비 건당 매출액이 크다고 추정가능"
   ]
  },
  {
   "cell_type": "code",
   "execution_count": 119,
   "metadata": {
    "ExecuteTime": {
     "end_time": "2020-06-24T08:49:54.238737Z",
     "start_time": "2020-06-24T08:49:53.066472Z"
    },
    "hidden": true
   },
   "outputs": [
    {
     "data": {
      "image/png": "[encoded data removed]",
      "text/plain": [
       "<Figure size 432x288 with 1 Axes>"
      ]
     },
     "metadata": {},
     "output_type": "display_data"
    },
    {
     "data": {
      "text/plain": [
       "CARD_SIDO_NM\n",
       "강원     64382529\n",
       "경기    701143788\n",
       "경남    149370331\n",
       "경북    113078004\n",
       "광주     82758813\n",
       "대구    164232841\n",
       "대전     60900956\n",
       "부산    228178463\n",
       "서울    994077624\n",
       "세종     10456634\n",
       "울산     55429028\n",
       "인천    147173793\n",
       "전남     63787592\n",
       "전북     80723851\n",
       "제주     45168708\n",
       "충남     91093453\n",
       "충북     61076110\n",
       "Name: CNT, dtype: int64"
      ]
     },
     "execution_count": 119,
     "metadata": {},
     "output_type": "execute_result"
    }
   ],
   "source": [
    "check_graph(train, 'CARD_SIDO_NM','CNT','bar')"
   ]
  },
  {
   "cell_type": "markdown",
   "metadata": {
    "heading_collapsed": true
   },
   "source": [
    "#### 시도별 평균이용금액"
   ]
  },
  {
   "cell_type": "code",
   "execution_count": 123,
   "metadata": {
    "ExecuteTime": {
     "end_time": "2020-06-24T08:54:34.342677Z",
     "start_time": "2020-06-24T08:54:32.984371Z"
    },
    "hidden": true
   },
   "outputs": [
    {
     "data": {
      "image/png": "[encoded data removed]",
      "text/plain": [
       "<Figure size 432x288 with 1 Axes>"
      ]
     },
     "metadata": {},
     "output_type": "display_data"
    },
    {
     "data": {
      "text/plain": [
       "CARD_SIDO_NM\n",
       "강원    3.932601e+10\n",
       "경기    1.447135e+11\n",
       "경남    3.812204e+10\n",
       "경북    3.745870e+10\n",
       "광주    1.251556e+10\n",
       "대구    1.963160e+10\n",
       "대전    1.253914e+10\n",
       "부산    6.173433e+10\n",
       "서울    1.942933e+11\n",
       "세종    2.178838e+09\n",
       "울산    1.020410e+10\n",
       "인천    4.110224e+10\n",
       "전남    2.781288e+10\n",
       "전북    2.616786e+10\n",
       "제주    2.339987e+10\n",
       "충남    3.437596e+10\n",
       "충북    2.449881e+10\n",
       "Name: CNT_per_AMT, dtype: float64"
      ]
     },
     "execution_count": 123,
     "metadata": {},
     "output_type": "execute_result"
    }
   ],
   "source": [
    "check_graph(train, 'CARD_SIDO_NM','CNT_per_AMT','bar')"
   ]
  },
  {
   "cell_type": "markdown",
   "metadata": {},
   "source": [
    "### CARD_CCG_NM \n",
    "* 상위 15개 시군구\n",
    "* 중구의 데이터가 가장 많다 "
   ]
  },
  {
   "cell_type": "code",
   "execution_count": 8,
   "metadata": {
    "ExecuteTime": {
     "end_time": "2020-07-03T06:52:20.682186Z",
     "start_time": "2020-07-03T06:52:18.823774Z"
    }
   },
   "outputs": [
    {
     "data": {
      "image/png": "[encoded data removed]",
      "text/plain": [
       "<Figure size 432x288 with 1 Axes>"
      ]
     },
     "metadata": {},
     "output_type": "display_data"
    }
   ],
   "source": [
    "top15 = train.CARD_CCG_NM.value_counts().head(15)\n",
    "\n",
    "sns.barplot(x = top15.index, y = top15)\n",
    "plt.xticks(rotation = 45)\n",
    "plt.show()"
   ]
  },
  {
   "cell_type": "markdown",
   "metadata": {},
   "source": [
    "#### 시군구별 이용객수\n",
    "* 서울의 중심부인 중구가 가장 이용객수가 많으며 제주는 15위에 겨우들음"
   ]
  },
  {
   "cell_type": "code",
   "execution_count": 21,
   "metadata": {
    "ExecuteTime": {
     "end_time": "2020-07-03T06:56:53.487018Z",
     "start_time": "2020-07-03T06:56:51.902042Z"
    }
   },
   "outputs": [
    {
     "data": {
      "image/png": "[encoded data removed]",
      "text/plain": [
       "<Figure size 432x288 with 1 Axes>"
      ]
     },
     "metadata": {},
     "output_type": "display_data"
    },
    {
     "data": {
      "text/plain": [
       "CARD_CCG_NM\n",
       "중구         102786655\n",
       "북구          41661072\n",
       "서구          38322424\n",
       "동작구         37780912\n",
       "남구          36405287\n",
       "강남구         35553738\n",
       "동구          29144413\n",
       "서초구         28190688\n",
       "강서구         25186074\n",
       "화성시         22892109\n",
       "부천시         21998798\n",
       "송파구         21814064\n",
       "마포구         21232917\n",
       "성남시 분당구     19163967\n",
       "제주시         18820667\n",
       "Name: CSTMR_CNT, dtype: int64"
      ]
     },
     "execution_count": 21,
     "metadata": {},
     "output_type": "execute_result"
    }
   ],
   "source": [
    "check_graph(train, 'CARD_CCG_NM','CSTMR_CNT','bar',head= 15)"
   ]
  },
  {
   "cell_type": "markdown",
   "metadata": {},
   "source": [
    "#### 시군구별 이용금액\n",
    "* 제주시같은경우 금액에서 꽤나 높이 상승함, 관광지기 때문으로 추정됨"
   ]
  },
  {
   "cell_type": "code",
   "execution_count": 25,
   "metadata": {
    "ExecuteTime": {
     "end_time": "2020-07-03T06:58:06.236312Z",
     "start_time": "2020-07-03T06:58:04.645961Z"
    }
   },
   "outputs": [
    {
     "data": {
      "image/png": "[encoded data removed]",
      "text/plain": [
       "<Figure size 432x288 with 1 Axes>"
      ]
     },
     "metadata": {},
     "output_type": "display_data"
    },
    {
     "data": {
      "text/plain": [
       "CARD_CCG_NM\n",
       "중구     3259967804968\n",
       "북구     1801271706542\n",
       "서구     1513650168459\n",
       "강서구    1453144282129\n",
       "남구     1401412999811\n",
       "강남구    1349017591977\n",
       "제주시    1020586774752\n",
       "동구     1003824081059\n",
       "화성시     948525028598\n",
       "서초구     886155256239\n",
       "동작구     833794388946\n",
       "부천시     809847360001\n",
       "송파구     756915712043\n",
       "달서구     696622071535\n",
       "시흥시     686323935580\n",
       "Name: AMT, dtype: int64"
      ]
     },
     "execution_count": 25,
     "metadata": {},
     "output_type": "execute_result"
    }
   ],
   "source": [
    "check_graph(train, 'CARD_CCG_NM','AMT','bar',head = 15)"
   ]
  },
  {
   "cell_type": "markdown",
   "metadata": {},
   "source": [
    "#### 시군구별 이용건수"
   ]
  },
  {
   "cell_type": "code",
   "execution_count": 26,
   "metadata": {
    "ExecuteTime": {
     "end_time": "2020-07-03T07:03:09.706304Z",
     "start_time": "2020-07-03T07:03:08.122608Z"
    }
   },
   "outputs": [
    {
     "data": {
      "image/png": "[encoded data removed]",
      "text/plain": [
       "<Figure size 432x288 with 1 Axes>"
      ]
     },
     "metadata": {},
     "output_type": "display_data"
    },
    {
     "data": {
      "text/plain": [
       "CARD_CCG_NM\n",
       "중구         234394056\n",
       "동작구        100121167\n",
       "북구          84750359\n",
       "남구          75194142\n",
       "서구          74738670\n",
       "강남구         71351496\n",
       "용산구         53923159\n",
       "동구          53884886\n",
       "서초구         52778765\n",
       "강서구         49181674\n",
       "화성시         46437104\n",
       "부천시         45829380\n",
       "송파구         45060040\n",
       "마포구         39237239\n",
       "성남시 분당구     37483345\n",
       "Name: CNT, dtype: int64"
      ]
     },
     "execution_count": 26,
     "metadata": {},
     "output_type": "execute_result"
    }
   ],
   "source": [
    "check_graph(train, 'CARD_CCG_NM','CNT','bar',head = 15)"
   ]
  },
  {
   "cell_type": "markdown",
   "metadata": {},
   "source": [
    "### STD_CLSS_NM \n",
    "* 한식음식점, 편의점의 데이터수가 많음 "
   ]
  },
  {
   "cell_type": "code",
   "execution_count": 79,
   "metadata": {
    "ExecuteTime": {
     "end_time": "2020-06-24T08:11:35.342491Z",
     "start_time": "2020-06-24T08:11:33.496075Z"
    }
   },
   "outputs": [
    {
     "data": {
      "image/png": "[encoded data removed]",
      "text/plain": [
       "<Figure size 432x288 with 1 Axes>"
      ]
     },
     "metadata": {},
     "output_type": "display_data"
    }
   ],
   "source": [
    "top15 = train.STD_CLSS_NM.value_counts().head(15)\n",
    "sns.barplot(x = top15.index, y = top15)\n",
    "plt.xticks(rotation = 90)\n",
    "plt.show()"
   ]
  },
  {
   "cell_type": "markdown",
   "metadata": {},
   "source": [
    "#### 업종별 이용금액"
   ]
  },
  {
   "cell_type": "code",
   "execution_count": 143,
   "metadata": {
    "ExecuteTime": {
     "end_time": "2020-06-24T09:02:10.170781Z",
     "start_time": "2020-06-24T09:02:08.327366Z"
    }
   },
   "outputs": [
    {
     "data": {
      "image/png": "[encoded data removed]",
      "text/plain": [
       "<Figure size 432x288 with 1 Axes>"
      ]
     },
     "metadata": {},
     "output_type": "display_data"
    },
    {
     "data": {
      "text/plain": [
       "STD_CLSS_NM\n",
       "한식 음식점업                  13737489719551\n",
       "차량용 주유소 운영업               7708652073883\n",
       "기타 대형 종합 소매업              7328854819388\n",
       "슈퍼마켓                      6730329364274\n",
       "체인화 편의점                   5303958703193\n",
       "서양식 음식점업                  1748358904526\n",
       "택시 운송업                    1733409541974\n",
       "기타음식료품위주종합소매업             1569246626978\n",
       "스포츠 및 레크레이션 용품 임대업        1245725426753\n",
       "육류 소매업                    1166039087386\n",
       "비알콜 음료점업                  1143497863742\n",
       "피자 햄버거 샌드위치 및 유사 음식점업     1100581283937\n",
       "그외 기타 종합 소매업              1025691118171\n",
       "중식 음식점업                    952361423580\n",
       "빵 및 과자류 소매업                893591674917\n",
       "Name: AMT, dtype: int64"
      ]
     },
     "execution_count": 143,
     "metadata": {},
     "output_type": "execute_result"
    }
   ],
   "source": [
    "plt.xticks(rotation= 90)\n",
    "check_graph(train, 'STD_CLSS_NM','AMT','bar', head = 15)"
   ]
  },
  {
   "cell_type": "markdown",
   "metadata": {},
   "source": [
    "### HOM_SIDO_NM  거주지역"
   ]
  },
  {
   "cell_type": "code",
   "execution_count": 10,
   "metadata": {
    "ExecuteTime": {
     "end_time": "2020-07-03T06:52:33.144243Z",
     "start_time": "2020-07-03T06:52:31.370062Z"
    }
   },
   "outputs": [
    {
     "data": {
      "image/png": "[encoded data removed]",
      "text/plain": [
       "<Figure size 432x288 with 1 Axes>"
      ]
     },
     "metadata": {},
     "output_type": "display_data"
    }
   ],
   "source": [
    "top15 = train.HOM_SIDO_NM.value_counts().head(15)\n",
    "\n",
    "sns.barplot(x = top15.index, y = top15)\n",
    "plt.xticks(rotation = 45)\n",
    "plt.show()"
   ]
  },
  {
   "cell_type": "code",
   "execution_count": 90,
   "metadata": {
    "ExecuteTime": {
     "end_time": "2020-06-24T08:23:04.695017Z",
     "start_time": "2020-06-24T08:22:49.103732Z"
    }
   },
   "outputs": [
    {
     "data": {
      "text/plain": [
       "<matplotlib.axes._subplots.AxesSubplot at 0x20edfc412b0>"
      ]
     },
     "execution_count": 90,
     "metadata": {},
     "output_type": "execute_result"
    },
    {
     "data": {
      "image/png": "[encoded data removed]",
      "text/plain": [
       "<Figure size 432x288 with 1 Axes>"
      ]
     },
     "metadata": {},
     "output_type": "display_data"
    }
   ],
   "source": [
    "sns.boxplot(train.CSTMR_CNT)"
   ]
  }
 ],
 "metadata": {
  "kernelspec": {
   "display_name": "Python 3",
   "language": "python",
   "name": "python3"
  },
  "language_info": {
   "codemirror_mode": {
    "name": "ipython",
    "version": 3
   },
   "file_extension": ".py",
   "mimetype": "text/x-python",
   "name": "python",
   "nbconvert_exporter": "python",
   "pygments_lexer": "ipython3",
   "version": "3.7.6"
  },
  "toc": {
   "base_numbering": 1,
   "nav_menu": {},
   "number_sections": true,
   "sideBar": true,
   "skip_h1_title": false,
   "title_cell": "Table of Contents",
   "title_sidebar": "Contents",
   "toc_cell": false,
   "toc_position": {},
   "toc_section_display": true,
   "toc_window_display": false
  },
  "varInspector": {
   "cols": {
    "lenName": 16,
    "lenType": 16,
    "lenVar": 40
   },
   "kernels_config": {
    "python": {
     "delete_cmd_postfix": "",
     "delete_cmd_prefix": "del ",
     "library": "var_list.py",
     "varRefreshCmd": "print(var_dic_list())"
    },
    "r": {
     "delete_cmd_postfix": ") ",
     "delete_cmd_prefix": "rm(",
     "library": "var_list.r",
     "varRefreshCmd": "cat(var_dic_list()) "
    }
   },
   "types_to_exclude": [
    "module",
    "function",
    "builtin_function_or_method",
    "instance",
    "_Feature"
   ],
   "window_display": false
  }
 },
 "nbformat": 4,
 "nbformat_minor": 2
}
