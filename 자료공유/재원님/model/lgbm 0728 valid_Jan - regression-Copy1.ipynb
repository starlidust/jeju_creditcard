{
 "cells": [
  {
   "cell_type": "code",
   "execution_count": 1,
   "metadata": {
    "ExecuteTime": {
     "end_time": "2020-07-29T08:31:25.327367Z",
     "start_time": "2020-07-29T08:31:25.322368Z"
    }
   },
   "outputs": [],
   "source": [
    "import pandas as pd\n",
    "import numpy as np\n",
    "import os"
   ]
  },
  {
   "cell_type": "markdown",
   "metadata": {},
   "source": [
    "### Data"
   ]
  },
  {
   "cell_type": "code",
   "execution_count": 2,
   "metadata": {
    "ExecuteTime": {
     "end_time": "2020-07-29T08:32:12.574101Z",
     "start_time": "2020-07-29T08:31:25.332366Z"
    }
   },
   "outputs": [],
   "source": [
    "path = '../../../data/'\n",
    "data1 = pd.read_csv(path +'201901-202003.csv')\n",
    "data1 = data1.fillna('')\n",
    "data2 = pd.read_csv(path +'202004.csv')\n",
    "data2 = data2.fillna('')"
   ]
  },
  {
   "cell_type": "code",
   "execution_count": 3,
   "metadata": {
    "ExecuteTime": {
     "end_time": "2020-07-29T08:32:16.803640Z",
     "start_time": "2020-07-29T08:32:12.574101Z"
    }
   },
   "outputs": [],
   "source": [
    "data = pd.concat([data1, data2])"
   ]
  },
  {
   "cell_type": "code",
   "execution_count": 4,
   "metadata": {
    "ExecuteTime": {
     "end_time": "2020-07-29T08:32:17.926139Z",
     "start_time": "2020-07-29T08:32:16.805653Z"
    }
   },
   "outputs": [
    {
     "name": "stdout",
     "output_type": "stream",
     "text": [
      "<class 'pandas.core.frame.DataFrame'>\n",
      "Int64Index: 26048114 entries, 0 to 1350321\n",
      "Data columns (total 12 columns):\n",
      " #   Column        Dtype \n",
      "---  ------        ----- \n",
      " 0   REG_YYMM      int64 \n",
      " 1   CARD_SIDO_NM  object\n",
      " 2   CARD_CCG_NM   object\n",
      " 3   STD_CLSS_NM   object\n",
      " 4   HOM_SIDO_NM   object\n",
      " 5   HOM_CCG_NM    object\n",
      " 6   AGE           object\n",
      " 7   SEX_CTGO_CD   int64 \n",
      " 8   FLC           int64 \n",
      " 9   CSTMR_CNT     int64 \n",
      " 10  AMT           int64 \n",
      " 11  CNT           int64 \n",
      "dtypes: int64(6), object(6)\n",
      "memory usage: 2.5+ GB\n"
     ]
    }
   ],
   "source": [
    "data.info()"
   ]
  },
  {
   "cell_type": "markdown",
   "metadata": {},
   "source": [
    "#### 결측 처리"
   ]
  },
  {
   "cell_type": "code",
   "execution_count": 5,
   "metadata": {
    "ExecuteTime": {
     "end_time": "2020-07-29T08:32:19.984114Z",
     "start_time": "2020-07-29T08:32:17.928137Z"
    }
   },
   "outputs": [],
   "source": [
    "data.loc[data.CARD_CCG_NM.isna(),'CARD_CCG_NM'] = '세종'\n",
    "data.loc[data.HOM_CCG_NM.isna(),'HOM_CCG_NM'] = '세종'"
   ]
  },
  {
   "cell_type": "markdown",
   "metadata": {},
   "source": [
    "#### 18 사업체총조사"
   ]
  },
  {
   "cell_type": "code",
   "execution_count": 6,
   "metadata": {
    "ExecuteTime": {
     "end_time": "2020-07-29T08:32:19.988684Z",
     "start_time": "2020-07-29T08:32:19.986130Z"
    }
   },
   "outputs": [],
   "source": [
    "path2 = '../../../data/외부데이터/'"
   ]
  },
  {
   "cell_type": "code",
   "execution_count": 7,
   "metadata": {
    "ExecuteTime": {
     "end_time": "2020-07-29T08:32:20.081703Z",
     "start_time": "2020-07-29T08:32:19.989682Z"
    }
   },
   "outputs": [],
   "source": [
    "all_jobs_df = pd.read_csv(path2 +'18 사업체총조사_키워드매칭.csv',encoding = 'cp949')\n",
    "all_jobs_df = all_jobs_df[['행정구역별','데이터업종명','사업체수 (개)', '종사자수 (명)']]\n",
    "all_jobs_df.columns = ['CARD_SIDO_NM','STD_CLSS_NM', 'company','employee']\n",
    "all_jobs_df.employee = all_jobs_df.employee.apply(lambda x : x.replace(\"X\",\"0\")).astype(int)\n",
    "all_jobs_df = all_jobs_df.groupby(['CARD_SIDO_NM','STD_CLSS_NM'])[['company','employee']].sum().reset_index()\n",
    "\n",
    "all_jobs_df = all_jobs_df[~(all_jobs_df.CARD_SIDO_NM == '전국')]"
   ]
  },
  {
   "cell_type": "markdown",
   "metadata": {},
   "source": [
    "#### 지역내 각 업종이 차지하는 매출비중"
   ]
  },
  {
   "cell_type": "code",
   "execution_count": 8,
   "metadata": {
    "ExecuteTime": {
     "end_time": "2020-07-29T08:32:20.087704Z",
     "start_time": "2020-07-29T08:32:20.082703Z"
    }
   },
   "outputs": [],
   "source": [
    "def local_percent(data):\n",
    "    pivoted = data.pivot_table(index = ['CARD_SIDO_NM','CARD_CCG_NM','STD_CLSS_NM'],columns ='REG_YYMM',values= \"AMT\",aggfunc='sum').reset_index()\n",
    "    pivoted.fillna(0,inplace= True)\n",
    "\n",
    "    #각 지역별(시군구)업종의 매출비율을 저장\n",
    "    sidos = pivoted.CARD_SIDO_NM.unique()\n",
    "\n",
    "    local_percent_df = pd.DataFrame()\n",
    "    for sido in sidos:\n",
    "        sample_sido = pivoted[pivoted.CARD_SIDO_NM == sido]\n",
    "        sigungus = sample_sido.CARD_CCG_NM.unique()\n",
    "        for sigungu in sigungus:\n",
    "            sample = sample_sido[sample_sido.CARD_CCG_NM == sigungu]\n",
    "            sum_arr = sample.iloc[:,3:].sum().values.reshape(1,-1)\n",
    "            parcent_df = (sample.iloc[:,3:]/sum_arr)*100\n",
    "\n",
    "            fin = pd.concat([sample.iloc[:,:3],parcent_df],axis=1)\n",
    "            local_percent_df = pd.concat([local_percent_df,fin])\n",
    "\n",
    "    #신규변수 LP(local percent) : 지역내 각 업종이 차지하는 매출비중\n",
    "    local_percent_df = local_percent_df.melt(id_vars=['CARD_SIDO_NM','CARD_CCG_NM','STD_CLSS_NM'],value_name='LP')\n",
    "    return local_percent_df"
   ]
  },
  {
   "cell_type": "markdown",
   "metadata": {},
   "source": [
    "#### 전체업종에서 각 지역업종이 차지하는 매출비중"
   ]
  },
  {
   "cell_type": "code",
   "execution_count": 9,
   "metadata": {
    "ExecuteTime": {
     "end_time": "2020-07-29T08:32:20.092706Z",
     "start_time": "2020-07-29T08:32:20.088704Z"
    }
   },
   "outputs": [],
   "source": [
    "def job_percent(data):\n",
    "    pivoted = data.pivot_table(index = ['CARD_SIDO_NM','CARD_CCG_NM','STD_CLSS_NM'],columns ='REG_YYMM',values= \"AMT\",aggfunc='sum').reset_index()\n",
    "    pivoted.fillna(0,inplace= True)\n",
    "\n",
    "    all_pivoted = data.pivot_table(index = ['STD_CLSS_NM'],columns ='REG_YYMM',values= \"AMT\",aggfunc= 'sum').reset_index()\n",
    "    all_pivoted.fillna(0,inplace= True)\n",
    "    all_pivoted = all_pivoted.set_index('STD_CLSS_NM')\n",
    "\n",
    "    job_percent_df = pd.DataFrame()\n",
    "    for job in all_pivoted.index:\n",
    "        taget_df = pivoted[pivoted.STD_CLSS_NM == job]\n",
    "        tail = (taget_df.iloc[:,3:]/all_pivoted.iloc[0].values)*100\n",
    "        head = taget_df.iloc[:,:3]\n",
    "        full = pd.concat([head,tail],axis =1)\n",
    "        job_percent_df = pd.concat([job_percent_df,full])\n",
    "\n",
    "    #신규변수 JP(Job percent): 전체업종에서 해당지역의 업종이 차이하는 비율\n",
    "    job_percent_df = job_percent_df.melt(id_vars=['CARD_SIDO_NM','CARD_CCG_NM','STD_CLSS_NM'],value_name='JP')\n",
    "    return job_percent_df"
   ]
  },
  {
   "cell_type": "code",
   "execution_count": 10,
   "metadata": {
    "ExecuteTime": {
     "end_time": "2020-07-29T08:32:38.263514Z",
     "start_time": "2020-07-29T08:32:20.093706Z"
    }
   },
   "outputs": [],
   "source": [
    "local_percent_df = local_percent(data)\n",
    "job_percent_df = job_percent(data)"
   ]
  },
  {
   "cell_type": "markdown",
   "metadata": {},
   "source": [
    "#### 거래횟수와 이용고객과의 관계 (2019)"
   ]
  },
  {
   "cell_type": "code",
   "execution_count": 11,
   "metadata": {
    "ExecuteTime": {
     "end_time": "2020-07-29T08:32:38.270666Z",
     "start_time": "2020-07-29T08:32:38.264024Z"
    }
   },
   "outputs": [],
   "source": [
    "def cust_differ(data):\n",
    "    data['differ'] = (data.CNT- data.CSTMR_CNT)\n",
    "    \n",
    "    #양수(단골)\n",
    "    plus_custom = data[data['differ']>0]\n",
    "    pivot_plus = plus_custom.pivot_table(index = ['CARD_SIDO_NM','STD_CLSS_NM'],columns = 'REG_YYMM', values= 'differ', aggfunc ='sum').reset_index()\n",
    "    \n",
    "    melt_plus = pivot_plus.melt(id_vars=['CARD_SIDO_NM','STD_CLSS_NM'],value_name='loyal')\n",
    "    melt_plus['year'] = melt_plus['REG_YYMM'].apply(lambda x: int(str(x)[:4]))\n",
    "    melt_plus['month'] = melt_plus['REG_YYMM'].apply(lambda x: int(str(x)[5:]))\n",
    "    \n",
    "    #2019만 사용\n",
    "    melt_plus = melt_plus[melt_plus.year == 2019]\n",
    "    melt_plus.drop(['year'],axis= 1,inplace = True)\n",
    "    \n",
    "    #음수(환불)\n",
    "    minus_custom = data[data['differ']<0]\n",
    "    pivot_minus = minus_custom.pivot_table(index = ['CARD_SIDO_NM','STD_CLSS_NM'],columns = 'REG_YYMM', values= 'differ', aggfunc ='sum').reset_index()\n",
    "    \n",
    "    melt_minus = pivot_minus.melt(id_vars=['CARD_SIDO_NM','STD_CLSS_NM'],value_name='refund')\n",
    "    melt_minus['year'] = melt_minus['REG_YYMM'].apply(lambda x: int(str(x)[:4]))\n",
    "    melt_minus['month'] = melt_minus['REG_YYMM'].apply(lambda x: int(str(x)[5:]))\n",
    "    #2019만 사용\n",
    "    melt_minus = melt_minus[melt_minus.year == 2019]\n",
    "    melt_minus.drop(['year'],axis= 1,inplace = True)\n",
    "    \n",
    "  \n",
    "    #둘 결헙\n",
    "    cust_differ_df = pd.merge(melt_plus,melt_minus,how= 'outer')\n",
    "    \n",
    "    return cust_differ_df"
   ]
  },
  {
   "cell_type": "code",
   "execution_count": 12,
   "metadata": {
    "ExecuteTime": {
     "end_time": "2020-07-29T08:32:46.678631Z",
     "start_time": "2020-07-29T08:32:38.271667Z"
    }
   },
   "outputs": [],
   "source": [
    "trade_num_2019 = cust_differ(data)"
   ]
  },
  {
   "cell_type": "markdown",
   "metadata": {},
   "source": [
    "#### 거래횟수와 이용고객과의 관계 (2020)"
   ]
  },
  {
   "cell_type": "code",
   "execution_count": 13,
   "metadata": {
    "ExecuteTime": {
     "end_time": "2020-07-29T08:32:46.685828Z",
     "start_time": "2020-07-29T08:32:46.679645Z"
    }
   },
   "outputs": [],
   "source": [
    "def cust_differ_2020(data):\n",
    "    data['differ'] = (data.CNT- data.CSTMR_CNT)\n",
    "    \n",
    "    #양수(단골)\n",
    "    plus_custom = data[data['differ']>0]\n",
    "    pivot_plus = plus_custom.pivot_table(index = ['CARD_SIDO_NM','STD_CLSS_NM'],columns = 'REG_YYMM', values= 'differ', aggfunc ='sum').reset_index()\n",
    "    \n",
    "    melt_plus = pivot_plus.melt(id_vars=['CARD_SIDO_NM','STD_CLSS_NM'],value_name='loyal')\n",
    "    melt_plus['year'] = melt_plus['REG_YYMM'].apply(lambda x: int(str(x)[:4]))\n",
    "    melt_plus['month'] = melt_plus['REG_YYMM'].apply(lambda x: int(str(x)[5:]))\n",
    "    \n",
    "    #2020만 사용\n",
    "    melt_plus = melt_plus[melt_plus.year == 2020]\n",
    "    melt_plus.drop(['year'],axis= 1,inplace = True)\n",
    "    \n",
    "    #음수(환불)\n",
    "    minus_custom = data[data['differ']<0]\n",
    "    pivot_minus = minus_custom.pivot_table(index = ['CARD_SIDO_NM','STD_CLSS_NM'],columns = 'REG_YYMM', values= 'differ', aggfunc ='sum').reset_index()\n",
    "    \n",
    "    melt_minus = pivot_minus.melt(id_vars=['CARD_SIDO_NM','STD_CLSS_NM'],value_name='refund')\n",
    "    melt_minus['year'] = melt_minus['REG_YYMM'].apply(lambda x: int(str(x)[:4]))\n",
    "    melt_minus['month'] = melt_minus['REG_YYMM'].apply(lambda x: int(str(x)[5:]))\n",
    "    #2020만 사용\n",
    "    melt_minus = melt_minus[melt_minus.year == 2020]\n",
    "    melt_minus.drop(['year'],axis= 1,inplace = True)\n",
    "    \n",
    "  \n",
    "    #둘 결헙\n",
    "    cust_differ_df = pd.merge(melt_plus,melt_minus,how= 'outer')\n",
    "    \n",
    "    return cust_differ_df"
   ]
  },
  {
   "cell_type": "code",
   "execution_count": 14,
   "metadata": {
    "ExecuteTime": {
     "end_time": "2020-07-29T08:32:54.038655Z",
     "start_time": "2020-07-29T08:32:46.686829Z"
    }
   },
   "outputs": [],
   "source": [
    "trade_num_2020 = cust_differ_2020(data)"
   ]
  },
  {
   "cell_type": "code",
   "execution_count": 15,
   "metadata": {
    "ExecuteTime": {
     "end_time": "2020-07-29T08:32:54.045647Z",
     "start_time": "2020-07-29T08:32:54.039667Z"
    }
   },
   "outputs": [],
   "source": [
    "trade_num = pd.concat([trade_num_2019, trade_num_2020])"
   ]
  },
  {
   "cell_type": "code",
   "execution_count": 16,
   "metadata": {
    "ExecuteTime": {
     "end_time": "2020-07-29T08:32:54.063667Z",
     "start_time": "2020-07-29T08:32:54.046646Z"
    },
    "scrolled": true
   },
   "outputs": [],
   "source": [
    "trade_num.loyal = trade_num.loyal.fillna(-999)\n",
    "trade_num.refund = trade_num.refund.fillna(999)"
   ]
  },
  {
   "cell_type": "code",
   "execution_count": 17,
   "metadata": {
    "ExecuteTime": {
     "end_time": "2020-07-29T08:32:54.087381Z",
     "start_time": "2020-07-29T08:32:54.063667Z"
    }
   },
   "outputs": [
    {
     "data": {
      "text/html": [
       "<div>\n",
       "<style scoped>\n",
       "    .dataframe tbody tr th:only-of-type {\n",
       "        vertical-align: middle;\n",
       "    }\n",
       "\n",
       "    .dataframe tbody tr th {\n",
       "        vertical-align: top;\n",
       "    }\n",
       "\n",
       "    .dataframe thead th {\n",
       "        text-align: right;\n",
       "    }\n",
       "</style>\n",
       "<table border=\"1\" class=\"dataframe\">\n",
       "  <thead>\n",
       "    <tr style=\"text-align: right;\">\n",
       "      <th></th>\n",
       "      <th>CARD_SIDO_NM</th>\n",
       "      <th>STD_CLSS_NM</th>\n",
       "      <th>REG_YYMM</th>\n",
       "      <th>loyal</th>\n",
       "      <th>month</th>\n",
       "      <th>refund</th>\n",
       "    </tr>\n",
       "  </thead>\n",
       "  <tbody>\n",
       "    <tr>\n",
       "      <th>0</th>\n",
       "      <td>강원</td>\n",
       "      <td>건강보조식품 소매업</td>\n",
       "      <td>201901.0</td>\n",
       "      <td>80.0</td>\n",
       "      <td>1</td>\n",
       "      <td>-32.0</td>\n",
       "    </tr>\n",
       "    <tr>\n",
       "      <th>1</th>\n",
       "      <td>강원</td>\n",
       "      <td>골프장 운영업</td>\n",
       "      <td>201901.0</td>\n",
       "      <td>14890.0</td>\n",
       "      <td>1</td>\n",
       "      <td>999.0</td>\n",
       "    </tr>\n",
       "    <tr>\n",
       "      <th>2</th>\n",
       "      <td>강원</td>\n",
       "      <td>과실 및 채소 소매업</td>\n",
       "      <td>201901.0</td>\n",
       "      <td>7484.0</td>\n",
       "      <td>1</td>\n",
       "      <td>999.0</td>\n",
       "    </tr>\n",
       "    <tr>\n",
       "      <th>3</th>\n",
       "      <td>강원</td>\n",
       "      <td>관광 민예품 및 선물용품 소매업</td>\n",
       "      <td>201901.0</td>\n",
       "      <td>195.0</td>\n",
       "      <td>1</td>\n",
       "      <td>999.0</td>\n",
       "    </tr>\n",
       "    <tr>\n",
       "      <th>4</th>\n",
       "      <td>강원</td>\n",
       "      <td>그외 기타 분류안된 오락관련 서비스업</td>\n",
       "      <td>201901.0</td>\n",
       "      <td>-999.0</td>\n",
       "      <td>1</td>\n",
       "      <td>999.0</td>\n",
       "    </tr>\n",
       "    <tr>\n",
       "      <th>...</th>\n",
       "      <td>...</td>\n",
       "      <td>...</td>\n",
       "      <td>...</td>\n",
       "      <td>...</td>\n",
       "      <td>...</td>\n",
       "      <td>...</td>\n",
       "    </tr>\n",
       "    <tr>\n",
       "      <th>2575</th>\n",
       "      <td>충북</td>\n",
       "      <td>휴양콘도 운영업</td>\n",
       "      <td>202004.0</td>\n",
       "      <td>62.0</td>\n",
       "      <td>4</td>\n",
       "      <td>999.0</td>\n",
       "    </tr>\n",
       "    <tr>\n",
       "      <th>2576</th>\n",
       "      <td>대전</td>\n",
       "      <td>여행사업</td>\n",
       "      <td>202001.0</td>\n",
       "      <td>-999.0</td>\n",
       "      <td>1</td>\n",
       "      <td>999.0</td>\n",
       "    </tr>\n",
       "    <tr>\n",
       "      <th>2577</th>\n",
       "      <td>대전</td>\n",
       "      <td>여행사업</td>\n",
       "      <td>202002.0</td>\n",
       "      <td>-999.0</td>\n",
       "      <td>2</td>\n",
       "      <td>999.0</td>\n",
       "    </tr>\n",
       "    <tr>\n",
       "      <th>2578</th>\n",
       "      <td>대전</td>\n",
       "      <td>여행사업</td>\n",
       "      <td>202003.0</td>\n",
       "      <td>-999.0</td>\n",
       "      <td>3</td>\n",
       "      <td>999.0</td>\n",
       "    </tr>\n",
       "    <tr>\n",
       "      <th>2579</th>\n",
       "      <td>대전</td>\n",
       "      <td>여행사업</td>\n",
       "      <td>202004.0</td>\n",
       "      <td>-999.0</td>\n",
       "      <td>4</td>\n",
       "      <td>999.0</td>\n",
       "    </tr>\n",
       "  </tbody>\n",
       "</table>\n",
       "<p>10320 rows × 6 columns</p>\n",
       "</div>"
      ],
      "text/plain": [
       "     CARD_SIDO_NM           STD_CLSS_NM  REG_YYMM    loyal  month  refund\n",
       "0              강원            건강보조식품 소매업  201901.0     80.0      1   -32.0\n",
       "1              강원               골프장 운영업  201901.0  14890.0      1   999.0\n",
       "2              강원           과실 및 채소 소매업  201901.0   7484.0      1   999.0\n",
       "3              강원     관광 민예품 및 선물용품 소매업  201901.0    195.0      1   999.0\n",
       "4              강원  그외 기타 분류안된 오락관련 서비스업  201901.0   -999.0      1   999.0\n",
       "...           ...                   ...       ...      ...    ...     ...\n",
       "2575           충북              휴양콘도 운영업  202004.0     62.0      4   999.0\n",
       "2576           대전                  여행사업  202001.0   -999.0      1   999.0\n",
       "2577           대전                  여행사업  202002.0   -999.0      2   999.0\n",
       "2578           대전                  여행사업  202003.0   -999.0      3   999.0\n",
       "2579           대전                  여행사업  202004.0   -999.0      4   999.0\n",
       "\n",
       "[10320 rows x 6 columns]"
      ]
     },
     "execution_count": 17,
     "metadata": {},
     "output_type": "execute_result"
    }
   ],
   "source": [
    "trade_num"
   ]
  },
  {
   "cell_type": "markdown",
   "metadata": {},
   "source": [
    "#### 추가변수 결합"
   ]
  },
  {
   "cell_type": "code",
   "execution_count": 18,
   "metadata": {
    "ExecuteTime": {
     "end_time": "2020-07-29T08:32:54.092382Z",
     "start_time": "2020-07-29T08:32:54.088381Z"
    }
   },
   "outputs": [
    {
     "data": {
      "text/plain": [
       "(26048114, 13)"
      ]
     },
     "execution_count": 18,
     "metadata": {},
     "output_type": "execute_result"
    }
   ],
   "source": [
    "data.shape"
   ]
  },
  {
   "cell_type": "code",
   "execution_count": 19,
   "metadata": {
    "ExecuteTime": {
     "end_time": "2020-07-29T08:32:54.103385Z",
     "start_time": "2020-07-29T08:32:54.093382Z"
    }
   },
   "outputs": [
    {
     "data": {
      "text/html": [
       "<div>\n",
       "<style scoped>\n",
       "    .dataframe tbody tr th:only-of-type {\n",
       "        vertical-align: middle;\n",
       "    }\n",
       "\n",
       "    .dataframe tbody tr th {\n",
       "        vertical-align: top;\n",
       "    }\n",
       "\n",
       "    .dataframe thead th {\n",
       "        text-align: right;\n",
       "    }\n",
       "</style>\n",
       "<table border=\"1\" class=\"dataframe\">\n",
       "  <thead>\n",
       "    <tr style=\"text-align: right;\">\n",
       "      <th></th>\n",
       "      <th>CARD_SIDO_NM</th>\n",
       "      <th>CARD_CCG_NM</th>\n",
       "      <th>STD_CLSS_NM</th>\n",
       "      <th>REG_YYMM</th>\n",
       "      <th>LP</th>\n",
       "    </tr>\n",
       "  </thead>\n",
       "  <tbody>\n",
       "    <tr>\n",
       "      <th>0</th>\n",
       "      <td>강원</td>\n",
       "      <td>강릉시</td>\n",
       "      <td>건강보조식품 소매업</td>\n",
       "      <td>201901</td>\n",
       "      <td>0.138432</td>\n",
       "    </tr>\n",
       "    <tr>\n",
       "      <th>1</th>\n",
       "      <td>강원</td>\n",
       "      <td>강릉시</td>\n",
       "      <td>골프장 운영업</td>\n",
       "      <td>201901</td>\n",
       "      <td>0.148825</td>\n",
       "    </tr>\n",
       "    <tr>\n",
       "      <th>2</th>\n",
       "      <td>강원</td>\n",
       "      <td>강릉시</td>\n",
       "      <td>과실 및 채소 소매업</td>\n",
       "      <td>201901</td>\n",
       "      <td>1.468549</td>\n",
       "    </tr>\n",
       "    <tr>\n",
       "      <th>3</th>\n",
       "      <td>강원</td>\n",
       "      <td>강릉시</td>\n",
       "      <td>관광 민예품 및 선물용품 소매업</td>\n",
       "      <td>201901</td>\n",
       "      <td>0.022661</td>\n",
       "    </tr>\n",
       "    <tr>\n",
       "      <th>4</th>\n",
       "      <td>강원</td>\n",
       "      <td>강릉시</td>\n",
       "      <td>그외 기타 스포츠시설 운영업</td>\n",
       "      <td>201901</td>\n",
       "      <td>0.003255</td>\n",
       "    </tr>\n",
       "    <tr>\n",
       "      <th>...</th>\n",
       "      <td>...</td>\n",
       "      <td>...</td>\n",
       "      <td>...</td>\n",
       "      <td>...</td>\n",
       "      <td>...</td>\n",
       "    </tr>\n",
       "    <tr>\n",
       "      <th>124523</th>\n",
       "      <td>충북</td>\n",
       "      <td>충주시</td>\n",
       "      <td>피자 햄버거 샌드위치 및 유사 음식점업</td>\n",
       "      <td>202004</td>\n",
       "      <td>1.362619</td>\n",
       "    </tr>\n",
       "    <tr>\n",
       "      <th>124524</th>\n",
       "      <td>충북</td>\n",
       "      <td>충주시</td>\n",
       "      <td>한식 음식점업</td>\n",
       "      <td>202004</td>\n",
       "      <td>18.402971</td>\n",
       "    </tr>\n",
       "    <tr>\n",
       "      <th>124525</th>\n",
       "      <td>충북</td>\n",
       "      <td>충주시</td>\n",
       "      <td>호텔업</td>\n",
       "      <td>202004</td>\n",
       "      <td>0.059226</td>\n",
       "    </tr>\n",
       "    <tr>\n",
       "      <th>124526</th>\n",
       "      <td>충북</td>\n",
       "      <td>충주시</td>\n",
       "      <td>화장품 및 방향제 소매업</td>\n",
       "      <td>202004</td>\n",
       "      <td>0.368080</td>\n",
       "    </tr>\n",
       "    <tr>\n",
       "      <th>124527</th>\n",
       "      <td>충북</td>\n",
       "      <td>충주시</td>\n",
       "      <td>휴양콘도 운영업</td>\n",
       "      <td>202004</td>\n",
       "      <td>0.004580</td>\n",
       "    </tr>\n",
       "  </tbody>\n",
       "</table>\n",
       "<p>124528 rows × 5 columns</p>\n",
       "</div>"
      ],
      "text/plain": [
       "       CARD_SIDO_NM CARD_CCG_NM            STD_CLSS_NM REG_YYMM         LP\n",
       "0                강원         강릉시             건강보조식품 소매업   201901   0.138432\n",
       "1                강원         강릉시                골프장 운영업   201901   0.148825\n",
       "2                강원         강릉시            과실 및 채소 소매업   201901   1.468549\n",
       "3                강원         강릉시      관광 민예품 및 선물용품 소매업   201901   0.022661\n",
       "4                강원         강릉시        그외 기타 스포츠시설 운영업   201901   0.003255\n",
       "...             ...         ...                    ...      ...        ...\n",
       "124523           충북         충주시  피자 햄버거 샌드위치 및 유사 음식점업   202004   1.362619\n",
       "124524           충북         충주시                한식 음식점업   202004  18.402971\n",
       "124525           충북         충주시                    호텔업   202004   0.059226\n",
       "124526           충북         충주시          화장품 및 방향제 소매업   202004   0.368080\n",
       "124527           충북         충주시               휴양콘도 운영업   202004   0.004580\n",
       "\n",
       "[124528 rows x 5 columns]"
      ]
     },
     "execution_count": 19,
     "metadata": {},
     "output_type": "execute_result"
    }
   ],
   "source": [
    "local_percent_df"
   ]
  },
  {
   "cell_type": "code",
   "execution_count": 20,
   "metadata": {
    "ExecuteTime": {
     "end_time": "2020-07-29T08:33:06.880367Z",
     "start_time": "2020-07-29T08:32:54.104385Z"
    }
   },
   "outputs": [],
   "source": [
    "columns = ['REG_YYMM', 'CARD_SIDO_NM', 'CARD_CCG_NM', 'STD_CLSS_NM', 'HOM_SIDO_NM', 'AGE', 'SEX_CTGO_CD', 'FLC']\n",
    "df = data.groupby(columns, as_index=False)[['AMT']].sum()"
   ]
  },
  {
   "cell_type": "code",
   "execution_count": 21,
   "metadata": {
    "ExecuteTime": {
     "end_time": "2020-07-29T08:33:16.803833Z",
     "start_time": "2020-07-29T08:33:06.880367Z"
    }
   },
   "outputs": [],
   "source": [
    "grouped = pd.merge(df,all_jobs_df,on =['CARD_SIDO_NM','STD_CLSS_NM'],how = 'left')\n",
    "grouped = pd.merge(grouped,local_percent_df,on =['CARD_SIDO_NM','CARD_CCG_NM','STD_CLSS_NM','REG_YYMM'],how = 'left')\n",
    "grouped = pd.merge(grouped,job_percent_df,on =['CARD_SIDO_NM','CARD_CCG_NM','STD_CLSS_NM','REG_YYMM'],how = 'left')\n",
    "grouped = pd.merge(grouped, trade_num, on =['CARD_SIDO_NM','STD_CLSS_NM','REG_YYMM'], how = 'left')"
   ]
  },
  {
   "cell_type": "code",
   "execution_count": 22,
   "metadata": {
    "ExecuteTime": {
     "end_time": "2020-07-29T08:33:16.818114Z",
     "start_time": "2020-07-29T08:33:16.804846Z"
    }
   },
   "outputs": [
    {
     "data": {
      "text/html": [
       "<div>\n",
       "<style scoped>\n",
       "    .dataframe tbody tr th:only-of-type {\n",
       "        vertical-align: middle;\n",
       "    }\n",
       "\n",
       "    .dataframe tbody tr th {\n",
       "        vertical-align: top;\n",
       "    }\n",
       "\n",
       "    .dataframe thead th {\n",
       "        text-align: right;\n",
       "    }\n",
       "</style>\n",
       "<table border=\"1\" class=\"dataframe\">\n",
       "  <thead>\n",
       "    <tr style=\"text-align: right;\">\n",
       "      <th></th>\n",
       "      <th>REG_YYMM</th>\n",
       "      <th>CARD_SIDO_NM</th>\n",
       "      <th>CARD_CCG_NM</th>\n",
       "      <th>STD_CLSS_NM</th>\n",
       "      <th>HOM_SIDO_NM</th>\n",
       "      <th>AGE</th>\n",
       "      <th>SEX_CTGO_CD</th>\n",
       "      <th>FLC</th>\n",
       "      <th>AMT</th>\n",
       "      <th>company</th>\n",
       "      <th>employee</th>\n",
       "      <th>LP</th>\n",
       "      <th>JP</th>\n",
       "      <th>loyal</th>\n",
       "      <th>month</th>\n",
       "      <th>refund</th>\n",
       "    </tr>\n",
       "  </thead>\n",
       "  <tbody>\n",
       "    <tr>\n",
       "      <th>0</th>\n",
       "      <td>201901</td>\n",
       "      <td>강원</td>\n",
       "      <td>강릉시</td>\n",
       "      <td>건강보조식품 소매업</td>\n",
       "      <td>강원</td>\n",
       "      <td>20s</td>\n",
       "      <td>1</td>\n",
       "      <td>1</td>\n",
       "      <td>311200</td>\n",
       "      <td>263.0</td>\n",
       "      <td>399.0</td>\n",
       "      <td>0.138432</td>\n",
       "      <td>0.279221</td>\n",
       "      <td>80.0</td>\n",
       "      <td>1.0</td>\n",
       "      <td>-32.0</td>\n",
       "    </tr>\n",
       "    <tr>\n",
       "      <th>1</th>\n",
       "      <td>201901</td>\n",
       "      <td>강원</td>\n",
       "      <td>강릉시</td>\n",
       "      <td>건강보조식품 소매업</td>\n",
       "      <td>강원</td>\n",
       "      <td>30s</td>\n",
       "      <td>1</td>\n",
       "      <td>2</td>\n",
       "      <td>1374500</td>\n",
       "      <td>263.0</td>\n",
       "      <td>399.0</td>\n",
       "      <td>0.138432</td>\n",
       "      <td>0.279221</td>\n",
       "      <td>80.0</td>\n",
       "      <td>1.0</td>\n",
       "      <td>-32.0</td>\n",
       "    </tr>\n",
       "    <tr>\n",
       "      <th>2</th>\n",
       "      <td>201901</td>\n",
       "      <td>강원</td>\n",
       "      <td>강릉시</td>\n",
       "      <td>건강보조식품 소매업</td>\n",
       "      <td>강원</td>\n",
       "      <td>30s</td>\n",
       "      <td>2</td>\n",
       "      <td>2</td>\n",
       "      <td>818700</td>\n",
       "      <td>263.0</td>\n",
       "      <td>399.0</td>\n",
       "      <td>0.138432</td>\n",
       "      <td>0.279221</td>\n",
       "      <td>80.0</td>\n",
       "      <td>1.0</td>\n",
       "      <td>-32.0</td>\n",
       "    </tr>\n",
       "    <tr>\n",
       "      <th>3</th>\n",
       "      <td>201901</td>\n",
       "      <td>강원</td>\n",
       "      <td>강릉시</td>\n",
       "      <td>건강보조식품 소매업</td>\n",
       "      <td>강원</td>\n",
       "      <td>40s</td>\n",
       "      <td>1</td>\n",
       "      <td>3</td>\n",
       "      <td>1717000</td>\n",
       "      <td>263.0</td>\n",
       "      <td>399.0</td>\n",
       "      <td>0.138432</td>\n",
       "      <td>0.279221</td>\n",
       "      <td>80.0</td>\n",
       "      <td>1.0</td>\n",
       "      <td>-32.0</td>\n",
       "    </tr>\n",
       "    <tr>\n",
       "      <th>4</th>\n",
       "      <td>201901</td>\n",
       "      <td>강원</td>\n",
       "      <td>강릉시</td>\n",
       "      <td>건강보조식품 소매업</td>\n",
       "      <td>강원</td>\n",
       "      <td>40s</td>\n",
       "      <td>1</td>\n",
       "      <td>4</td>\n",
       "      <td>1047300</td>\n",
       "      <td>263.0</td>\n",
       "      <td>399.0</td>\n",
       "      <td>0.138432</td>\n",
       "      <td>0.279221</td>\n",
       "      <td>80.0</td>\n",
       "      <td>1.0</td>\n",
       "      <td>-32.0</td>\n",
       "    </tr>\n",
       "  </tbody>\n",
       "</table>\n",
       "</div>"
      ],
      "text/plain": [
       "  REG_YYMM CARD_SIDO_NM CARD_CCG_NM STD_CLSS_NM HOM_SIDO_NM  AGE  SEX_CTGO_CD  \\\n",
       "0   201901           강원         강릉시  건강보조식품 소매업          강원  20s            1   \n",
       "1   201901           강원         강릉시  건강보조식품 소매업          강원  30s            1   \n",
       "2   201901           강원         강릉시  건강보조식품 소매업          강원  30s            2   \n",
       "3   201901           강원         강릉시  건강보조식품 소매업          강원  40s            1   \n",
       "4   201901           강원         강릉시  건강보조식품 소매업          강원  40s            1   \n",
       "\n",
       "   FLC      AMT  company  employee        LP        JP  loyal  month  refund  \n",
       "0    1   311200    263.0     399.0  0.138432  0.279221   80.0    1.0   -32.0  \n",
       "1    2  1374500    263.0     399.0  0.138432  0.279221   80.0    1.0   -32.0  \n",
       "2    2   818700    263.0     399.0  0.138432  0.279221   80.0    1.0   -32.0  \n",
       "3    3  1717000    263.0     399.0  0.138432  0.279221   80.0    1.0   -32.0  \n",
       "4    4  1047300    263.0     399.0  0.138432  0.279221   80.0    1.0   -32.0  "
      ]
     },
     "execution_count": 22,
     "metadata": {},
     "output_type": "execute_result"
    }
   ],
   "source": [
    "grouped.head(5)"
   ]
  },
  {
   "cell_type": "code",
   "execution_count": 23,
   "metadata": {
    "ExecuteTime": {
     "end_time": "2020-07-29T08:33:17.493859Z",
     "start_time": "2020-07-29T08:33:16.819114Z"
    }
   },
   "outputs": [],
   "source": [
    "grouped.REG_YYMM = pd.to_datetime(grouped.REG_YYMM, format='%Y%m')"
   ]
  },
  {
   "cell_type": "code",
   "execution_count": 24,
   "metadata": {
    "ExecuteTime": {
     "end_time": "2020-07-29T08:33:21.422390Z",
     "start_time": "2020-07-29T08:33:17.493859Z"
    }
   },
   "outputs": [],
   "source": [
    "from sklearn.preprocessing import LabelEncoder\n",
    "\n",
    "# 인코딩\n",
    "dtypes = grouped.dtypes\n",
    "encoders = {}\n",
    "for column in grouped.columns:\n",
    "    if str(dtypes[column]) == 'object':\n",
    "        encoder = LabelEncoder()\n",
    "        encoder.fit(grouped[column])\n",
    "        encoders[column] = encoder\n",
    "        \n",
    "df_num = grouped.copy()        \n",
    "for column in encoders.keys():\n",
    "    encoder = encoders[column]\n",
    "    df_num[column] = encoder.transform(grouped[column])"
   ]
  },
  {
   "cell_type": "code",
   "execution_count": 25,
   "metadata": {
    "ExecuteTime": {
     "end_time": "2020-07-29T08:33:21.443251Z",
     "start_time": "2020-07-29T08:33:21.423900Z"
    }
   },
   "outputs": [
    {
     "data": {
      "text/html": [
       "<div>\n",
       "<style scoped>\n",
       "    .dataframe tbody tr th:only-of-type {\n",
       "        vertical-align: middle;\n",
       "    }\n",
       "\n",
       "    .dataframe tbody tr th {\n",
       "        vertical-align: top;\n",
       "    }\n",
       "\n",
       "    .dataframe thead th {\n",
       "        text-align: right;\n",
       "    }\n",
       "</style>\n",
       "<table border=\"1\" class=\"dataframe\">\n",
       "  <thead>\n",
       "    <tr style=\"text-align: right;\">\n",
       "      <th></th>\n",
       "      <th>REG_YYMM</th>\n",
       "      <th>CARD_SIDO_NM</th>\n",
       "      <th>CARD_CCG_NM</th>\n",
       "      <th>STD_CLSS_NM</th>\n",
       "      <th>HOM_SIDO_NM</th>\n",
       "      <th>AGE</th>\n",
       "      <th>SEX_CTGO_CD</th>\n",
       "      <th>FLC</th>\n",
       "      <th>AMT</th>\n",
       "      <th>company</th>\n",
       "      <th>employee</th>\n",
       "      <th>LP</th>\n",
       "      <th>JP</th>\n",
       "      <th>loyal</th>\n",
       "      <th>month</th>\n",
       "      <th>refund</th>\n",
       "    </tr>\n",
       "  </thead>\n",
       "  <tbody>\n",
       "    <tr>\n",
       "      <th>0</th>\n",
       "      <td>2019-01-01</td>\n",
       "      <td>0</td>\n",
       "      <td>4</td>\n",
       "      <td>0</td>\n",
       "      <td>0</td>\n",
       "      <td>1</td>\n",
       "      <td>1</td>\n",
       "      <td>1</td>\n",
       "      <td>311200</td>\n",
       "      <td>263.0</td>\n",
       "      <td>399.0</td>\n",
       "      <td>0.138432</td>\n",
       "      <td>0.279221</td>\n",
       "      <td>80.0</td>\n",
       "      <td>1.0</td>\n",
       "      <td>-32.0</td>\n",
       "    </tr>\n",
       "    <tr>\n",
       "      <th>1</th>\n",
       "      <td>2019-01-01</td>\n",
       "      <td>0</td>\n",
       "      <td>4</td>\n",
       "      <td>0</td>\n",
       "      <td>0</td>\n",
       "      <td>2</td>\n",
       "      <td>1</td>\n",
       "      <td>2</td>\n",
       "      <td>1374500</td>\n",
       "      <td>263.0</td>\n",
       "      <td>399.0</td>\n",
       "      <td>0.138432</td>\n",
       "      <td>0.279221</td>\n",
       "      <td>80.0</td>\n",
       "      <td>1.0</td>\n",
       "      <td>-32.0</td>\n",
       "    </tr>\n",
       "    <tr>\n",
       "      <th>2</th>\n",
       "      <td>2019-01-01</td>\n",
       "      <td>0</td>\n",
       "      <td>4</td>\n",
       "      <td>0</td>\n",
       "      <td>0</td>\n",
       "      <td>2</td>\n",
       "      <td>2</td>\n",
       "      <td>2</td>\n",
       "      <td>818700</td>\n",
       "      <td>263.0</td>\n",
       "      <td>399.0</td>\n",
       "      <td>0.138432</td>\n",
       "      <td>0.279221</td>\n",
       "      <td>80.0</td>\n",
       "      <td>1.0</td>\n",
       "      <td>-32.0</td>\n",
       "    </tr>\n",
       "    <tr>\n",
       "      <th>3</th>\n",
       "      <td>2019-01-01</td>\n",
       "      <td>0</td>\n",
       "      <td>4</td>\n",
       "      <td>0</td>\n",
       "      <td>0</td>\n",
       "      <td>3</td>\n",
       "      <td>1</td>\n",
       "      <td>3</td>\n",
       "      <td>1717000</td>\n",
       "      <td>263.0</td>\n",
       "      <td>399.0</td>\n",
       "      <td>0.138432</td>\n",
       "      <td>0.279221</td>\n",
       "      <td>80.0</td>\n",
       "      <td>1.0</td>\n",
       "      <td>-32.0</td>\n",
       "    </tr>\n",
       "    <tr>\n",
       "      <th>4</th>\n",
       "      <td>2019-01-01</td>\n",
       "      <td>0</td>\n",
       "      <td>4</td>\n",
       "      <td>0</td>\n",
       "      <td>0</td>\n",
       "      <td>3</td>\n",
       "      <td>1</td>\n",
       "      <td>4</td>\n",
       "      <td>1047300</td>\n",
       "      <td>263.0</td>\n",
       "      <td>399.0</td>\n",
       "      <td>0.138432</td>\n",
       "      <td>0.279221</td>\n",
       "      <td>80.0</td>\n",
       "      <td>1.0</td>\n",
       "      <td>-32.0</td>\n",
       "    </tr>\n",
       "    <tr>\n",
       "      <th>...</th>\n",
       "      <td>...</td>\n",
       "      <td>...</td>\n",
       "      <td>...</td>\n",
       "      <td>...</td>\n",
       "      <td>...</td>\n",
       "      <td>...</td>\n",
       "      <td>...</td>\n",
       "      <td>...</td>\n",
       "      <td>...</td>\n",
       "      <td>...</td>\n",
       "      <td>...</td>\n",
       "      <td>...</td>\n",
       "      <td>...</td>\n",
       "      <td>...</td>\n",
       "      <td>...</td>\n",
       "      <td>...</td>\n",
       "    </tr>\n",
       "    <tr>\n",
       "      <th>5630138</th>\n",
       "      <td>2020-04-01</td>\n",
       "      <td>16</td>\n",
       "      <td>202</td>\n",
       "      <td>40</td>\n",
       "      <td>16</td>\n",
       "      <td>1</td>\n",
       "      <td>1</td>\n",
       "      <td>1</td>\n",
       "      <td>77000</td>\n",
       "      <td>11.0</td>\n",
       "      <td>492.0</td>\n",
       "      <td>0.004580</td>\n",
       "      <td>0.011570</td>\n",
       "      <td>62.0</td>\n",
       "      <td>4.0</td>\n",
       "      <td>999.0</td>\n",
       "    </tr>\n",
       "    <tr>\n",
       "      <th>5630139</th>\n",
       "      <td>2020-04-01</td>\n",
       "      <td>16</td>\n",
       "      <td>202</td>\n",
       "      <td>40</td>\n",
       "      <td>16</td>\n",
       "      <td>2</td>\n",
       "      <td>1</td>\n",
       "      <td>2</td>\n",
       "      <td>92000</td>\n",
       "      <td>11.0</td>\n",
       "      <td>492.0</td>\n",
       "      <td>0.004580</td>\n",
       "      <td>0.011570</td>\n",
       "      <td>62.0</td>\n",
       "      <td>4.0</td>\n",
       "      <td>999.0</td>\n",
       "    </tr>\n",
       "    <tr>\n",
       "      <th>5630140</th>\n",
       "      <td>2020-04-01</td>\n",
       "      <td>16</td>\n",
       "      <td>202</td>\n",
       "      <td>40</td>\n",
       "      <td>16</td>\n",
       "      <td>3</td>\n",
       "      <td>2</td>\n",
       "      <td>3</td>\n",
       "      <td>193000</td>\n",
       "      <td>11.0</td>\n",
       "      <td>492.0</td>\n",
       "      <td>0.004580</td>\n",
       "      <td>0.011570</td>\n",
       "      <td>62.0</td>\n",
       "      <td>4.0</td>\n",
       "      <td>999.0</td>\n",
       "    </tr>\n",
       "    <tr>\n",
       "      <th>5630141</th>\n",
       "      <td>2020-04-01</td>\n",
       "      <td>16</td>\n",
       "      <td>202</td>\n",
       "      <td>40</td>\n",
       "      <td>16</td>\n",
       "      <td>4</td>\n",
       "      <td>1</td>\n",
       "      <td>4</td>\n",
       "      <td>86000</td>\n",
       "      <td>11.0</td>\n",
       "      <td>492.0</td>\n",
       "      <td>0.004580</td>\n",
       "      <td>0.011570</td>\n",
       "      <td>62.0</td>\n",
       "      <td>4.0</td>\n",
       "      <td>999.0</td>\n",
       "    </tr>\n",
       "    <tr>\n",
       "      <th>5630142</th>\n",
       "      <td>2020-04-01</td>\n",
       "      <td>16</td>\n",
       "      <td>202</td>\n",
       "      <td>40</td>\n",
       "      <td>16</td>\n",
       "      <td>5</td>\n",
       "      <td>2</td>\n",
       "      <td>5</td>\n",
       "      <td>227000</td>\n",
       "      <td>11.0</td>\n",
       "      <td>492.0</td>\n",
       "      <td>0.004580</td>\n",
       "      <td>0.011570</td>\n",
       "      <td>62.0</td>\n",
       "      <td>4.0</td>\n",
       "      <td>999.0</td>\n",
       "    </tr>\n",
       "  </tbody>\n",
       "</table>\n",
       "<p>5630143 rows × 16 columns</p>\n",
       "</div>"
      ],
      "text/plain": [
       "          REG_YYMM  CARD_SIDO_NM  CARD_CCG_NM  STD_CLSS_NM  HOM_SIDO_NM  AGE  \\\n",
       "0       2019-01-01             0            4            0            0    1   \n",
       "1       2019-01-01             0            4            0            0    2   \n",
       "2       2019-01-01             0            4            0            0    2   \n",
       "3       2019-01-01             0            4            0            0    3   \n",
       "4       2019-01-01             0            4            0            0    3   \n",
       "...            ...           ...          ...          ...          ...  ...   \n",
       "5630138 2020-04-01            16          202           40           16    1   \n",
       "5630139 2020-04-01            16          202           40           16    2   \n",
       "5630140 2020-04-01            16          202           40           16    3   \n",
       "5630141 2020-04-01            16          202           40           16    4   \n",
       "5630142 2020-04-01            16          202           40           16    5   \n",
       "\n",
       "         SEX_CTGO_CD  FLC      AMT  company  employee        LP        JP  \\\n",
       "0                  1    1   311200    263.0     399.0  0.138432  0.279221   \n",
       "1                  1    2  1374500    263.0     399.0  0.138432  0.279221   \n",
       "2                  2    2   818700    263.0     399.0  0.138432  0.279221   \n",
       "3                  1    3  1717000    263.0     399.0  0.138432  0.279221   \n",
       "4                  1    4  1047300    263.0     399.0  0.138432  0.279221   \n",
       "...              ...  ...      ...      ...       ...       ...       ...   \n",
       "5630138            1    1    77000     11.0     492.0  0.004580  0.011570   \n",
       "5630139            1    2    92000     11.0     492.0  0.004580  0.011570   \n",
       "5630140            2    3   193000     11.0     492.0  0.004580  0.011570   \n",
       "5630141            1    4    86000     11.0     492.0  0.004580  0.011570   \n",
       "5630142            2    5   227000     11.0     492.0  0.004580  0.011570   \n",
       "\n",
       "         loyal  month  refund  \n",
       "0         80.0    1.0   -32.0  \n",
       "1         80.0    1.0   -32.0  \n",
       "2         80.0    1.0   -32.0  \n",
       "3         80.0    1.0   -32.0  \n",
       "4         80.0    1.0   -32.0  \n",
       "...        ...    ...     ...  \n",
       "5630138   62.0    4.0   999.0  \n",
       "5630139   62.0    4.0   999.0  \n",
       "5630140   62.0    4.0   999.0  \n",
       "5630141   62.0    4.0   999.0  \n",
       "5630142   62.0    4.0   999.0  \n",
       "\n",
       "[5630143 rows x 16 columns]"
      ]
     },
     "execution_count": 25,
     "metadata": {},
     "output_type": "execute_result"
    }
   ],
   "source": [
    "df_num"
   ]
  },
  {
   "cell_type": "code",
   "execution_count": 26,
   "metadata": {
    "ExecuteTime": {
     "end_time": "2020-07-29T08:33:21.910675Z",
     "start_time": "2020-07-29T08:33:21.444251Z"
    }
   },
   "outputs": [],
   "source": [
    "import datetime as dt\n",
    "\n",
    "df_num['month'] = df_num['REG_YYMM'].dt.month\n",
    "df_num['year'] = df_num['REG_YYMM'].dt.year"
   ]
  },
  {
   "cell_type": "code",
   "execution_count": 27,
   "metadata": {
    "ExecuteTime": {
     "end_time": "2020-07-29T08:33:22.689785Z",
     "start_time": "2020-07-29T08:33:21.911676Z"
    }
   },
   "outputs": [],
   "source": [
    "train_df = df_num[df_num['REG_YYMM'] <= '2020-01-01']\n",
    "validation_df = df_num[(df_num['REG_YYMM'] > '2020-01-01') & (df_num['REG_YYMM'] <'2020-04-01')]"
   ]
  },
  {
   "cell_type": "code",
   "execution_count": 28,
   "metadata": {
    "ExecuteTime": {
     "end_time": "2020-07-29T08:33:23.521354Z",
     "start_time": "2020-07-29T08:33:22.689785Z"
    }
   },
   "outputs": [],
   "source": [
    "# 7월 데이터 = 2020년의 평균값을 사용.\n",
    "\n",
    "temp = df_num[df_num['REG_YYMM'] >= '2020']\n",
    "temp = temp.groupby(['CARD_SIDO_NM', 'CARD_CCG_NM', 'STD_CLSS_NM',\n",
    "                     'HOM_SIDO_NM', 'AGE', 'SEX_CTGO_CD', 'FLC'], as_index=False)[['company', 'employee', \n",
    "                                                            'LP', 'JP', 'loyal', 'month', 'refund', 'year']].mean()"
   ]
  },
  {
   "cell_type": "code",
   "execution_count": 29,
   "metadata": {
    "ExecuteTime": {
     "end_time": "2020-07-29T08:33:23.692900Z",
     "start_time": "2020-07-29T08:33:23.521354Z"
    }
   },
   "outputs": [],
   "source": [
    "temp.month = 7\n",
    "temp = pd.concat([df_num[df_num['REG_YYMM'] == '2020-04-01'], temp])"
   ]
  },
  {
   "cell_type": "code",
   "execution_count": 30,
   "metadata": {
    "ExecuteTime": {
     "end_time": "2020-07-29T08:33:23.819927Z",
     "start_time": "2020-07-29T08:33:23.693899Z"
    }
   },
   "outputs": [],
   "source": [
    "temp = temp.drop(['REG_YYMM', 'AMT'], axis=1)"
   ]
  },
  {
   "cell_type": "code",
   "execution_count": 31,
   "metadata": {
    "ExecuteTime": {
     "end_time": "2020-07-29T08:33:23.837932Z",
     "start_time": "2020-07-29T08:33:23.820928Z"
    }
   },
   "outputs": [
    {
     "data": {
      "text/html": [
       "<div>\n",
       "<style scoped>\n",
       "    .dataframe tbody tr th:only-of-type {\n",
       "        vertical-align: middle;\n",
       "    }\n",
       "\n",
       "    .dataframe tbody tr th {\n",
       "        vertical-align: top;\n",
       "    }\n",
       "\n",
       "    .dataframe thead th {\n",
       "        text-align: right;\n",
       "    }\n",
       "</style>\n",
       "<table border=\"1\" class=\"dataframe\">\n",
       "  <thead>\n",
       "    <tr style=\"text-align: right;\">\n",
       "      <th></th>\n",
       "      <th>REG_YYMM</th>\n",
       "      <th>CARD_SIDO_NM</th>\n",
       "      <th>CARD_CCG_NM</th>\n",
       "      <th>STD_CLSS_NM</th>\n",
       "      <th>HOM_SIDO_NM</th>\n",
       "      <th>AGE</th>\n",
       "      <th>SEX_CTGO_CD</th>\n",
       "      <th>FLC</th>\n",
       "      <th>AMT</th>\n",
       "      <th>company</th>\n",
       "      <th>employee</th>\n",
       "      <th>LP</th>\n",
       "      <th>JP</th>\n",
       "      <th>loyal</th>\n",
       "      <th>month</th>\n",
       "      <th>refund</th>\n",
       "      <th>year</th>\n",
       "    </tr>\n",
       "  </thead>\n",
       "  <tbody>\n",
       "    <tr>\n",
       "      <th>0</th>\n",
       "      <td>2019-01-01</td>\n",
       "      <td>0</td>\n",
       "      <td>4</td>\n",
       "      <td>0</td>\n",
       "      <td>0</td>\n",
       "      <td>1</td>\n",
       "      <td>1</td>\n",
       "      <td>1</td>\n",
       "      <td>311200</td>\n",
       "      <td>263.0</td>\n",
       "      <td>399.0</td>\n",
       "      <td>0.138432</td>\n",
       "      <td>0.279221</td>\n",
       "      <td>80.0</td>\n",
       "      <td>1</td>\n",
       "      <td>-32.0</td>\n",
       "      <td>2019</td>\n",
       "    </tr>\n",
       "    <tr>\n",
       "      <th>1</th>\n",
       "      <td>2019-01-01</td>\n",
       "      <td>0</td>\n",
       "      <td>4</td>\n",
       "      <td>0</td>\n",
       "      <td>0</td>\n",
       "      <td>2</td>\n",
       "      <td>1</td>\n",
       "      <td>2</td>\n",
       "      <td>1374500</td>\n",
       "      <td>263.0</td>\n",
       "      <td>399.0</td>\n",
       "      <td>0.138432</td>\n",
       "      <td>0.279221</td>\n",
       "      <td>80.0</td>\n",
       "      <td>1</td>\n",
       "      <td>-32.0</td>\n",
       "      <td>2019</td>\n",
       "    </tr>\n",
       "    <tr>\n",
       "      <th>2</th>\n",
       "      <td>2019-01-01</td>\n",
       "      <td>0</td>\n",
       "      <td>4</td>\n",
       "      <td>0</td>\n",
       "      <td>0</td>\n",
       "      <td>2</td>\n",
       "      <td>2</td>\n",
       "      <td>2</td>\n",
       "      <td>818700</td>\n",
       "      <td>263.0</td>\n",
       "      <td>399.0</td>\n",
       "      <td>0.138432</td>\n",
       "      <td>0.279221</td>\n",
       "      <td>80.0</td>\n",
       "      <td>1</td>\n",
       "      <td>-32.0</td>\n",
       "      <td>2019</td>\n",
       "    </tr>\n",
       "    <tr>\n",
       "      <th>3</th>\n",
       "      <td>2019-01-01</td>\n",
       "      <td>0</td>\n",
       "      <td>4</td>\n",
       "      <td>0</td>\n",
       "      <td>0</td>\n",
       "      <td>3</td>\n",
       "      <td>1</td>\n",
       "      <td>3</td>\n",
       "      <td>1717000</td>\n",
       "      <td>263.0</td>\n",
       "      <td>399.0</td>\n",
       "      <td>0.138432</td>\n",
       "      <td>0.279221</td>\n",
       "      <td>80.0</td>\n",
       "      <td>1</td>\n",
       "      <td>-32.0</td>\n",
       "      <td>2019</td>\n",
       "    </tr>\n",
       "    <tr>\n",
       "      <th>4</th>\n",
       "      <td>2019-01-01</td>\n",
       "      <td>0</td>\n",
       "      <td>4</td>\n",
       "      <td>0</td>\n",
       "      <td>0</td>\n",
       "      <td>3</td>\n",
       "      <td>1</td>\n",
       "      <td>4</td>\n",
       "      <td>1047300</td>\n",
       "      <td>263.0</td>\n",
       "      <td>399.0</td>\n",
       "      <td>0.138432</td>\n",
       "      <td>0.279221</td>\n",
       "      <td>80.0</td>\n",
       "      <td>1</td>\n",
       "      <td>-32.0</td>\n",
       "      <td>2019</td>\n",
       "    </tr>\n",
       "    <tr>\n",
       "      <th>...</th>\n",
       "      <td>...</td>\n",
       "      <td>...</td>\n",
       "      <td>...</td>\n",
       "      <td>...</td>\n",
       "      <td>...</td>\n",
       "      <td>...</td>\n",
       "      <td>...</td>\n",
       "      <td>...</td>\n",
       "      <td>...</td>\n",
       "      <td>...</td>\n",
       "      <td>...</td>\n",
       "      <td>...</td>\n",
       "      <td>...</td>\n",
       "      <td>...</td>\n",
       "      <td>...</td>\n",
       "      <td>...</td>\n",
       "      <td>...</td>\n",
       "    </tr>\n",
       "    <tr>\n",
       "      <th>5630138</th>\n",
       "      <td>2020-04-01</td>\n",
       "      <td>16</td>\n",
       "      <td>202</td>\n",
       "      <td>40</td>\n",
       "      <td>16</td>\n",
       "      <td>1</td>\n",
       "      <td>1</td>\n",
       "      <td>1</td>\n",
       "      <td>77000</td>\n",
       "      <td>11.0</td>\n",
       "      <td>492.0</td>\n",
       "      <td>0.004580</td>\n",
       "      <td>0.011570</td>\n",
       "      <td>62.0</td>\n",
       "      <td>4</td>\n",
       "      <td>999.0</td>\n",
       "      <td>2020</td>\n",
       "    </tr>\n",
       "    <tr>\n",
       "      <th>5630139</th>\n",
       "      <td>2020-04-01</td>\n",
       "      <td>16</td>\n",
       "      <td>202</td>\n",
       "      <td>40</td>\n",
       "      <td>16</td>\n",
       "      <td>2</td>\n",
       "      <td>1</td>\n",
       "      <td>2</td>\n",
       "      <td>92000</td>\n",
       "      <td>11.0</td>\n",
       "      <td>492.0</td>\n",
       "      <td>0.004580</td>\n",
       "      <td>0.011570</td>\n",
       "      <td>62.0</td>\n",
       "      <td>4</td>\n",
       "      <td>999.0</td>\n",
       "      <td>2020</td>\n",
       "    </tr>\n",
       "    <tr>\n",
       "      <th>5630140</th>\n",
       "      <td>2020-04-01</td>\n",
       "      <td>16</td>\n",
       "      <td>202</td>\n",
       "      <td>40</td>\n",
       "      <td>16</td>\n",
       "      <td>3</td>\n",
       "      <td>2</td>\n",
       "      <td>3</td>\n",
       "      <td>193000</td>\n",
       "      <td>11.0</td>\n",
       "      <td>492.0</td>\n",
       "      <td>0.004580</td>\n",
       "      <td>0.011570</td>\n",
       "      <td>62.0</td>\n",
       "      <td>4</td>\n",
       "      <td>999.0</td>\n",
       "      <td>2020</td>\n",
       "    </tr>\n",
       "    <tr>\n",
       "      <th>5630141</th>\n",
       "      <td>2020-04-01</td>\n",
       "      <td>16</td>\n",
       "      <td>202</td>\n",
       "      <td>40</td>\n",
       "      <td>16</td>\n",
       "      <td>4</td>\n",
       "      <td>1</td>\n",
       "      <td>4</td>\n",
       "      <td>86000</td>\n",
       "      <td>11.0</td>\n",
       "      <td>492.0</td>\n",
       "      <td>0.004580</td>\n",
       "      <td>0.011570</td>\n",
       "      <td>62.0</td>\n",
       "      <td>4</td>\n",
       "      <td>999.0</td>\n",
       "      <td>2020</td>\n",
       "    </tr>\n",
       "    <tr>\n",
       "      <th>5630142</th>\n",
       "      <td>2020-04-01</td>\n",
       "      <td>16</td>\n",
       "      <td>202</td>\n",
       "      <td>40</td>\n",
       "      <td>16</td>\n",
       "      <td>5</td>\n",
       "      <td>2</td>\n",
       "      <td>5</td>\n",
       "      <td>227000</td>\n",
       "      <td>11.0</td>\n",
       "      <td>492.0</td>\n",
       "      <td>0.004580</td>\n",
       "      <td>0.011570</td>\n",
       "      <td>62.0</td>\n",
       "      <td>4</td>\n",
       "      <td>999.0</td>\n",
       "      <td>2020</td>\n",
       "    </tr>\n",
       "  </tbody>\n",
       "</table>\n",
       "<p>5630143 rows × 17 columns</p>\n",
       "</div>"
      ],
      "text/plain": [
       "          REG_YYMM  CARD_SIDO_NM  CARD_CCG_NM  STD_CLSS_NM  HOM_SIDO_NM  AGE  \\\n",
       "0       2019-01-01             0            4            0            0    1   \n",
       "1       2019-01-01             0            4            0            0    2   \n",
       "2       2019-01-01             0            4            0            0    2   \n",
       "3       2019-01-01             0            4            0            0    3   \n",
       "4       2019-01-01             0            4            0            0    3   \n",
       "...            ...           ...          ...          ...          ...  ...   \n",
       "5630138 2020-04-01            16          202           40           16    1   \n",
       "5630139 2020-04-01            16          202           40           16    2   \n",
       "5630140 2020-04-01            16          202           40           16    3   \n",
       "5630141 2020-04-01            16          202           40           16    4   \n",
       "5630142 2020-04-01            16          202           40           16    5   \n",
       "\n",
       "         SEX_CTGO_CD  FLC      AMT  company  employee        LP        JP  \\\n",
       "0                  1    1   311200    263.0     399.0  0.138432  0.279221   \n",
       "1                  1    2  1374500    263.0     399.0  0.138432  0.279221   \n",
       "2                  2    2   818700    263.0     399.0  0.138432  0.279221   \n",
       "3                  1    3  1717000    263.0     399.0  0.138432  0.279221   \n",
       "4                  1    4  1047300    263.0     399.0  0.138432  0.279221   \n",
       "...              ...  ...      ...      ...       ...       ...       ...   \n",
       "5630138            1    1    77000     11.0     492.0  0.004580  0.011570   \n",
       "5630139            1    2    92000     11.0     492.0  0.004580  0.011570   \n",
       "5630140            2    3   193000     11.0     492.0  0.004580  0.011570   \n",
       "5630141            1    4    86000     11.0     492.0  0.004580  0.011570   \n",
       "5630142            2    5   227000     11.0     492.0  0.004580  0.011570   \n",
       "\n",
       "         loyal  month  refund  year  \n",
       "0         80.0      1   -32.0  2019  \n",
       "1         80.0      1   -32.0  2019  \n",
       "2         80.0      1   -32.0  2019  \n",
       "3         80.0      1   -32.0  2019  \n",
       "4         80.0      1   -32.0  2019  \n",
       "...        ...    ...     ...   ...  \n",
       "5630138   62.0      4   999.0  2020  \n",
       "5630139   62.0      4   999.0  2020  \n",
       "5630140   62.0      4   999.0  2020  \n",
       "5630141   62.0      4   999.0  2020  \n",
       "5630142   62.0      4   999.0  2020  \n",
       "\n",
       "[5630143 rows x 17 columns]"
      ]
     },
     "execution_count": 31,
     "metadata": {},
     "output_type": "execute_result"
    }
   ],
   "source": [
    "df_num"
   ]
  },
  {
   "cell_type": "code",
   "execution_count": 32,
   "metadata": {
    "ExecuteTime": {
     "end_time": "2020-07-29T08:33:23.866939Z",
     "start_time": "2020-07-29T08:33:23.838932Z"
    }
   },
   "outputs": [
    {
     "data": {
      "text/plain": [
       "(301933, 15)"
      ]
     },
     "execution_count": 32,
     "metadata": {},
     "output_type": "execute_result"
    }
   ],
   "source": [
    "temp[temp.month == 4].shape"
   ]
  },
  {
   "cell_type": "code",
   "execution_count": 52,
   "metadata": {
    "ExecuteTime": {
     "end_time": "2020-07-29T09:00:20.843063Z",
     "start_time": "2020-07-29T09:00:20.840063Z"
    }
   },
   "outputs": [
    {
     "data": {
      "text/plain": [
       "17"
      ]
     },
     "execution_count": 52,
     "metadata": {},
     "output_type": "execute_result"
    }
   ],
   "source": [
    "temp.CARD_SIDO_NM.nunique()"
   ]
  },
  {
   "cell_type": "code",
   "execution_count": 58,
   "metadata": {
    "ExecuteTime": {
     "end_time": "2020-07-29T09:01:28.287060Z",
     "start_time": "2020-07-29T09:01:27.983973Z"
    }
   },
   "outputs": [
    {
     "data": {
      "text/plain": [
       "array(['강원', '경기', '경남', '경북', '광주', '대구', '대전', '부산', '서울', '세종', '울산',\n",
       "       '인천', '전남', '전북', '제주', '충남', '충북'], dtype=object)"
      ]
     },
     "execution_count": 58,
     "metadata": {},
     "output_type": "execute_result"
    }
   ],
   "source": [
    "pd.Series(encoders['CARD_SIDO_NM'].inverse_transform(df_num['CARD_SIDO_NM'])).unique()"
   ]
  },
  {
   "cell_type": "markdown",
   "metadata": {},
   "source": [
    "### Light GBM"
   ]
  },
  {
   "cell_type": "code",
   "execution_count": 34,
   "metadata": {
    "ExecuteTime": {
     "end_time": "2020-07-29T08:33:23.961036Z",
     "start_time": "2020-07-29T08:33:23.883973Z"
    }
   },
   "outputs": [],
   "source": [
    "import lightgbm as lgb"
   ]
  },
  {
   "cell_type": "code",
   "execution_count": 35,
   "metadata": {
    "ExecuteTime": {
     "end_time": "2020-07-29T08:33:23.973059Z",
     "start_time": "2020-07-29T08:33:23.962036Z"
    }
   },
   "outputs": [
    {
     "data": {
      "text/html": [
       "<div>\n",
       "<style scoped>\n",
       "    .dataframe tbody tr th:only-of-type {\n",
       "        vertical-align: middle;\n",
       "    }\n",
       "\n",
       "    .dataframe tbody tr th {\n",
       "        vertical-align: top;\n",
       "    }\n",
       "\n",
       "    .dataframe thead th {\n",
       "        text-align: right;\n",
       "    }\n",
       "</style>\n",
       "<table border=\"1\" class=\"dataframe\">\n",
       "  <thead>\n",
       "    <tr style=\"text-align: right;\">\n",
       "      <th></th>\n",
       "      <th>REG_YYMM</th>\n",
       "      <th>CARD_SIDO_NM</th>\n",
       "      <th>CARD_CCG_NM</th>\n",
       "      <th>STD_CLSS_NM</th>\n",
       "      <th>HOM_SIDO_NM</th>\n",
       "      <th>AGE</th>\n",
       "      <th>SEX_CTGO_CD</th>\n",
       "      <th>FLC</th>\n",
       "      <th>AMT</th>\n",
       "      <th>company</th>\n",
       "      <th>employee</th>\n",
       "      <th>LP</th>\n",
       "      <th>JP</th>\n",
       "      <th>loyal</th>\n",
       "      <th>month</th>\n",
       "      <th>refund</th>\n",
       "      <th>year</th>\n",
       "    </tr>\n",
       "  </thead>\n",
       "  <tbody>\n",
       "    <tr>\n",
       "      <th>0</th>\n",
       "      <td>2019-01-01</td>\n",
       "      <td>0</td>\n",
       "      <td>4</td>\n",
       "      <td>0</td>\n",
       "      <td>0</td>\n",
       "      <td>1</td>\n",
       "      <td>1</td>\n",
       "      <td>1</td>\n",
       "      <td>311200</td>\n",
       "      <td>263.0</td>\n",
       "      <td>399.0</td>\n",
       "      <td>0.138432</td>\n",
       "      <td>0.279221</td>\n",
       "      <td>80.0</td>\n",
       "      <td>1</td>\n",
       "      <td>-32.0</td>\n",
       "      <td>2019</td>\n",
       "    </tr>\n",
       "  </tbody>\n",
       "</table>\n",
       "</div>"
      ],
      "text/plain": [
       "    REG_YYMM  CARD_SIDO_NM  CARD_CCG_NM  STD_CLSS_NM  HOM_SIDO_NM  AGE  \\\n",
       "0 2019-01-01             0            4            0            0    1   \n",
       "\n",
       "   SEX_CTGO_CD  FLC     AMT  company  employee        LP        JP  loyal  \\\n",
       "0            1    1  311200    263.0     399.0  0.138432  0.279221   80.0   \n",
       "\n",
       "   month  refund  year  \n",
       "0      1   -32.0  2019  "
      ]
     },
     "execution_count": 35,
     "metadata": {},
     "output_type": "execute_result"
    }
   ],
   "source": [
    "train_df.head(1)"
   ]
  },
  {
   "cell_type": "code",
   "execution_count": 36,
   "metadata": {
    "ExecuteTime": {
     "end_time": "2020-07-29T08:33:24.339905Z",
     "start_time": "2020-07-29T08:33:23.974095Z"
    }
   },
   "outputs": [],
   "source": [
    "train = train_df.drop(['AMT', 'REG_YYMM'], axis=1)\n",
    "trian_label = np.log1p(train_df[['AMT']])"
   ]
  },
  {
   "cell_type": "code",
   "execution_count": 37,
   "metadata": {
    "ExecuteTime": {
     "end_time": "2020-07-29T08:33:24.385915Z",
     "start_time": "2020-07-29T08:33:24.340905Z"
    }
   },
   "outputs": [],
   "source": [
    "validation = validation_df.drop(['AMT', 'REG_YYMM'], axis=1)\n",
    "validation_label = np.log1p(validation_df[['AMT']])"
   ]
  },
  {
   "cell_type": "code",
   "execution_count": 38,
   "metadata": {
    "ExecuteTime": {
     "end_time": "2020-07-29T08:33:24.388916Z",
     "start_time": "2020-07-29T08:33:24.386915Z"
    }
   },
   "outputs": [],
   "source": [
    "lgb_train = lgb.Dataset(train, label=trian_label)\n",
    "lgb_eval = lgb.Dataset(validation, label=validation_label, reference=lgb_train)"
   ]
  },
  {
   "cell_type": "code",
   "execution_count": 39,
   "metadata": {
    "ExecuteTime": {
     "end_time": "2020-07-29T08:33:24.393917Z",
     "start_time": "2020-07-29T08:33:24.389917Z"
    }
   },
   "outputs": [],
   "source": [
    "evals_result = {}\n",
    "params = {\n",
    "    'boosting_type': 'gbdt',\n",
    "    'objective': 'regression',\n",
    "    'metric': 'rmse',\n",
    "    'max_depth':11,\n",
    "    'num_leaves': 31,\n",
    "    'learning_rate': 0.7,\n",
    "    'feature_fraction': 0.9,\n",
    "    'bagging_fraction': 0.8,\n",
    "    'bagging_freq': 5,\n",
    "    'verbose': 0}"
   ]
  },
  {
   "cell_type": "code",
   "execution_count": 41,
   "metadata": {
    "ExecuteTime": {
     "end_time": "2020-07-29T08:54:29.920308Z",
     "start_time": "2020-07-29T08:51:14.770779Z"
    },
    "scrolled": true
   },
   "outputs": [
    {
     "name": "stdout",
     "output_type": "stream",
     "text": [
      "Training until validation scores don't improve for 100 rounds\n",
      "[100]\ttraining's rmse: 1.08409\tvalid_1's rmse: 1.15168\n",
      "[200]\ttraining's rmse: 0.971743\tvalid_1's rmse: 1.07805\n",
      "[300]\ttraining's rmse: 0.915365\tvalid_1's rmse: 1.04412\n",
      "[400]\ttraining's rmse: 0.878268\tvalid_1's rmse: 1.02056\n",
      "[500]\ttraining's rmse: 0.853616\tvalid_1's rmse: 1.01023\n",
      "[600]\ttraining's rmse: 0.828808\tvalid_1's rmse: 0.998111\n",
      "[700]\ttraining's rmse: 0.811932\tvalid_1's rmse: 0.987881\n",
      "[800]\ttraining's rmse: 0.795354\tvalid_1's rmse: 0.981462\n",
      "[900]\ttraining's rmse: 0.782766\tvalid_1's rmse: 0.97573\n",
      "[1000]\ttraining's rmse: 0.771824\tvalid_1's rmse: 0.97125\n",
      "[1100]\ttraining's rmse: 0.761481\tvalid_1's rmse: 0.964724\n",
      "[1200]\ttraining's rmse: 0.751811\tvalid_1's rmse: 0.963575\n",
      "[1300]\ttraining's rmse: 0.743155\tvalid_1's rmse: 0.9608\n",
      "[1400]\ttraining's rmse: 0.736197\tvalid_1's rmse: 0.95934\n",
      "[1500]\ttraining's rmse: 0.729015\tvalid_1's rmse: 0.955816\n",
      "[1600]\ttraining's rmse: 0.722686\tvalid_1's rmse: 0.954089\n",
      "[1700]\ttraining's rmse: 0.716987\tvalid_1's rmse: 0.950298\n",
      "[1800]\ttraining's rmse: 0.712058\tvalid_1's rmse: 0.94966\n",
      "[1900]\ttraining's rmse: 0.707586\tvalid_1's rmse: 0.948998\n",
      "[2000]\ttraining's rmse: 0.70321\tvalid_1's rmse: 0.94742\n",
      "[2100]\ttraining's rmse: 0.699172\tvalid_1's rmse: 0.946246\n",
      "[2200]\ttraining's rmse: 0.695288\tvalid_1's rmse: 0.946051\n",
      "[2300]\ttraining's rmse: 0.691591\tvalid_1's rmse: 0.944997\n",
      "[2400]\ttraining's rmse: 0.687885\tvalid_1's rmse: 0.944126\n",
      "[2500]\ttraining's rmse: 0.684682\tvalid_1's rmse: 0.944407\n",
      "Early stopping, best iteration is:\n",
      "[2473]\ttraining's rmse: 0.685351\tvalid_1's rmse: 0.943417\n"
     ]
    }
   ],
   "source": [
    "model = lgb.train(params, lgb_train, early_stopping_rounds=100,\n",
    "                  num_boost_round=5000, evals_result=evals_result,\n",
    "                  valid_sets= (lgb_train, lgb_eval),verbose_eval = 100)"
   ]
  },
  {
   "cell_type": "code",
   "execution_count": 42,
   "metadata": {
    "ExecuteTime": {
     "end_time": "2020-07-29T08:54:30.140357Z",
     "start_time": "2020-07-29T08:54:29.921308Z"
    },
    "scrolled": true
   },
   "outputs": [
    {
     "data": {
      "text/plain": [
       "<matplotlib.axes._subplots.AxesSubplot at 0x1778d5f7b70>"
      ]
     },
     "execution_count": 42,
     "metadata": {},
     "output_type": "execute_result"
    },
    {
     "data": {
      "image/png": "[encoded data removed]",
      "text/plain": [
       "<Figure size 864x360 with 1 Axes>"
      ]
     },
     "metadata": {},
     "output_type": "display_data"
    }
   ],
   "source": [
    "import matplotlib as mlt\n",
    "import matplotlib.pyplot as plt\n",
    "%matplotlib inline\n",
    "\n",
    "lgb.plot_metric(evals_result, figsize=(12, 5))"
   ]
  },
  {
   "cell_type": "code",
   "execution_count": 43,
   "metadata": {
    "ExecuteTime": {
     "end_time": "2020-07-29T08:54:30.149359Z",
     "start_time": "2020-07-29T08:54:30.141357Z"
    }
   },
   "outputs": [
    {
     "data": {
      "text/html": [
       "<div>\n",
       "<style scoped>\n",
       "    .dataframe tbody tr th:only-of-type {\n",
       "        vertical-align: middle;\n",
       "    }\n",
       "\n",
       "    .dataframe tbody tr th {\n",
       "        vertical-align: top;\n",
       "    }\n",
       "\n",
       "    .dataframe thead th {\n",
       "        text-align: right;\n",
       "    }\n",
       "</style>\n",
       "<table border=\"1\" class=\"dataframe\">\n",
       "  <thead>\n",
       "    <tr style=\"text-align: right;\">\n",
       "      <th></th>\n",
       "      <th>name</th>\n",
       "      <th>importance</th>\n",
       "    </tr>\n",
       "  </thead>\n",
       "  <tbody>\n",
       "    <tr>\n",
       "      <th>3</th>\n",
       "      <td>HOM_SIDO_NM</td>\n",
       "      <td>12268</td>\n",
       "    </tr>\n",
       "    <tr>\n",
       "      <th>1</th>\n",
       "      <td>CARD_CCG_NM</td>\n",
       "      <td>10606</td>\n",
       "    </tr>\n",
       "    <tr>\n",
       "      <th>10</th>\n",
       "      <td>JP</td>\n",
       "      <td>7413</td>\n",
       "    </tr>\n",
       "    <tr>\n",
       "      <th>9</th>\n",
       "      <td>LP</td>\n",
       "      <td>6565</td>\n",
       "    </tr>\n",
       "    <tr>\n",
       "      <th>4</th>\n",
       "      <td>AGE</td>\n",
       "      <td>5605</td>\n",
       "    </tr>\n",
       "    <tr>\n",
       "      <th>11</th>\n",
       "      <td>loyal</td>\n",
       "      <td>5437</td>\n",
       "    </tr>\n",
       "    <tr>\n",
       "      <th>7</th>\n",
       "      <td>company</td>\n",
       "      <td>4621</td>\n",
       "    </tr>\n",
       "    <tr>\n",
       "      <th>0</th>\n",
       "      <td>CARD_SIDO_NM</td>\n",
       "      <td>4410</td>\n",
       "    </tr>\n",
       "    <tr>\n",
       "      <th>8</th>\n",
       "      <td>employee</td>\n",
       "      <td>4132</td>\n",
       "    </tr>\n",
       "    <tr>\n",
       "      <th>2</th>\n",
       "      <td>STD_CLSS_NM</td>\n",
       "      <td>3623</td>\n",
       "    </tr>\n",
       "    <tr>\n",
       "      <th>6</th>\n",
       "      <td>FLC</td>\n",
       "      <td>3532</td>\n",
       "    </tr>\n",
       "    <tr>\n",
       "      <th>13</th>\n",
       "      <td>refund</td>\n",
       "      <td>2105</td>\n",
       "    </tr>\n",
       "    <tr>\n",
       "      <th>5</th>\n",
       "      <td>SEX_CTGO_CD</td>\n",
       "      <td>2047</td>\n",
       "    </tr>\n",
       "    <tr>\n",
       "      <th>12</th>\n",
       "      <td>month</td>\n",
       "      <td>1659</td>\n",
       "    </tr>\n",
       "    <tr>\n",
       "      <th>14</th>\n",
       "      <td>year</td>\n",
       "      <td>167</td>\n",
       "    </tr>\n",
       "  </tbody>\n",
       "</table>\n",
       "</div>"
      ],
      "text/plain": [
       "            name  importance\n",
       "3    HOM_SIDO_NM       12268\n",
       "1    CARD_CCG_NM       10606\n",
       "10            JP        7413\n",
       "9             LP        6565\n",
       "4            AGE        5605\n",
       "11         loyal        5437\n",
       "7        company        4621\n",
       "0   CARD_SIDO_NM        4410\n",
       "8       employee        4132\n",
       "2    STD_CLSS_NM        3623\n",
       "6            FLC        3532\n",
       "13        refund        2105\n",
       "5    SEX_CTGO_CD        2047\n",
       "12         month        1659\n",
       "14          year         167"
      ]
     },
     "execution_count": 43,
     "metadata": {},
     "output_type": "execute_result"
    }
   ],
   "source": [
    "pd.DataFrame({'name': model.feature_name(), 'importance':model.feature_importance()}).sort_values('importance',ascending= False)"
   ]
  },
  {
   "cell_type": "code",
   "execution_count": 44,
   "metadata": {
    "ExecuteTime": {
     "end_time": "2020-07-29T08:54:37.388545Z",
     "start_time": "2020-07-29T08:54:30.150359Z"
    }
   },
   "outputs": [],
   "source": [
    "pred = model.predict(temp)\n",
    "pred = np.expm1(pred)\n",
    "temp['AMT'] = np.round(pred, 0)\n",
    "temp['REG_YYMM'] = temp['year']*100 + temp['month']\n",
    "temp = temp[['REG_YYMM', 'CARD_SIDO_NM', 'STD_CLSS_NM', 'AMT']]\n",
    "temp = temp.groupby(['REG_YYMM', 'CARD_SIDO_NM', 'STD_CLSS_NM']).sum().reset_index(drop=False)"
   ]
  },
  {
   "cell_type": "code",
   "execution_count": 45,
   "metadata": {
    "ExecuteTime": {
     "end_time": "2020-07-29T08:54:37.394546Z",
     "start_time": "2020-07-29T08:54:37.389544Z"
    }
   },
   "outputs": [],
   "source": [
    "# 디코딩 (Random Forest)\n",
    "temp['CARD_SIDO_NM'] = encoders['CARD_SIDO_NM'].inverse_transform(temp['CARD_SIDO_NM'])\n",
    "temp['STD_CLSS_NM'] = encoders['STD_CLSS_NM'].inverse_transform(temp['STD_CLSS_NM'])"
   ]
  },
  {
   "cell_type": "code",
   "execution_count": 46,
   "metadata": {
    "ExecuteTime": {
     "end_time": "2020-07-29T08:54:37.415550Z",
     "start_time": "2020-07-29T08:54:37.395546Z"
    }
   },
   "outputs": [
    {
     "data": {
      "text/html": [
       "<div>\n",
       "<style scoped>\n",
       "    .dataframe tbody tr th:only-of-type {\n",
       "        vertical-align: middle;\n",
       "    }\n",
       "\n",
       "    .dataframe tbody tr th {\n",
       "        vertical-align: top;\n",
       "    }\n",
       "\n",
       "    .dataframe thead th {\n",
       "        text-align: right;\n",
       "    }\n",
       "</style>\n",
       "<table border=\"1\" class=\"dataframe\">\n",
       "  <thead>\n",
       "    <tr style=\"text-align: right;\">\n",
       "      <th></th>\n",
       "      <th>REG_YYMM</th>\n",
       "      <th>CARD_SIDO_NM</th>\n",
       "      <th>STD_CLSS_NM</th>\n",
       "      <th>AMT</th>\n",
       "    </tr>\n",
       "    <tr>\n",
       "      <th>id</th>\n",
       "      <th></th>\n",
       "      <th></th>\n",
       "      <th></th>\n",
       "      <th></th>\n",
       "    </tr>\n",
       "  </thead>\n",
       "  <tbody>\n",
       "    <tr>\n",
       "      <th>0</th>\n",
       "      <td>202004</td>\n",
       "      <td>강원</td>\n",
       "      <td>건강보조식품 소매업</td>\n",
       "      <td>1.003871e+08</td>\n",
       "    </tr>\n",
       "    <tr>\n",
       "      <th>1</th>\n",
       "      <td>202004</td>\n",
       "      <td>강원</td>\n",
       "      <td>골프장 운영업</td>\n",
       "      <td>3.793522e+09</td>\n",
       "    </tr>\n",
       "    <tr>\n",
       "      <th>2</th>\n",
       "      <td>202004</td>\n",
       "      <td>강원</td>\n",
       "      <td>과실 및 채소 소매업</td>\n",
       "      <td>1.586793e+09</td>\n",
       "    </tr>\n",
       "    <tr>\n",
       "      <th>3</th>\n",
       "      <td>202004</td>\n",
       "      <td>강원</td>\n",
       "      <td>관광 민예품 및 선물용품 소매업</td>\n",
       "      <td>1.429527e+07</td>\n",
       "    </tr>\n",
       "    <tr>\n",
       "      <th>4</th>\n",
       "      <td>202004</td>\n",
       "      <td>강원</td>\n",
       "      <td>그외 기타 분류안된 오락관련 서비스업</td>\n",
       "      <td>0.000000e+00</td>\n",
       "    </tr>\n",
       "  </tbody>\n",
       "</table>\n",
       "</div>"
      ],
      "text/plain": [
       "    REG_YYMM CARD_SIDO_NM           STD_CLSS_NM           AMT\n",
       "id                                                           \n",
       "0     202004           강원            건강보조식품 소매업  1.003871e+08\n",
       "1     202004           강원               골프장 운영업  3.793522e+09\n",
       "2     202004           강원           과실 및 채소 소매업  1.586793e+09\n",
       "3     202004           강원     관광 민예품 및 선물용품 소매업  1.429527e+07\n",
       "4     202004           강원  그외 기타 분류안된 오락관련 서비스업  0.000000e+00"
      ]
     },
     "execution_count": 46,
     "metadata": {},
     "output_type": "execute_result"
    }
   ],
   "source": [
    "# 제출 파일 만들기(Random Forest)\n",
    "submission = pd.read_csv(path +'submission.csv', index_col=0)\n",
    "submission = submission.drop(['AMT'], axis=1)\n",
    "submission = submission.merge(temp, left_on=['REG_YYMM', 'CARD_SIDO_NM', 'STD_CLSS_NM'], right_on=['REG_YYMM', 'CARD_SIDO_NM', 'STD_CLSS_NM'], how='left')\n",
    "submission.index.name = 'id'\n",
    "compare_pred = submission.dropna()\n",
    "submission = submission.fillna(0)\n",
    "submission.head()"
   ]
  },
  {
   "cell_type": "code",
   "execution_count": 47,
   "metadata": {
    "ExecuteTime": {
     "end_time": "2020-07-29T08:54:37.425554Z",
     "start_time": "2020-07-29T08:54:37.416551Z"
    },
    "scrolled": true
   },
   "outputs": [
    {
     "data": {
      "text/html": [
       "<div>\n",
       "<style scoped>\n",
       "    .dataframe tbody tr th:only-of-type {\n",
       "        vertical-align: middle;\n",
       "    }\n",
       "\n",
       "    .dataframe tbody tr th {\n",
       "        vertical-align: top;\n",
       "    }\n",
       "\n",
       "    .dataframe thead th {\n",
       "        text-align: right;\n",
       "    }\n",
       "</style>\n",
       "<table border=\"1\" class=\"dataframe\">\n",
       "  <thead>\n",
       "    <tr style=\"text-align: right;\">\n",
       "      <th></th>\n",
       "      <th>REG_YYMM</th>\n",
       "      <th>CARD_SIDO_NM</th>\n",
       "      <th>STD_CLSS_NM</th>\n",
       "      <th>AMT</th>\n",
       "    </tr>\n",
       "    <tr>\n",
       "      <th>id</th>\n",
       "      <th></th>\n",
       "      <th></th>\n",
       "      <th></th>\n",
       "      <th></th>\n",
       "    </tr>\n",
       "  </thead>\n",
       "  <tbody>\n",
       "    <tr>\n",
       "      <th>0</th>\n",
       "      <td>202004</td>\n",
       "      <td>강원</td>\n",
       "      <td>건강보조식품 소매업</td>\n",
       "      <td>1.003871e+08</td>\n",
       "    </tr>\n",
       "    <tr>\n",
       "      <th>1</th>\n",
       "      <td>202004</td>\n",
       "      <td>강원</td>\n",
       "      <td>골프장 운영업</td>\n",
       "      <td>3.793522e+09</td>\n",
       "    </tr>\n",
       "    <tr>\n",
       "      <th>2</th>\n",
       "      <td>202004</td>\n",
       "      <td>강원</td>\n",
       "      <td>과실 및 채소 소매업</td>\n",
       "      <td>1.586793e+09</td>\n",
       "    </tr>\n",
       "    <tr>\n",
       "      <th>3</th>\n",
       "      <td>202004</td>\n",
       "      <td>강원</td>\n",
       "      <td>관광 민예품 및 선물용품 소매업</td>\n",
       "      <td>1.429527e+07</td>\n",
       "    </tr>\n",
       "    <tr>\n",
       "      <th>4</th>\n",
       "      <td>202004</td>\n",
       "      <td>강원</td>\n",
       "      <td>그외 기타 분류안된 오락관련 서비스업</td>\n",
       "      <td>0.000000e+00</td>\n",
       "    </tr>\n",
       "    <tr>\n",
       "      <th>...</th>\n",
       "      <td>...</td>\n",
       "      <td>...</td>\n",
       "      <td>...</td>\n",
       "      <td>...</td>\n",
       "    </tr>\n",
       "    <tr>\n",
       "      <th>1389</th>\n",
       "      <td>202007</td>\n",
       "      <td>충북</td>\n",
       "      <td>피자 햄버거 샌드위치 및 유사 음식점업</td>\n",
       "      <td>1.380464e+09</td>\n",
       "    </tr>\n",
       "    <tr>\n",
       "      <th>1390</th>\n",
       "      <td>202007</td>\n",
       "      <td>충북</td>\n",
       "      <td>한식 음식점업</td>\n",
       "      <td>1.966725e+10</td>\n",
       "    </tr>\n",
       "    <tr>\n",
       "      <th>1391</th>\n",
       "      <td>202007</td>\n",
       "      <td>충북</td>\n",
       "      <td>호텔업</td>\n",
       "      <td>1.827793e+07</td>\n",
       "    </tr>\n",
       "    <tr>\n",
       "      <th>1392</th>\n",
       "      <td>202007</td>\n",
       "      <td>충북</td>\n",
       "      <td>화장품 및 방향제 소매업</td>\n",
       "      <td>5.155587e+08</td>\n",
       "    </tr>\n",
       "    <tr>\n",
       "      <th>1393</th>\n",
       "      <td>202007</td>\n",
       "      <td>충북</td>\n",
       "      <td>휴양콘도 운영업</td>\n",
       "      <td>1.142187e+08</td>\n",
       "    </tr>\n",
       "  </tbody>\n",
       "</table>\n",
       "<p>1394 rows × 4 columns</p>\n",
       "</div>"
      ],
      "text/plain": [
       "      REG_YYMM CARD_SIDO_NM            STD_CLSS_NM           AMT\n",
       "id                                                              \n",
       "0       202004           강원             건강보조식품 소매업  1.003871e+08\n",
       "1       202004           강원                골프장 운영업  3.793522e+09\n",
       "2       202004           강원            과실 및 채소 소매업  1.586793e+09\n",
       "3       202004           강원      관광 민예품 및 선물용품 소매업  1.429527e+07\n",
       "4       202004           강원   그외 기타 분류안된 오락관련 서비스업  0.000000e+00\n",
       "...        ...          ...                    ...           ...\n",
       "1389    202007           충북  피자 햄버거 샌드위치 및 유사 음식점업  1.380464e+09\n",
       "1390    202007           충북                한식 음식점업  1.966725e+10\n",
       "1391    202007           충북                    호텔업  1.827793e+07\n",
       "1392    202007           충북          화장품 및 방향제 소매업  5.155587e+08\n",
       "1393    202007           충북               휴양콘도 운영업  1.142187e+08\n",
       "\n",
       "[1394 rows x 4 columns]"
      ]
     },
     "execution_count": 47,
     "metadata": {},
     "output_type": "execute_result"
    }
   ],
   "source": [
    "submission"
   ]
  },
  {
   "cell_type": "code",
   "execution_count": 48,
   "metadata": {
    "ExecuteTime": {
     "end_time": "2020-07-29T08:54:37.433555Z",
     "start_time": "2020-07-29T08:54:37.426553Z"
    }
   },
   "outputs": [],
   "source": [
    "path3 = '../../../'\n",
    "only_4 = pd.read_csv(path3+'only_4.csv')\n",
    "def set_sumit(only_4, pre_df):\n",
    "    '''리더보드와 동일한 예측을 하는 함수\n",
    "    parameter\n",
    "    --------\n",
    "    only_4(df) : 4월 RMSLE가 0이 나왔던 제출셋\n",
    "    pre_df(df) : 모델로 예측한 Dataframe\n",
    "    \n",
    "    '''\n",
    "    from sklearn.metrics import mean_squared_log_error\n",
    "    \n",
    "    pre_df = pre_df[pre_df['REG_YYMM'] == 202004]\n",
    "    only_4 = only_4[only_4['REG_YYMM'] == 202004]\n",
    "    \n",
    "    pre_df.loc[pre_df.CARD_SIDO_NM == '제주','weight'] = 3\n",
    "    pre_df.loc[pre_df.CARD_SIDO_NM != '제주','weight'] = 1\n",
    "    \n",
    "    weight = pre_df['weight'].values\n",
    "    \n",
    "    all_amt = np.sqrt(mean_squared_log_error(only_4['AMT'],pre_df['AMT'],sample_weight=weight))\n",
    "    return all_amt"
   ]
  },
  {
   "cell_type": "code",
   "execution_count": 49,
   "metadata": {
    "ExecuteTime": {
     "end_time": "2020-07-29T08:54:37.447557Z",
     "start_time": "2020-07-29T08:54:37.434555Z"
    }
   },
   "outputs": [
    {
     "name": "stderr",
     "output_type": "stream",
     "text": [
      "C:\\Users\\User\\Anaconda3\\lib\\site-packages\\pandas\\core\\indexing.py:845: SettingWithCopyWarning: \n",
      "A value is trying to be set on a copy of a slice from a DataFrame.\n",
      "Try using .loc[row_indexer,col_indexer] = value instead\n",
      "\n",
      "See the caveats in the documentation: https://pandas.pydata.org/pandas-docs/stable/user_guide/indexing.html#returning-a-view-versus-a-copy\n",
      "  self.obj[key] = _infer_fill_value(value)\n",
      "C:\\Users\\User\\Anaconda3\\lib\\site-packages\\pandas\\core\\indexing.py:966: SettingWithCopyWarning: \n",
      "A value is trying to be set on a copy of a slice from a DataFrame.\n",
      "Try using .loc[row_indexer,col_indexer] = value instead\n",
      "\n",
      "See the caveats in the documentation: https://pandas.pydata.org/pandas-docs/stable/user_guide/indexing.html#returning-a-view-versus-a-copy\n",
      "  self.obj[item] = s\n"
     ]
    },
    {
     "data": {
      "text/plain": [
       "0.35759815520769644"
      ]
     },
     "execution_count": 49,
     "metadata": {},
     "output_type": "execute_result"
    }
   ],
   "source": [
    "set_sumit(only_4, submission)"
   ]
  },
  {
   "cell_type": "code",
   "execution_count": null,
   "metadata": {},
   "outputs": [],
   "source": []
  }
 ],
 "metadata": {
  "kernelspec": {
   "display_name": "Python 3",
   "language": "python",
   "name": "python3"
  },
  "language_info": {
   "codemirror_mode": {
    "name": "ipython",
    "version": 3
   },
   "file_extension": ".py",
   "mimetype": "text/x-python",
   "name": "python",
   "nbconvert_exporter": "python",
   "pygments_lexer": "ipython3",
   "version": "3.6.5"
  },
  "toc": {
   "base_numbering": 1,
   "nav_menu": {},
   "number_sections": true,
   "sideBar": true,
   "skip_h1_title": false,
   "title_cell": "Table of Contents",
   "title_sidebar": "Contents",
   "toc_cell": false,
   "toc_position": {},
   "toc_section_display": true,
   "toc_window_display": false
  },
  "varInspector": {
   "cols": {
    "lenName": 16,
    "lenType": 16,
    "lenVar": 40
   },
   "kernels_config": {
    "python": {
     "delete_cmd_postfix": "",
     "delete_cmd_prefix": "del ",
     "library": "var_list.py",
     "varRefreshCmd": "print(var_dic_list())"
    },
    "r": {
     "delete_cmd_postfix": ") ",
     "delete_cmd_prefix": "rm(",
     "library": "var_list.r",
     "varRefreshCmd": "cat(var_dic_list()) "
    }
   },
   "types_to_exclude": [
    "module",
    "function",
    "builtin_function_or_method",
    "instance",
    "_Feature"
   ],
   "window_display": false
  }
 },
 "nbformat": 4,
 "nbformat_minor": 4
}
