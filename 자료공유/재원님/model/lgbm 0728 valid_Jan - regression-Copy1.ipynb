{
 "cells": [
  {
   "cell_type": "code",
   "execution_count": 1,
   "metadata": {
    "ExecuteTime": {
     "end_time": "2020-07-29T11:38:06.556646Z",
     "start_time": "2020-07-29T11:38:06.554646Z"
    }
   },
   "outputs": [],
   "source": [
    "import pandas as pd\n",
    "import numpy as np\n",
    "import os"
   ]
  },
  {
   "cell_type": "markdown",
   "metadata": {},
   "source": [
    "### Data"
   ]
  },
  {
   "cell_type": "code",
   "execution_count": 2,
   "metadata": {
    "ExecuteTime": {
     "end_time": "2020-07-29T11:38:32.942694Z",
     "start_time": "2020-07-29T11:38:06.557646Z"
    }
   },
   "outputs": [],
   "source": [
    "path = '../../../data/'\n",
    "data1 = pd.read_csv(path +'201901-202003.csv')\n",
    "data1 = data1.fillna('')\n",
    "data2 = pd.read_csv(path +'202004.csv')\n",
    "data2 = data2.fillna('')"
   ]
  },
  {
   "cell_type": "code",
   "execution_count": 3,
   "metadata": {
    "ExecuteTime": {
     "end_time": "2020-07-29T11:38:32.945694Z",
     "start_time": "2020-07-29T11:38:32.943694Z"
    }
   },
   "outputs": [],
   "source": [
    "# data = pd.concat([data1, data2])\n",
    "data = data1"
   ]
  },
  {
   "cell_type": "code",
   "execution_count": 4,
   "metadata": {
    "ExecuteTime": {
     "end_time": "2020-07-29T11:38:34.756114Z",
     "start_time": "2020-07-29T11:38:32.946695Z"
    }
   },
   "outputs": [
    {
     "name": "stdout",
     "output_type": "stream",
     "text": [
      "<class 'pandas.core.frame.DataFrame'>\n",
      "RangeIndex: 24697792 entries, 0 to 24697791\n",
      "Data columns (total 12 columns):\n",
      " #   Column        Dtype \n",
      "---  ------        ----- \n",
      " 0   REG_YYMM      int64 \n",
      " 1   CARD_SIDO_NM  object\n",
      " 2   CARD_CCG_NM   object\n",
      " 3   STD_CLSS_NM   object\n",
      " 4   HOM_SIDO_NM   object\n",
      " 5   HOM_CCG_NM    object\n",
      " 6   AGE           object\n",
      " 7   SEX_CTGO_CD   int64 \n",
      " 8   FLC           int64 \n",
      " 9   CSTMR_CNT     int64 \n",
      " 10  AMT           int64 \n",
      " 11  CNT           int64 \n",
      "dtypes: int64(6), object(6)\n",
      "memory usage: 2.2+ GB\n"
     ]
    }
   ],
   "source": [
    "data.info()"
   ]
  },
  {
   "cell_type": "markdown",
   "metadata": {},
   "source": [
    "#### 결측 처리"
   ]
  },
  {
   "cell_type": "code",
   "execution_count": 5,
   "metadata": {
    "ExecuteTime": {
     "end_time": "2020-07-29T11:38:36.633533Z",
     "start_time": "2020-07-29T11:38:34.757113Z"
    }
   },
   "outputs": [],
   "source": [
    "data.loc[data.CARD_CCG_NM.isna(),'CARD_CCG_NM'] = '세종'\n",
    "data.loc[data.HOM_CCG_NM.isna(),'HOM_CCG_NM'] = '세종'"
   ]
  },
  {
   "cell_type": "markdown",
   "metadata": {},
   "source": [
    "#### 18 사업체총조사"
   ]
  },
  {
   "cell_type": "code",
   "execution_count": 6,
   "metadata": {
    "ExecuteTime": {
     "end_time": "2020-07-29T11:38:36.636534Z",
     "start_time": "2020-07-29T11:38:36.634533Z"
    }
   },
   "outputs": [],
   "source": [
    "path2 = '../../../data/외부데이터/'"
   ]
  },
  {
   "cell_type": "code",
   "execution_count": 7,
   "metadata": {
    "ExecuteTime": {
     "end_time": "2020-07-29T11:38:36.710549Z",
     "start_time": "2020-07-29T11:38:36.637534Z"
    }
   },
   "outputs": [],
   "source": [
    "all_jobs_df = pd.read_csv(path2 +'18 사업체총조사_키워드매칭.csv',encoding = 'cp949')\n",
    "all_jobs_df = all_jobs_df[['행정구역별','데이터업종명','사업체수 (개)', '종사자수 (명)']]\n",
    "all_jobs_df.columns = ['CARD_SIDO_NM','STD_CLSS_NM', 'company','employee']\n",
    "all_jobs_df.employee = all_jobs_df.employee.apply(lambda x : x.replace(\"X\",\"0\")).astype(int)\n",
    "all_jobs_df = all_jobs_df.groupby(['CARD_SIDO_NM','STD_CLSS_NM'])[['company','employee']].sum().reset_index()\n",
    "\n",
    "all_jobs_df = all_jobs_df[~(all_jobs_df.CARD_SIDO_NM == '전국')]"
   ]
  },
  {
   "cell_type": "markdown",
   "metadata": {},
   "source": [
    "#### 지역내 각 업종이 차지하는 매출비중"
   ]
  },
  {
   "cell_type": "code",
   "execution_count": 8,
   "metadata": {
    "ExecuteTime": {
     "end_time": "2020-07-29T11:38:36.715551Z",
     "start_time": "2020-07-29T11:38:36.711550Z"
    }
   },
   "outputs": [],
   "source": [
    "def local_percent(data):\n",
    "    pivoted = data.pivot_table(index = ['CARD_SIDO_NM','CARD_CCG_NM','STD_CLSS_NM'],columns ='REG_YYMM',values= \"AMT\",aggfunc='sum').reset_index()\n",
    "    pivoted.fillna(0,inplace= True)\n",
    "\n",
    "    #각 지역별(시군구)업종의 매출비율을 저장\n",
    "    sidos = pivoted.CARD_SIDO_NM.unique()\n",
    "\n",
    "    local_percent_df = pd.DataFrame()\n",
    "    for sido in sidos:\n",
    "        sample_sido = pivoted[pivoted.CARD_SIDO_NM == sido]\n",
    "        sigungus = sample_sido.CARD_CCG_NM.unique()\n",
    "        for sigungu in sigungus:\n",
    "            sample = sample_sido[sample_sido.CARD_CCG_NM == sigungu]\n",
    "            sum_arr = sample.iloc[:,3:].sum().values.reshape(1,-1)\n",
    "            parcent_df = (sample.iloc[:,3:]/sum_arr)*100\n",
    "\n",
    "            fin = pd.concat([sample.iloc[:,:3],parcent_df],axis=1)\n",
    "            local_percent_df = pd.concat([local_percent_df,fin])\n",
    "\n",
    "    #신규변수 LP(local percent) : 지역내 각 업종이 차지하는 매출비중\n",
    "    local_percent_df = local_percent_df.melt(id_vars=['CARD_SIDO_NM','CARD_CCG_NM','STD_CLSS_NM'],value_name='LP')\n",
    "    return local_percent_df"
   ]
  },
  {
   "cell_type": "markdown",
   "metadata": {},
   "source": [
    "#### 전체업종에서 각 지역업종이 차지하는 매출비중"
   ]
  },
  {
   "cell_type": "code",
   "execution_count": 9,
   "metadata": {
    "ExecuteTime": {
     "end_time": "2020-07-29T11:38:36.720552Z",
     "start_time": "2020-07-29T11:38:36.716551Z"
    }
   },
   "outputs": [],
   "source": [
    "def job_percent(data):\n",
    "    pivoted = data.pivot_table(index = ['CARD_SIDO_NM','CARD_CCG_NM','STD_CLSS_NM'],columns ='REG_YYMM',values= \"AMT\",aggfunc='sum').reset_index()\n",
    "    pivoted.fillna(0,inplace= True)\n",
    "\n",
    "    all_pivoted = data.pivot_table(index = ['STD_CLSS_NM'],columns ='REG_YYMM',values= \"AMT\",aggfunc= 'sum').reset_index()\n",
    "    all_pivoted.fillna(0,inplace= True)\n",
    "    all_pivoted = all_pivoted.set_index('STD_CLSS_NM')\n",
    "\n",
    "    job_percent_df = pd.DataFrame()\n",
    "    for job in all_pivoted.index:\n",
    "        taget_df = pivoted[pivoted.STD_CLSS_NM == job]\n",
    "        tail = (taget_df.iloc[:,3:]/all_pivoted.iloc[0].values)*100\n",
    "        head = taget_df.iloc[:,:3]\n",
    "        full = pd.concat([head,tail],axis =1)\n",
    "        job_percent_df = pd.concat([job_percent_df,full])\n",
    "\n",
    "    #신규변수 JP(Job percent): 전체업종에서 해당지역의 업종이 차이하는 비율\n",
    "    job_percent_df = job_percent_df.melt(id_vars=['CARD_SIDO_NM','CARD_CCG_NM','STD_CLSS_NM'],value_name='JP')\n",
    "    return job_percent_df"
   ]
  },
  {
   "cell_type": "code",
   "execution_count": 10,
   "metadata": {
    "ExecuteTime": {
     "end_time": "2020-07-29T11:38:53.096223Z",
     "start_time": "2020-07-29T11:38:36.721552Z"
    }
   },
   "outputs": [],
   "source": [
    "local_percent_df = local_percent(data)\n",
    "job_percent_df = job_percent(data)"
   ]
  },
  {
   "cell_type": "markdown",
   "metadata": {},
   "source": [
    "#### 거래횟수와 이용고객과의 관계 (2019)"
   ]
  },
  {
   "cell_type": "code",
   "execution_count": 11,
   "metadata": {
    "ExecuteTime": {
     "end_time": "2020-07-29T11:38:53.101225Z",
     "start_time": "2020-07-29T11:38:53.097222Z"
    }
   },
   "outputs": [],
   "source": [
    "def cust_differ(data):\n",
    "    data['differ'] = (data.CNT- data.CSTMR_CNT)\n",
    "    \n",
    "    #양수(단골)\n",
    "    plus_custom = data[data['differ']>0]\n",
    "    pivot_plus = plus_custom.pivot_table(index = ['CARD_SIDO_NM','STD_CLSS_NM'],columns = 'REG_YYMM', values= 'differ', aggfunc ='sum').reset_index()\n",
    "    \n",
    "    melt_plus = pivot_plus.melt(id_vars=['CARD_SIDO_NM','STD_CLSS_NM'],value_name='loyal')\n",
    "    melt_plus['year'] = melt_plus['REG_YYMM'].apply(lambda x: int(str(x)[:4]))\n",
    "    melt_plus['month'] = melt_plus['REG_YYMM'].apply(lambda x: int(str(x)[4:]))\n",
    "    \n",
    "    #2019만 사용\n",
    "    melt_plus = melt_plus[melt_plus.year == 2019]\n",
    "    melt_plus.drop(['year'],axis= 1,inplace = True)\n",
    "    \n",
    "    #음수(환불)\n",
    "    minus_custom = data[data['differ']<0]\n",
    "    pivot_minus = minus_custom.pivot_table(index = ['CARD_SIDO_NM','STD_CLSS_NM'],columns = 'REG_YYMM', values= 'differ', aggfunc ='sum').reset_index()\n",
    "    \n",
    "    melt_minus = pivot_minus.melt(id_vars=['CARD_SIDO_NM','STD_CLSS_NM'],value_name='refund')\n",
    "    melt_minus['year'] = melt_minus['REG_YYMM'].apply(lambda x: int(str(x)[:4]))\n",
    "    melt_minus['month'] = melt_minus['REG_YYMM'].apply(lambda x: int(str(x)[4:]))\n",
    "    #2019만 사용\n",
    "    melt_minus = melt_minus[melt_minus.year == 2019]\n",
    "    melt_minus.drop(['year'],axis= 1,inplace = True)\n",
    "    \n",
    "  \n",
    "    #둘 결헙\n",
    "    cust_differ_df = pd.merge(melt_plus,melt_minus,how= 'outer')\n",
    "    \n",
    "    return cust_differ_df"
   ]
  },
  {
   "cell_type": "code",
   "execution_count": 12,
   "metadata": {
    "ExecuteTime": {
     "end_time": "2020-07-29T11:39:00.168803Z",
     "start_time": "2020-07-29T11:38:53.102223Z"
    }
   },
   "outputs": [],
   "source": [
    "trade_num_2019 = cust_differ(data)"
   ]
  },
  {
   "cell_type": "markdown",
   "metadata": {},
   "source": [
    "#### 거래횟수와 이용고객과의 관계 (2020)"
   ]
  },
  {
   "cell_type": "code",
   "execution_count": 13,
   "metadata": {
    "ExecuteTime": {
     "end_time": "2020-07-29T11:39:00.173804Z",
     "start_time": "2020-07-29T11:39:00.169803Z"
    }
   },
   "outputs": [],
   "source": [
    "def cust_differ_2020(data):\n",
    "    data['differ'] = (data.CNT- data.CSTMR_CNT)\n",
    "    \n",
    "    #양수(단골)\n",
    "    plus_custom = data[data['differ']>0]\n",
    "    pivot_plus = plus_custom.pivot_table(index = ['CARD_SIDO_NM','STD_CLSS_NM'],columns = 'REG_YYMM', values= 'differ', aggfunc ='sum').reset_index()\n",
    "    \n",
    "    melt_plus = pivot_plus.melt(id_vars=['CARD_SIDO_NM','STD_CLSS_NM'],value_name='loyal')\n",
    "    melt_plus['year'] = melt_plus['REG_YYMM'].apply(lambda x: int(str(x)[:4]))\n",
    "    melt_plus['month'] = melt_plus['REG_YYMM'].apply(lambda x: int(str(x)[4:]))\n",
    "    \n",
    "    #2020만 사용\n",
    "    melt_plus = melt_plus[melt_plus.year == 2020]\n",
    "    melt_plus.drop(['year'],axis= 1,inplace = True)\n",
    "    \n",
    "    #음수(환불)\n",
    "    minus_custom = data[data['differ']<0]\n",
    "    pivot_minus = minus_custom.pivot_table(index = ['CARD_SIDO_NM','STD_CLSS_NM'],columns = 'REG_YYMM', values= 'differ', aggfunc ='sum').reset_index()\n",
    "    \n",
    "    melt_minus = pivot_minus.melt(id_vars=['CARD_SIDO_NM','STD_CLSS_NM'],value_name='refund')\n",
    "    melt_minus['year'] = melt_minus['REG_YYMM'].apply(lambda x: int(str(x)[:4]))\n",
    "    melt_minus['month'] = melt_minus['REG_YYMM'].apply(lambda x: int(str(x)[4:]))\n",
    "    #2020만 사용\n",
    "    melt_minus = melt_minus[melt_minus.year == 2020]\n",
    "    melt_minus.drop(['year'],axis= 1,inplace = True)\n",
    "    \n",
    "  \n",
    "    #둘 결헙\n",
    "    cust_differ_df = pd.merge(melt_plus,melt_minus,how= 'outer')\n",
    "    \n",
    "    return cust_differ_df"
   ]
  },
  {
   "cell_type": "code",
   "execution_count": 14,
   "metadata": {
    "ExecuteTime": {
     "end_time": "2020-07-29T11:39:06.405205Z",
     "start_time": "2020-07-29T11:39:00.174804Z"
    }
   },
   "outputs": [],
   "source": [
    "trade_num_2020 = cust_differ_2020(data)"
   ]
  },
  {
   "cell_type": "code",
   "execution_count": 15,
   "metadata": {
    "ExecuteTime": {
     "end_time": "2020-07-29T11:39:06.411206Z",
     "start_time": "2020-07-29T11:39:06.406205Z"
    }
   },
   "outputs": [],
   "source": [
    "trade_num = pd.concat([trade_num_2019, trade_num_2020])"
   ]
  },
  {
   "cell_type": "code",
   "execution_count": 16,
   "metadata": {
    "ExecuteTime": {
     "end_time": "2020-07-29T11:39:06.414207Z",
     "start_time": "2020-07-29T11:39:06.412206Z"
    },
    "scrolled": true
   },
   "outputs": [],
   "source": [
    "# trade_num.loyal = trade_num.loyal.fillna(-999)\n",
    "# trade_num.refund = trade_num.refund.fillna(999)"
   ]
  },
  {
   "cell_type": "code",
   "execution_count": 17,
   "metadata": {
    "ExecuteTime": {
     "end_time": "2020-07-29T11:39:06.431210Z",
     "start_time": "2020-07-29T11:39:06.415207Z"
    }
   },
   "outputs": [
    {
     "data": {
      "text/html": [
       "<div>\n",
       "<style scoped>\n",
       "    .dataframe tbody tr th:only-of-type {\n",
       "        vertical-align: middle;\n",
       "    }\n",
       "\n",
       "    .dataframe tbody tr th {\n",
       "        vertical-align: top;\n",
       "    }\n",
       "\n",
       "    .dataframe thead th {\n",
       "        text-align: right;\n",
       "    }\n",
       "</style>\n",
       "<table border=\"1\" class=\"dataframe\">\n",
       "  <thead>\n",
       "    <tr style=\"text-align: right;\">\n",
       "      <th></th>\n",
       "      <th>CARD_SIDO_NM</th>\n",
       "      <th>STD_CLSS_NM</th>\n",
       "      <th>REG_YYMM</th>\n",
       "      <th>loyal</th>\n",
       "      <th>month</th>\n",
       "      <th>refund</th>\n",
       "    </tr>\n",
       "  </thead>\n",
       "  <tbody>\n",
       "    <tr>\n",
       "      <th>0</th>\n",
       "      <td>강원</td>\n",
       "      <td>건강보조식품 소매업</td>\n",
       "      <td>201901.0</td>\n",
       "      <td>80.0</td>\n",
       "      <td>1</td>\n",
       "      <td>-32.0</td>\n",
       "    </tr>\n",
       "    <tr>\n",
       "      <th>1</th>\n",
       "      <td>강원</td>\n",
       "      <td>골프장 운영업</td>\n",
       "      <td>201901.0</td>\n",
       "      <td>14890.0</td>\n",
       "      <td>1</td>\n",
       "      <td>NaN</td>\n",
       "    </tr>\n",
       "    <tr>\n",
       "      <th>2</th>\n",
       "      <td>강원</td>\n",
       "      <td>과실 및 채소 소매업</td>\n",
       "      <td>201901.0</td>\n",
       "      <td>7484.0</td>\n",
       "      <td>1</td>\n",
       "      <td>NaN</td>\n",
       "    </tr>\n",
       "    <tr>\n",
       "      <th>3</th>\n",
       "      <td>강원</td>\n",
       "      <td>관광 민예품 및 선물용품 소매업</td>\n",
       "      <td>201901.0</td>\n",
       "      <td>195.0</td>\n",
       "      <td>1</td>\n",
       "      <td>NaN</td>\n",
       "    </tr>\n",
       "    <tr>\n",
       "      <th>4</th>\n",
       "      <td>강원</td>\n",
       "      <td>그외 기타 분류안된 오락관련 서비스업</td>\n",
       "      <td>201901.0</td>\n",
       "      <td>NaN</td>\n",
       "      <td>1</td>\n",
       "      <td>NaN</td>\n",
       "    </tr>\n",
       "    <tr>\n",
       "      <th>...</th>\n",
       "      <td>...</td>\n",
       "      <td>...</td>\n",
       "      <td>...</td>\n",
       "      <td>...</td>\n",
       "      <td>...</td>\n",
       "      <td>...</td>\n",
       "    </tr>\n",
       "    <tr>\n",
       "      <th>1930</th>\n",
       "      <td>충북</td>\n",
       "      <td>화장품 및 방향제 소매업</td>\n",
       "      <td>202003.0</td>\n",
       "      <td>1294.0</td>\n",
       "      <td>3</td>\n",
       "      <td>-9.0</td>\n",
       "    </tr>\n",
       "    <tr>\n",
       "      <th>1931</th>\n",
       "      <td>충북</td>\n",
       "      <td>휴양콘도 운영업</td>\n",
       "      <td>202003.0</td>\n",
       "      <td>67.0</td>\n",
       "      <td>3</td>\n",
       "      <td>NaN</td>\n",
       "    </tr>\n",
       "    <tr>\n",
       "      <th>1932</th>\n",
       "      <td>대전</td>\n",
       "      <td>여행사업</td>\n",
       "      <td>202001.0</td>\n",
       "      <td>NaN</td>\n",
       "      <td>1</td>\n",
       "      <td>NaN</td>\n",
       "    </tr>\n",
       "    <tr>\n",
       "      <th>1933</th>\n",
       "      <td>대전</td>\n",
       "      <td>여행사업</td>\n",
       "      <td>202002.0</td>\n",
       "      <td>NaN</td>\n",
       "      <td>2</td>\n",
       "      <td>NaN</td>\n",
       "    </tr>\n",
       "    <tr>\n",
       "      <th>1934</th>\n",
       "      <td>대전</td>\n",
       "      <td>여행사업</td>\n",
       "      <td>202003.0</td>\n",
       "      <td>NaN</td>\n",
       "      <td>3</td>\n",
       "      <td>NaN</td>\n",
       "    </tr>\n",
       "  </tbody>\n",
       "</table>\n",
       "<p>9675 rows × 6 columns</p>\n",
       "</div>"
      ],
      "text/plain": [
       "     CARD_SIDO_NM           STD_CLSS_NM  REG_YYMM    loyal  month  refund\n",
       "0              강원            건강보조식품 소매업  201901.0     80.0      1   -32.0\n",
       "1              강원               골프장 운영업  201901.0  14890.0      1     NaN\n",
       "2              강원           과실 및 채소 소매업  201901.0   7484.0      1     NaN\n",
       "3              강원     관광 민예품 및 선물용품 소매업  201901.0    195.0      1     NaN\n",
       "4              강원  그외 기타 분류안된 오락관련 서비스업  201901.0      NaN      1     NaN\n",
       "...           ...                   ...       ...      ...    ...     ...\n",
       "1930           충북         화장품 및 방향제 소매업  202003.0   1294.0      3    -9.0\n",
       "1931           충북              휴양콘도 운영업  202003.0     67.0      3     NaN\n",
       "1932           대전                  여행사업  202001.0      NaN      1     NaN\n",
       "1933           대전                  여행사업  202002.0      NaN      2     NaN\n",
       "1934           대전                  여행사업  202003.0      NaN      3     NaN\n",
       "\n",
       "[9675 rows x 6 columns]"
      ]
     },
     "execution_count": 17,
     "metadata": {},
     "output_type": "execute_result"
    }
   ],
   "source": [
    "trade_num"
   ]
  },
  {
   "cell_type": "markdown",
   "metadata": {},
   "source": [
    "#### 추가변수 결합"
   ]
  },
  {
   "cell_type": "code",
   "execution_count": 18,
   "metadata": {
    "ExecuteTime": {
     "end_time": "2020-07-29T11:39:06.435211Z",
     "start_time": "2020-07-29T11:39:06.432211Z"
    }
   },
   "outputs": [
    {
     "data": {
      "text/plain": [
       "(24697792, 13)"
      ]
     },
     "execution_count": 18,
     "metadata": {},
     "output_type": "execute_result"
    }
   ],
   "source": [
    "data.shape"
   ]
  },
  {
   "cell_type": "code",
   "execution_count": 19,
   "metadata": {
    "ExecuteTime": {
     "end_time": "2020-07-29T11:39:18.516911Z",
     "start_time": "2020-07-29T11:39:06.436212Z"
    }
   },
   "outputs": [],
   "source": [
    "columns = ['REG_YYMM', 'CARD_SIDO_NM', 'CARD_CCG_NM', 'STD_CLSS_NM', 'HOM_SIDO_NM', 'AGE', 'SEX_CTGO_CD', 'FLC']\n",
    "df = data.groupby(columns, as_index=False)[['AMT']].sum()"
   ]
  },
  {
   "cell_type": "code",
   "execution_count": 20,
   "metadata": {
    "ExecuteTime": {
     "end_time": "2020-07-29T11:39:27.626947Z",
     "start_time": "2020-07-29T11:39:18.517911Z"
    }
   },
   "outputs": [],
   "source": [
    "grouped = pd.merge(df,all_jobs_df,on =['CARD_SIDO_NM','STD_CLSS_NM'],how = 'left')\n",
    "grouped = pd.merge(grouped,local_percent_df,on =['CARD_SIDO_NM','CARD_CCG_NM','STD_CLSS_NM','REG_YYMM'],how = 'left')\n",
    "grouped = pd.merge(grouped,job_percent_df,on =['CARD_SIDO_NM','CARD_CCG_NM','STD_CLSS_NM','REG_YYMM'],how = 'left')\n",
    "grouped = pd.merge(grouped, trade_num, on =['CARD_SIDO_NM','STD_CLSS_NM','REG_YYMM'], how = 'left')"
   ]
  },
  {
   "cell_type": "code",
   "execution_count": 21,
   "metadata": {
    "ExecuteTime": {
     "end_time": "2020-07-29T11:39:27.630948Z",
     "start_time": "2020-07-29T11:39:27.627947Z"
    }
   },
   "outputs": [
    {
     "data": {
      "text/plain": [
       "(5328210, 16)"
      ]
     },
     "execution_count": 21,
     "metadata": {},
     "output_type": "execute_result"
    }
   ],
   "source": [
    "grouped.shape"
   ]
  },
  {
   "cell_type": "code",
   "execution_count": 22,
   "metadata": {
    "ExecuteTime": {
     "end_time": "2020-07-29T11:39:27.635950Z",
     "start_time": "2020-07-29T11:39:27.631949Z"
    }
   },
   "outputs": [
    {
     "data": {
      "text/plain": [
       "Index(['REG_YYMM', 'CARD_SIDO_NM', 'CARD_CCG_NM', 'STD_CLSS_NM', 'HOM_SIDO_NM',\n",
       "       'AGE', 'SEX_CTGO_CD', 'FLC', 'AMT', 'company', 'employee', 'LP', 'JP',\n",
       "       'loyal', 'month', 'refund'],\n",
       "      dtype='object')"
      ]
     },
     "execution_count": 22,
     "metadata": {},
     "output_type": "execute_result"
    }
   ],
   "source": [
    "grouped.columns"
   ]
  },
  {
   "cell_type": "code",
   "execution_count": 23,
   "metadata": {
    "ExecuteTime": {
     "end_time": "2020-07-29T11:39:28.345139Z",
     "start_time": "2020-07-29T11:39:27.636949Z"
    }
   },
   "outputs": [],
   "source": [
    "grouped.REG_YYMM = pd.to_datetime(grouped.REG_YYMM, format='%Y%m')"
   ]
  },
  {
   "cell_type": "code",
   "execution_count": 24,
   "metadata": {
    "ExecuteTime": {
     "end_time": "2020-07-29T11:39:31.986953Z",
     "start_time": "2020-07-29T11:39:28.346140Z"
    }
   },
   "outputs": [],
   "source": [
    "from sklearn.preprocessing import LabelEncoder\n",
    "\n",
    "# 인코딩\n",
    "dtypes = grouped.dtypes\n",
    "encoders = {}\n",
    "for column in grouped.columns:\n",
    "    if str(dtypes[column]) == 'object':\n",
    "        encoder = LabelEncoder()\n",
    "        encoder.fit(grouped[column])\n",
    "        encoders[column] = encoder\n",
    "        \n",
    "df_num = grouped.copy()        \n",
    "for column in encoders.keys():\n",
    "    encoder = encoders[column]\n",
    "    df_num[column] = encoder.transform(grouped[column])"
   ]
  },
  {
   "cell_type": "code",
   "execution_count": 25,
   "metadata": {
    "ExecuteTime": {
     "end_time": "2020-07-29T11:39:32.005958Z",
     "start_time": "2020-07-29T11:39:31.987953Z"
    }
   },
   "outputs": [
    {
     "data": {
      "text/html": [
       "<div>\n",
       "<style scoped>\n",
       "    .dataframe tbody tr th:only-of-type {\n",
       "        vertical-align: middle;\n",
       "    }\n",
       "\n",
       "    .dataframe tbody tr th {\n",
       "        vertical-align: top;\n",
       "    }\n",
       "\n",
       "    .dataframe thead th {\n",
       "        text-align: right;\n",
       "    }\n",
       "</style>\n",
       "<table border=\"1\" class=\"dataframe\">\n",
       "  <thead>\n",
       "    <tr style=\"text-align: right;\">\n",
       "      <th></th>\n",
       "      <th>REG_YYMM</th>\n",
       "      <th>CARD_SIDO_NM</th>\n",
       "      <th>CARD_CCG_NM</th>\n",
       "      <th>STD_CLSS_NM</th>\n",
       "      <th>HOM_SIDO_NM</th>\n",
       "      <th>AGE</th>\n",
       "      <th>SEX_CTGO_CD</th>\n",
       "      <th>FLC</th>\n",
       "      <th>AMT</th>\n",
       "      <th>company</th>\n",
       "      <th>employee</th>\n",
       "      <th>LP</th>\n",
       "      <th>JP</th>\n",
       "      <th>loyal</th>\n",
       "      <th>month</th>\n",
       "      <th>refund</th>\n",
       "    </tr>\n",
       "  </thead>\n",
       "  <tbody>\n",
       "    <tr>\n",
       "      <th>0</th>\n",
       "      <td>2019-01-01</td>\n",
       "      <td>0</td>\n",
       "      <td>4</td>\n",
       "      <td>0</td>\n",
       "      <td>0</td>\n",
       "      <td>1</td>\n",
       "      <td>1</td>\n",
       "      <td>1</td>\n",
       "      <td>311200</td>\n",
       "      <td>263.0</td>\n",
       "      <td>399.0</td>\n",
       "      <td>0.138432</td>\n",
       "      <td>0.279221</td>\n",
       "      <td>80.0</td>\n",
       "      <td>1.0</td>\n",
       "      <td>-32.0</td>\n",
       "    </tr>\n",
       "    <tr>\n",
       "      <th>1</th>\n",
       "      <td>2019-01-01</td>\n",
       "      <td>0</td>\n",
       "      <td>4</td>\n",
       "      <td>0</td>\n",
       "      <td>0</td>\n",
       "      <td>2</td>\n",
       "      <td>1</td>\n",
       "      <td>2</td>\n",
       "      <td>1374500</td>\n",
       "      <td>263.0</td>\n",
       "      <td>399.0</td>\n",
       "      <td>0.138432</td>\n",
       "      <td>0.279221</td>\n",
       "      <td>80.0</td>\n",
       "      <td>1.0</td>\n",
       "      <td>-32.0</td>\n",
       "    </tr>\n",
       "    <tr>\n",
       "      <th>2</th>\n",
       "      <td>2019-01-01</td>\n",
       "      <td>0</td>\n",
       "      <td>4</td>\n",
       "      <td>0</td>\n",
       "      <td>0</td>\n",
       "      <td>2</td>\n",
       "      <td>2</td>\n",
       "      <td>2</td>\n",
       "      <td>818700</td>\n",
       "      <td>263.0</td>\n",
       "      <td>399.0</td>\n",
       "      <td>0.138432</td>\n",
       "      <td>0.279221</td>\n",
       "      <td>80.0</td>\n",
       "      <td>1.0</td>\n",
       "      <td>-32.0</td>\n",
       "    </tr>\n",
       "    <tr>\n",
       "      <th>3</th>\n",
       "      <td>2019-01-01</td>\n",
       "      <td>0</td>\n",
       "      <td>4</td>\n",
       "      <td>0</td>\n",
       "      <td>0</td>\n",
       "      <td>3</td>\n",
       "      <td>1</td>\n",
       "      <td>3</td>\n",
       "      <td>1717000</td>\n",
       "      <td>263.0</td>\n",
       "      <td>399.0</td>\n",
       "      <td>0.138432</td>\n",
       "      <td>0.279221</td>\n",
       "      <td>80.0</td>\n",
       "      <td>1.0</td>\n",
       "      <td>-32.0</td>\n",
       "    </tr>\n",
       "    <tr>\n",
       "      <th>4</th>\n",
       "      <td>2019-01-01</td>\n",
       "      <td>0</td>\n",
       "      <td>4</td>\n",
       "      <td>0</td>\n",
       "      <td>0</td>\n",
       "      <td>3</td>\n",
       "      <td>1</td>\n",
       "      <td>4</td>\n",
       "      <td>1047300</td>\n",
       "      <td>263.0</td>\n",
       "      <td>399.0</td>\n",
       "      <td>0.138432</td>\n",
       "      <td>0.279221</td>\n",
       "      <td>80.0</td>\n",
       "      <td>1.0</td>\n",
       "      <td>-32.0</td>\n",
       "    </tr>\n",
       "    <tr>\n",
       "      <th>...</th>\n",
       "      <td>...</td>\n",
       "      <td>...</td>\n",
       "      <td>...</td>\n",
       "      <td>...</td>\n",
       "      <td>...</td>\n",
       "      <td>...</td>\n",
       "      <td>...</td>\n",
       "      <td>...</td>\n",
       "      <td>...</td>\n",
       "      <td>...</td>\n",
       "      <td>...</td>\n",
       "      <td>...</td>\n",
       "      <td>...</td>\n",
       "      <td>...</td>\n",
       "      <td>...</td>\n",
       "      <td>...</td>\n",
       "    </tr>\n",
       "    <tr>\n",
       "      <th>5328205</th>\n",
       "      <td>2020-03-01</td>\n",
       "      <td>16</td>\n",
       "      <td>202</td>\n",
       "      <td>40</td>\n",
       "      <td>16</td>\n",
       "      <td>2</td>\n",
       "      <td>1</td>\n",
       "      <td>2</td>\n",
       "      <td>43300</td>\n",
       "      <td>11.0</td>\n",
       "      <td>492.0</td>\n",
       "      <td>0.004484</td>\n",
       "      <td>0.010694</td>\n",
       "      <td>67.0</td>\n",
       "      <td>3.0</td>\n",
       "      <td>NaN</td>\n",
       "    </tr>\n",
       "    <tr>\n",
       "      <th>5328206</th>\n",
       "      <td>2020-03-01</td>\n",
       "      <td>16</td>\n",
       "      <td>202</td>\n",
       "      <td>40</td>\n",
       "      <td>16</td>\n",
       "      <td>3</td>\n",
       "      <td>1</td>\n",
       "      <td>3</td>\n",
       "      <td>35000</td>\n",
       "      <td>11.0</td>\n",
       "      <td>492.0</td>\n",
       "      <td>0.004484</td>\n",
       "      <td>0.010694</td>\n",
       "      <td>67.0</td>\n",
       "      <td>3.0</td>\n",
       "      <td>NaN</td>\n",
       "    </tr>\n",
       "    <tr>\n",
       "      <th>5328207</th>\n",
       "      <td>2020-03-01</td>\n",
       "      <td>16</td>\n",
       "      <td>202</td>\n",
       "      <td>40</td>\n",
       "      <td>16</td>\n",
       "      <td>4</td>\n",
       "      <td>1</td>\n",
       "      <td>4</td>\n",
       "      <td>188000</td>\n",
       "      <td>11.0</td>\n",
       "      <td>492.0</td>\n",
       "      <td>0.004484</td>\n",
       "      <td>0.010694</td>\n",
       "      <td>67.0</td>\n",
       "      <td>3.0</td>\n",
       "      <td>NaN</td>\n",
       "    </tr>\n",
       "    <tr>\n",
       "      <th>5328208</th>\n",
       "      <td>2020-03-01</td>\n",
       "      <td>16</td>\n",
       "      <td>202</td>\n",
       "      <td>40</td>\n",
       "      <td>16</td>\n",
       "      <td>4</td>\n",
       "      <td>2</td>\n",
       "      <td>4</td>\n",
       "      <td>99000</td>\n",
       "      <td>11.0</td>\n",
       "      <td>492.0</td>\n",
       "      <td>0.004484</td>\n",
       "      <td>0.010694</td>\n",
       "      <td>67.0</td>\n",
       "      <td>3.0</td>\n",
       "      <td>NaN</td>\n",
       "    </tr>\n",
       "    <tr>\n",
       "      <th>5328209</th>\n",
       "      <td>2020-03-01</td>\n",
       "      <td>16</td>\n",
       "      <td>202</td>\n",
       "      <td>40</td>\n",
       "      <td>16</td>\n",
       "      <td>5</td>\n",
       "      <td>1</td>\n",
       "      <td>5</td>\n",
       "      <td>194000</td>\n",
       "      <td>11.0</td>\n",
       "      <td>492.0</td>\n",
       "      <td>0.004484</td>\n",
       "      <td>0.010694</td>\n",
       "      <td>67.0</td>\n",
       "      <td>3.0</td>\n",
       "      <td>NaN</td>\n",
       "    </tr>\n",
       "  </tbody>\n",
       "</table>\n",
       "<p>5328210 rows × 16 columns</p>\n",
       "</div>"
      ],
      "text/plain": [
       "          REG_YYMM  CARD_SIDO_NM  CARD_CCG_NM  STD_CLSS_NM  HOM_SIDO_NM  AGE  \\\n",
       "0       2019-01-01             0            4            0            0    1   \n",
       "1       2019-01-01             0            4            0            0    2   \n",
       "2       2019-01-01             0            4            0            0    2   \n",
       "3       2019-01-01             0            4            0            0    3   \n",
       "4       2019-01-01             0            4            0            0    3   \n",
       "...            ...           ...          ...          ...          ...  ...   \n",
       "5328205 2020-03-01            16          202           40           16    2   \n",
       "5328206 2020-03-01            16          202           40           16    3   \n",
       "5328207 2020-03-01            16          202           40           16    4   \n",
       "5328208 2020-03-01            16          202           40           16    4   \n",
       "5328209 2020-03-01            16          202           40           16    5   \n",
       "\n",
       "         SEX_CTGO_CD  FLC      AMT  company  employee        LP        JP  \\\n",
       "0                  1    1   311200    263.0     399.0  0.138432  0.279221   \n",
       "1                  1    2  1374500    263.0     399.0  0.138432  0.279221   \n",
       "2                  2    2   818700    263.0     399.0  0.138432  0.279221   \n",
       "3                  1    3  1717000    263.0     399.0  0.138432  0.279221   \n",
       "4                  1    4  1047300    263.0     399.0  0.138432  0.279221   \n",
       "...              ...  ...      ...      ...       ...       ...       ...   \n",
       "5328205            1    2    43300     11.0     492.0  0.004484  0.010694   \n",
       "5328206            1    3    35000     11.0     492.0  0.004484  0.010694   \n",
       "5328207            1    4   188000     11.0     492.0  0.004484  0.010694   \n",
       "5328208            2    4    99000     11.0     492.0  0.004484  0.010694   \n",
       "5328209            1    5   194000     11.0     492.0  0.004484  0.010694   \n",
       "\n",
       "         loyal  month  refund  \n",
       "0         80.0    1.0   -32.0  \n",
       "1         80.0    1.0   -32.0  \n",
       "2         80.0    1.0   -32.0  \n",
       "3         80.0    1.0   -32.0  \n",
       "4         80.0    1.0   -32.0  \n",
       "...        ...    ...     ...  \n",
       "5328205   67.0    3.0     NaN  \n",
       "5328206   67.0    3.0     NaN  \n",
       "5328207   67.0    3.0     NaN  \n",
       "5328208   67.0    3.0     NaN  \n",
       "5328209   67.0    3.0     NaN  \n",
       "\n",
       "[5328210 rows x 16 columns]"
      ]
     },
     "execution_count": 25,
     "metadata": {},
     "output_type": "execute_result"
    }
   ],
   "source": [
    "df_num"
   ]
  },
  {
   "cell_type": "code",
   "execution_count": 26,
   "metadata": {
    "ExecuteTime": {
     "end_time": "2020-07-29T11:39:32.436054Z",
     "start_time": "2020-07-29T11:39:32.006958Z"
    }
   },
   "outputs": [],
   "source": [
    "import datetime as dt\n",
    "\n",
    "df_num['month'] = df_num['REG_YYMM'].dt.month\n",
    "df_num['year'] = df_num['REG_YYMM'].dt.year"
   ]
  },
  {
   "cell_type": "code",
   "execution_count": 27,
   "metadata": {
    "ExecuteTime": {
     "end_time": "2020-07-29T11:39:33.172218Z",
     "start_time": "2020-07-29T11:39:32.437054Z"
    }
   },
   "outputs": [],
   "source": [
    "train_df = df_num[df_num['REG_YYMM'] <= '2020-01-01']\n",
    "validation_df = df_num[(df_num['REG_YYMM'] > '2020-01-01') & (df_num['REG_YYMM'] <'2020-04-01')]"
   ]
  },
  {
   "cell_type": "code",
   "execution_count": 28,
   "metadata": {
    "ExecuteTime": {
     "end_time": "2020-07-29T11:39:33.808360Z",
     "start_time": "2020-07-29T11:39:33.173219Z"
    }
   },
   "outputs": [],
   "source": [
    "# 7월 데이터 = 2020년의 평균값을 사용.\n",
    "\n",
    "temp = df_num[df_num['REG_YYMM'] >= '2020']\n",
    "temp = temp.groupby(['CARD_SIDO_NM', 'CARD_CCG_NM', 'STD_CLSS_NM',\n",
    "                     'HOM_SIDO_NM', 'AGE', 'SEX_CTGO_CD', 'FLC'], as_index=False)[['company', 'employee', \n",
    "                                                            'LP', 'JP', 'loyal', 'month', 'refund', 'year']].mean()"
   ]
  },
  {
   "cell_type": "code",
   "execution_count": 29,
   "metadata": {
    "ExecuteTime": {
     "end_time": "2020-07-29T11:39:33.822363Z",
     "start_time": "2020-07-29T11:39:33.808360Z"
    }
   },
   "outputs": [
    {
     "data": {
      "text/html": [
       "<div>\n",
       "<style scoped>\n",
       "    .dataframe tbody tr th:only-of-type {\n",
       "        vertical-align: middle;\n",
       "    }\n",
       "\n",
       "    .dataframe tbody tr th {\n",
       "        vertical-align: top;\n",
       "    }\n",
       "\n",
       "    .dataframe thead th {\n",
       "        text-align: right;\n",
       "    }\n",
       "</style>\n",
       "<table border=\"1\" class=\"dataframe\">\n",
       "  <thead>\n",
       "    <tr style=\"text-align: right;\">\n",
       "      <th></th>\n",
       "      <th>CARD_SIDO_NM</th>\n",
       "      <th>CARD_CCG_NM</th>\n",
       "      <th>STD_CLSS_NM</th>\n",
       "      <th>HOM_SIDO_NM</th>\n",
       "      <th>AGE</th>\n",
       "      <th>SEX_CTGO_CD</th>\n",
       "      <th>FLC</th>\n",
       "      <th>company</th>\n",
       "      <th>employee</th>\n",
       "      <th>LP</th>\n",
       "      <th>JP</th>\n",
       "      <th>loyal</th>\n",
       "      <th>month</th>\n",
       "      <th>refund</th>\n",
       "      <th>year</th>\n",
       "    </tr>\n",
       "  </thead>\n",
       "  <tbody>\n",
       "    <tr>\n",
       "      <th>0</th>\n",
       "      <td>0</td>\n",
       "      <td>4</td>\n",
       "      <td>0</td>\n",
       "      <td>0</td>\n",
       "      <td>1</td>\n",
       "      <td>2</td>\n",
       "      <td>1</td>\n",
       "      <td>263.0</td>\n",
       "      <td>399.0</td>\n",
       "      <td>0.142702</td>\n",
       "      <td>0.254024</td>\n",
       "      <td>93.000000</td>\n",
       "      <td>1.0</td>\n",
       "      <td>-44.000000</td>\n",
       "      <td>2020.0</td>\n",
       "    </tr>\n",
       "    <tr>\n",
       "      <th>1</th>\n",
       "      <td>0</td>\n",
       "      <td>4</td>\n",
       "      <td>0</td>\n",
       "      <td>0</td>\n",
       "      <td>2</td>\n",
       "      <td>1</td>\n",
       "      <td>2</td>\n",
       "      <td>263.0</td>\n",
       "      <td>399.0</td>\n",
       "      <td>0.108962</td>\n",
       "      <td>0.238864</td>\n",
       "      <td>71.000000</td>\n",
       "      <td>2.0</td>\n",
       "      <td>-33.666667</td>\n",
       "      <td>2020.0</td>\n",
       "    </tr>\n",
       "    <tr>\n",
       "      <th>2</th>\n",
       "      <td>0</td>\n",
       "      <td>4</td>\n",
       "      <td>0</td>\n",
       "      <td>0</td>\n",
       "      <td>2</td>\n",
       "      <td>2</td>\n",
       "      <td>2</td>\n",
       "      <td>263.0</td>\n",
       "      <td>399.0</td>\n",
       "      <td>0.142702</td>\n",
       "      <td>0.254024</td>\n",
       "      <td>93.000000</td>\n",
       "      <td>1.0</td>\n",
       "      <td>-44.000000</td>\n",
       "      <td>2020.0</td>\n",
       "    </tr>\n",
       "    <tr>\n",
       "      <th>3</th>\n",
       "      <td>0</td>\n",
       "      <td>4</td>\n",
       "      <td>0</td>\n",
       "      <td>0</td>\n",
       "      <td>3</td>\n",
       "      <td>1</td>\n",
       "      <td>3</td>\n",
       "      <td>263.0</td>\n",
       "      <td>399.0</td>\n",
       "      <td>0.108962</td>\n",
       "      <td>0.238864</td>\n",
       "      <td>71.000000</td>\n",
       "      <td>2.0</td>\n",
       "      <td>-33.666667</td>\n",
       "      <td>2020.0</td>\n",
       "    </tr>\n",
       "    <tr>\n",
       "      <th>4</th>\n",
       "      <td>0</td>\n",
       "      <td>4</td>\n",
       "      <td>0</td>\n",
       "      <td>0</td>\n",
       "      <td>3</td>\n",
       "      <td>1</td>\n",
       "      <td>4</td>\n",
       "      <td>263.0</td>\n",
       "      <td>399.0</td>\n",
       "      <td>0.142702</td>\n",
       "      <td>0.254024</td>\n",
       "      <td>93.000000</td>\n",
       "      <td>1.0</td>\n",
       "      <td>-44.000000</td>\n",
       "      <td>2020.0</td>\n",
       "    </tr>\n",
       "    <tr>\n",
       "      <th>...</th>\n",
       "      <td>...</td>\n",
       "      <td>...</td>\n",
       "      <td>...</td>\n",
       "      <td>...</td>\n",
       "      <td>...</td>\n",
       "      <td>...</td>\n",
       "      <td>...</td>\n",
       "      <td>...</td>\n",
       "      <td>...</td>\n",
       "      <td>...</td>\n",
       "      <td>...</td>\n",
       "      <td>...</td>\n",
       "      <td>...</td>\n",
       "      <td>...</td>\n",
       "      <td>...</td>\n",
       "    </tr>\n",
       "    <tr>\n",
       "      <th>411736</th>\n",
       "      <td>16</td>\n",
       "      <td>202</td>\n",
       "      <td>40</td>\n",
       "      <td>16</td>\n",
       "      <td>3</td>\n",
       "      <td>1</td>\n",
       "      <td>4</td>\n",
       "      <td>11.0</td>\n",
       "      <td>492.0</td>\n",
       "      <td>0.078091</td>\n",
       "      <td>0.117169</td>\n",
       "      <td>1367.000000</td>\n",
       "      <td>1.0</td>\n",
       "      <td>-9.000000</td>\n",
       "      <td>2020.0</td>\n",
       "    </tr>\n",
       "    <tr>\n",
       "      <th>411737</th>\n",
       "      <td>16</td>\n",
       "      <td>202</td>\n",
       "      <td>40</td>\n",
       "      <td>16</td>\n",
       "      <td>3</td>\n",
       "      <td>2</td>\n",
       "      <td>3</td>\n",
       "      <td>11.0</td>\n",
       "      <td>492.0</td>\n",
       "      <td>0.047749</td>\n",
       "      <td>0.079103</td>\n",
       "      <td>846.500000</td>\n",
       "      <td>1.5</td>\n",
       "      <td>-5.000000</td>\n",
       "      <td>2020.0</td>\n",
       "    </tr>\n",
       "    <tr>\n",
       "      <th>411738</th>\n",
       "      <td>16</td>\n",
       "      <td>202</td>\n",
       "      <td>40</td>\n",
       "      <td>16</td>\n",
       "      <td>4</td>\n",
       "      <td>1</td>\n",
       "      <td>4</td>\n",
       "      <td>11.0</td>\n",
       "      <td>492.0</td>\n",
       "      <td>0.033327</td>\n",
       "      <td>0.056300</td>\n",
       "      <td>586.666667</td>\n",
       "      <td>2.0</td>\n",
       "      <td>-5.000000</td>\n",
       "      <td>2020.0</td>\n",
       "    </tr>\n",
       "    <tr>\n",
       "      <th>411739</th>\n",
       "      <td>16</td>\n",
       "      <td>202</td>\n",
       "      <td>40</td>\n",
       "      <td>16</td>\n",
       "      <td>4</td>\n",
       "      <td>2</td>\n",
       "      <td>4</td>\n",
       "      <td>11.0</td>\n",
       "      <td>492.0</td>\n",
       "      <td>0.033327</td>\n",
       "      <td>0.056300</td>\n",
       "      <td>586.666667</td>\n",
       "      <td>2.0</td>\n",
       "      <td>-5.000000</td>\n",
       "      <td>2020.0</td>\n",
       "    </tr>\n",
       "    <tr>\n",
       "      <th>411740</th>\n",
       "      <td>16</td>\n",
       "      <td>202</td>\n",
       "      <td>40</td>\n",
       "      <td>16</td>\n",
       "      <td>5</td>\n",
       "      <td>1</td>\n",
       "      <td>5</td>\n",
       "      <td>11.0</td>\n",
       "      <td>492.0</td>\n",
       "      <td>0.033327</td>\n",
       "      <td>0.056300</td>\n",
       "      <td>586.666667</td>\n",
       "      <td>2.0</td>\n",
       "      <td>-5.000000</td>\n",
       "      <td>2020.0</td>\n",
       "    </tr>\n",
       "  </tbody>\n",
       "</table>\n",
       "<p>411741 rows × 15 columns</p>\n",
       "</div>"
      ],
      "text/plain": [
       "        CARD_SIDO_NM  CARD_CCG_NM  STD_CLSS_NM  HOM_SIDO_NM  AGE  SEX_CTGO_CD  \\\n",
       "0                  0            4            0            0    1            2   \n",
       "1                  0            4            0            0    2            1   \n",
       "2                  0            4            0            0    2            2   \n",
       "3                  0            4            0            0    3            1   \n",
       "4                  0            4            0            0    3            1   \n",
       "...              ...          ...          ...          ...  ...          ...   \n",
       "411736            16          202           40           16    3            1   \n",
       "411737            16          202           40           16    3            2   \n",
       "411738            16          202           40           16    4            1   \n",
       "411739            16          202           40           16    4            2   \n",
       "411740            16          202           40           16    5            1   \n",
       "\n",
       "        FLC  company  employee        LP        JP        loyal  month  \\\n",
       "0         1    263.0     399.0  0.142702  0.254024    93.000000    1.0   \n",
       "1         2    263.0     399.0  0.108962  0.238864    71.000000    2.0   \n",
       "2         2    263.0     399.0  0.142702  0.254024    93.000000    1.0   \n",
       "3         3    263.0     399.0  0.108962  0.238864    71.000000    2.0   \n",
       "4         4    263.0     399.0  0.142702  0.254024    93.000000    1.0   \n",
       "...     ...      ...       ...       ...       ...          ...    ...   \n",
       "411736    4     11.0     492.0  0.078091  0.117169  1367.000000    1.0   \n",
       "411737    3     11.0     492.0  0.047749  0.079103   846.500000    1.5   \n",
       "411738    4     11.0     492.0  0.033327  0.056300   586.666667    2.0   \n",
       "411739    4     11.0     492.0  0.033327  0.056300   586.666667    2.0   \n",
       "411740    5     11.0     492.0  0.033327  0.056300   586.666667    2.0   \n",
       "\n",
       "           refund    year  \n",
       "0      -44.000000  2020.0  \n",
       "1      -33.666667  2020.0  \n",
       "2      -44.000000  2020.0  \n",
       "3      -33.666667  2020.0  \n",
       "4      -44.000000  2020.0  \n",
       "...           ...     ...  \n",
       "411736  -9.000000  2020.0  \n",
       "411737  -5.000000  2020.0  \n",
       "411738  -5.000000  2020.0  \n",
       "411739  -5.000000  2020.0  \n",
       "411740  -5.000000  2020.0  \n",
       "\n",
       "[411741 rows x 15 columns]"
      ]
     },
     "execution_count": 29,
     "metadata": {},
     "output_type": "execute_result"
    }
   ],
   "source": [
    "temp"
   ]
  },
  {
   "cell_type": "code",
   "execution_count": 30,
   "metadata": {
    "ExecuteTime": {
     "end_time": "2020-07-29T11:39:33.844368Z",
     "start_time": "2020-07-29T11:39:33.822363Z"
    }
   },
   "outputs": [
    {
     "data": {
      "text/html": [
       "<div>\n",
       "<style scoped>\n",
       "    .dataframe tbody tr th:only-of-type {\n",
       "        vertical-align: middle;\n",
       "    }\n",
       "\n",
       "    .dataframe tbody tr th {\n",
       "        vertical-align: top;\n",
       "    }\n",
       "\n",
       "    .dataframe thead th {\n",
       "        text-align: right;\n",
       "    }\n",
       "</style>\n",
       "<table border=\"1\" class=\"dataframe\">\n",
       "  <thead>\n",
       "    <tr style=\"text-align: right;\">\n",
       "      <th></th>\n",
       "      <th>REG_YYMM</th>\n",
       "      <th>CARD_SIDO_NM</th>\n",
       "      <th>CARD_CCG_NM</th>\n",
       "      <th>STD_CLSS_NM</th>\n",
       "      <th>HOM_SIDO_NM</th>\n",
       "      <th>AGE</th>\n",
       "      <th>SEX_CTGO_CD</th>\n",
       "      <th>FLC</th>\n",
       "      <th>AMT</th>\n",
       "      <th>company</th>\n",
       "      <th>employee</th>\n",
       "      <th>LP</th>\n",
       "      <th>JP</th>\n",
       "      <th>loyal</th>\n",
       "      <th>month</th>\n",
       "      <th>refund</th>\n",
       "      <th>year</th>\n",
       "    </tr>\n",
       "  </thead>\n",
       "  <tbody>\n",
       "  </tbody>\n",
       "</table>\n",
       "</div>"
      ],
      "text/plain": [
       "Empty DataFrame\n",
       "Columns: [REG_YYMM, CARD_SIDO_NM, CARD_CCG_NM, STD_CLSS_NM, HOM_SIDO_NM, AGE, SEX_CTGO_CD, FLC, AMT, company, employee, LP, JP, loyal, month, refund, year]\n",
       "Index: []"
      ]
     },
     "execution_count": 30,
     "metadata": {},
     "output_type": "execute_result"
    }
   ],
   "source": [
    "df_num[df_num['REG_YYMM'] == '2020-04-01']"
   ]
  },
  {
   "cell_type": "code",
   "execution_count": 31,
   "metadata": {
    "ExecuteTime": {
     "end_time": "2020-07-29T11:39:33.859371Z",
     "start_time": "2020-07-29T11:39:33.845368Z"
    }
   },
   "outputs": [],
   "source": [
    "temp.month = 4\n",
    "# temp = pd.concat([df_num[df_num['REG_YYMM'] == '2020-04-01'], temp])"
   ]
  },
  {
   "cell_type": "code",
   "execution_count": 32,
   "metadata": {
    "ExecuteTime": {
     "end_time": "2020-07-29T11:39:33.874376Z",
     "start_time": "2020-07-29T11:39:33.860372Z"
    }
   },
   "outputs": [
    {
     "data": {
      "text/html": [
       "<div>\n",
       "<style scoped>\n",
       "    .dataframe tbody tr th:only-of-type {\n",
       "        vertical-align: middle;\n",
       "    }\n",
       "\n",
       "    .dataframe tbody tr th {\n",
       "        vertical-align: top;\n",
       "    }\n",
       "\n",
       "    .dataframe thead th {\n",
       "        text-align: right;\n",
       "    }\n",
       "</style>\n",
       "<table border=\"1\" class=\"dataframe\">\n",
       "  <thead>\n",
       "    <tr style=\"text-align: right;\">\n",
       "      <th></th>\n",
       "      <th>CARD_SIDO_NM</th>\n",
       "      <th>CARD_CCG_NM</th>\n",
       "      <th>STD_CLSS_NM</th>\n",
       "      <th>HOM_SIDO_NM</th>\n",
       "      <th>AGE</th>\n",
       "      <th>SEX_CTGO_CD</th>\n",
       "      <th>FLC</th>\n",
       "      <th>company</th>\n",
       "      <th>employee</th>\n",
       "      <th>LP</th>\n",
       "      <th>JP</th>\n",
       "      <th>loyal</th>\n",
       "      <th>month</th>\n",
       "      <th>refund</th>\n",
       "      <th>year</th>\n",
       "    </tr>\n",
       "  </thead>\n",
       "  <tbody>\n",
       "    <tr>\n",
       "      <th>0</th>\n",
       "      <td>0</td>\n",
       "      <td>4</td>\n",
       "      <td>0</td>\n",
       "      <td>0</td>\n",
       "      <td>1</td>\n",
       "      <td>2</td>\n",
       "      <td>1</td>\n",
       "      <td>263.0</td>\n",
       "      <td>399.0</td>\n",
       "      <td>0.142702</td>\n",
       "      <td>0.254024</td>\n",
       "      <td>93.000000</td>\n",
       "      <td>4</td>\n",
       "      <td>-44.000000</td>\n",
       "      <td>2020.0</td>\n",
       "    </tr>\n",
       "    <tr>\n",
       "      <th>1</th>\n",
       "      <td>0</td>\n",
       "      <td>4</td>\n",
       "      <td>0</td>\n",
       "      <td>0</td>\n",
       "      <td>2</td>\n",
       "      <td>1</td>\n",
       "      <td>2</td>\n",
       "      <td>263.0</td>\n",
       "      <td>399.0</td>\n",
       "      <td>0.108962</td>\n",
       "      <td>0.238864</td>\n",
       "      <td>71.000000</td>\n",
       "      <td>4</td>\n",
       "      <td>-33.666667</td>\n",
       "      <td>2020.0</td>\n",
       "    </tr>\n",
       "    <tr>\n",
       "      <th>2</th>\n",
       "      <td>0</td>\n",
       "      <td>4</td>\n",
       "      <td>0</td>\n",
       "      <td>0</td>\n",
       "      <td>2</td>\n",
       "      <td>2</td>\n",
       "      <td>2</td>\n",
       "      <td>263.0</td>\n",
       "      <td>399.0</td>\n",
       "      <td>0.142702</td>\n",
       "      <td>0.254024</td>\n",
       "      <td>93.000000</td>\n",
       "      <td>4</td>\n",
       "      <td>-44.000000</td>\n",
       "      <td>2020.0</td>\n",
       "    </tr>\n",
       "    <tr>\n",
       "      <th>3</th>\n",
       "      <td>0</td>\n",
       "      <td>4</td>\n",
       "      <td>0</td>\n",
       "      <td>0</td>\n",
       "      <td>3</td>\n",
       "      <td>1</td>\n",
       "      <td>3</td>\n",
       "      <td>263.0</td>\n",
       "      <td>399.0</td>\n",
       "      <td>0.108962</td>\n",
       "      <td>0.238864</td>\n",
       "      <td>71.000000</td>\n",
       "      <td>4</td>\n",
       "      <td>-33.666667</td>\n",
       "      <td>2020.0</td>\n",
       "    </tr>\n",
       "    <tr>\n",
       "      <th>4</th>\n",
       "      <td>0</td>\n",
       "      <td>4</td>\n",
       "      <td>0</td>\n",
       "      <td>0</td>\n",
       "      <td>3</td>\n",
       "      <td>1</td>\n",
       "      <td>4</td>\n",
       "      <td>263.0</td>\n",
       "      <td>399.0</td>\n",
       "      <td>0.142702</td>\n",
       "      <td>0.254024</td>\n",
       "      <td>93.000000</td>\n",
       "      <td>4</td>\n",
       "      <td>-44.000000</td>\n",
       "      <td>2020.0</td>\n",
       "    </tr>\n",
       "    <tr>\n",
       "      <th>...</th>\n",
       "      <td>...</td>\n",
       "      <td>...</td>\n",
       "      <td>...</td>\n",
       "      <td>...</td>\n",
       "      <td>...</td>\n",
       "      <td>...</td>\n",
       "      <td>...</td>\n",
       "      <td>...</td>\n",
       "      <td>...</td>\n",
       "      <td>...</td>\n",
       "      <td>...</td>\n",
       "      <td>...</td>\n",
       "      <td>...</td>\n",
       "      <td>...</td>\n",
       "      <td>...</td>\n",
       "    </tr>\n",
       "    <tr>\n",
       "      <th>411736</th>\n",
       "      <td>16</td>\n",
       "      <td>202</td>\n",
       "      <td>40</td>\n",
       "      <td>16</td>\n",
       "      <td>3</td>\n",
       "      <td>1</td>\n",
       "      <td>4</td>\n",
       "      <td>11.0</td>\n",
       "      <td>492.0</td>\n",
       "      <td>0.078091</td>\n",
       "      <td>0.117169</td>\n",
       "      <td>1367.000000</td>\n",
       "      <td>4</td>\n",
       "      <td>-9.000000</td>\n",
       "      <td>2020.0</td>\n",
       "    </tr>\n",
       "    <tr>\n",
       "      <th>411737</th>\n",
       "      <td>16</td>\n",
       "      <td>202</td>\n",
       "      <td>40</td>\n",
       "      <td>16</td>\n",
       "      <td>3</td>\n",
       "      <td>2</td>\n",
       "      <td>3</td>\n",
       "      <td>11.0</td>\n",
       "      <td>492.0</td>\n",
       "      <td>0.047749</td>\n",
       "      <td>0.079103</td>\n",
       "      <td>846.500000</td>\n",
       "      <td>4</td>\n",
       "      <td>-5.000000</td>\n",
       "      <td>2020.0</td>\n",
       "    </tr>\n",
       "    <tr>\n",
       "      <th>411738</th>\n",
       "      <td>16</td>\n",
       "      <td>202</td>\n",
       "      <td>40</td>\n",
       "      <td>16</td>\n",
       "      <td>4</td>\n",
       "      <td>1</td>\n",
       "      <td>4</td>\n",
       "      <td>11.0</td>\n",
       "      <td>492.0</td>\n",
       "      <td>0.033327</td>\n",
       "      <td>0.056300</td>\n",
       "      <td>586.666667</td>\n",
       "      <td>4</td>\n",
       "      <td>-5.000000</td>\n",
       "      <td>2020.0</td>\n",
       "    </tr>\n",
       "    <tr>\n",
       "      <th>411739</th>\n",
       "      <td>16</td>\n",
       "      <td>202</td>\n",
       "      <td>40</td>\n",
       "      <td>16</td>\n",
       "      <td>4</td>\n",
       "      <td>2</td>\n",
       "      <td>4</td>\n",
       "      <td>11.0</td>\n",
       "      <td>492.0</td>\n",
       "      <td>0.033327</td>\n",
       "      <td>0.056300</td>\n",
       "      <td>586.666667</td>\n",
       "      <td>4</td>\n",
       "      <td>-5.000000</td>\n",
       "      <td>2020.0</td>\n",
       "    </tr>\n",
       "    <tr>\n",
       "      <th>411740</th>\n",
       "      <td>16</td>\n",
       "      <td>202</td>\n",
       "      <td>40</td>\n",
       "      <td>16</td>\n",
       "      <td>5</td>\n",
       "      <td>1</td>\n",
       "      <td>5</td>\n",
       "      <td>11.0</td>\n",
       "      <td>492.0</td>\n",
       "      <td>0.033327</td>\n",
       "      <td>0.056300</td>\n",
       "      <td>586.666667</td>\n",
       "      <td>4</td>\n",
       "      <td>-5.000000</td>\n",
       "      <td>2020.0</td>\n",
       "    </tr>\n",
       "  </tbody>\n",
       "</table>\n",
       "<p>411741 rows × 15 columns</p>\n",
       "</div>"
      ],
      "text/plain": [
       "        CARD_SIDO_NM  CARD_CCG_NM  STD_CLSS_NM  HOM_SIDO_NM  AGE  SEX_CTGO_CD  \\\n",
       "0                  0            4            0            0    1            2   \n",
       "1                  0            4            0            0    2            1   \n",
       "2                  0            4            0            0    2            2   \n",
       "3                  0            4            0            0    3            1   \n",
       "4                  0            4            0            0    3            1   \n",
       "...              ...          ...          ...          ...  ...          ...   \n",
       "411736            16          202           40           16    3            1   \n",
       "411737            16          202           40           16    3            2   \n",
       "411738            16          202           40           16    4            1   \n",
       "411739            16          202           40           16    4            2   \n",
       "411740            16          202           40           16    5            1   \n",
       "\n",
       "        FLC  company  employee        LP        JP        loyal  month  \\\n",
       "0         1    263.0     399.0  0.142702  0.254024    93.000000      4   \n",
       "1         2    263.0     399.0  0.108962  0.238864    71.000000      4   \n",
       "2         2    263.0     399.0  0.142702  0.254024    93.000000      4   \n",
       "3         3    263.0     399.0  0.108962  0.238864    71.000000      4   \n",
       "4         4    263.0     399.0  0.142702  0.254024    93.000000      4   \n",
       "...     ...      ...       ...       ...       ...          ...    ...   \n",
       "411736    4     11.0     492.0  0.078091  0.117169  1367.000000      4   \n",
       "411737    3     11.0     492.0  0.047749  0.079103   846.500000      4   \n",
       "411738    4     11.0     492.0  0.033327  0.056300   586.666667      4   \n",
       "411739    4     11.0     492.0  0.033327  0.056300   586.666667      4   \n",
       "411740    5     11.0     492.0  0.033327  0.056300   586.666667      4   \n",
       "\n",
       "           refund    year  \n",
       "0      -44.000000  2020.0  \n",
       "1      -33.666667  2020.0  \n",
       "2      -44.000000  2020.0  \n",
       "3      -33.666667  2020.0  \n",
       "4      -44.000000  2020.0  \n",
       "...           ...     ...  \n",
       "411736  -9.000000  2020.0  \n",
       "411737  -5.000000  2020.0  \n",
       "411738  -5.000000  2020.0  \n",
       "411739  -5.000000  2020.0  \n",
       "411740  -5.000000  2020.0  \n",
       "\n",
       "[411741 rows x 15 columns]"
      ]
     },
     "execution_count": 32,
     "metadata": {},
     "output_type": "execute_result"
    }
   ],
   "source": [
    "temp"
   ]
  },
  {
   "cell_type": "code",
   "execution_count": 33,
   "metadata": {
    "ExecuteTime": {
     "end_time": "2020-07-29T11:39:33.966396Z",
     "start_time": "2020-07-29T11:39:33.875376Z"
    }
   },
   "outputs": [
    {
     "ename": "KeyError",
     "evalue": "\"['REG_YYMM' 'AMT'] not found in axis\"",
     "output_type": "error",
     "traceback": [
      "\u001b[1;31m---------------------------------------------------------------------------\u001b[0m",
      "\u001b[1;31mKeyError\u001b[0m                                  Traceback (most recent call last)",
      "\u001b[1;32m<ipython-input-33-88b96d69c4cb>\u001b[0m in \u001b[0;36m<module>\u001b[1;34m()\u001b[0m\n\u001b[1;32m----> 1\u001b[1;33m \u001b[0mtemp\u001b[0m \u001b[1;33m=\u001b[0m \u001b[0mtemp\u001b[0m\u001b[1;33m.\u001b[0m\u001b[0mdrop\u001b[0m\u001b[1;33m(\u001b[0m\u001b[1;33m[\u001b[0m\u001b[1;34m'REG_YYMM'\u001b[0m\u001b[1;33m,\u001b[0m \u001b[1;34m'AMT'\u001b[0m\u001b[1;33m]\u001b[0m\u001b[1;33m,\u001b[0m \u001b[0maxis\u001b[0m\u001b[1;33m=\u001b[0m\u001b[1;36m1\u001b[0m\u001b[1;33m)\u001b[0m\u001b[1;33m\u001b[0m\u001b[0m\n\u001b[0m",
      "\u001b[1;32m~\\Anaconda3\\lib\\site-packages\\pandas\\core\\frame.py\u001b[0m in \u001b[0;36mdrop\u001b[1;34m(self, labels, axis, index, columns, level, inplace, errors)\u001b[0m\n\u001b[0;32m   3995\u001b[0m             \u001b[0mlevel\u001b[0m\u001b[1;33m=\u001b[0m\u001b[0mlevel\u001b[0m\u001b[1;33m,\u001b[0m\u001b[1;33m\u001b[0m\u001b[0m\n\u001b[0;32m   3996\u001b[0m             \u001b[0minplace\u001b[0m\u001b[1;33m=\u001b[0m\u001b[0minplace\u001b[0m\u001b[1;33m,\u001b[0m\u001b[1;33m\u001b[0m\u001b[0m\n\u001b[1;32m-> 3997\u001b[1;33m             \u001b[0merrors\u001b[0m\u001b[1;33m=\u001b[0m\u001b[0merrors\u001b[0m\u001b[1;33m,\u001b[0m\u001b[1;33m\u001b[0m\u001b[0m\n\u001b[0m\u001b[0;32m   3998\u001b[0m         )\n\u001b[0;32m   3999\u001b[0m \u001b[1;33m\u001b[0m\u001b[0m\n",
      "\u001b[1;32m~\\Anaconda3\\lib\\site-packages\\pandas\\core\\generic.py\u001b[0m in \u001b[0;36mdrop\u001b[1;34m(self, labels, axis, index, columns, level, inplace, errors)\u001b[0m\n\u001b[0;32m   3934\u001b[0m         \u001b[1;32mfor\u001b[0m \u001b[0maxis\u001b[0m\u001b[1;33m,\u001b[0m \u001b[0mlabels\u001b[0m \u001b[1;32min\u001b[0m \u001b[0maxes\u001b[0m\u001b[1;33m.\u001b[0m\u001b[0mitems\u001b[0m\u001b[1;33m(\u001b[0m\u001b[1;33m)\u001b[0m\u001b[1;33m:\u001b[0m\u001b[1;33m\u001b[0m\u001b[0m\n\u001b[0;32m   3935\u001b[0m             \u001b[1;32mif\u001b[0m \u001b[0mlabels\u001b[0m \u001b[1;32mis\u001b[0m \u001b[1;32mnot\u001b[0m \u001b[1;32mNone\u001b[0m\u001b[1;33m:\u001b[0m\u001b[1;33m\u001b[0m\u001b[0m\n\u001b[1;32m-> 3936\u001b[1;33m                 \u001b[0mobj\u001b[0m \u001b[1;33m=\u001b[0m \u001b[0mobj\u001b[0m\u001b[1;33m.\u001b[0m\u001b[0m_drop_axis\u001b[0m\u001b[1;33m(\u001b[0m\u001b[0mlabels\u001b[0m\u001b[1;33m,\u001b[0m \u001b[0maxis\u001b[0m\u001b[1;33m,\u001b[0m \u001b[0mlevel\u001b[0m\u001b[1;33m=\u001b[0m\u001b[0mlevel\u001b[0m\u001b[1;33m,\u001b[0m \u001b[0merrors\u001b[0m\u001b[1;33m=\u001b[0m\u001b[0merrors\u001b[0m\u001b[1;33m)\u001b[0m\u001b[1;33m\u001b[0m\u001b[0m\n\u001b[0m\u001b[0;32m   3937\u001b[0m \u001b[1;33m\u001b[0m\u001b[0m\n\u001b[0;32m   3938\u001b[0m         \u001b[1;32mif\u001b[0m \u001b[0minplace\u001b[0m\u001b[1;33m:\u001b[0m\u001b[1;33m\u001b[0m\u001b[0m\n",
      "\u001b[1;32m~\\Anaconda3\\lib\\site-packages\\pandas\\core\\generic.py\u001b[0m in \u001b[0;36m_drop_axis\u001b[1;34m(self, labels, axis, level, errors)\u001b[0m\n\u001b[0;32m   3968\u001b[0m                 \u001b[0mnew_axis\u001b[0m \u001b[1;33m=\u001b[0m \u001b[0maxis\u001b[0m\u001b[1;33m.\u001b[0m\u001b[0mdrop\u001b[0m\u001b[1;33m(\u001b[0m\u001b[0mlabels\u001b[0m\u001b[1;33m,\u001b[0m \u001b[0mlevel\u001b[0m\u001b[1;33m=\u001b[0m\u001b[0mlevel\u001b[0m\u001b[1;33m,\u001b[0m \u001b[0merrors\u001b[0m\u001b[1;33m=\u001b[0m\u001b[0merrors\u001b[0m\u001b[1;33m)\u001b[0m\u001b[1;33m\u001b[0m\u001b[0m\n\u001b[0;32m   3969\u001b[0m             \u001b[1;32melse\u001b[0m\u001b[1;33m:\u001b[0m\u001b[1;33m\u001b[0m\u001b[0m\n\u001b[1;32m-> 3970\u001b[1;33m                 \u001b[0mnew_axis\u001b[0m \u001b[1;33m=\u001b[0m \u001b[0maxis\u001b[0m\u001b[1;33m.\u001b[0m\u001b[0mdrop\u001b[0m\u001b[1;33m(\u001b[0m\u001b[0mlabels\u001b[0m\u001b[1;33m,\u001b[0m \u001b[0merrors\u001b[0m\u001b[1;33m=\u001b[0m\u001b[0merrors\u001b[0m\u001b[1;33m)\u001b[0m\u001b[1;33m\u001b[0m\u001b[0m\n\u001b[0m\u001b[0;32m   3971\u001b[0m             \u001b[0mresult\u001b[0m \u001b[1;33m=\u001b[0m \u001b[0mself\u001b[0m\u001b[1;33m.\u001b[0m\u001b[0mreindex\u001b[0m\u001b[1;33m(\u001b[0m\u001b[1;33m**\u001b[0m\u001b[1;33m{\u001b[0m\u001b[0maxis_name\u001b[0m\u001b[1;33m:\u001b[0m \u001b[0mnew_axis\u001b[0m\u001b[1;33m}\u001b[0m\u001b[1;33m)\u001b[0m\u001b[1;33m\u001b[0m\u001b[0m\n\u001b[0;32m   3972\u001b[0m \u001b[1;33m\u001b[0m\u001b[0m\n",
      "\u001b[1;32m~\\Anaconda3\\lib\\site-packages\\pandas\\core\\indexes\\base.py\u001b[0m in \u001b[0;36mdrop\u001b[1;34m(self, labels, errors)\u001b[0m\n\u001b[0;32m   5016\u001b[0m         \u001b[1;32mif\u001b[0m \u001b[0mmask\u001b[0m\u001b[1;33m.\u001b[0m\u001b[0many\u001b[0m\u001b[1;33m(\u001b[0m\u001b[1;33m)\u001b[0m\u001b[1;33m:\u001b[0m\u001b[1;33m\u001b[0m\u001b[0m\n\u001b[0;32m   5017\u001b[0m             \u001b[1;32mif\u001b[0m \u001b[0merrors\u001b[0m \u001b[1;33m!=\u001b[0m \u001b[1;34m\"ignore\"\u001b[0m\u001b[1;33m:\u001b[0m\u001b[1;33m\u001b[0m\u001b[0m\n\u001b[1;32m-> 5018\u001b[1;33m                 \u001b[1;32mraise\u001b[0m \u001b[0mKeyError\u001b[0m\u001b[1;33m(\u001b[0m\u001b[1;34mf\"{labels[mask]} not found in axis\"\u001b[0m\u001b[1;33m)\u001b[0m\u001b[1;33m\u001b[0m\u001b[0m\n\u001b[0m\u001b[0;32m   5019\u001b[0m             \u001b[0mindexer\u001b[0m \u001b[1;33m=\u001b[0m \u001b[0mindexer\u001b[0m\u001b[1;33m[\u001b[0m\u001b[1;33m~\u001b[0m\u001b[0mmask\u001b[0m\u001b[1;33m]\u001b[0m\u001b[1;33m\u001b[0m\u001b[0m\n\u001b[0;32m   5020\u001b[0m         \u001b[1;32mreturn\u001b[0m \u001b[0mself\u001b[0m\u001b[1;33m.\u001b[0m\u001b[0mdelete\u001b[0m\u001b[1;33m(\u001b[0m\u001b[0mindexer\u001b[0m\u001b[1;33m)\u001b[0m\u001b[1;33m\u001b[0m\u001b[0m\n",
      "\u001b[1;31mKeyError\u001b[0m: \"['REG_YYMM' 'AMT'] not found in axis\""
     ]
    }
   ],
   "source": [
    "# temp = temp.drop(['REG_YYMM', 'AMT'], axis=1)"
   ]
  },
  {
   "cell_type": "markdown",
   "metadata": {},
   "source": [
    "### Light GBM"
   ]
  },
  {
   "cell_type": "code",
   "execution_count": 37,
   "metadata": {
    "ExecuteTime": {
     "end_time": "2020-07-29T11:48:03.209666Z",
     "start_time": "2020-07-29T11:48:03.170657Z"
    }
   },
   "outputs": [],
   "source": [
    "import lightgbm as lgb"
   ]
  },
  {
   "cell_type": "code",
   "execution_count": 38,
   "metadata": {
    "ExecuteTime": {
     "end_time": "2020-07-29T11:48:03.757788Z",
     "start_time": "2020-07-29T11:48:03.746786Z"
    }
   },
   "outputs": [
    {
     "data": {
      "text/html": [
       "<div>\n",
       "<style scoped>\n",
       "    .dataframe tbody tr th:only-of-type {\n",
       "        vertical-align: middle;\n",
       "    }\n",
       "\n",
       "    .dataframe tbody tr th {\n",
       "        vertical-align: top;\n",
       "    }\n",
       "\n",
       "    .dataframe thead th {\n",
       "        text-align: right;\n",
       "    }\n",
       "</style>\n",
       "<table border=\"1\" class=\"dataframe\">\n",
       "  <thead>\n",
       "    <tr style=\"text-align: right;\">\n",
       "      <th></th>\n",
       "      <th>REG_YYMM</th>\n",
       "      <th>CARD_SIDO_NM</th>\n",
       "      <th>CARD_CCG_NM</th>\n",
       "      <th>STD_CLSS_NM</th>\n",
       "      <th>HOM_SIDO_NM</th>\n",
       "      <th>AGE</th>\n",
       "      <th>SEX_CTGO_CD</th>\n",
       "      <th>FLC</th>\n",
       "      <th>AMT</th>\n",
       "      <th>company</th>\n",
       "      <th>employee</th>\n",
       "      <th>LP</th>\n",
       "      <th>JP</th>\n",
       "      <th>loyal</th>\n",
       "      <th>month</th>\n",
       "      <th>refund</th>\n",
       "      <th>year</th>\n",
       "    </tr>\n",
       "  </thead>\n",
       "  <tbody>\n",
       "    <tr>\n",
       "      <th>0</th>\n",
       "      <td>2019-01-01</td>\n",
       "      <td>0</td>\n",
       "      <td>4</td>\n",
       "      <td>0</td>\n",
       "      <td>0</td>\n",
       "      <td>1</td>\n",
       "      <td>1</td>\n",
       "      <td>1</td>\n",
       "      <td>311200</td>\n",
       "      <td>263.0</td>\n",
       "      <td>399.0</td>\n",
       "      <td>0.138432</td>\n",
       "      <td>0.279221</td>\n",
       "      <td>80.0</td>\n",
       "      <td>1</td>\n",
       "      <td>-32.0</td>\n",
       "      <td>2019</td>\n",
       "    </tr>\n",
       "  </tbody>\n",
       "</table>\n",
       "</div>"
      ],
      "text/plain": [
       "    REG_YYMM  CARD_SIDO_NM  CARD_CCG_NM  STD_CLSS_NM  HOM_SIDO_NM  AGE  \\\n",
       "0 2019-01-01             0            4            0            0    1   \n",
       "\n",
       "   SEX_CTGO_CD  FLC     AMT  company  employee        LP        JP  loyal  \\\n",
       "0            1    1  311200    263.0     399.0  0.138432  0.279221   80.0   \n",
       "\n",
       "   month  refund  year  \n",
       "0      1   -32.0  2019  "
      ]
     },
     "execution_count": 38,
     "metadata": {},
     "output_type": "execute_result"
    }
   ],
   "source": [
    "train_df.head(1)"
   ]
  },
  {
   "cell_type": "code",
   "execution_count": 39,
   "metadata": {
    "ExecuteTime": {
     "end_time": "2020-07-29T11:48:04.634985Z",
     "start_time": "2020-07-29T11:48:04.280905Z"
    }
   },
   "outputs": [],
   "source": [
    "train = train_df.drop(['AMT', 'REG_YYMM'], axis=1)\n",
    "trian_label = np.log1p(train_df[['AMT']])"
   ]
  },
  {
   "cell_type": "code",
   "execution_count": 40,
   "metadata": {
    "ExecuteTime": {
     "end_time": "2020-07-29T11:48:04.682995Z",
     "start_time": "2020-07-29T11:48:04.634985Z"
    }
   },
   "outputs": [],
   "source": [
    "validation = validation_df.drop(['AMT', 'REG_YYMM'], axis=1)\n",
    "validation_label = np.log1p(validation_df[['AMT']])"
   ]
  },
  {
   "cell_type": "code",
   "execution_count": 41,
   "metadata": {
    "ExecuteTime": {
     "end_time": "2020-07-29T11:48:05.930277Z",
     "start_time": "2020-07-29T11:48:05.927275Z"
    }
   },
   "outputs": [],
   "source": [
    "lgb_train = lgb.Dataset(train, label=trian_label)\n",
    "lgb_eval = lgb.Dataset(validation, label=validation_label, reference=lgb_train)"
   ]
  },
  {
   "cell_type": "code",
   "execution_count": 42,
   "metadata": {
    "ExecuteTime": {
     "end_time": "2020-07-29T11:48:06.550421Z",
     "start_time": "2020-07-29T11:48:06.547420Z"
    }
   },
   "outputs": [],
   "source": [
    "evals_result = {}\n",
    "params = {\n",
    "    'boosting_type': 'gbdt',\n",
    "    'objective': 'regression',\n",
    "    'metric': 'rmse',\n",
    "    'max_depth':11,\n",
    "    'num_leaves': 31,\n",
    "    'learning_rate': 0.7,\n",
    "    'feature_fraction': 0.9,\n",
    "    'bagging_fraction': 0.8,\n",
    "    'bagging_freq': 5,\n",
    "    'verbose': 0}"
   ]
  },
  {
   "cell_type": "code",
   "execution_count": 43,
   "metadata": {
    "ExecuteTime": {
     "end_time": "2020-07-29T11:51:06.546461Z",
     "start_time": "2020-07-29T11:48:07.180357Z"
    },
    "scrolled": true
   },
   "outputs": [
    {
     "name": "stdout",
     "output_type": "stream",
     "text": [
      "Training until validation scores don't improve for 100 rounds\n",
      "[100]\ttraining's rmse: 1.06542\tvalid_1's rmse: 1.13391\n",
      "[200]\ttraining's rmse: 0.968093\tvalid_1's rmse: 1.0681\n",
      "[300]\ttraining's rmse: 0.916798\tvalid_1's rmse: 1.03733\n",
      "[400]\ttraining's rmse: 0.877441\tvalid_1's rmse: 1.01613\n",
      "[500]\ttraining's rmse: 0.847424\tvalid_1's rmse: 0.998869\n",
      "[600]\ttraining's rmse: 0.825902\tvalid_1's rmse: 0.989734\n",
      "[700]\ttraining's rmse: 0.809353\tvalid_1's rmse: 0.9814\n",
      "[800]\ttraining's rmse: 0.792706\tvalid_1's rmse: 0.975166\n",
      "[900]\ttraining's rmse: 0.780115\tvalid_1's rmse: 0.968761\n",
      "[1000]\ttraining's rmse: 0.768941\tvalid_1's rmse: 0.964107\n",
      "[1100]\ttraining's rmse: 0.759479\tvalid_1's rmse: 0.960134\n",
      "[1200]\ttraining's rmse: 0.751245\tvalid_1's rmse: 0.957122\n",
      "[1300]\ttraining's rmse: 0.742861\tvalid_1's rmse: 0.956132\n",
      "[1400]\ttraining's rmse: 0.736596\tvalid_1's rmse: 0.953318\n",
      "[1500]\ttraining's rmse: 0.730354\tvalid_1's rmse: 0.950285\n",
      "[1600]\ttraining's rmse: 0.724177\tvalid_1's rmse: 0.949527\n",
      "[1700]\ttraining's rmse: 0.719245\tvalid_1's rmse: 0.947745\n",
      "[1800]\ttraining's rmse: 0.714301\tvalid_1's rmse: 0.946812\n",
      "[1900]\ttraining's rmse: 0.709327\tvalid_1's rmse: 0.944912\n",
      "[2000]\ttraining's rmse: 0.704782\tvalid_1's rmse: 0.943081\n",
      "[2100]\ttraining's rmse: 0.700304\tvalid_1's rmse: 0.941126\n",
      "[2200]\ttraining's rmse: 0.696679\tvalid_1's rmse: 0.940639\n",
      "Early stopping, best iteration is:\n",
      "[2155]\ttraining's rmse: 0.698306\tvalid_1's rmse: 0.940025\n"
     ]
    }
   ],
   "source": [
    "model = lgb.train(params, lgb_train, early_stopping_rounds=100,\n",
    "                  num_boost_round=5000, evals_result=evals_result,\n",
    "                  valid_sets= (lgb_train, lgb_eval),verbose_eval = 100)"
   ]
  },
  {
   "cell_type": "code",
   "execution_count": 44,
   "metadata": {
    "ExecuteTime": {
     "end_time": "2020-07-29T11:51:07.429668Z",
     "start_time": "2020-07-29T11:51:07.228622Z"
    },
    "scrolled": true
   },
   "outputs": [
    {
     "data": {
      "text/plain": [
       "<matplotlib.axes._subplots.AxesSubplot at 0x18926b34128>"
      ]
     },
     "execution_count": 44,
     "metadata": {},
     "output_type": "execute_result"
    },
    {
     "data": {
      "image/png": "[encoded data removed]",
      "text/plain": [
       "<Figure size 864x360 with 1 Axes>"
      ]
     },
     "metadata": {},
     "output_type": "display_data"
    }
   ],
   "source": [
    "import matplotlib as mlt\n",
    "import matplotlib.pyplot as plt\n",
    "%matplotlib inline\n",
    "\n",
    "lgb.plot_metric(evals_result, figsize=(12, 5))"
   ]
  },
  {
   "cell_type": "code",
   "execution_count": 45,
   "metadata": {
    "ExecuteTime": {
     "end_time": "2020-07-29T11:51:08.121585Z",
     "start_time": "2020-07-29T11:51:08.114584Z"
    }
   },
   "outputs": [
    {
     "data": {
      "text/html": [
       "<div>\n",
       "<style scoped>\n",
       "    .dataframe tbody tr th:only-of-type {\n",
       "        vertical-align: middle;\n",
       "    }\n",
       "\n",
       "    .dataframe tbody tr th {\n",
       "        vertical-align: top;\n",
       "    }\n",
       "\n",
       "    .dataframe thead th {\n",
       "        text-align: right;\n",
       "    }\n",
       "</style>\n",
       "<table border=\"1\" class=\"dataframe\">\n",
       "  <thead>\n",
       "    <tr style=\"text-align: right;\">\n",
       "      <th></th>\n",
       "      <th>name</th>\n",
       "      <th>importance</th>\n",
       "    </tr>\n",
       "  </thead>\n",
       "  <tbody>\n",
       "    <tr>\n",
       "      <th>3</th>\n",
       "      <td>HOM_SIDO_NM</td>\n",
       "      <td>10903</td>\n",
       "    </tr>\n",
       "    <tr>\n",
       "      <th>1</th>\n",
       "      <td>CARD_CCG_NM</td>\n",
       "      <td>9242</td>\n",
       "    </tr>\n",
       "    <tr>\n",
       "      <th>10</th>\n",
       "      <td>JP</td>\n",
       "      <td>6419</td>\n",
       "    </tr>\n",
       "    <tr>\n",
       "      <th>9</th>\n",
       "      <td>LP</td>\n",
       "      <td>5652</td>\n",
       "    </tr>\n",
       "    <tr>\n",
       "      <th>4</th>\n",
       "      <td>AGE</td>\n",
       "      <td>4842</td>\n",
       "    </tr>\n",
       "    <tr>\n",
       "      <th>11</th>\n",
       "      <td>loyal</td>\n",
       "      <td>4603</td>\n",
       "    </tr>\n",
       "    <tr>\n",
       "      <th>0</th>\n",
       "      <td>CARD_SIDO_NM</td>\n",
       "      <td>4113</td>\n",
       "    </tr>\n",
       "    <tr>\n",
       "      <th>7</th>\n",
       "      <td>company</td>\n",
       "      <td>3909</td>\n",
       "    </tr>\n",
       "    <tr>\n",
       "      <th>8</th>\n",
       "      <td>employee</td>\n",
       "      <td>3561</td>\n",
       "    </tr>\n",
       "    <tr>\n",
       "      <th>2</th>\n",
       "      <td>STD_CLSS_NM</td>\n",
       "      <td>3075</td>\n",
       "    </tr>\n",
       "    <tr>\n",
       "      <th>6</th>\n",
       "      <td>FLC</td>\n",
       "      <td>2984</td>\n",
       "    </tr>\n",
       "    <tr>\n",
       "      <th>13</th>\n",
       "      <td>refund</td>\n",
       "      <td>2176</td>\n",
       "    </tr>\n",
       "    <tr>\n",
       "      <th>5</th>\n",
       "      <td>SEX_CTGO_CD</td>\n",
       "      <td>1726</td>\n",
       "    </tr>\n",
       "    <tr>\n",
       "      <th>12</th>\n",
       "      <td>month</td>\n",
       "      <td>1280</td>\n",
       "    </tr>\n",
       "    <tr>\n",
       "      <th>14</th>\n",
       "      <td>year</td>\n",
       "      <td>165</td>\n",
       "    </tr>\n",
       "  </tbody>\n",
       "</table>\n",
       "</div>"
      ],
      "text/plain": [
       "            name  importance\n",
       "3    HOM_SIDO_NM       10903\n",
       "1    CARD_CCG_NM        9242\n",
       "10            JP        6419\n",
       "9             LP        5652\n",
       "4            AGE        4842\n",
       "11         loyal        4603\n",
       "0   CARD_SIDO_NM        4113\n",
       "7        company        3909\n",
       "8       employee        3561\n",
       "2    STD_CLSS_NM        3075\n",
       "6            FLC        2984\n",
       "13        refund        2176\n",
       "5    SEX_CTGO_CD        1726\n",
       "12         month        1280\n",
       "14          year         165"
      ]
     },
     "execution_count": 45,
     "metadata": {},
     "output_type": "execute_result"
    }
   ],
   "source": [
    "pd.DataFrame({'name': model.feature_name(), 'importance':model.feature_importance()}).sort_values('importance',ascending= False)"
   ]
  },
  {
   "cell_type": "code",
   "execution_count": 46,
   "metadata": {
    "ExecuteTime": {
     "end_time": "2020-07-29T11:51:12.127511Z",
     "start_time": "2020-07-29T11:51:08.784764Z"
    }
   },
   "outputs": [],
   "source": [
    "pred = model.predict(temp)\n",
    "pred = np.expm1(pred)\n",
    "temp['AMT'] = np.round(pred, 0)\n",
    "temp['REG_YYMM'] = temp['year']*100 + temp['month']\n",
    "temp = temp[['REG_YYMM', 'CARD_SIDO_NM', 'STD_CLSS_NM', 'AMT']]\n",
    "temp = temp.groupby(['REG_YYMM', 'CARD_SIDO_NM', 'STD_CLSS_NM']).sum().reset_index(drop=False)"
   ]
  },
  {
   "cell_type": "code",
   "execution_count": 47,
   "metadata": {
    "ExecuteTime": {
     "end_time": "2020-07-29T11:51:12.773112Z",
     "start_time": "2020-07-29T11:51:12.768112Z"
    }
   },
   "outputs": [],
   "source": [
    "# 디코딩 (Random Forest)\n",
    "temp['CARD_SIDO_NM'] = encoders['CARD_SIDO_NM'].inverse_transform(temp['CARD_SIDO_NM'])\n",
    "temp['STD_CLSS_NM'] = encoders['STD_CLSS_NM'].inverse_transform(temp['STD_CLSS_NM'])"
   ]
  },
  {
   "cell_type": "code",
   "execution_count": 48,
   "metadata": {
    "ExecuteTime": {
     "end_time": "2020-07-29T11:51:13.422258Z",
     "start_time": "2020-07-29T11:51:13.406255Z"
    }
   },
   "outputs": [
    {
     "data": {
      "text/html": [
       "<div>\n",
       "<style scoped>\n",
       "    .dataframe tbody tr th:only-of-type {\n",
       "        vertical-align: middle;\n",
       "    }\n",
       "\n",
       "    .dataframe tbody tr th {\n",
       "        vertical-align: top;\n",
       "    }\n",
       "\n",
       "    .dataframe thead th {\n",
       "        text-align: right;\n",
       "    }\n",
       "</style>\n",
       "<table border=\"1\" class=\"dataframe\">\n",
       "  <thead>\n",
       "    <tr style=\"text-align: right;\">\n",
       "      <th></th>\n",
       "      <th>REG_YYMM</th>\n",
       "      <th>CARD_SIDO_NM</th>\n",
       "      <th>STD_CLSS_NM</th>\n",
       "      <th>AMT</th>\n",
       "    </tr>\n",
       "    <tr>\n",
       "      <th>id</th>\n",
       "      <th></th>\n",
       "      <th></th>\n",
       "      <th></th>\n",
       "      <th></th>\n",
       "    </tr>\n",
       "  </thead>\n",
       "  <tbody>\n",
       "    <tr>\n",
       "      <th>0</th>\n",
       "      <td>202004</td>\n",
       "      <td>강원</td>\n",
       "      <td>건강보조식품 소매업</td>\n",
       "      <td>1.510287e+08</td>\n",
       "    </tr>\n",
       "    <tr>\n",
       "      <th>1</th>\n",
       "      <td>202004</td>\n",
       "      <td>강원</td>\n",
       "      <td>골프장 운영업</td>\n",
       "      <td>1.875271e+09</td>\n",
       "    </tr>\n",
       "    <tr>\n",
       "      <th>2</th>\n",
       "      <td>202004</td>\n",
       "      <td>강원</td>\n",
       "      <td>과실 및 채소 소매업</td>\n",
       "      <td>9.990152e+08</td>\n",
       "    </tr>\n",
       "    <tr>\n",
       "      <th>3</th>\n",
       "      <td>202004</td>\n",
       "      <td>강원</td>\n",
       "      <td>관광 민예품 및 선물용품 소매업</td>\n",
       "      <td>2.366080e+07</td>\n",
       "    </tr>\n",
       "    <tr>\n",
       "      <th>4</th>\n",
       "      <td>202004</td>\n",
       "      <td>강원</td>\n",
       "      <td>그외 기타 분류안된 오락관련 서비스업</td>\n",
       "      <td>0.000000e+00</td>\n",
       "    </tr>\n",
       "  </tbody>\n",
       "</table>\n",
       "</div>"
      ],
      "text/plain": [
       "    REG_YYMM CARD_SIDO_NM           STD_CLSS_NM           AMT\n",
       "id                                                           \n",
       "0     202004           강원            건강보조식품 소매업  1.510287e+08\n",
       "1     202004           강원               골프장 운영업  1.875271e+09\n",
       "2     202004           강원           과실 및 채소 소매업  9.990152e+08\n",
       "3     202004           강원     관광 민예품 및 선물용품 소매업  2.366080e+07\n",
       "4     202004           강원  그외 기타 분류안된 오락관련 서비스업  0.000000e+00"
      ]
     },
     "execution_count": 48,
     "metadata": {},
     "output_type": "execute_result"
    }
   ],
   "source": [
    "# 제출 파일 만들기(Random Forest)\n",
    "submission = pd.read_csv(path +'submission.csv', index_col=0)\n",
    "submission = submission.drop(['AMT'], axis=1)\n",
    "submission = submission.merge(temp, left_on=['REG_YYMM', 'CARD_SIDO_NM', 'STD_CLSS_NM'], right_on=['REG_YYMM', 'CARD_SIDO_NM', 'STD_CLSS_NM'], how='left')\n",
    "submission.index.name = 'id'\n",
    "compare_pred = submission.dropna()\n",
    "submission = submission.fillna(0)\n",
    "submission.head()"
   ]
  },
  {
   "cell_type": "code",
   "execution_count": 49,
   "metadata": {
    "ExecuteTime": {
     "end_time": "2020-07-29T11:51:14.098843Z",
     "start_time": "2020-07-29T11:51:14.088839Z"
    },
    "scrolled": true
   },
   "outputs": [
    {
     "data": {
      "text/html": [
       "<div>\n",
       "<style scoped>\n",
       "    .dataframe tbody tr th:only-of-type {\n",
       "        vertical-align: middle;\n",
       "    }\n",
       "\n",
       "    .dataframe tbody tr th {\n",
       "        vertical-align: top;\n",
       "    }\n",
       "\n",
       "    .dataframe thead th {\n",
       "        text-align: right;\n",
       "    }\n",
       "</style>\n",
       "<table border=\"1\" class=\"dataframe\">\n",
       "  <thead>\n",
       "    <tr style=\"text-align: right;\">\n",
       "      <th></th>\n",
       "      <th>REG_YYMM</th>\n",
       "      <th>CARD_SIDO_NM</th>\n",
       "      <th>STD_CLSS_NM</th>\n",
       "      <th>AMT</th>\n",
       "    </tr>\n",
       "    <tr>\n",
       "      <th>id</th>\n",
       "      <th></th>\n",
       "      <th></th>\n",
       "      <th></th>\n",
       "      <th></th>\n",
       "    </tr>\n",
       "  </thead>\n",
       "  <tbody>\n",
       "    <tr>\n",
       "      <th>0</th>\n",
       "      <td>202004</td>\n",
       "      <td>강원</td>\n",
       "      <td>건강보조식품 소매업</td>\n",
       "      <td>1.510287e+08</td>\n",
       "    </tr>\n",
       "    <tr>\n",
       "      <th>1</th>\n",
       "      <td>202004</td>\n",
       "      <td>강원</td>\n",
       "      <td>골프장 운영업</td>\n",
       "      <td>1.875271e+09</td>\n",
       "    </tr>\n",
       "    <tr>\n",
       "      <th>2</th>\n",
       "      <td>202004</td>\n",
       "      <td>강원</td>\n",
       "      <td>과실 및 채소 소매업</td>\n",
       "      <td>9.990152e+08</td>\n",
       "    </tr>\n",
       "    <tr>\n",
       "      <th>3</th>\n",
       "      <td>202004</td>\n",
       "      <td>강원</td>\n",
       "      <td>관광 민예품 및 선물용품 소매업</td>\n",
       "      <td>2.366080e+07</td>\n",
       "    </tr>\n",
       "    <tr>\n",
       "      <th>4</th>\n",
       "      <td>202004</td>\n",
       "      <td>강원</td>\n",
       "      <td>그외 기타 분류안된 오락관련 서비스업</td>\n",
       "      <td>0.000000e+00</td>\n",
       "    </tr>\n",
       "    <tr>\n",
       "      <th>...</th>\n",
       "      <td>...</td>\n",
       "      <td>...</td>\n",
       "      <td>...</td>\n",
       "      <td>...</td>\n",
       "    </tr>\n",
       "    <tr>\n",
       "      <th>1389</th>\n",
       "      <td>202007</td>\n",
       "      <td>충북</td>\n",
       "      <td>피자 햄버거 샌드위치 및 유사 음식점업</td>\n",
       "      <td>0.000000e+00</td>\n",
       "    </tr>\n",
       "    <tr>\n",
       "      <th>1390</th>\n",
       "      <td>202007</td>\n",
       "      <td>충북</td>\n",
       "      <td>한식 음식점업</td>\n",
       "      <td>0.000000e+00</td>\n",
       "    </tr>\n",
       "    <tr>\n",
       "      <th>1391</th>\n",
       "      <td>202007</td>\n",
       "      <td>충북</td>\n",
       "      <td>호텔업</td>\n",
       "      <td>0.000000e+00</td>\n",
       "    </tr>\n",
       "    <tr>\n",
       "      <th>1392</th>\n",
       "      <td>202007</td>\n",
       "      <td>충북</td>\n",
       "      <td>화장품 및 방향제 소매업</td>\n",
       "      <td>0.000000e+00</td>\n",
       "    </tr>\n",
       "    <tr>\n",
       "      <th>1393</th>\n",
       "      <td>202007</td>\n",
       "      <td>충북</td>\n",
       "      <td>휴양콘도 운영업</td>\n",
       "      <td>0.000000e+00</td>\n",
       "    </tr>\n",
       "  </tbody>\n",
       "</table>\n",
       "<p>1394 rows × 4 columns</p>\n",
       "</div>"
      ],
      "text/plain": [
       "      REG_YYMM CARD_SIDO_NM            STD_CLSS_NM           AMT\n",
       "id                                                              \n",
       "0       202004           강원             건강보조식품 소매업  1.510287e+08\n",
       "1       202004           강원                골프장 운영업  1.875271e+09\n",
       "2       202004           강원            과실 및 채소 소매업  9.990152e+08\n",
       "3       202004           강원      관광 민예품 및 선물용품 소매업  2.366080e+07\n",
       "4       202004           강원   그외 기타 분류안된 오락관련 서비스업  0.000000e+00\n",
       "...        ...          ...                    ...           ...\n",
       "1389    202007           충북  피자 햄버거 샌드위치 및 유사 음식점업  0.000000e+00\n",
       "1390    202007           충북                한식 음식점업  0.000000e+00\n",
       "1391    202007           충북                    호텔업  0.000000e+00\n",
       "1392    202007           충북          화장품 및 방향제 소매업  0.000000e+00\n",
       "1393    202007           충북               휴양콘도 운영업  0.000000e+00\n",
       "\n",
       "[1394 rows x 4 columns]"
      ]
     },
     "execution_count": 49,
     "metadata": {},
     "output_type": "execute_result"
    }
   ],
   "source": [
    "submission"
   ]
  },
  {
   "cell_type": "code",
   "execution_count": 50,
   "metadata": {
    "ExecuteTime": {
     "end_time": "2020-07-29T11:51:14.797952Z",
     "start_time": "2020-07-29T11:51:14.791950Z"
    }
   },
   "outputs": [],
   "source": [
    "path3 = '../../../'\n",
    "only_4 = pd.read_csv(path3+'only_4.csv')\n",
    "def set_sumit(only_4, pre_df):\n",
    "    '''리더보드와 동일한 예측을 하는 함수\n",
    "    parameter\n",
    "    --------\n",
    "    only_4(df) : 4월 RMSLE가 0이 나왔던 제출셋\n",
    "    pre_df(df) : 모델로 예측한 Dataframe\n",
    "    \n",
    "    '''\n",
    "    from sklearn.metrics import mean_squared_log_error\n",
    "    \n",
    "    pre_df = pre_df[pre_df['REG_YYMM'] == 202004]\n",
    "    only_4 = only_4[only_4['REG_YYMM'] == 202004]\n",
    "    \n",
    "    pre_df.loc[pre_df.CARD_SIDO_NM == '제주','weight'] = 3\n",
    "    pre_df.loc[pre_df.CARD_SIDO_NM != '제주','weight'] = 1\n",
    "    \n",
    "    weight = pre_df['weight'].values\n",
    "    \n",
    "    all_amt = np.sqrt(mean_squared_log_error(only_4['AMT'],pre_df['AMT'],sample_weight=weight))\n",
    "    return all_amt"
   ]
  },
  {
   "cell_type": "code",
   "execution_count": 51,
   "metadata": {
    "ExecuteTime": {
     "end_time": "2020-07-29T11:51:15.483105Z",
     "start_time": "2020-07-29T11:51:15.473103Z"
    },
    "scrolled": true
   },
   "outputs": [
    {
     "name": "stderr",
     "output_type": "stream",
     "text": [
      "C:\\Users\\User\\Anaconda3\\lib\\site-packages\\pandas\\core\\indexing.py:845: SettingWithCopyWarning: \n",
      "A value is trying to be set on a copy of a slice from a DataFrame.\n",
      "Try using .loc[row_indexer,col_indexer] = value instead\n",
      "\n",
      "See the caveats in the documentation: https://pandas.pydata.org/pandas-docs/stable/user_guide/indexing.html#returning-a-view-versus-a-copy\n",
      "  self.obj[key] = _infer_fill_value(value)\n",
      "C:\\Users\\User\\Anaconda3\\lib\\site-packages\\pandas\\core\\indexing.py:966: SettingWithCopyWarning: \n",
      "A value is trying to be set on a copy of a slice from a DataFrame.\n",
      "Try using .loc[row_indexer,col_indexer] = value instead\n",
      "\n",
      "See the caveats in the documentation: https://pandas.pydata.org/pandas-docs/stable/user_guide/indexing.html#returning-a-view-versus-a-copy\n",
      "  self.obj[item] = s\n"
     ]
    },
    {
     "data": {
      "text/plain": [
       "2.541485244424558"
      ]
     },
     "execution_count": 51,
     "metadata": {},
     "output_type": "execute_result"
    }
   ],
   "source": [
    "set_sumit(only_4, submission)"
   ]
  },
  {
   "cell_type": "code",
   "execution_count": null,
   "metadata": {},
   "outputs": [],
   "source": []
  }
 ],
 "metadata": {
  "kernelspec": {
   "display_name": "Python 3",
   "language": "python",
   "name": "python3"
  },
  "language_info": {
   "codemirror_mode": {
    "name": "ipython",
    "version": 3
   },
   "file_extension": ".py",
   "mimetype": "text/x-python",
   "name": "python",
   "nbconvert_exporter": "python",
   "pygments_lexer": "ipython3",
   "version": "3.6.5"
  },
  "toc": {
   "base_numbering": 1,
   "nav_menu": {},
   "number_sections": true,
   "sideBar": true,
   "skip_h1_title": false,
   "title_cell": "Table of Contents",
   "title_sidebar": "Contents",
   "toc_cell": false,
   "toc_position": {},
   "toc_section_display": true,
   "toc_window_display": false
  },
  "varInspector": {
   "cols": {
    "lenName": 16,
    "lenType": 16,
    "lenVar": 40
   },
   "kernels_config": {
    "python": {
     "delete_cmd_postfix": "",
     "delete_cmd_prefix": "del ",
     "library": "var_list.py",
     "varRefreshCmd": "print(var_dic_list())"
    },
    "r": {
     "delete_cmd_postfix": ") ",
     "delete_cmd_prefix": "rm(",
     "library": "var_list.r",
     "varRefreshCmd": "cat(var_dic_list()) "
    }
   },
   "types_to_exclude": [
    "module",
    "function",
    "builtin_function_or_method",
    "instance",
    "_Feature"
   ],
   "window_display": false
  }
 },
 "nbformat": 4,
 "nbformat_minor": 4
}
